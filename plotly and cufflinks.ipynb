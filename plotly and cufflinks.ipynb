{
 "cells": [
  {
   "cell_type": "code",
   "execution_count": 14,
   "metadata": {},
   "outputs": [],
   "source": [
    "import pandas as pd\n",
    "import numpy as np\n",
    "%matplotlib inline"
   ]
  },
  {
   "cell_type": "code",
   "execution_count": 2,
   "metadata": {},
   "outputs": [],
   "source": [
    "from plotly import __version__"
   ]
  },
  {
   "cell_type": "code",
   "execution_count": 3,
   "metadata": {},
   "outputs": [
    {
     "name": "stdout",
     "output_type": "stream",
     "text": [
      "4.9.0\n"
     ]
    }
   ],
   "source": [
    "print(__version__) # version should be above 1.12"
   ]
  },
  {
   "cell_type": "code",
   "execution_count": 4,
   "metadata": {},
   "outputs": [],
   "source": [
    "import cufflinks as cf"
   ]
  },
  {
   "cell_type": "code",
   "execution_count": 5,
   "metadata": {},
   "outputs": [],
   "source": [
    "from plotly.offline import download_plotlyjs,init_notebook_mode,plot,iplot"
   ]
  },
  {
   "cell_type": "code",
   "execution_count": 6,
   "metadata": {},
   "outputs": [
    {
     "data": {
      "text/html": [
       "        <script type=\"text/javascript\">\n",
       "        window.PlotlyConfig = {MathJaxConfig: 'local'};\n",
       "        if (window.MathJax) {MathJax.Hub.Config({SVG: {font: \"STIX-Web\"}});}\n",
       "        if (typeof require !== 'undefined') {\n",
       "        require.undef(\"plotly\");\n",
       "        requirejs.config({\n",
       "            paths: {\n",
       "                'plotly': ['https://cdn.plot.ly/plotly-latest.min']\n",
       "            }\n",
       "        });\n",
       "        require(['plotly'], function(Plotly) {\n",
       "            window._Plotly = Plotly;\n",
       "        });\n",
       "        }\n",
       "        </script>\n",
       "        "
      ]
     },
     "metadata": {},
     "output_type": "display_data"
    }
   ],
   "source": [
    "init_notebook_mode(connected = True)\n",
    "#so that everything works on the notebook and connects javascript to the notebook"
   ]
  },
  {
   "cell_type": "code",
   "execution_count": 8,
   "metadata": {},
   "outputs": [
    {
     "data": {
      "text/html": [
       "        <script type=\"text/javascript\">\n",
       "        window.PlotlyConfig = {MathJaxConfig: 'local'};\n",
       "        if (window.MathJax) {MathJax.Hub.Config({SVG: {font: \"STIX-Web\"}});}\n",
       "        if (typeof require !== 'undefined') {\n",
       "        require.undef(\"plotly\");\n",
       "        requirejs.config({\n",
       "            paths: {\n",
       "                'plotly': ['https://cdn.plot.ly/plotly-latest.min']\n",
       "            }\n",
       "        });\n",
       "        require(['plotly'], function(Plotly) {\n",
       "            window._Plotly = Plotly;\n",
       "        });\n",
       "        }\n",
       "        </script>\n",
       "        "
      ]
     },
     "metadata": {},
     "output_type": "display_data"
    }
   ],
   "source": [
    "cf.go_offline()  # allows us to use cufflinks offline"
   ]
  },
  {
   "cell_type": "code",
   "execution_count": 9,
   "metadata": {},
   "outputs": [],
   "source": [
    "# we will get some data \n",
    "df = pd.DataFrame(np.random.randn(100,4), columns = 'A B C D'.split())"
   ]
  },
  {
   "cell_type": "code",
   "execution_count": 10,
   "metadata": {},
   "outputs": [
    {
     "data": {
      "text/html": [
       "<div>\n",
       "<style scoped>\n",
       "    .dataframe tbody tr th:only-of-type {\n",
       "        vertical-align: middle;\n",
       "    }\n",
       "\n",
       "    .dataframe tbody tr th {\n",
       "        vertical-align: top;\n",
       "    }\n",
       "\n",
       "    .dataframe thead th {\n",
       "        text-align: right;\n",
       "    }\n",
       "</style>\n",
       "<table border=\"1\" class=\"dataframe\">\n",
       "  <thead>\n",
       "    <tr style=\"text-align: right;\">\n",
       "      <th></th>\n",
       "      <th>A</th>\n",
       "      <th>B</th>\n",
       "      <th>C</th>\n",
       "      <th>D</th>\n",
       "    </tr>\n",
       "  </thead>\n",
       "  <tbody>\n",
       "    <tr>\n",
       "      <th>0</th>\n",
       "      <td>-0.159664</td>\n",
       "      <td>-0.039620</td>\n",
       "      <td>-2.050959</td>\n",
       "      <td>-2.456219</td>\n",
       "    </tr>\n",
       "    <tr>\n",
       "      <th>1</th>\n",
       "      <td>-3.026801</td>\n",
       "      <td>-1.088627</td>\n",
       "      <td>-0.623136</td>\n",
       "      <td>-0.497383</td>\n",
       "    </tr>\n",
       "    <tr>\n",
       "      <th>2</th>\n",
       "      <td>0.922138</td>\n",
       "      <td>1.510576</td>\n",
       "      <td>-0.903084</td>\n",
       "      <td>1.010898</td>\n",
       "    </tr>\n",
       "    <tr>\n",
       "      <th>3</th>\n",
       "      <td>0.877065</td>\n",
       "      <td>1.784954</td>\n",
       "      <td>-0.884679</td>\n",
       "      <td>0.437117</td>\n",
       "    </tr>\n",
       "    <tr>\n",
       "      <th>4</th>\n",
       "      <td>2.076348</td>\n",
       "      <td>1.856633</td>\n",
       "      <td>2.674183</td>\n",
       "      <td>0.819665</td>\n",
       "    </tr>\n",
       "  </tbody>\n",
       "</table>\n",
       "</div>"
      ],
      "text/plain": [
       "          A         B         C         D\n",
       "0 -0.159664 -0.039620 -2.050959 -2.456219\n",
       "1 -3.026801 -1.088627 -0.623136 -0.497383\n",
       "2  0.922138  1.510576 -0.903084  1.010898\n",
       "3  0.877065  1.784954 -0.884679  0.437117\n",
       "4  2.076348  1.856633  2.674183  0.819665"
      ]
     },
     "execution_count": 10,
     "metadata": {},
     "output_type": "execute_result"
    }
   ],
   "source": [
    "df.head()"
   ]
  },
  {
   "cell_type": "code",
   "execution_count": 35,
   "metadata": {},
   "outputs": [
    {
     "data": {
      "text/html": [
       "<div>\n",
       "<style scoped>\n",
       "    .dataframe tbody tr th:only-of-type {\n",
       "        vertical-align: middle;\n",
       "    }\n",
       "\n",
       "    .dataframe tbody tr th {\n",
       "        vertical-align: top;\n",
       "    }\n",
       "\n",
       "    .dataframe thead th {\n",
       "        text-align: right;\n",
       "    }\n",
       "</style>\n",
       "<table border=\"1\" class=\"dataframe\">\n",
       "  <thead>\n",
       "    <tr style=\"text-align: right;\">\n",
       "      <th></th>\n",
       "      <th>Category</th>\n",
       "      <th>Values</th>\n",
       "    </tr>\n",
       "  </thead>\n",
       "  <tbody>\n",
       "    <tr>\n",
       "      <th>0</th>\n",
       "      <td>A</td>\n",
       "      <td>32</td>\n",
       "    </tr>\n",
       "    <tr>\n",
       "      <th>1</th>\n",
       "      <td>B</td>\n",
       "      <td>43</td>\n",
       "    </tr>\n",
       "    <tr>\n",
       "      <th>2</th>\n",
       "      <td>C</td>\n",
       "      <td>50</td>\n",
       "    </tr>\n",
       "  </tbody>\n",
       "</table>\n",
       "</div>"
      ],
      "text/plain": [
       "  Category  Values\n",
       "0        A      32\n",
       "1        B      43\n",
       "2        C      50"
      ]
     },
     "execution_count": 35,
     "metadata": {},
     "output_type": "execute_result"
    }
   ],
   "source": [
    "df2 = pd.DataFrame({'Category':['A','B','C'],'Values':[32,43,50]})\n",
    "df2"
   ]
  },
  {
   "cell_type": "markdown",
   "metadata": {},
   "source": [
    "## Line plot"
   ]
  },
  {
   "cell_type": "code",
   "execution_count": 15,
   "metadata": {},
   "outputs": [
    {
     "data": {
      "text/plain": [
       "<matplotlib.axes._subplots.AxesSubplot at 0x1924d8bd5f8>"
      ]
     },
     "execution_count": 15,
     "metadata": {},
     "output_type": "execute_result"
    },
    {
     "data": {
      "image/png": "[encoded data removed]",
      "text/plain": [
       "<Figure size 432x288 with 1 Axes>"
      ]
     },
     "metadata": {
      "needs_background": "light"
     },
     "output_type": "display_data"
    }
   ],
   "source": [
    "df.plot() # plot made automatically using matplotlib (line plot)"
   ]
  },
  {
   "cell_type": "markdown",
   "metadata": {},
   "source": [
    "The above plot is converted into plotly interactive image (below) and we can scoll and tell the index value"
   ]
  },
  {
   "cell_type": "code",
   "execution_count": 16,
   "metadata": {},
   "outputs": [
    {
     "data": {
      "application/vnd.plotly.v1+json": {
       "config": {
        "linkText": "Export to plot.ly",
        "plotlyServerURL": "https://plot.ly",
        "showLink": true
       },
       "data": [
        {
         "line": {
          "color": "rgba(255, 153, 51, 1.0)",
          "dash": "solid",
          "shape": "linear",
          "width": 1.3
         },
         "mode": "lines",
         "name": "A",
         "text": "",
         "type": "scatter",
         "x": [
          0,
          1,
          2,
          3,
          4,
          5,
          6,
          7,
          8,
          9,
          10,
          11,
          12,
          13,
          14,
          15,
          16,
          17,
          18,
          19,
          20,
          21,
          22,
          23,
          24,
          25,
          26,
          27,
          28,
          29,
          30,
          31,
          32,
          33,
          34,
          35,
          36,
          37,
          38,
          39,
          40,
          41,
          42,
          43,
          44,
          45,
          46,
          47,
          48,
          49,
          50,
          51,
          52,
          53,
          54,
          55,
          56,
          57,
          58,
          59,
          60,
          61,
          62,
          63,
          64,
          65,
          66,
          67,
          68,
          69,
          70,
          71,
          72,
          73,
          74,
          75,
          76,
          77,
          78,
          79,
          80,
          81,
          82,
          83,
          84,
          85,
          86,
          87,
          88,
          89,
          90,
          91,
          92,
          93,
          94,
          95,
          96,
          97,
          98,
          99
         ],
         "y": [
          -0.15966440057435938,
          -3.0268008071009187,
          0.9221382673050521,
          0.8770652008419254,
          2.076348258904066,
          -2.5385761484776928,
          -1.9211892960913912,
          0.6007684052334087,
          -0.21961932073774648,
          0.6947663878860076,
          1.5355433012808262,
          0.682536191559496,
          -0.00784008704142355,
          -0.5486678819424253,
          -0.42858792614727115,
          0.6318614246284424,
          1.014063885119909,
          0.19769301291352875,
          0.6115860679800008,
          0.19458939348542983,
          1.9061126760600309,
          2.1888523316757906,
          2.9527829087211845,
          0.03602569987116309,
          -0.695368302564943,
          1.6976635522629786,
          -2.6266196902651697,
          -0.5470043758963876,
          0.37115828238172793,
          -0.48023110420208853,
          1.0373530630599568,
          0.6748963442511032,
          1.229032627039319,
          1.696584799985512,
          0.029752667407899197,
          0.8084195973664055,
          -2.2248088064008944,
          1.0104302308242707,
          1.1180875214270254,
          1.2193035150614107,
          0.35565864473138953,
          -1.8415745792579306,
          -0.12863986311406433,
          -0.3840273635274107,
          -1.208692561789705,
          0.4930043761880178,
          0.22606346480288667,
          0.8469056906100876,
          -0.6602972998520016,
          0.18781265774515438,
          1.6287771347743953,
          -0.5770968099743413,
          -0.16194665920300977,
          0.8681358652235673,
          0.047414635744381525,
          0.21611033116647485,
          0.5907804771654277,
          0.9708460467264816,
          -1.8110933091195884,
          -0.5530434965138656,
          1.9636940438520054,
          1.1729722539442202,
          1.2421559008155438,
          -0.6288387913785575,
          0.34805958706986584,
          -0.5436381561059997,
          -0.5631348469165319,
          1.5606728416961202,
          0.2330738885185976,
          -0.8020391201493532,
          -0.6557997346611697,
          0.5726236513169123,
          1.2246219521550379,
          1.517883432418252,
          -0.14147909287681634,
          0.3664192494581477,
          -0.4322146140696219,
          -0.3495399006296373,
          -0.6810037668207851,
          0.08504992455350263,
          1.7823784203274209,
          0.6259377596645086,
          0.6638813119909011,
          -1.482839860554188,
          -0.2901295524795004,
          0.7728721769087347,
          1.0697450666270618,
          -0.38037586807737583,
          0.7361925861522479,
          2.227251940281902,
          -0.9059783157534909,
          1.0644082103981056,
          0.41243815873235085,
          -0.70985732273822,
          0.2921920971594382,
          0.316660089561294,
          1.2009474277974572,
          -0.17950997282633827,
          -1.8222345068938892,
          1.1804269142135373
         ]
        },
        {
         "line": {
          "color": "rgba(55, 128, 191, 1.0)",
          "dash": "solid",
          "shape": "linear",
          "width": 1.3
         },
         "mode": "lines",
         "name": "B",
         "text": "",
         "type": "scatter",
         "x": [
          0,
          1,
          2,
          3,
          4,
          5,
          6,
          7,
          8,
          9,
          10,
          11,
          12,
          13,
          14,
          15,
          16,
          17,
          18,
          19,
          20,
          21,
          22,
          23,
          24,
          25,
          26,
          27,
          28,
          29,
          30,
          31,
          32,
          33,
          34,
          35,
          36,
          37,
          38,
          39,
          40,
          41,
          42,
          43,
          44,
          45,
          46,
          47,
          48,
          49,
          50,
          51,
          52,
          53,
          54,
          55,
          56,
          57,
          58,
          59,
          60,
          61,
          62,
          63,
          64,
          65,
          66,
          67,
          68,
          69,
          70,
          71,
          72,
          73,
          74,
          75,
          76,
          77,
          78,
          79,
          80,
          81,
          82,
          83,
          84,
          85,
          86,
          87,
          88,
          89,
          90,
          91,
          92,
          93,
          94,
          95,
          96,
          97,
          98,
          99
         ],
         "y": [
          -0.039620201830270506,
          -1.0886265885232451,
          1.510576451901204,
          1.784954270510374,
          1.856633419738731,
          -0.06186831571432017,
          -0.7177396996119862,
          1.3056032295822502,
          0.1747268566872305,
          -2.008057573582073,
          -0.24986540881811706,
          -0.68969312419857,
          1.7203106029038477,
          0.8148414349263332,
          -0.15528528397620237,
          -1.8057674057733473,
          0.1855558056334135,
          -0.20607748084692046,
          -0.41374065948487576,
          0.07802381651058664,
          0.5122383905711916,
          -0.8816396954950696,
          0.8150638310707726,
          -0.9128064482318322,
          -0.92947076177012,
          0.5364585267673471,
          -0.09773609410488768,
          -0.8376598389398086,
          -0.5149023896730086,
          -0.07638224135806895,
          -0.528115017916814,
          0.6930140672229397,
          -0.7173712123713216,
          0.435434124645374,
          -0.10550905698074249,
          0.9825963092482132,
          1.43990174097477,
          0.21861636481047017,
          -1.4434530863386295,
          -0.8429050603925676,
          -0.5824520358502622,
          -2.5060458213683448,
          0.8188019482586176,
          -1.1311437036384802,
          2.463221499435528,
          -1.4716903339509018,
          -1.3231503668137379,
          0.9138103857479809,
          0.7169170351565702,
          -0.5942680093604714,
          -1.700684394592634,
          -0.3601746175201089,
          -0.8427200334374927,
          -0.2448910298215501,
          1.0078914884134746,
          1.1363591311807222,
          0.31267011313669657,
          -0.4966643537233206,
          1.4258032741416697,
          -0.8218663321084495,
          0.07359712719308378,
          -1.4767339034966909,
          1.1364236958318257,
          -0.23598777516022656,
          -0.6022315860538371,
          -0.1211577645937869,
          -0.5284014012330627,
          -0.8756273951246533,
          -0.11679910149382909,
          -0.28133633907251443,
          1.3360164375010046,
          -1.993994774627574,
          1.705587826284771,
          -0.1242901136836673,
          -0.5972965399776643,
          0.10528367746866872,
          -1.8588149129828984,
          -0.7940920464638387,
          0.1276581837519382,
          -1.4602897634720386,
          -0.9001307498667146,
          -1.523129993571007,
          0.08675731770656844,
          -1.369456474965436,
          0.8336132458797575,
          -1.4707252145644945,
          1.9115214411160404,
          -0.8919965099516362,
          -1.1617999087632587,
          -1.8744766266033046,
          0.04249487946173756,
          -0.27310822473698654,
          0.08953567673202818,
          0.9321519847205323,
          -0.7901851679583582,
          0.43921752031434347,
          -0.8077884830291779,
          1.4627975973322422,
          0.9795913558289675,
          -0.4743917350346864
         ]
        },
        {
         "line": {
          "color": "rgba(50, 171, 96, 1.0)",
          "dash": "solid",
          "shape": "linear",
          "width": 1.3
         },
         "mode": "lines",
         "name": "C",
         "text": "",
         "type": "scatter",
         "x": [
          0,
          1,
          2,
          3,
          4,
          5,
          6,
          7,
          8,
          9,
          10,
          11,
          12,
          13,
          14,
          15,
          16,
          17,
          18,
          19,
          20,
          21,
          22,
          23,
          24,
          25,
          26,
          27,
          28,
          29,
          30,
          31,
          32,
          33,
          34,
          35,
          36,
          37,
          38,
          39,
          40,
          41,
          42,
          43,
          44,
          45,
          46,
          47,
          48,
          49,
          50,
          51,
          52,
          53,
          54,
          55,
          56,
          57,
          58,
          59,
          60,
          61,
          62,
          63,
          64,
          65,
          66,
          67,
          68,
          69,
          70,
          71,
          72,
          73,
          74,
          75,
          76,
          77,
          78,
          79,
          80,
          81,
          82,
          83,
          84,
          85,
          86,
          87,
          88,
          89,
          90,
          91,
          92,
          93,
          94,
          95,
          96,
          97,
          98,
          99
         ],
         "y": [
          -2.050959337282939,
          -0.623135714654621,
          -0.9030838504023444,
          -0.8846787432223958,
          2.6741827735425394,
          -0.6354285944956553,
          -1.8496808811668934,
          -0.2547811416970197,
          -0.055681456337364384,
          -1.3944181938604423,
          -1.2902927400307336,
          0.6698919790212503,
          0.34643521789445736,
          -0.6967082806152699,
          -0.3212602648296973,
          1.7091491299614885,
          -0.5596189805447361,
          -0.525562784078486,
          -0.48049821825529065,
          -0.6346130652937808,
          0.47830738377493814,
          0.7156755848555739,
          1.4980374410115829,
          0.019052087924581036,
          -0.18201191885345414,
          -1.6588634578354686,
          -1.4828119493830143,
          -0.09216441630414798,
          -0.14553423644609612,
          -0.7794985383640196,
          -1.7350551083837469,
          0.8011445176125315,
          -0.3657053034107941,
          0.35222604176811234,
          -0.09434046490071221,
          0.27955154174741587,
          -0.47681326929380946,
          -1.4685668326584544,
          0.253437219952115,
          -0.1393600585054475,
          0.5111332871252802,
          1.966687474163078,
          1.7827345360633533,
          1.3365900682657514,
          0.22922232264662673,
          1.2412879016957008,
          0.17669427807060434,
          1.2102070043185542,
          0.9481346148415118,
          -0.7672110846043504,
          0.6779070484347443,
          -0.2478682667913302,
          0.005290125348690879,
          -0.7278639297732168,
          0.06953868587956952,
          -0.7252599174323642,
          0.9075663142325777,
          -1.357704195417472,
          1.2337390673840867,
          -1.5435650693835654,
          -1.8384710286781478,
          -0.3654452753253253,
          0.5368726545742358,
          0.15820260819638846,
          1.1688891296948416,
          0.7204814075390948,
          0.6756862921836863,
          0.8556117363426601,
          -0.5953676095033376,
          0.5185636488627283,
          0.25262453251756867,
          -0.4431075174340808,
          -1.508605467632452,
          -0.6206387803373581,
          -0.4824311953164388,
          -1.233241584706174,
          1.061749004442179,
          0.12292683966608829,
          0.0228518775722601,
          -1.2693591727320208,
          1.5670749867806724,
          -0.658579805547281,
          0.9816083662621841,
          -0.7237472802729957,
          -2.2476477755687774,
          -1.1457021217696113,
          -1.3170117279424052,
          -0.29420173341177985,
          -0.08004309491360784,
          -0.6533971663994066,
          -0.21402171159214076,
          1.0913202896398457,
          0.15607455217360325,
          -1.1458514538797409,
          2.383439127433773,
          0.7722722931324618,
          1.035267730994433,
          -0.16931970693807658,
          -0.08934031514353971,
          -0.40305055397493394
         ]
        },
        {
         "line": {
          "color": "rgba(128, 0, 128, 1.0)",
          "dash": "solid",
          "shape": "linear",
          "width": 1.3
         },
         "mode": "lines",
         "name": "D",
         "text": "",
         "type": "scatter",
         "x": [
          0,
          1,
          2,
          3,
          4,
          5,
          6,
          7,
          8,
          9,
          10,
          11,
          12,
          13,
          14,
          15,
          16,
          17,
          18,
          19,
          20,
          21,
          22,
          23,
          24,
          25,
          26,
          27,
          28,
          29,
          30,
          31,
          32,
          33,
          34,
          35,
          36,
          37,
          38,
          39,
          40,
          41,
          42,
          43,
          44,
          45,
          46,
          47,
          48,
          49,
          50,
          51,
          52,
          53,
          54,
          55,
          56,
          57,
          58,
          59,
          60,
          61,
          62,
          63,
          64,
          65,
          66,
          67,
          68,
          69,
          70,
          71,
          72,
          73,
          74,
          75,
          76,
          77,
          78,
          79,
          80,
          81,
          82,
          83,
          84,
          85,
          86,
          87,
          88,
          89,
          90,
          91,
          92,
          93,
          94,
          95,
          96,
          97,
          98,
          99
         ],
         "y": [
          -2.45621934851348,
          -0.49738336039943415,
          1.0108981951075882,
          0.4371166861850728,
          0.8196645208336938,
          -0.2625102226319903,
          -0.8241370178729576,
          -0.23884566170418514,
          0.28308329505532737,
          -0.129906715276062,
          0.6388072941638956,
          -0.9611837323014758,
          -0.11309190392054783,
          -2.0193276671871643,
          -0.6116726473014742,
          1.851123908738312,
          -0.23730695552545975,
          -0.49077189703582214,
          -1.209708462345313,
          -0.7336780104359398,
          0.6122868341768868,
          -0.08826629915224017,
          0.040203935430538205,
          -1.4395374503419898,
          -0.8108575205014021,
          0.6383840839063878,
          -0.6046071651978742,
          0.10442668741813448,
          0.187852848471582,
          0.09516650285139858,
          -1.4379657756666862,
          -1.3995467804226953,
          -2.4400939453465926,
          1.357068116169183,
          0.675741665746478,
          0.8288586832135476,
          0.42379217923617585,
          -1.6765730171493463,
          1.1239018130698488,
          -1.499624055006214,
          0.900580921839038,
          -0.5228656297420218,
          1.3972028758224073,
          1.0456152430440662,
          -0.5584210258399632,
          -0.7254461638054707,
          2.429921842197925,
          0.26687240959263203,
          -1.5752830944648926,
          -0.0645244140536077,
          2.0221467606315944,
          -0.8115737932181631,
          -0.03953346571061237,
          0.3430560115673913,
          -0.678314414616606,
          0.7671270289936455,
          -0.8352815835060328,
          0.2625005834790334,
          0.6394229699144892,
          0.5744480532482673,
          0.9687296756953383,
          0.5281467997654329,
          0.7583808354729975,
          0.01008733722285285,
          -0.06386984596535984,
          0.6164890002338478,
          -0.9804120873817879,
          -1.2995248798407089,
          1.066126626588423,
          2.2125011388403535,
          1.0918321914430453,
          0.5393123108233898,
          0.8237643386872351,
          0.596304819634739,
          0.1551546937964348,
          -1.5255989307894378,
          -1.1431078143337003,
          1.2967382341855007,
          0.8990445838252091,
          -0.6711455782326923,
          -0.6162025218962328,
          0.622278697790318,
          0.16679223213883906,
          2.9127403911622443,
          -0.27152961576738033,
          -1.238501904868217,
          -0.16835336724025413,
          0.6378914389587478,
          0.4677712941488029,
          0.5495489487295442,
          -0.17931304232859252,
          -0.40814840097137234,
          1.9677139393195497,
          0.7851712092376301,
          -0.7656167328768418,
          -0.5536626665172183,
          -0.02963446605538179,
          0.1923114466917884,
          1.1345729810559975,
          -0.9630839809637665
         ]
        }
       ],
       "layout": {
        "legend": {
         "bgcolor": "#F5F6F9",
         "font": {
          "color": "#4D5663"
         }
        },
        "paper_bgcolor": "#F5F6F9",
        "plot_bgcolor": "#F5F6F9",
        "template": {
         "data": {
          "bar": [
           {
            "error_x": {
             "color": "#2a3f5f"
            },
            "error_y": {
             "color": "#2a3f5f"
            },
            "marker": {
             "line": {
              "color": "#E5ECF6",
              "width": 0.5
             }
            },
            "type": "bar"
           }
          ],
          "barpolar": [
           {
            "marker": {
             "line": {
              "color": "#E5ECF6",
              "width": 0.5
             }
            },
            "type": "barpolar"
           }
          ],
          "carpet": [
           {
            "aaxis": {
             "endlinecolor": "#2a3f5f",
             "gridcolor": "white",
             "linecolor": "white",
             "minorgridcolor": "white",
             "startlinecolor": "#2a3f5f"
            },
            "baxis": {
             "endlinecolor": "#2a3f5f",
             "gridcolor": "white",
             "linecolor": "white",
             "minorgridcolor": "white",
             "startlinecolor": "#2a3f5f"
            },
            "type": "carpet"
           }
          ],
          "choropleth": [
           {
            "colorbar": {
             "outlinewidth": 0,
             "ticks": ""
            },
            "type": "choropleth"
           }
          ],
          "contour": [
           {
            "colorbar": {
             "outlinewidth": 0,
             "ticks": ""
            },
            "colorscale": [
             [
              0,
              "#0d0887"
             ],
             [
              0.1111111111111111,
              "#46039f"
             ],
             [
              0.2222222222222222,
              "#7201a8"
             ],
             [
              0.3333333333333333,
              "#9c179e"
             ],
             [
              0.4444444444444444,
              "#bd3786"
             ],
             [
              0.5555555555555556,
              "#d8576b"
             ],
             [
              0.6666666666666666,
              "#ed7953"
             ],
             [
              0.7777777777777778,
              "#fb9f3a"
             ],
             [
              0.8888888888888888,
              "#fdca26"
             ],
             [
              1,
              "#f0f921"
             ]
            ],
            "type": "contour"
           }
          ],
          "contourcarpet": [
           {
            "colorbar": {
             "outlinewidth": 0,
             "ticks": ""
            },
            "type": "contourcarpet"
           }
          ],
          "heatmap": [
           {
            "colorbar": {
             "outlinewidth": 0,
             "ticks": ""
            },
            "colorscale": [
             [
              0,
              "#0d0887"
             ],
             [
              0.1111111111111111,
              "#46039f"
             ],
             [
              0.2222222222222222,
              "#7201a8"
             ],
             [
              0.3333333333333333,
              "#9c179e"
             ],
             [
              0.4444444444444444,
              "#bd3786"
             ],
             [
              0.5555555555555556,
              "#d8576b"
             ],
             [
              0.6666666666666666,
              "#ed7953"
             ],
             [
              0.7777777777777778,
              "#fb9f3a"
             ],
             [
              0.8888888888888888,
              "#fdca26"
             ],
             [
              1,
              "#f0f921"
             ]
            ],
            "type": "heatmap"
           }
          ],
          "heatmapgl": [
           {
            "colorbar": {
             "outlinewidth": 0,
             "ticks": ""
            },
            "colorscale": [
             [
              0,
              "#0d0887"
             ],
             [
              0.1111111111111111,
              "#46039f"
             ],
             [
              0.2222222222222222,
              "#7201a8"
             ],
             [
              0.3333333333333333,
              "#9c179e"
             ],
             [
              0.4444444444444444,
              "#bd3786"
             ],
             [
              0.5555555555555556,
              "#d8576b"
             ],
             [
              0.6666666666666666,
              "#ed7953"
             ],
             [
              0.7777777777777778,
              "#fb9f3a"
             ],
             [
              0.8888888888888888,
              "#fdca26"
             ],
             [
              1,
              "#f0f921"
             ]
            ],
            "type": "heatmapgl"
           }
          ],
          "histogram": [
           {
            "marker": {
             "colorbar": {
              "outlinewidth": 0,
              "ticks": ""
             }
            },
            "type": "histogram"
           }
          ],
          "histogram2d": [
           {
            "colorbar": {
             "outlinewidth": 0,
             "ticks": ""
            },
            "colorscale": [
             [
              0,
              "#0d0887"
             ],
             [
              0.1111111111111111,
              "#46039f"
             ],
             [
              0.2222222222222222,
              "#7201a8"
             ],
             [
              0.3333333333333333,
              "#9c179e"
             ],
             [
              0.4444444444444444,
              "#bd3786"
             ],
             [
              0.5555555555555556,
              "#d8576b"
             ],
             [
              0.6666666666666666,
              "#ed7953"
             ],
             [
              0.7777777777777778,
              "#fb9f3a"
             ],
             [
              0.8888888888888888,
              "#fdca26"
             ],
             [
              1,
              "#f0f921"
             ]
            ],
            "type": "histogram2d"
           }
          ],
          "histogram2dcontour": [
           {
            "colorbar": {
             "outlinewidth": 0,
             "ticks": ""
            },
            "colorscale": [
             [
              0,
              "#0d0887"
             ],
             [
              0.1111111111111111,
              "#46039f"
             ],
             [
              0.2222222222222222,
              "#7201a8"
             ],
             [
              0.3333333333333333,
              "#9c179e"
             ],
             [
              0.4444444444444444,
              "#bd3786"
             ],
             [
              0.5555555555555556,
              "#d8576b"
             ],
             [
              0.6666666666666666,
              "#ed7953"
             ],
             [
              0.7777777777777778,
              "#fb9f3a"
             ],
             [
              0.8888888888888888,
              "#fdca26"
             ],
             [
              1,
              "#f0f921"
             ]
            ],
            "type": "histogram2dcontour"
           }
          ],
          "mesh3d": [
           {
            "colorbar": {
             "outlinewidth": 0,
             "ticks": ""
            },
            "type": "mesh3d"
           }
          ],
          "parcoords": [
           {
            "line": {
             "colorbar": {
              "outlinewidth": 0,
              "ticks": ""
             }
            },
            "type": "parcoords"
           }
          ],
          "pie": [
           {
            "automargin": true,
            "type": "pie"
           }
          ],
          "scatter": [
           {
            "marker": {
             "colorbar": {
              "outlinewidth": 0,
              "ticks": ""
             }
            },
            "type": "scatter"
           }
          ],
          "scatter3d": [
           {
            "line": {
             "colorbar": {
              "outlinewidth": 0,
              "ticks": ""
             }
            },
            "marker": {
             "colorbar": {
              "outlinewidth": 0,
              "ticks": ""
             }
            },
            "type": "scatter3d"
           }
          ],
          "scattercarpet": [
           {
            "marker": {
             "colorbar": {
              "outlinewidth": 0,
              "ticks": ""
             }
            },
            "type": "scattercarpet"
           }
          ],
          "scattergeo": [
           {
            "marker": {
             "colorbar": {
              "outlinewidth": 0,
              "ticks": ""
             }
            },
            "type": "scattergeo"
           }
          ],
          "scattergl": [
           {
            "marker": {
             "colorbar": {
              "outlinewidth": 0,
              "ticks": ""
             }
            },
            "type": "scattergl"
           }
          ],
          "scattermapbox": [
           {
            "marker": {
             "colorbar": {
              "outlinewidth": 0,
              "ticks": ""
             }
            },
            "type": "scattermapbox"
           }
          ],
          "scatterpolar": [
           {
            "marker": {
             "colorbar": {
              "outlinewidth": 0,
              "ticks": ""
             }
            },
            "type": "scatterpolar"
           }
          ],
          "scatterpolargl": [
           {
            "marker": {
             "colorbar": {
              "outlinewidth": 0,
              "ticks": ""
             }
            },
            "type": "scatterpolargl"
           }
          ],
          "scatterternary": [
           {
            "marker": {
             "colorbar": {
              "outlinewidth": 0,
              "ticks": ""
             }
            },
            "type": "scatterternary"
           }
          ],
          "surface": [
           {
            "colorbar": {
             "outlinewidth": 0,
             "ticks": ""
            },
            "colorscale": [
             [
              0,
              "#0d0887"
             ],
             [
              0.1111111111111111,
              "#46039f"
             ],
             [
              0.2222222222222222,
              "#7201a8"
             ],
             [
              0.3333333333333333,
              "#9c179e"
             ],
             [
              0.4444444444444444,
              "#bd3786"
             ],
             [
              0.5555555555555556,
              "#d8576b"
             ],
             [
              0.6666666666666666,
              "#ed7953"
             ],
             [
              0.7777777777777778,
              "#fb9f3a"
             ],
             [
              0.8888888888888888,
              "#fdca26"
             ],
             [
              1,
              "#f0f921"
             ]
            ],
            "type": "surface"
           }
          ],
          "table": [
           {
            "cells": {
             "fill": {
              "color": "#EBF0F8"
             },
             "line": {
              "color": "white"
             }
            },
            "header": {
             "fill": {
              "color": "#C8D4E3"
             },
             "line": {
              "color": "white"
             }
            },
            "type": "table"
           }
          ]
         },
         "layout": {
          "annotationdefaults": {
           "arrowcolor": "#2a3f5f",
           "arrowhead": 0,
           "arrowwidth": 1
          },
          "coloraxis": {
           "colorbar": {
            "outlinewidth": 0,
            "ticks": ""
           }
          },
          "colorscale": {
           "diverging": [
            [
             0,
             "#8e0152"
            ],
            [
             0.1,
             "#c51b7d"
            ],
            [
             0.2,
             "#de77ae"
            ],
            [
             0.3,
             "#f1b6da"
            ],
            [
             0.4,
             "#fde0ef"
            ],
            [
             0.5,
             "#f7f7f7"
            ],
            [
             0.6,
             "#e6f5d0"
            ],
            [
             0.7,
             "#b8e186"
            ],
            [
             0.8,
             "#7fbc41"
            ],
            [
             0.9,
             "#4d9221"
            ],
            [
             1,
             "#276419"
            ]
           ],
           "sequential": [
            [
             0,
             "#0d0887"
            ],
            [
             0.1111111111111111,
             "#46039f"
            ],
            [
             0.2222222222222222,
             "#7201a8"
            ],
            [
             0.3333333333333333,
             "#9c179e"
            ],
            [
             0.4444444444444444,
             "#bd3786"
            ],
            [
             0.5555555555555556,
             "#d8576b"
            ],
            [
             0.6666666666666666,
             "#ed7953"
            ],
            [
             0.7777777777777778,
             "#fb9f3a"
            ],
            [
             0.8888888888888888,
             "#fdca26"
            ],
            [
             1,
             "#f0f921"
            ]
           ],
           "sequentialminus": [
            [
             0,
             "#0d0887"
            ],
            [
             0.1111111111111111,
             "#46039f"
            ],
            [
             0.2222222222222222,
             "#7201a8"
            ],
            [
             0.3333333333333333,
             "#9c179e"
            ],
            [
             0.4444444444444444,
             "#bd3786"
            ],
            [
             0.5555555555555556,
             "#d8576b"
            ],
            [
             0.6666666666666666,
             "#ed7953"
            ],
            [
             0.7777777777777778,
             "#fb9f3a"
            ],
            [
             0.8888888888888888,
             "#fdca26"
            ],
            [
             1,
             "#f0f921"
            ]
           ]
          },
          "colorway": [
           "#636efa",
           "#EF553B",
           "#00cc96",
           "#ab63fa",
           "#FFA15A",
           "#19d3f3",
           "#FF6692",
           "#B6E880",
           "#FF97FF",
           "#FECB52"
          ],
          "font": {
           "color": "#2a3f5f"
          },
          "geo": {
           "bgcolor": "white",
           "lakecolor": "white",
           "landcolor": "#E5ECF6",
           "showlakes": true,
           "showland": true,
           "subunitcolor": "white"
          },
          "hoverlabel": {
           "align": "left"
          },
          "hovermode": "closest",
          "mapbox": {
           "style": "light"
          },
          "paper_bgcolor": "white",
          "plot_bgcolor": "#E5ECF6",
          "polar": {
           "angularaxis": {
            "gridcolor": "white",
            "linecolor": "white",
            "ticks": ""
           },
           "bgcolor": "#E5ECF6",
           "radialaxis": {
            "gridcolor": "white",
            "linecolor": "white",
            "ticks": ""
           }
          },
          "scene": {
           "xaxis": {
            "backgroundcolor": "#E5ECF6",
            "gridcolor": "white",
            "gridwidth": 2,
            "linecolor": "white",
            "showbackground": true,
            "ticks": "",
            "zerolinecolor": "white"
           },
           "yaxis": {
            "backgroundcolor": "#E5ECF6",
            "gridcolor": "white",
            "gridwidth": 2,
            "linecolor": "white",
            "showbackground": true,
            "ticks": "",
            "zerolinecolor": "white"
           },
           "zaxis": {
            "backgroundcolor": "#E5ECF6",
            "gridcolor": "white",
            "gridwidth": 2,
            "linecolor": "white",
            "showbackground": true,
            "ticks": "",
            "zerolinecolor": "white"
           }
          },
          "shapedefaults": {
           "line": {
            "color": "#2a3f5f"
           }
          },
          "ternary": {
           "aaxis": {
            "gridcolor": "white",
            "linecolor": "white",
            "ticks": ""
           },
           "baxis": {
            "gridcolor": "white",
            "linecolor": "white",
            "ticks": ""
           },
           "bgcolor": "#E5ECF6",
           "caxis": {
            "gridcolor": "white",
            "linecolor": "white",
            "ticks": ""
           }
          },
          "title": {
           "x": 0.05
          },
          "xaxis": {
           "automargin": true,
           "gridcolor": "white",
           "linecolor": "white",
           "ticks": "",
           "title": {
            "standoff": 15
           },
           "zerolinecolor": "white",
           "zerolinewidth": 2
          },
          "yaxis": {
           "automargin": true,
           "gridcolor": "white",
           "linecolor": "white",
           "ticks": "",
           "title": {
            "standoff": 15
           },
           "zerolinecolor": "white",
           "zerolinewidth": 2
          }
         }
        },
        "title": {
         "font": {
          "color": "#4D5663"
         }
        },
        "xaxis": {
         "gridcolor": "#E1E5ED",
         "showgrid": true,
         "tickfont": {
          "color": "#4D5663"
         },
         "title": {
          "font": {
           "color": "#4D5663"
          },
          "text": ""
         },
         "zerolinecolor": "#E1E5ED"
        },
        "yaxis": {
         "gridcolor": "#E1E5ED",
         "showgrid": true,
         "tickfont": {
          "color": "#4D5663"
         },
         "title": {
          "font": {
           "color": "#4D5663"
          },
          "text": ""
         },
         "zerolinecolor": "#E1E5ED"
        }
       }
      },
      "text/html": [
       "<div>\n",
       "        \n",
       "        \n",
       "            <div id=\"7acf68a8-537b-4a84-8460-fcb34cbf9575\" class=\"plotly-graph-div\" style=\"height:525px; width:100%;\"></div>\n",
       "            <script type=\"text/javascript\">\n",
       "                require([\"plotly\"], function(Plotly) {\n",
       "                    window.PLOTLYENV=window.PLOTLYENV || {};\n",
       "                    window.PLOTLYENV.BASE_URL='https://plot.ly';\n",
       "                    \n",
       "                if (document.getElementById(\"7acf68a8-537b-4a84-8460-fcb34cbf9575\")) {\n",
       "                    Plotly.newPlot(\n",
       "                        '7acf68a8-537b-4a84-8460-fcb34cbf9575',\n",
       "                        [{\"line\": {\"color\": \"rgba(255, 153, 51, 1.0)\", \"dash\": \"solid\", \"shape\": \"linear\", \"width\": 1.3}, \"mode\": \"lines\", \"name\": \"A\", \"text\": \"\", \"type\": \"scatter\", \"x\": [0, 1, 2, 3, 4, 5, 6, 7, 8, 9, 10, 11, 12, 13, 14, 15, 16, 17, 18, 19, 20, 21, 22, 23, 24, 25, 26, 27, 28, 29, 30, 31, 32, 33, 34, 35, 36, 37, 38, 39, 40, 41, 42, 43, 44, 45, 46, 47, 48, 49, 50, 51, 52, 53, 54, 55, 56, 57, 58, 59, 60, 61, 62, 63, 64, 65, 66, 67, 68, 69, 70, 71, 72, 73, 74, 75, 76, 77, 78, 79, 80, 81, 82, 83, 84, 85, 86, 87, 88, 89, 90, 91, 92, 93, 94, 95, 96, 97, 98, 99], \"y\": [-0.15966440057435938, -3.0268008071009187, 0.9221382673050521, 0.8770652008419254, 2.076348258904066, -2.5385761484776928, -1.9211892960913912, 0.6007684052334087, -0.21961932073774648, 0.6947663878860076, 1.5355433012808262, 0.682536191559496, -0.00784008704142355, -0.5486678819424253, -0.42858792614727115, 0.6318614246284424, 1.014063885119909, 0.19769301291352875, 0.6115860679800008, 0.19458939348542983, 1.9061126760600309, 2.1888523316757906, 2.9527829087211845, 0.03602569987116309, -0.695368302564943, 1.6976635522629786, -2.6266196902651697, -0.5470043758963876, 0.37115828238172793, -0.48023110420208853, 1.0373530630599568, 0.6748963442511032, 1.229032627039319, 1.696584799985512, 0.029752667407899197, 0.8084195973664055, -2.2248088064008944, 1.0104302308242707, 1.1180875214270254, 1.2193035150614107, 0.35565864473138953, -1.8415745792579306, -0.12863986311406433, -0.3840273635274107, -1.208692561789705, 0.4930043761880178, 0.22606346480288667, 0.8469056906100876, -0.6602972998520016, 0.18781265774515438, 1.6287771347743953, -0.5770968099743413, -0.16194665920300977, 0.8681358652235673, 0.047414635744381525, 0.21611033116647485, 0.5907804771654277, 0.9708460467264816, -1.8110933091195884, -0.5530434965138656, 1.9636940438520054, 1.1729722539442202, 1.2421559008155438, -0.6288387913785575, 0.34805958706986584, -0.5436381561059997, -0.5631348469165319, 1.5606728416961202, 0.2330738885185976, -0.8020391201493532, -0.6557997346611697, 0.5726236513169123, 1.2246219521550379, 1.517883432418252, -0.14147909287681634, 0.3664192494581477, -0.4322146140696219, -0.3495399006296373, -0.6810037668207851, 0.08504992455350263, 1.7823784203274209, 0.6259377596645086, 0.6638813119909011, -1.482839860554188, -0.2901295524795004, 0.7728721769087347, 1.0697450666270618, -0.38037586807737583, 0.7361925861522479, 2.227251940281902, -0.9059783157534909, 1.0644082103981056, 0.41243815873235085, -0.70985732273822, 0.2921920971594382, 0.316660089561294, 1.2009474277974572, -0.17950997282633827, -1.8222345068938892, 1.1804269142135373]}, {\"line\": {\"color\": \"rgba(55, 128, 191, 1.0)\", \"dash\": \"solid\", \"shape\": \"linear\", \"width\": 1.3}, \"mode\": \"lines\", \"name\": \"B\", \"text\": \"\", \"type\": \"scatter\", \"x\": [0, 1, 2, 3, 4, 5, 6, 7, 8, 9, 10, 11, 12, 13, 14, 15, 16, 17, 18, 19, 20, 21, 22, 23, 24, 25, 26, 27, 28, 29, 30, 31, 32, 33, 34, 35, 36, 37, 38, 39, 40, 41, 42, 43, 44, 45, 46, 47, 48, 49, 50, 51, 52, 53, 54, 55, 56, 57, 58, 59, 60, 61, 62, 63, 64, 65, 66, 67, 68, 69, 70, 71, 72, 73, 74, 75, 76, 77, 78, 79, 80, 81, 82, 83, 84, 85, 86, 87, 88, 89, 90, 91, 92, 93, 94, 95, 96, 97, 98, 99], \"y\": [-0.039620201830270506, -1.0886265885232451, 1.510576451901204, 1.784954270510374, 1.856633419738731, -0.06186831571432017, -0.7177396996119862, 1.3056032295822502, 0.1747268566872305, -2.008057573582073, -0.24986540881811706, -0.68969312419857, 1.7203106029038477, 0.8148414349263332, -0.15528528397620237, -1.8057674057733473, 0.1855558056334135, -0.20607748084692046, -0.41374065948487576, 0.07802381651058664, 0.5122383905711916, -0.8816396954950696, 0.8150638310707726, -0.9128064482318322, -0.92947076177012, 0.5364585267673471, -0.09773609410488768, -0.8376598389398086, -0.5149023896730086, -0.07638224135806895, -0.528115017916814, 0.6930140672229397, -0.7173712123713216, 0.435434124645374, -0.10550905698074249, 0.9825963092482132, 1.43990174097477, 0.21861636481047017, -1.4434530863386295, -0.8429050603925676, -0.5824520358502622, -2.5060458213683448, 0.8188019482586176, -1.1311437036384802, 2.463221499435528, -1.4716903339509018, -1.3231503668137379, 0.9138103857479809, 0.7169170351565702, -0.5942680093604714, -1.700684394592634, -0.3601746175201089, -0.8427200334374927, -0.2448910298215501, 1.0078914884134746, 1.1363591311807222, 0.31267011313669657, -0.4966643537233206, 1.4258032741416697, -0.8218663321084495, 0.07359712719308378, -1.4767339034966909, 1.1364236958318257, -0.23598777516022656, -0.6022315860538371, -0.1211577645937869, -0.5284014012330627, -0.8756273951246533, -0.11679910149382909, -0.28133633907251443, 1.3360164375010046, -1.993994774627574, 1.705587826284771, -0.1242901136836673, -0.5972965399776643, 0.10528367746866872, -1.8588149129828984, -0.7940920464638387, 0.1276581837519382, -1.4602897634720386, -0.9001307498667146, -1.523129993571007, 0.08675731770656844, -1.369456474965436, 0.8336132458797575, -1.4707252145644945, 1.9115214411160404, -0.8919965099516362, -1.1617999087632587, -1.8744766266033046, 0.04249487946173756, -0.27310822473698654, 0.08953567673202818, 0.9321519847205323, -0.7901851679583582, 0.43921752031434347, -0.8077884830291779, 1.4627975973322422, 0.9795913558289675, -0.4743917350346864]}, {\"line\": {\"color\": \"rgba(50, 171, 96, 1.0)\", \"dash\": \"solid\", \"shape\": \"linear\", \"width\": 1.3}, \"mode\": \"lines\", \"name\": \"C\", \"text\": \"\", \"type\": \"scatter\", \"x\": [0, 1, 2, 3, 4, 5, 6, 7, 8, 9, 10, 11, 12, 13, 14, 15, 16, 17, 18, 19, 20, 21, 22, 23, 24, 25, 26, 27, 28, 29, 30, 31, 32, 33, 34, 35, 36, 37, 38, 39, 40, 41, 42, 43, 44, 45, 46, 47, 48, 49, 50, 51, 52, 53, 54, 55, 56, 57, 58, 59, 60, 61, 62, 63, 64, 65, 66, 67, 68, 69, 70, 71, 72, 73, 74, 75, 76, 77, 78, 79, 80, 81, 82, 83, 84, 85, 86, 87, 88, 89, 90, 91, 92, 93, 94, 95, 96, 97, 98, 99], \"y\": [-2.050959337282939, -0.623135714654621, -0.9030838504023444, -0.8846787432223958, 2.6741827735425394, -0.6354285944956553, -1.8496808811668934, -0.2547811416970197, -0.055681456337364384, -1.3944181938604423, -1.2902927400307336, 0.6698919790212503, 0.34643521789445736, -0.6967082806152699, -0.3212602648296973, 1.7091491299614885, -0.5596189805447361, -0.525562784078486, -0.48049821825529065, -0.6346130652937808, 0.47830738377493814, 0.7156755848555739, 1.4980374410115829, 0.019052087924581036, -0.18201191885345414, -1.6588634578354686, -1.4828119493830143, -0.09216441630414798, -0.14553423644609612, -0.7794985383640196, -1.7350551083837469, 0.8011445176125315, -0.3657053034107941, 0.35222604176811234, -0.09434046490071221, 0.27955154174741587, -0.47681326929380946, -1.4685668326584544, 0.253437219952115, -0.1393600585054475, 0.5111332871252802, 1.966687474163078, 1.7827345360633533, 1.3365900682657514, 0.22922232264662673, 1.2412879016957008, 0.17669427807060434, 1.2102070043185542, 0.9481346148415118, -0.7672110846043504, 0.6779070484347443, -0.2478682667913302, 0.005290125348690879, -0.7278639297732168, 0.06953868587956952, -0.7252599174323642, 0.9075663142325777, -1.357704195417472, 1.2337390673840867, -1.5435650693835654, -1.8384710286781478, -0.3654452753253253, 0.5368726545742358, 0.15820260819638846, 1.1688891296948416, 0.7204814075390948, 0.6756862921836863, 0.8556117363426601, -0.5953676095033376, 0.5185636488627283, 0.25262453251756867, -0.4431075174340808, -1.508605467632452, -0.6206387803373581, -0.4824311953164388, -1.233241584706174, 1.061749004442179, 0.12292683966608829, 0.0228518775722601, -1.2693591727320208, 1.5670749867806724, -0.658579805547281, 0.9816083662621841, -0.7237472802729957, -2.2476477755687774, -1.1457021217696113, -1.3170117279424052, -0.29420173341177985, -0.08004309491360784, -0.6533971663994066, -0.21402171159214076, 1.0913202896398457, 0.15607455217360325, -1.1458514538797409, 2.383439127433773, 0.7722722931324618, 1.035267730994433, -0.16931970693807658, -0.08934031514353971, -0.40305055397493394]}, {\"line\": {\"color\": \"rgba(128, 0, 128, 1.0)\", \"dash\": \"solid\", \"shape\": \"linear\", \"width\": 1.3}, \"mode\": \"lines\", \"name\": \"D\", \"text\": \"\", \"type\": \"scatter\", \"x\": [0, 1, 2, 3, 4, 5, 6, 7, 8, 9, 10, 11, 12, 13, 14, 15, 16, 17, 18, 19, 20, 21, 22, 23, 24, 25, 26, 27, 28, 29, 30, 31, 32, 33, 34, 35, 36, 37, 38, 39, 40, 41, 42, 43, 44, 45, 46, 47, 48, 49, 50, 51, 52, 53, 54, 55, 56, 57, 58, 59, 60, 61, 62, 63, 64, 65, 66, 67, 68, 69, 70, 71, 72, 73, 74, 75, 76, 77, 78, 79, 80, 81, 82, 83, 84, 85, 86, 87, 88, 89, 90, 91, 92, 93, 94, 95, 96, 97, 98, 99], \"y\": [-2.45621934851348, -0.49738336039943415, 1.0108981951075882, 0.4371166861850728, 0.8196645208336938, -0.2625102226319903, -0.8241370178729576, -0.23884566170418514, 0.28308329505532737, -0.129906715276062, 0.6388072941638956, -0.9611837323014758, -0.11309190392054783, -2.0193276671871643, -0.6116726473014742, 1.851123908738312, -0.23730695552545975, -0.49077189703582214, -1.209708462345313, -0.7336780104359398, 0.6122868341768868, -0.08826629915224017, 0.040203935430538205, -1.4395374503419898, -0.8108575205014021, 0.6383840839063878, -0.6046071651978742, 0.10442668741813448, 0.187852848471582, 0.09516650285139858, -1.4379657756666862, -1.3995467804226953, -2.4400939453465926, 1.357068116169183, 0.675741665746478, 0.8288586832135476, 0.42379217923617585, -1.6765730171493463, 1.1239018130698488, -1.499624055006214, 0.900580921839038, -0.5228656297420218, 1.3972028758224073, 1.0456152430440662, -0.5584210258399632, -0.7254461638054707, 2.429921842197925, 0.26687240959263203, -1.5752830944648926, -0.0645244140536077, 2.0221467606315944, -0.8115737932181631, -0.03953346571061237, 0.3430560115673913, -0.678314414616606, 0.7671270289936455, -0.8352815835060328, 0.2625005834790334, 0.6394229699144892, 0.5744480532482673, 0.9687296756953383, 0.5281467997654329, 0.7583808354729975, 0.01008733722285285, -0.06386984596535984, 0.6164890002338478, -0.9804120873817879, -1.2995248798407089, 1.066126626588423, 2.2125011388403535, 1.0918321914430453, 0.5393123108233898, 0.8237643386872351, 0.596304819634739, 0.1551546937964348, -1.5255989307894378, -1.1431078143337003, 1.2967382341855007, 0.8990445838252091, -0.6711455782326923, -0.6162025218962328, 0.622278697790318, 0.16679223213883906, 2.9127403911622443, -0.27152961576738033, -1.238501904868217, -0.16835336724025413, 0.6378914389587478, 0.4677712941488029, 0.5495489487295442, -0.17931304232859252, -0.40814840097137234, 1.9677139393195497, 0.7851712092376301, -0.7656167328768418, -0.5536626665172183, -0.02963446605538179, 0.1923114466917884, 1.1345729810559975, -0.9630839809637665]}],\n",
       "                        {\"legend\": {\"bgcolor\": \"#F5F6F9\", \"font\": {\"color\": \"#4D5663\"}}, \"paper_bgcolor\": \"#F5F6F9\", \"plot_bgcolor\": \"#F5F6F9\", \"template\": {\"data\": {\"bar\": [{\"error_x\": {\"color\": \"#2a3f5f\"}, \"error_y\": {\"color\": \"#2a3f5f\"}, \"marker\": {\"line\": {\"color\": \"#E5ECF6\", \"width\": 0.5}}, \"type\": \"bar\"}], \"barpolar\": [{\"marker\": {\"line\": {\"color\": \"#E5ECF6\", \"width\": 0.5}}, \"type\": \"barpolar\"}], \"carpet\": [{\"aaxis\": {\"endlinecolor\": \"#2a3f5f\", \"gridcolor\": \"white\", \"linecolor\": \"white\", \"minorgridcolor\": \"white\", \"startlinecolor\": \"#2a3f5f\"}, \"baxis\": {\"endlinecolor\": \"#2a3f5f\", \"gridcolor\": \"white\", \"linecolor\": \"white\", \"minorgridcolor\": \"white\", \"startlinecolor\": \"#2a3f5f\"}, \"type\": \"carpet\"}], \"choropleth\": [{\"colorbar\": {\"outlinewidth\": 0, \"ticks\": \"\"}, \"type\": \"choropleth\"}], \"contour\": [{\"colorbar\": {\"outlinewidth\": 0, \"ticks\": \"\"}, \"colorscale\": [[0.0, \"#0d0887\"], [0.1111111111111111, \"#46039f\"], [0.2222222222222222, \"#7201a8\"], [0.3333333333333333, \"#9c179e\"], [0.4444444444444444, \"#bd3786\"], [0.5555555555555556, \"#d8576b\"], [0.6666666666666666, \"#ed7953\"], [0.7777777777777778, \"#fb9f3a\"], [0.8888888888888888, \"#fdca26\"], [1.0, \"#f0f921\"]], \"type\": \"contour\"}], \"contourcarpet\": [{\"colorbar\": {\"outlinewidth\": 0, \"ticks\": \"\"}, \"type\": \"contourcarpet\"}], \"heatmap\": [{\"colorbar\": {\"outlinewidth\": 0, \"ticks\": \"\"}, \"colorscale\": [[0.0, \"#0d0887\"], [0.1111111111111111, \"#46039f\"], [0.2222222222222222, \"#7201a8\"], [0.3333333333333333, \"#9c179e\"], [0.4444444444444444, \"#bd3786\"], [0.5555555555555556, \"#d8576b\"], [0.6666666666666666, \"#ed7953\"], [0.7777777777777778, \"#fb9f3a\"], [0.8888888888888888, \"#fdca26\"], [1.0, \"#f0f921\"]], \"type\": \"heatmap\"}], \"heatmapgl\": [{\"colorbar\": {\"outlinewidth\": 0, \"ticks\": \"\"}, \"colorscale\": [[0.0, \"#0d0887\"], [0.1111111111111111, \"#46039f\"], [0.2222222222222222, \"#7201a8\"], [0.3333333333333333, \"#9c179e\"], [0.4444444444444444, \"#bd3786\"], [0.5555555555555556, \"#d8576b\"], [0.6666666666666666, \"#ed7953\"], [0.7777777777777778, \"#fb9f3a\"], [0.8888888888888888, \"#fdca26\"], [1.0, \"#f0f921\"]], \"type\": \"heatmapgl\"}], \"histogram\": [{\"marker\": {\"colorbar\": {\"outlinewidth\": 0, \"ticks\": \"\"}}, \"type\": \"histogram\"}], \"histogram2d\": [{\"colorbar\": {\"outlinewidth\": 0, \"ticks\": \"\"}, \"colorscale\": [[0.0, \"#0d0887\"], [0.1111111111111111, \"#46039f\"], [0.2222222222222222, \"#7201a8\"], [0.3333333333333333, \"#9c179e\"], [0.4444444444444444, \"#bd3786\"], [0.5555555555555556, \"#d8576b\"], [0.6666666666666666, \"#ed7953\"], [0.7777777777777778, \"#fb9f3a\"], [0.8888888888888888, \"#fdca26\"], [1.0, \"#f0f921\"]], \"type\": \"histogram2d\"}], \"histogram2dcontour\": [{\"colorbar\": {\"outlinewidth\": 0, \"ticks\": \"\"}, \"colorscale\": [[0.0, \"#0d0887\"], [0.1111111111111111, \"#46039f\"], [0.2222222222222222, \"#7201a8\"], [0.3333333333333333, \"#9c179e\"], [0.4444444444444444, \"#bd3786\"], [0.5555555555555556, \"#d8576b\"], [0.6666666666666666, \"#ed7953\"], [0.7777777777777778, \"#fb9f3a\"], [0.8888888888888888, \"#fdca26\"], [1.0, \"#f0f921\"]], \"type\": \"histogram2dcontour\"}], \"mesh3d\": [{\"colorbar\": {\"outlinewidth\": 0, \"ticks\": \"\"}, \"type\": \"mesh3d\"}], \"parcoords\": [{\"line\": {\"colorbar\": {\"outlinewidth\": 0, \"ticks\": \"\"}}, \"type\": \"parcoords\"}], \"pie\": [{\"automargin\": true, \"type\": \"pie\"}], \"scatter\": [{\"marker\": {\"colorbar\": {\"outlinewidth\": 0, \"ticks\": \"\"}}, \"type\": \"scatter\"}], \"scatter3d\": [{\"line\": {\"colorbar\": {\"outlinewidth\": 0, \"ticks\": \"\"}}, \"marker\": {\"colorbar\": {\"outlinewidth\": 0, \"ticks\": \"\"}}, \"type\": \"scatter3d\"}], \"scattercarpet\": [{\"marker\": {\"colorbar\": {\"outlinewidth\": 0, \"ticks\": \"\"}}, \"type\": \"scattercarpet\"}], \"scattergeo\": [{\"marker\": {\"colorbar\": {\"outlinewidth\": 0, \"ticks\": \"\"}}, \"type\": \"scattergeo\"}], \"scattergl\": [{\"marker\": {\"colorbar\": {\"outlinewidth\": 0, \"ticks\": \"\"}}, \"type\": \"scattergl\"}], \"scattermapbox\": [{\"marker\": {\"colorbar\": {\"outlinewidth\": 0, \"ticks\": \"\"}}, \"type\": \"scattermapbox\"}], \"scatterpolar\": [{\"marker\": {\"colorbar\": {\"outlinewidth\": 0, \"ticks\": \"\"}}, \"type\": \"scatterpolar\"}], \"scatterpolargl\": [{\"marker\": {\"colorbar\": {\"outlinewidth\": 0, \"ticks\": \"\"}}, \"type\": \"scatterpolargl\"}], \"scatterternary\": [{\"marker\": {\"colorbar\": {\"outlinewidth\": 0, \"ticks\": \"\"}}, \"type\": \"scatterternary\"}], \"surface\": [{\"colorbar\": {\"outlinewidth\": 0, \"ticks\": \"\"}, \"colorscale\": [[0.0, \"#0d0887\"], [0.1111111111111111, \"#46039f\"], [0.2222222222222222, \"#7201a8\"], [0.3333333333333333, \"#9c179e\"], [0.4444444444444444, \"#bd3786\"], [0.5555555555555556, \"#d8576b\"], [0.6666666666666666, \"#ed7953\"], [0.7777777777777778, \"#fb9f3a\"], [0.8888888888888888, \"#fdca26\"], [1.0, \"#f0f921\"]], \"type\": \"surface\"}], \"table\": [{\"cells\": {\"fill\": {\"color\": \"#EBF0F8\"}, \"line\": {\"color\": \"white\"}}, \"header\": {\"fill\": {\"color\": \"#C8D4E3\"}, \"line\": {\"color\": \"white\"}}, \"type\": \"table\"}]}, \"layout\": {\"annotationdefaults\": {\"arrowcolor\": \"#2a3f5f\", \"arrowhead\": 0, \"arrowwidth\": 1}, \"coloraxis\": {\"colorbar\": {\"outlinewidth\": 0, \"ticks\": \"\"}}, \"colorscale\": {\"diverging\": [[0, \"#8e0152\"], [0.1, \"#c51b7d\"], [0.2, \"#de77ae\"], [0.3, \"#f1b6da\"], [0.4, \"#fde0ef\"], [0.5, \"#f7f7f7\"], [0.6, \"#e6f5d0\"], [0.7, \"#b8e186\"], [0.8, \"#7fbc41\"], [0.9, \"#4d9221\"], [1, \"#276419\"]], \"sequential\": [[0.0, \"#0d0887\"], [0.1111111111111111, \"#46039f\"], [0.2222222222222222, \"#7201a8\"], [0.3333333333333333, \"#9c179e\"], [0.4444444444444444, \"#bd3786\"], [0.5555555555555556, \"#d8576b\"], [0.6666666666666666, \"#ed7953\"], [0.7777777777777778, \"#fb9f3a\"], [0.8888888888888888, \"#fdca26\"], [1.0, \"#f0f921\"]], \"sequentialminus\": [[0.0, \"#0d0887\"], [0.1111111111111111, \"#46039f\"], [0.2222222222222222, \"#7201a8\"], [0.3333333333333333, \"#9c179e\"], [0.4444444444444444, \"#bd3786\"], [0.5555555555555556, \"#d8576b\"], [0.6666666666666666, \"#ed7953\"], [0.7777777777777778, \"#fb9f3a\"], [0.8888888888888888, \"#fdca26\"], [1.0, \"#f0f921\"]]}, \"colorway\": [\"#636efa\", \"#EF553B\", \"#00cc96\", \"#ab63fa\", \"#FFA15A\", \"#19d3f3\", \"#FF6692\", \"#B6E880\", \"#FF97FF\", \"#FECB52\"], \"font\": {\"color\": \"#2a3f5f\"}, \"geo\": {\"bgcolor\": \"white\", \"lakecolor\": \"white\", \"landcolor\": \"#E5ECF6\", \"showlakes\": true, \"showland\": true, \"subunitcolor\": \"white\"}, \"hoverlabel\": {\"align\": \"left\"}, \"hovermode\": \"closest\", \"mapbox\": {\"style\": \"light\"}, \"paper_bgcolor\": \"white\", \"plot_bgcolor\": \"#E5ECF6\", \"polar\": {\"angularaxis\": {\"gridcolor\": \"white\", \"linecolor\": \"white\", \"ticks\": \"\"}, \"bgcolor\": \"#E5ECF6\", \"radialaxis\": {\"gridcolor\": \"white\", \"linecolor\": \"white\", \"ticks\": \"\"}}, \"scene\": {\"xaxis\": {\"backgroundcolor\": \"#E5ECF6\", \"gridcolor\": \"white\", \"gridwidth\": 2, \"linecolor\": \"white\", \"showbackground\": true, \"ticks\": \"\", \"zerolinecolor\": \"white\"}, \"yaxis\": {\"backgroundcolor\": \"#E5ECF6\", \"gridcolor\": \"white\", \"gridwidth\": 2, \"linecolor\": \"white\", \"showbackground\": true, \"ticks\": \"\", \"zerolinecolor\": \"white\"}, \"zaxis\": {\"backgroundcolor\": \"#E5ECF6\", \"gridcolor\": \"white\", \"gridwidth\": 2, \"linecolor\": \"white\", \"showbackground\": true, \"ticks\": \"\", \"zerolinecolor\": \"white\"}}, \"shapedefaults\": {\"line\": {\"color\": \"#2a3f5f\"}}, \"ternary\": {\"aaxis\": {\"gridcolor\": \"white\", \"linecolor\": \"white\", \"ticks\": \"\"}, \"baxis\": {\"gridcolor\": \"white\", \"linecolor\": \"white\", \"ticks\": \"\"}, \"bgcolor\": \"#E5ECF6\", \"caxis\": {\"gridcolor\": \"white\", \"linecolor\": \"white\", \"ticks\": \"\"}}, \"title\": {\"x\": 0.05}, \"xaxis\": {\"automargin\": true, \"gridcolor\": \"white\", \"linecolor\": \"white\", \"ticks\": \"\", \"title\": {\"standoff\": 15}, \"zerolinecolor\": \"white\", \"zerolinewidth\": 2}, \"yaxis\": {\"automargin\": true, \"gridcolor\": \"white\", \"linecolor\": \"white\", \"ticks\": \"\", \"title\": {\"standoff\": 15}, \"zerolinecolor\": \"white\", \"zerolinewidth\": 2}}}, \"title\": {\"font\": {\"color\": \"#4D5663\"}}, \"xaxis\": {\"gridcolor\": \"#E1E5ED\", \"showgrid\": true, \"tickfont\": {\"color\": \"#4D5663\"}, \"title\": {\"font\": {\"color\": \"#4D5663\"}, \"text\": \"\"}, \"zerolinecolor\": \"#E1E5ED\"}, \"yaxis\": {\"gridcolor\": \"#E1E5ED\", \"showgrid\": true, \"tickfont\": {\"color\": \"#4D5663\"}, \"title\": {\"font\": {\"color\": \"#4D5663\"}, \"text\": \"\"}, \"zerolinecolor\": \"#E1E5ED\"}},\n",
       "                        {\"showLink\": true, \"linkText\": \"Export to plot.ly\", \"plotlyServerURL\": \"https://plot.ly\", \"responsive\": true}\n",
       "                    ).then(function(){\n",
       "                            \n",
       "var gd = document.getElementById('7acf68a8-537b-4a84-8460-fcb34cbf9575');\n",
       "var x = new MutationObserver(function (mutations, observer) {{\n",
       "        var display = window.getComputedStyle(gd).display;\n",
       "        if (!display || display === 'none') {{\n",
       "            console.log([gd, 'removed!']);\n",
       "            Plotly.purge(gd);\n",
       "            observer.disconnect();\n",
       "        }}\n",
       "}});\n",
       "\n",
       "// Listen for the removal of the full notebook cells\n",
       "var notebookContainer = gd.closest('#notebook-container');\n",
       "if (notebookContainer) {{\n",
       "    x.observe(notebookContainer, {childList: true});\n",
       "}}\n",
       "\n",
       "// Listen for the clearing of the current output cell\n",
       "var outputEl = gd.closest('.output');\n",
       "if (outputEl) {{\n",
       "    x.observe(outputEl, {childList: true});\n",
       "}}\n",
       "\n",
       "                        })\n",
       "                };\n",
       "                });\n",
       "            </script>\n",
       "        </div>"
      ]
     },
     "metadata": {},
     "output_type": "display_data"
    }
   ],
   "source": [
    "df.iplot()"
   ]
  },
  {
   "cell_type": "markdown",
   "metadata": {},
   "source": [
    "## Scatter plot"
   ]
  },
  {
   "cell_type": "code",
   "execution_count": 18,
   "metadata": {},
   "outputs": [
    {
     "data": {
      "text/plain": [
       "<matplotlib.axes._subplots.AxesSubplot at 0x1924f1797f0>"
      ]
     },
     "execution_count": 18,
     "metadata": {},
     "output_type": "execute_result"
    },
    {
     "data": {
      "image/png": "[encoded data removed]",
      "text/plain": [
       "<Figure size 432x288 with 1 Axes>"
      ]
     },
     "metadata": {
      "needs_background": "light"
     },
     "output_type": "display_data"
    }
   ],
   "source": [
    "df.plot(kind = 'scatter', x='A', y='B')"
   ]
  },
  {
   "cell_type": "code",
   "execution_count": 26,
   "metadata": {},
   "outputs": [
    {
     "data": {
      "application/vnd.plotly.v1+json": {
       "config": {
        "linkText": "Export to plot.ly",
        "plotlyServerURL": "https://plot.ly",
        "showLink": true
       },
       "data": [
        {
         "line": {
          "color": "rgba(255, 153, 51, 1.0)",
          "dash": "solid",
          "shape": "linear",
          "width": 1.3
         },
         "marker": {
          "size": 15,
          "symbol": "circle"
         },
         "mode": "markers",
         "name": "B",
         "text": "",
         "type": "scatter",
         "x": [
          -0.15966440057435938,
          -3.0268008071009187,
          0.9221382673050521,
          0.8770652008419254,
          2.076348258904066,
          -2.5385761484776928,
          -1.9211892960913912,
          0.6007684052334087,
          -0.21961932073774648,
          0.6947663878860076,
          1.5355433012808262,
          0.682536191559496,
          -0.00784008704142355,
          -0.5486678819424253,
          -0.42858792614727115,
          0.6318614246284424,
          1.014063885119909,
          0.19769301291352875,
          0.6115860679800008,
          0.19458939348542983,
          1.9061126760600309,
          2.1888523316757906,
          2.9527829087211845,
          0.03602569987116309,
          -0.695368302564943,
          1.6976635522629786,
          -2.6266196902651697,
          -0.5470043758963876,
          0.37115828238172793,
          -0.48023110420208853,
          1.0373530630599568,
          0.6748963442511032,
          1.229032627039319,
          1.696584799985512,
          0.029752667407899197,
          0.8084195973664055,
          -2.2248088064008944,
          1.0104302308242707,
          1.1180875214270254,
          1.2193035150614107,
          0.35565864473138953,
          -1.8415745792579306,
          -0.12863986311406433,
          -0.3840273635274107,
          -1.208692561789705,
          0.4930043761880178,
          0.22606346480288667,
          0.8469056906100876,
          -0.6602972998520016,
          0.18781265774515438,
          1.6287771347743953,
          -0.5770968099743413,
          -0.16194665920300977,
          0.8681358652235673,
          0.047414635744381525,
          0.21611033116647485,
          0.5907804771654277,
          0.9708460467264816,
          -1.8110933091195884,
          -0.5530434965138656,
          1.9636940438520054,
          1.1729722539442202,
          1.2421559008155438,
          -0.6288387913785575,
          0.34805958706986584,
          -0.5436381561059997,
          -0.5631348469165319,
          1.5606728416961202,
          0.2330738885185976,
          -0.8020391201493532,
          -0.6557997346611697,
          0.5726236513169123,
          1.2246219521550379,
          1.517883432418252,
          -0.14147909287681634,
          0.3664192494581477,
          -0.4322146140696219,
          -0.3495399006296373,
          -0.6810037668207851,
          0.08504992455350263,
          1.7823784203274209,
          0.6259377596645086,
          0.6638813119909011,
          -1.482839860554188,
          -0.2901295524795004,
          0.7728721769087347,
          1.0697450666270618,
          -0.38037586807737583,
          0.7361925861522479,
          2.227251940281902,
          -0.9059783157534909,
          1.0644082103981056,
          0.41243815873235085,
          -0.70985732273822,
          0.2921920971594382,
          0.316660089561294,
          1.2009474277974572,
          -0.17950997282633827,
          -1.8222345068938892,
          1.1804269142135373
         ],
         "y": [
          -0.039620201830270506,
          -1.0886265885232451,
          1.510576451901204,
          1.784954270510374,
          1.856633419738731,
          -0.06186831571432017,
          -0.7177396996119862,
          1.3056032295822502,
          0.1747268566872305,
          -2.008057573582073,
          -0.24986540881811706,
          -0.68969312419857,
          1.7203106029038477,
          0.8148414349263332,
          -0.15528528397620237,
          -1.8057674057733473,
          0.1855558056334135,
          -0.20607748084692046,
          -0.41374065948487576,
          0.07802381651058664,
          0.5122383905711916,
          -0.8816396954950696,
          0.8150638310707726,
          -0.9128064482318322,
          -0.92947076177012,
          0.5364585267673471,
          -0.09773609410488768,
          -0.8376598389398086,
          -0.5149023896730086,
          -0.07638224135806895,
          -0.528115017916814,
          0.6930140672229397,
          -0.7173712123713216,
          0.435434124645374,
          -0.10550905698074249,
          0.9825963092482132,
          1.43990174097477,
          0.21861636481047017,
          -1.4434530863386295,
          -0.8429050603925676,
          -0.5824520358502622,
          -2.5060458213683448,
          0.8188019482586176,
          -1.1311437036384802,
          2.463221499435528,
          -1.4716903339509018,
          -1.3231503668137379,
          0.9138103857479809,
          0.7169170351565702,
          -0.5942680093604714,
          -1.700684394592634,
          -0.3601746175201089,
          -0.8427200334374927,
          -0.2448910298215501,
          1.0078914884134746,
          1.1363591311807222,
          0.31267011313669657,
          -0.4966643537233206,
          1.4258032741416697,
          -0.8218663321084495,
          0.07359712719308378,
          -1.4767339034966909,
          1.1364236958318257,
          -0.23598777516022656,
          -0.6022315860538371,
          -0.1211577645937869,
          -0.5284014012330627,
          -0.8756273951246533,
          -0.11679910149382909,
          -0.28133633907251443,
          1.3360164375010046,
          -1.993994774627574,
          1.705587826284771,
          -0.1242901136836673,
          -0.5972965399776643,
          0.10528367746866872,
          -1.8588149129828984,
          -0.7940920464638387,
          0.1276581837519382,
          -1.4602897634720386,
          -0.9001307498667146,
          -1.523129993571007,
          0.08675731770656844,
          -1.369456474965436,
          0.8336132458797575,
          -1.4707252145644945,
          1.9115214411160404,
          -0.8919965099516362,
          -1.1617999087632587,
          -1.8744766266033046,
          0.04249487946173756,
          -0.27310822473698654,
          0.08953567673202818,
          0.9321519847205323,
          -0.7901851679583582,
          0.43921752031434347,
          -0.8077884830291779,
          1.4627975973322422,
          0.9795913558289675,
          -0.4743917350346864
         ]
        }
       ],
       "layout": {
        "legend": {
         "bgcolor": "#F5F6F9",
         "font": {
          "color": "#4D5663"
         }
        },
        "paper_bgcolor": "#F5F6F9",
        "plot_bgcolor": "#F5F6F9",
        "template": {
         "data": {
          "bar": [
           {
            "error_x": {
             "color": "#2a3f5f"
            },
            "error_y": {
             "color": "#2a3f5f"
            },
            "marker": {
             "line": {
              "color": "#E5ECF6",
              "width": 0.5
             }
            },
            "type": "bar"
           }
          ],
          "barpolar": [
           {
            "marker": {
             "line": {
              "color": "#E5ECF6",
              "width": 0.5
             }
            },
            "type": "barpolar"
           }
          ],
          "carpet": [
           {
            "aaxis": {
             "endlinecolor": "#2a3f5f",
             "gridcolor": "white",
             "linecolor": "white",
             "minorgridcolor": "white",
             "startlinecolor": "#2a3f5f"
            },
            "baxis": {
             "endlinecolor": "#2a3f5f",
             "gridcolor": "white",
             "linecolor": "white",
             "minorgridcolor": "white",
             "startlinecolor": "#2a3f5f"
            },
            "type": "carpet"
           }
          ],
          "choropleth": [
           {
            "colorbar": {
             "outlinewidth": 0,
             "ticks": ""
            },
            "type": "choropleth"
           }
          ],
          "contour": [
           {
            "colorbar": {
             "outlinewidth": 0,
             "ticks": ""
            },
            "colorscale": [
             [
              0,
              "#0d0887"
             ],
             [
              0.1111111111111111,
              "#46039f"
             ],
             [
              0.2222222222222222,
              "#7201a8"
             ],
             [
              0.3333333333333333,
              "#9c179e"
             ],
             [
              0.4444444444444444,
              "#bd3786"
             ],
             [
              0.5555555555555556,
              "#d8576b"
             ],
             [
              0.6666666666666666,
              "#ed7953"
             ],
             [
              0.7777777777777778,
              "#fb9f3a"
             ],
             [
              0.8888888888888888,
              "#fdca26"
             ],
             [
              1,
              "#f0f921"
             ]
            ],
            "type": "contour"
           }
          ],
          "contourcarpet": [
           {
            "colorbar": {
             "outlinewidth": 0,
             "ticks": ""
            },
            "type": "contourcarpet"
           }
          ],
          "heatmap": [
           {
            "colorbar": {
             "outlinewidth": 0,
             "ticks": ""
            },
            "colorscale": [
             [
              0,
              "#0d0887"
             ],
             [
              0.1111111111111111,
              "#46039f"
             ],
             [
              0.2222222222222222,
              "#7201a8"
             ],
             [
              0.3333333333333333,
              "#9c179e"
             ],
             [
              0.4444444444444444,
              "#bd3786"
             ],
             [
              0.5555555555555556,
              "#d8576b"
             ],
             [
              0.6666666666666666,
              "#ed7953"
             ],
             [
              0.7777777777777778,
              "#fb9f3a"
             ],
             [
              0.8888888888888888,
              "#fdca26"
             ],
             [
              1,
              "#f0f921"
             ]
            ],
            "type": "heatmap"
           }
          ],
          "heatmapgl": [
           {
            "colorbar": {
             "outlinewidth": 0,
             "ticks": ""
            },
            "colorscale": [
             [
              0,
              "#0d0887"
             ],
             [
              0.1111111111111111,
              "#46039f"
             ],
             [
              0.2222222222222222,
              "#7201a8"
             ],
             [
              0.3333333333333333,
              "#9c179e"
             ],
             [
              0.4444444444444444,
              "#bd3786"
             ],
             [
              0.5555555555555556,
              "#d8576b"
             ],
             [
              0.6666666666666666,
              "#ed7953"
             ],
             [
              0.7777777777777778,
              "#fb9f3a"
             ],
             [
              0.8888888888888888,
              "#fdca26"
             ],
             [
              1,
              "#f0f921"
             ]
            ],
            "type": "heatmapgl"
           }
          ],
          "histogram": [
           {
            "marker": {
             "colorbar": {
              "outlinewidth": 0,
              "ticks": ""
             }
            },
            "type": "histogram"
           }
          ],
          "histogram2d": [
           {
            "colorbar": {
             "outlinewidth": 0,
             "ticks": ""
            },
            "colorscale": [
             [
              0,
              "#0d0887"
             ],
             [
              0.1111111111111111,
              "#46039f"
             ],
             [
              0.2222222222222222,
              "#7201a8"
             ],
             [
              0.3333333333333333,
              "#9c179e"
             ],
             [
              0.4444444444444444,
              "#bd3786"
             ],
             [
              0.5555555555555556,
              "#d8576b"
             ],
             [
              0.6666666666666666,
              "#ed7953"
             ],
             [
              0.7777777777777778,
              "#fb9f3a"
             ],
             [
              0.8888888888888888,
              "#fdca26"
             ],
             [
              1,
              "#f0f921"
             ]
            ],
            "type": "histogram2d"
           }
          ],
          "histogram2dcontour": [
           {
            "colorbar": {
             "outlinewidth": 0,
             "ticks": ""
            },
            "colorscale": [
             [
              0,
              "#0d0887"
             ],
             [
              0.1111111111111111,
              "#46039f"
             ],
             [
              0.2222222222222222,
              "#7201a8"
             ],
             [
              0.3333333333333333,
              "#9c179e"
             ],
             [
              0.4444444444444444,
              "#bd3786"
             ],
             [
              0.5555555555555556,
              "#d8576b"
             ],
             [
              0.6666666666666666,
              "#ed7953"
             ],
             [
              0.7777777777777778,
              "#fb9f3a"
             ],
             [
              0.8888888888888888,
              "#fdca26"
             ],
             [
              1,
              "#f0f921"
             ]
            ],
            "type": "histogram2dcontour"
           }
          ],
          "mesh3d": [
           {
            "colorbar": {
             "outlinewidth": 0,
             "ticks": ""
            },
            "type": "mesh3d"
           }
          ],
          "parcoords": [
           {
            "line": {
             "colorbar": {
              "outlinewidth": 0,
              "ticks": ""
             }
            },
            "type": "parcoords"
           }
          ],
          "pie": [
           {
            "automargin": true,
            "type": "pie"
           }
          ],
          "scatter": [
           {
            "marker": {
             "colorbar": {
              "outlinewidth": 0,
              "ticks": ""
             }
            },
            "type": "scatter"
           }
          ],
          "scatter3d": [
           {
            "line": {
             "colorbar": {
              "outlinewidth": 0,
              "ticks": ""
             }
            },
            "marker": {
             "colorbar": {
              "outlinewidth": 0,
              "ticks": ""
             }
            },
            "type": "scatter3d"
           }
          ],
          "scattercarpet": [
           {
            "marker": {
             "colorbar": {
              "outlinewidth": 0,
              "ticks": ""
             }
            },
            "type": "scattercarpet"
           }
          ],
          "scattergeo": [
           {
            "marker": {
             "colorbar": {
              "outlinewidth": 0,
              "ticks": ""
             }
            },
            "type": "scattergeo"
           }
          ],
          "scattergl": [
           {
            "marker": {
             "colorbar": {
              "outlinewidth": 0,
              "ticks": ""
             }
            },
            "type": "scattergl"
           }
          ],
          "scattermapbox": [
           {
            "marker": {
             "colorbar": {
              "outlinewidth": 0,
              "ticks": ""
             }
            },
            "type": "scattermapbox"
           }
          ],
          "scatterpolar": [
           {
            "marker": {
             "colorbar": {
              "outlinewidth": 0,
              "ticks": ""
             }
            },
            "type": "scatterpolar"
           }
          ],
          "scatterpolargl": [
           {
            "marker": {
             "colorbar": {
              "outlinewidth": 0,
              "ticks": ""
             }
            },
            "type": "scatterpolargl"
           }
          ],
          "scatterternary": [
           {
            "marker": {
             "colorbar": {
              "outlinewidth": 0,
              "ticks": ""
             }
            },
            "type": "scatterternary"
           }
          ],
          "surface": [
           {
            "colorbar": {
             "outlinewidth": 0,
             "ticks": ""
            },
            "colorscale": [
             [
              0,
              "#0d0887"
             ],
             [
              0.1111111111111111,
              "#46039f"
             ],
             [
              0.2222222222222222,
              "#7201a8"
             ],
             [
              0.3333333333333333,
              "#9c179e"
             ],
             [
              0.4444444444444444,
              "#bd3786"
             ],
             [
              0.5555555555555556,
              "#d8576b"
             ],
             [
              0.6666666666666666,
              "#ed7953"
             ],
             [
              0.7777777777777778,
              "#fb9f3a"
             ],
             [
              0.8888888888888888,
              "#fdca26"
             ],
             [
              1,
              "#f0f921"
             ]
            ],
            "type": "surface"
           }
          ],
          "table": [
           {
            "cells": {
             "fill": {
              "color": "#EBF0F8"
             },
             "line": {
              "color": "white"
             }
            },
            "header": {
             "fill": {
              "color": "#C8D4E3"
             },
             "line": {
              "color": "white"
             }
            },
            "type": "table"
           }
          ]
         },
         "layout": {
          "annotationdefaults": {
           "arrowcolor": "#2a3f5f",
           "arrowhead": 0,
           "arrowwidth": 1
          },
          "coloraxis": {
           "colorbar": {
            "outlinewidth": 0,
            "ticks": ""
           }
          },
          "colorscale": {
           "diverging": [
            [
             0,
             "#8e0152"
            ],
            [
             0.1,
             "#c51b7d"
            ],
            [
             0.2,
             "#de77ae"
            ],
            [
             0.3,
             "#f1b6da"
            ],
            [
             0.4,
             "#fde0ef"
            ],
            [
             0.5,
             "#f7f7f7"
            ],
            [
             0.6,
             "#e6f5d0"
            ],
            [
             0.7,
             "#b8e186"
            ],
            [
             0.8,
             "#7fbc41"
            ],
            [
             0.9,
             "#4d9221"
            ],
            [
             1,
             "#276419"
            ]
           ],
           "sequential": [
            [
             0,
             "#0d0887"
            ],
            [
             0.1111111111111111,
             "#46039f"
            ],
            [
             0.2222222222222222,
             "#7201a8"
            ],
            [
             0.3333333333333333,
             "#9c179e"
            ],
            [
             0.4444444444444444,
             "#bd3786"
            ],
            [
             0.5555555555555556,
             "#d8576b"
            ],
            [
             0.6666666666666666,
             "#ed7953"
            ],
            [
             0.7777777777777778,
             "#fb9f3a"
            ],
            [
             0.8888888888888888,
             "#fdca26"
            ],
            [
             1,
             "#f0f921"
            ]
           ],
           "sequentialminus": [
            [
             0,
             "#0d0887"
            ],
            [
             0.1111111111111111,
             "#46039f"
            ],
            [
             0.2222222222222222,
             "#7201a8"
            ],
            [
             0.3333333333333333,
             "#9c179e"
            ],
            [
             0.4444444444444444,
             "#bd3786"
            ],
            [
             0.5555555555555556,
             "#d8576b"
            ],
            [
             0.6666666666666666,
             "#ed7953"
            ],
            [
             0.7777777777777778,
             "#fb9f3a"
            ],
            [
             0.8888888888888888,
             "#fdca26"
            ],
            [
             1,
             "#f0f921"
            ]
           ]
          },
          "colorway": [
           "#636efa",
           "#EF553B",
           "#00cc96",
           "#ab63fa",
           "#FFA15A",
           "#19d3f3",
           "#FF6692",
           "#B6E880",
           "#FF97FF",
           "#FECB52"
          ],
          "font": {
           "color": "#2a3f5f"
          },
          "geo": {
           "bgcolor": "white",
           "lakecolor": "white",
           "landcolor": "#E5ECF6",
           "showlakes": true,
           "showland": true,
           "subunitcolor": "white"
          },
          "hoverlabel": {
           "align": "left"
          },
          "hovermode": "closest",
          "mapbox": {
           "style": "light"
          },
          "paper_bgcolor": "white",
          "plot_bgcolor": "#E5ECF6",
          "polar": {
           "angularaxis": {
            "gridcolor": "white",
            "linecolor": "white",
            "ticks": ""
           },
           "bgcolor": "#E5ECF6",
           "radialaxis": {
            "gridcolor": "white",
            "linecolor": "white",
            "ticks": ""
           }
          },
          "scene": {
           "xaxis": {
            "backgroundcolor": "#E5ECF6",
            "gridcolor": "white",
            "gridwidth": 2,
            "linecolor": "white",
            "showbackground": true,
            "ticks": "",
            "zerolinecolor": "white"
           },
           "yaxis": {
            "backgroundcolor": "#E5ECF6",
            "gridcolor": "white",
            "gridwidth": 2,
            "linecolor": "white",
            "showbackground": true,
            "ticks": "",
            "zerolinecolor": "white"
           },
           "zaxis": {
            "backgroundcolor": "#E5ECF6",
            "gridcolor": "white",
            "gridwidth": 2,
            "linecolor": "white",
            "showbackground": true,
            "ticks": "",
            "zerolinecolor": "white"
           }
          },
          "shapedefaults": {
           "line": {
            "color": "#2a3f5f"
           }
          },
          "ternary": {
           "aaxis": {
            "gridcolor": "white",
            "linecolor": "white",
            "ticks": ""
           },
           "baxis": {
            "gridcolor": "white",
            "linecolor": "white",
            "ticks": ""
           },
           "bgcolor": "#E5ECF6",
           "caxis": {
            "gridcolor": "white",
            "linecolor": "white",
            "ticks": ""
           }
          },
          "title": {
           "x": 0.05
          },
          "xaxis": {
           "automargin": true,
           "gridcolor": "white",
           "linecolor": "white",
           "ticks": "",
           "title": {
            "standoff": 15
           },
           "zerolinecolor": "white",
           "zerolinewidth": 2
          },
          "yaxis": {
           "automargin": true,
           "gridcolor": "white",
           "linecolor": "white",
           "ticks": "",
           "title": {
            "standoff": 15
           },
           "zerolinecolor": "white",
           "zerolinewidth": 2
          }
         }
        },
        "title": {
         "font": {
          "color": "#4D5663"
         }
        },
        "xaxis": {
         "gridcolor": "#E1E5ED",
         "showgrid": true,
         "tickfont": {
          "color": "#4D5663"
         },
         "title": {
          "font": {
           "color": "#4D5663"
          },
          "text": ""
         },
         "zerolinecolor": "#E1E5ED"
        },
        "yaxis": {
         "gridcolor": "#E1E5ED",
         "showgrid": true,
         "tickfont": {
          "color": "#4D5663"
         },
         "title": {
          "font": {
           "color": "#4D5663"
          },
          "text": ""
         },
         "zerolinecolor": "#E1E5ED"
        }
       }
      },
      "text/html": [
       "<div>\n",
       "        \n",
       "        \n",
       "            <div id=\"7d4b561d-f943-4e4c-b165-feea78449426\" class=\"plotly-graph-div\" style=\"height:525px; width:100%;\"></div>\n",
       "            <script type=\"text/javascript\">\n",
       "                require([\"plotly\"], function(Plotly) {\n",
       "                    window.PLOTLYENV=window.PLOTLYENV || {};\n",
       "                    window.PLOTLYENV.BASE_URL='https://plot.ly';\n",
       "                    \n",
       "                if (document.getElementById(\"7d4b561d-f943-4e4c-b165-feea78449426\")) {\n",
       "                    Plotly.newPlot(\n",
       "                        '7d4b561d-f943-4e4c-b165-feea78449426',\n",
       "                        [{\"line\": {\"color\": \"rgba(255, 153, 51, 1.0)\", \"dash\": \"solid\", \"shape\": \"linear\", \"width\": 1.3}, \"marker\": {\"size\": 15, \"symbol\": \"circle\"}, \"mode\": \"markers\", \"name\": \"B\", \"text\": \"\", \"type\": \"scatter\", \"x\": [-0.15966440057435938, -3.0268008071009187, 0.9221382673050521, 0.8770652008419254, 2.076348258904066, -2.5385761484776928, -1.9211892960913912, 0.6007684052334087, -0.21961932073774648, 0.6947663878860076, 1.5355433012808262, 0.682536191559496, -0.00784008704142355, -0.5486678819424253, -0.42858792614727115, 0.6318614246284424, 1.014063885119909, 0.19769301291352875, 0.6115860679800008, 0.19458939348542983, 1.9061126760600309, 2.1888523316757906, 2.9527829087211845, 0.03602569987116309, -0.695368302564943, 1.6976635522629786, -2.6266196902651697, -0.5470043758963876, 0.37115828238172793, -0.48023110420208853, 1.0373530630599568, 0.6748963442511032, 1.229032627039319, 1.696584799985512, 0.029752667407899197, 0.8084195973664055, -2.2248088064008944, 1.0104302308242707, 1.1180875214270254, 1.2193035150614107, 0.35565864473138953, -1.8415745792579306, -0.12863986311406433, -0.3840273635274107, -1.208692561789705, 0.4930043761880178, 0.22606346480288667, 0.8469056906100876, -0.6602972998520016, 0.18781265774515438, 1.6287771347743953, -0.5770968099743413, -0.16194665920300977, 0.8681358652235673, 0.047414635744381525, 0.21611033116647485, 0.5907804771654277, 0.9708460467264816, -1.8110933091195884, -0.5530434965138656, 1.9636940438520054, 1.1729722539442202, 1.2421559008155438, -0.6288387913785575, 0.34805958706986584, -0.5436381561059997, -0.5631348469165319, 1.5606728416961202, 0.2330738885185976, -0.8020391201493532, -0.6557997346611697, 0.5726236513169123, 1.2246219521550379, 1.517883432418252, -0.14147909287681634, 0.3664192494581477, -0.4322146140696219, -0.3495399006296373, -0.6810037668207851, 0.08504992455350263, 1.7823784203274209, 0.6259377596645086, 0.6638813119909011, -1.482839860554188, -0.2901295524795004, 0.7728721769087347, 1.0697450666270618, -0.38037586807737583, 0.7361925861522479, 2.227251940281902, -0.9059783157534909, 1.0644082103981056, 0.41243815873235085, -0.70985732273822, 0.2921920971594382, 0.316660089561294, 1.2009474277974572, -0.17950997282633827, -1.8222345068938892, 1.1804269142135373], \"y\": [-0.039620201830270506, -1.0886265885232451, 1.510576451901204, 1.784954270510374, 1.856633419738731, -0.06186831571432017, -0.7177396996119862, 1.3056032295822502, 0.1747268566872305, -2.008057573582073, -0.24986540881811706, -0.68969312419857, 1.7203106029038477, 0.8148414349263332, -0.15528528397620237, -1.8057674057733473, 0.1855558056334135, -0.20607748084692046, -0.41374065948487576, 0.07802381651058664, 0.5122383905711916, -0.8816396954950696, 0.8150638310707726, -0.9128064482318322, -0.92947076177012, 0.5364585267673471, -0.09773609410488768, -0.8376598389398086, -0.5149023896730086, -0.07638224135806895, -0.528115017916814, 0.6930140672229397, -0.7173712123713216, 0.435434124645374, -0.10550905698074249, 0.9825963092482132, 1.43990174097477, 0.21861636481047017, -1.4434530863386295, -0.8429050603925676, -0.5824520358502622, -2.5060458213683448, 0.8188019482586176, -1.1311437036384802, 2.463221499435528, -1.4716903339509018, -1.3231503668137379, 0.9138103857479809, 0.7169170351565702, -0.5942680093604714, -1.700684394592634, -0.3601746175201089, -0.8427200334374927, -0.2448910298215501, 1.0078914884134746, 1.1363591311807222, 0.31267011313669657, -0.4966643537233206, 1.4258032741416697, -0.8218663321084495, 0.07359712719308378, -1.4767339034966909, 1.1364236958318257, -0.23598777516022656, -0.6022315860538371, -0.1211577645937869, -0.5284014012330627, -0.8756273951246533, -0.11679910149382909, -0.28133633907251443, 1.3360164375010046, -1.993994774627574, 1.705587826284771, -0.1242901136836673, -0.5972965399776643, 0.10528367746866872, -1.8588149129828984, -0.7940920464638387, 0.1276581837519382, -1.4602897634720386, -0.9001307498667146, -1.523129993571007, 0.08675731770656844, -1.369456474965436, 0.8336132458797575, -1.4707252145644945, 1.9115214411160404, -0.8919965099516362, -1.1617999087632587, -1.8744766266033046, 0.04249487946173756, -0.27310822473698654, 0.08953567673202818, 0.9321519847205323, -0.7901851679583582, 0.43921752031434347, -0.8077884830291779, 1.4627975973322422, 0.9795913558289675, -0.4743917350346864]}],\n",
       "                        {\"legend\": {\"bgcolor\": \"#F5F6F9\", \"font\": {\"color\": \"#4D5663\"}}, \"paper_bgcolor\": \"#F5F6F9\", \"plot_bgcolor\": \"#F5F6F9\", \"template\": {\"data\": {\"bar\": [{\"error_x\": {\"color\": \"#2a3f5f\"}, \"error_y\": {\"color\": \"#2a3f5f\"}, \"marker\": {\"line\": {\"color\": \"#E5ECF6\", \"width\": 0.5}}, \"type\": \"bar\"}], \"barpolar\": [{\"marker\": {\"line\": {\"color\": \"#E5ECF6\", \"width\": 0.5}}, \"type\": \"barpolar\"}], \"carpet\": [{\"aaxis\": {\"endlinecolor\": \"#2a3f5f\", \"gridcolor\": \"white\", \"linecolor\": \"white\", \"minorgridcolor\": \"white\", \"startlinecolor\": \"#2a3f5f\"}, \"baxis\": {\"endlinecolor\": \"#2a3f5f\", \"gridcolor\": \"white\", \"linecolor\": \"white\", \"minorgridcolor\": \"white\", \"startlinecolor\": \"#2a3f5f\"}, \"type\": \"carpet\"}], \"choropleth\": [{\"colorbar\": {\"outlinewidth\": 0, \"ticks\": \"\"}, \"type\": \"choropleth\"}], \"contour\": [{\"colorbar\": {\"outlinewidth\": 0, \"ticks\": \"\"}, \"colorscale\": [[0.0, \"#0d0887\"], [0.1111111111111111, \"#46039f\"], [0.2222222222222222, \"#7201a8\"], [0.3333333333333333, \"#9c179e\"], [0.4444444444444444, \"#bd3786\"], [0.5555555555555556, \"#d8576b\"], [0.6666666666666666, \"#ed7953\"], [0.7777777777777778, \"#fb9f3a\"], [0.8888888888888888, \"#fdca26\"], [1.0, \"#f0f921\"]], \"type\": \"contour\"}], \"contourcarpet\": [{\"colorbar\": {\"outlinewidth\": 0, \"ticks\": \"\"}, \"type\": \"contourcarpet\"}], \"heatmap\": [{\"colorbar\": {\"outlinewidth\": 0, \"ticks\": \"\"}, \"colorscale\": [[0.0, \"#0d0887\"], [0.1111111111111111, \"#46039f\"], [0.2222222222222222, \"#7201a8\"], [0.3333333333333333, \"#9c179e\"], [0.4444444444444444, \"#bd3786\"], [0.5555555555555556, \"#d8576b\"], [0.6666666666666666, \"#ed7953\"], [0.7777777777777778, \"#fb9f3a\"], [0.8888888888888888, \"#fdca26\"], [1.0, \"#f0f921\"]], \"type\": \"heatmap\"}], \"heatmapgl\": [{\"colorbar\": {\"outlinewidth\": 0, \"ticks\": \"\"}, \"colorscale\": [[0.0, \"#0d0887\"], [0.1111111111111111, \"#46039f\"], [0.2222222222222222, \"#7201a8\"], [0.3333333333333333, \"#9c179e\"], [0.4444444444444444, \"#bd3786\"], [0.5555555555555556, \"#d8576b\"], [0.6666666666666666, \"#ed7953\"], [0.7777777777777778, \"#fb9f3a\"], [0.8888888888888888, \"#fdca26\"], [1.0, \"#f0f921\"]], \"type\": \"heatmapgl\"}], \"histogram\": [{\"marker\": {\"colorbar\": {\"outlinewidth\": 0, \"ticks\": \"\"}}, \"type\": \"histogram\"}], \"histogram2d\": [{\"colorbar\": {\"outlinewidth\": 0, \"ticks\": \"\"}, \"colorscale\": [[0.0, \"#0d0887\"], [0.1111111111111111, \"#46039f\"], [0.2222222222222222, \"#7201a8\"], [0.3333333333333333, \"#9c179e\"], [0.4444444444444444, \"#bd3786\"], [0.5555555555555556, \"#d8576b\"], [0.6666666666666666, \"#ed7953\"], [0.7777777777777778, \"#fb9f3a\"], [0.8888888888888888, \"#fdca26\"], [1.0, \"#f0f921\"]], \"type\": \"histogram2d\"}], \"histogram2dcontour\": [{\"colorbar\": {\"outlinewidth\": 0, \"ticks\": \"\"}, \"colorscale\": [[0.0, \"#0d0887\"], [0.1111111111111111, \"#46039f\"], [0.2222222222222222, \"#7201a8\"], [0.3333333333333333, \"#9c179e\"], [0.4444444444444444, \"#bd3786\"], [0.5555555555555556, \"#d8576b\"], [0.6666666666666666, \"#ed7953\"], [0.7777777777777778, \"#fb9f3a\"], [0.8888888888888888, \"#fdca26\"], [1.0, \"#f0f921\"]], \"type\": \"histogram2dcontour\"}], \"mesh3d\": [{\"colorbar\": {\"outlinewidth\": 0, \"ticks\": \"\"}, \"type\": \"mesh3d\"}], \"parcoords\": [{\"line\": {\"colorbar\": {\"outlinewidth\": 0, \"ticks\": \"\"}}, \"type\": \"parcoords\"}], \"pie\": [{\"automargin\": true, \"type\": \"pie\"}], \"scatter\": [{\"marker\": {\"colorbar\": {\"outlinewidth\": 0, \"ticks\": \"\"}}, \"type\": \"scatter\"}], \"scatter3d\": [{\"line\": {\"colorbar\": {\"outlinewidth\": 0, \"ticks\": \"\"}}, \"marker\": {\"colorbar\": {\"outlinewidth\": 0, \"ticks\": \"\"}}, \"type\": \"scatter3d\"}], \"scattercarpet\": [{\"marker\": {\"colorbar\": {\"outlinewidth\": 0, \"ticks\": \"\"}}, \"type\": \"scattercarpet\"}], \"scattergeo\": [{\"marker\": {\"colorbar\": {\"outlinewidth\": 0, \"ticks\": \"\"}}, \"type\": \"scattergeo\"}], \"scattergl\": [{\"marker\": {\"colorbar\": {\"outlinewidth\": 0, \"ticks\": \"\"}}, \"type\": \"scattergl\"}], \"scattermapbox\": [{\"marker\": {\"colorbar\": {\"outlinewidth\": 0, \"ticks\": \"\"}}, \"type\": \"scattermapbox\"}], \"scatterpolar\": [{\"marker\": {\"colorbar\": {\"outlinewidth\": 0, \"ticks\": \"\"}}, \"type\": \"scatterpolar\"}], \"scatterpolargl\": [{\"marker\": {\"colorbar\": {\"outlinewidth\": 0, \"ticks\": \"\"}}, \"type\": \"scatterpolargl\"}], \"scatterternary\": [{\"marker\": {\"colorbar\": {\"outlinewidth\": 0, \"ticks\": \"\"}}, \"type\": \"scatterternary\"}], \"surface\": [{\"colorbar\": {\"outlinewidth\": 0, \"ticks\": \"\"}, \"colorscale\": [[0.0, \"#0d0887\"], [0.1111111111111111, \"#46039f\"], [0.2222222222222222, \"#7201a8\"], [0.3333333333333333, \"#9c179e\"], [0.4444444444444444, \"#bd3786\"], [0.5555555555555556, \"#d8576b\"], [0.6666666666666666, \"#ed7953\"], [0.7777777777777778, \"#fb9f3a\"], [0.8888888888888888, \"#fdca26\"], [1.0, \"#f0f921\"]], \"type\": \"surface\"}], \"table\": [{\"cells\": {\"fill\": {\"color\": \"#EBF0F8\"}, \"line\": {\"color\": \"white\"}}, \"header\": {\"fill\": {\"color\": \"#C8D4E3\"}, \"line\": {\"color\": \"white\"}}, \"type\": \"table\"}]}, \"layout\": {\"annotationdefaults\": {\"arrowcolor\": \"#2a3f5f\", \"arrowhead\": 0, \"arrowwidth\": 1}, \"coloraxis\": {\"colorbar\": {\"outlinewidth\": 0, \"ticks\": \"\"}}, \"colorscale\": {\"diverging\": [[0, \"#8e0152\"], [0.1, \"#c51b7d\"], [0.2, \"#de77ae\"], [0.3, \"#f1b6da\"], [0.4, \"#fde0ef\"], [0.5, \"#f7f7f7\"], [0.6, \"#e6f5d0\"], [0.7, \"#b8e186\"], [0.8, \"#7fbc41\"], [0.9, \"#4d9221\"], [1, \"#276419\"]], \"sequential\": [[0.0, \"#0d0887\"], [0.1111111111111111, \"#46039f\"], [0.2222222222222222, \"#7201a8\"], [0.3333333333333333, \"#9c179e\"], [0.4444444444444444, \"#bd3786\"], [0.5555555555555556, \"#d8576b\"], [0.6666666666666666, \"#ed7953\"], [0.7777777777777778, \"#fb9f3a\"], [0.8888888888888888, \"#fdca26\"], [1.0, \"#f0f921\"]], \"sequentialminus\": [[0.0, \"#0d0887\"], [0.1111111111111111, \"#46039f\"], [0.2222222222222222, \"#7201a8\"], [0.3333333333333333, \"#9c179e\"], [0.4444444444444444, \"#bd3786\"], [0.5555555555555556, \"#d8576b\"], [0.6666666666666666, \"#ed7953\"], [0.7777777777777778, \"#fb9f3a\"], [0.8888888888888888, \"#fdca26\"], [1.0, \"#f0f921\"]]}, \"colorway\": [\"#636efa\", \"#EF553B\", \"#00cc96\", \"#ab63fa\", \"#FFA15A\", \"#19d3f3\", \"#FF6692\", \"#B6E880\", \"#FF97FF\", \"#FECB52\"], \"font\": {\"color\": \"#2a3f5f\"}, \"geo\": {\"bgcolor\": \"white\", \"lakecolor\": \"white\", \"landcolor\": \"#E5ECF6\", \"showlakes\": true, \"showland\": true, \"subunitcolor\": \"white\"}, \"hoverlabel\": {\"align\": \"left\"}, \"hovermode\": \"closest\", \"mapbox\": {\"style\": \"light\"}, \"paper_bgcolor\": \"white\", \"plot_bgcolor\": \"#E5ECF6\", \"polar\": {\"angularaxis\": {\"gridcolor\": \"white\", \"linecolor\": \"white\", \"ticks\": \"\"}, \"bgcolor\": \"#E5ECF6\", \"radialaxis\": {\"gridcolor\": \"white\", \"linecolor\": \"white\", \"ticks\": \"\"}}, \"scene\": {\"xaxis\": {\"backgroundcolor\": \"#E5ECF6\", \"gridcolor\": \"white\", \"gridwidth\": 2, \"linecolor\": \"white\", \"showbackground\": true, \"ticks\": \"\", \"zerolinecolor\": \"white\"}, \"yaxis\": {\"backgroundcolor\": \"#E5ECF6\", \"gridcolor\": \"white\", \"gridwidth\": 2, \"linecolor\": \"white\", \"showbackground\": true, \"ticks\": \"\", \"zerolinecolor\": \"white\"}, \"zaxis\": {\"backgroundcolor\": \"#E5ECF6\", \"gridcolor\": \"white\", \"gridwidth\": 2, \"linecolor\": \"white\", \"showbackground\": true, \"ticks\": \"\", \"zerolinecolor\": \"white\"}}, \"shapedefaults\": {\"line\": {\"color\": \"#2a3f5f\"}}, \"ternary\": {\"aaxis\": {\"gridcolor\": \"white\", \"linecolor\": \"white\", \"ticks\": \"\"}, \"baxis\": {\"gridcolor\": \"white\", \"linecolor\": \"white\", \"ticks\": \"\"}, \"bgcolor\": \"#E5ECF6\", \"caxis\": {\"gridcolor\": \"white\", \"linecolor\": \"white\", \"ticks\": \"\"}}, \"title\": {\"x\": 0.05}, \"xaxis\": {\"automargin\": true, \"gridcolor\": \"white\", \"linecolor\": \"white\", \"ticks\": \"\", \"title\": {\"standoff\": 15}, \"zerolinecolor\": \"white\", \"zerolinewidth\": 2}, \"yaxis\": {\"automargin\": true, \"gridcolor\": \"white\", \"linecolor\": \"white\", \"ticks\": \"\", \"title\": {\"standoff\": 15}, \"zerolinecolor\": \"white\", \"zerolinewidth\": 2}}}, \"title\": {\"font\": {\"color\": \"#4D5663\"}}, \"xaxis\": {\"gridcolor\": \"#E1E5ED\", \"showgrid\": true, \"tickfont\": {\"color\": \"#4D5663\"}, \"title\": {\"font\": {\"color\": \"#4D5663\"}, \"text\": \"\"}, \"zerolinecolor\": \"#E1E5ED\"}, \"yaxis\": {\"gridcolor\": \"#E1E5ED\", \"showgrid\": true, \"tickfont\": {\"color\": \"#4D5663\"}, \"title\": {\"font\": {\"color\": \"#4D5663\"}, \"text\": \"\"}, \"zerolinecolor\": \"#E1E5ED\"}},\n",
       "                        {\"showLink\": true, \"linkText\": \"Export to plot.ly\", \"plotlyServerURL\": \"https://plot.ly\", \"responsive\": true}\n",
       "                    ).then(function(){\n",
       "                            \n",
       "var gd = document.getElementById('7d4b561d-f943-4e4c-b165-feea78449426');\n",
       "var x = new MutationObserver(function (mutations, observer) {{\n",
       "        var display = window.getComputedStyle(gd).display;\n",
       "        if (!display || display === 'none') {{\n",
       "            console.log([gd, 'removed!']);\n",
       "            Plotly.purge(gd);\n",
       "            observer.disconnect();\n",
       "        }}\n",
       "}});\n",
       "\n",
       "// Listen for the removal of the full notebook cells\n",
       "var notebookContainer = gd.closest('#notebook-container');\n",
       "if (notebookContainer) {{\n",
       "    x.observe(notebookContainer, {childList: true});\n",
       "}}\n",
       "\n",
       "// Listen for the clearing of the current output cell\n",
       "var outputEl = gd.closest('.output');\n",
       "if (outputEl) {{\n",
       "    x.observe(outputEl, {childList: true});\n",
       "}}\n",
       "\n",
       "                        })\n",
       "                };\n",
       "                });\n",
       "            </script>\n",
       "        </div>"
      ]
     },
     "metadata": {},
     "output_type": "display_data"
    }
   ],
   "source": [
    "# by default plotly connects all the points through lines\n",
    "df.iplot(kind='scatter',x='A',y='B',mode='markers',size=15) # we specify mode as markers for visualizing points"
   ]
  },
  {
   "cell_type": "markdown",
   "metadata": {},
   "source": [
    "## Bar plot"
   ]
  },
  {
   "cell_type": "code",
   "execution_count": 27,
   "metadata": {},
   "outputs": [
    {
     "data": {
      "application/vnd.plotly.v1+json": {
       "config": {
        "linkText": "Export to plot.ly",
        "plotlyServerURL": "https://plot.ly",
        "showLink": true
       },
       "data": [
        {
         "marker": {
          "color": "rgba(255, 153, 51, 0.6)",
          "line": {
           "color": "rgba(255, 153, 51, 1.0)",
           "width": 1
          }
         },
         "name": "Values",
         "orientation": "v",
         "text": "",
         "type": "bar",
         "x": [
          "A",
          "B",
          "C"
         ],
         "y": [
          32,
          43,
          50
         ]
        }
       ],
       "layout": {
        "legend": {
         "bgcolor": "#F5F6F9",
         "font": {
          "color": "#4D5663"
         }
        },
        "paper_bgcolor": "#F5F6F9",
        "plot_bgcolor": "#F5F6F9",
        "template": {
         "data": {
          "bar": [
           {
            "error_x": {
             "color": "#2a3f5f"
            },
            "error_y": {
             "color": "#2a3f5f"
            },
            "marker": {
             "line": {
              "color": "#E5ECF6",
              "width": 0.5
             }
            },
            "type": "bar"
           }
          ],
          "barpolar": [
           {
            "marker": {
             "line": {
              "color": "#E5ECF6",
              "width": 0.5
             }
            },
            "type": "barpolar"
           }
          ],
          "carpet": [
           {
            "aaxis": {
             "endlinecolor": "#2a3f5f",
             "gridcolor": "white",
             "linecolor": "white",
             "minorgridcolor": "white",
             "startlinecolor": "#2a3f5f"
            },
            "baxis": {
             "endlinecolor": "#2a3f5f",
             "gridcolor": "white",
             "linecolor": "white",
             "minorgridcolor": "white",
             "startlinecolor": "#2a3f5f"
            },
            "type": "carpet"
           }
          ],
          "choropleth": [
           {
            "colorbar": {
             "outlinewidth": 0,
             "ticks": ""
            },
            "type": "choropleth"
           }
          ],
          "contour": [
           {
            "colorbar": {
             "outlinewidth": 0,
             "ticks": ""
            },
            "colorscale": [
             [
              0,
              "#0d0887"
             ],
             [
              0.1111111111111111,
              "#46039f"
             ],
             [
              0.2222222222222222,
              "#7201a8"
             ],
             [
              0.3333333333333333,
              "#9c179e"
             ],
             [
              0.4444444444444444,
              "#bd3786"
             ],
             [
              0.5555555555555556,
              "#d8576b"
             ],
             [
              0.6666666666666666,
              "#ed7953"
             ],
             [
              0.7777777777777778,
              "#fb9f3a"
             ],
             [
              0.8888888888888888,
              "#fdca26"
             ],
             [
              1,
              "#f0f921"
             ]
            ],
            "type": "contour"
           }
          ],
          "contourcarpet": [
           {
            "colorbar": {
             "outlinewidth": 0,
             "ticks": ""
            },
            "type": "contourcarpet"
           }
          ],
          "heatmap": [
           {
            "colorbar": {
             "outlinewidth": 0,
             "ticks": ""
            },
            "colorscale": [
             [
              0,
              "#0d0887"
             ],
             [
              0.1111111111111111,
              "#46039f"
             ],
             [
              0.2222222222222222,
              "#7201a8"
             ],
             [
              0.3333333333333333,
              "#9c179e"
             ],
             [
              0.4444444444444444,
              "#bd3786"
             ],
             [
              0.5555555555555556,
              "#d8576b"
             ],
             [
              0.6666666666666666,
              "#ed7953"
             ],
             [
              0.7777777777777778,
              "#fb9f3a"
             ],
             [
              0.8888888888888888,
              "#fdca26"
             ],
             [
              1,
              "#f0f921"
             ]
            ],
            "type": "heatmap"
           }
          ],
          "heatmapgl": [
           {
            "colorbar": {
             "outlinewidth": 0,
             "ticks": ""
            },
            "colorscale": [
             [
              0,
              "#0d0887"
             ],
             [
              0.1111111111111111,
              "#46039f"
             ],
             [
              0.2222222222222222,
              "#7201a8"
             ],
             [
              0.3333333333333333,
              "#9c179e"
             ],
             [
              0.4444444444444444,
              "#bd3786"
             ],
             [
              0.5555555555555556,
              "#d8576b"
             ],
             [
              0.6666666666666666,
              "#ed7953"
             ],
             [
              0.7777777777777778,
              "#fb9f3a"
             ],
             [
              0.8888888888888888,
              "#fdca26"
             ],
             [
              1,
              "#f0f921"
             ]
            ],
            "type": "heatmapgl"
           }
          ],
          "histogram": [
           {
            "marker": {
             "colorbar": {
              "outlinewidth": 0,
              "ticks": ""
             }
            },
            "type": "histogram"
           }
          ],
          "histogram2d": [
           {
            "colorbar": {
             "outlinewidth": 0,
             "ticks": ""
            },
            "colorscale": [
             [
              0,
              "#0d0887"
             ],
             [
              0.1111111111111111,
              "#46039f"
             ],
             [
              0.2222222222222222,
              "#7201a8"
             ],
             [
              0.3333333333333333,
              "#9c179e"
             ],
             [
              0.4444444444444444,
              "#bd3786"
             ],
             [
              0.5555555555555556,
              "#d8576b"
             ],
             [
              0.6666666666666666,
              "#ed7953"
             ],
             [
              0.7777777777777778,
              "#fb9f3a"
             ],
             [
              0.8888888888888888,
              "#fdca26"
             ],
             [
              1,
              "#f0f921"
             ]
            ],
            "type": "histogram2d"
           }
          ],
          "histogram2dcontour": [
           {
            "colorbar": {
             "outlinewidth": 0,
             "ticks": ""
            },
            "colorscale": [
             [
              0,
              "#0d0887"
             ],
             [
              0.1111111111111111,
              "#46039f"
             ],
             [
              0.2222222222222222,
              "#7201a8"
             ],
             [
              0.3333333333333333,
              "#9c179e"
             ],
             [
              0.4444444444444444,
              "#bd3786"
             ],
             [
              0.5555555555555556,
              "#d8576b"
             ],
             [
              0.6666666666666666,
              "#ed7953"
             ],
             [
              0.7777777777777778,
              "#fb9f3a"
             ],
             [
              0.8888888888888888,
              "#fdca26"
             ],
             [
              1,
              "#f0f921"
             ]
            ],
            "type": "histogram2dcontour"
           }
          ],
          "mesh3d": [
           {
            "colorbar": {
             "outlinewidth": 0,
             "ticks": ""
            },
            "type": "mesh3d"
           }
          ],
          "parcoords": [
           {
            "line": {
             "colorbar": {
              "outlinewidth": 0,
              "ticks": ""
             }
            },
            "type": "parcoords"
           }
          ],
          "pie": [
           {
            "automargin": true,
            "type": "pie"
           }
          ],
          "scatter": [
           {
            "marker": {
             "colorbar": {
              "outlinewidth": 0,
              "ticks": ""
             }
            },
            "type": "scatter"
           }
          ],
          "scatter3d": [
           {
            "line": {
             "colorbar": {
              "outlinewidth": 0,
              "ticks": ""
             }
            },
            "marker": {
             "colorbar": {
              "outlinewidth": 0,
              "ticks": ""
             }
            },
            "type": "scatter3d"
           }
          ],
          "scattercarpet": [
           {
            "marker": {
             "colorbar": {
              "outlinewidth": 0,
              "ticks": ""
             }
            },
            "type": "scattercarpet"
           }
          ],
          "scattergeo": [
           {
            "marker": {
             "colorbar": {
              "outlinewidth": 0,
              "ticks": ""
             }
            },
            "type": "scattergeo"
           }
          ],
          "scattergl": [
           {
            "marker": {
             "colorbar": {
              "outlinewidth": 0,
              "ticks": ""
             }
            },
            "type": "scattergl"
           }
          ],
          "scattermapbox": [
           {
            "marker": {
             "colorbar": {
              "outlinewidth": 0,
              "ticks": ""
             }
            },
            "type": "scattermapbox"
           }
          ],
          "scatterpolar": [
           {
            "marker": {
             "colorbar": {
              "outlinewidth": 0,
              "ticks": ""
             }
            },
            "type": "scatterpolar"
           }
          ],
          "scatterpolargl": [
           {
            "marker": {
             "colorbar": {
              "outlinewidth": 0,
              "ticks": ""
             }
            },
            "type": "scatterpolargl"
           }
          ],
          "scatterternary": [
           {
            "marker": {
             "colorbar": {
              "outlinewidth": 0,
              "ticks": ""
             }
            },
            "type": "scatterternary"
           }
          ],
          "surface": [
           {
            "colorbar": {
             "outlinewidth": 0,
             "ticks": ""
            },
            "colorscale": [
             [
              0,
              "#0d0887"
             ],
             [
              0.1111111111111111,
              "#46039f"
             ],
             [
              0.2222222222222222,
              "#7201a8"
             ],
             [
              0.3333333333333333,
              "#9c179e"
             ],
             [
              0.4444444444444444,
              "#bd3786"
             ],
             [
              0.5555555555555556,
              "#d8576b"
             ],
             [
              0.6666666666666666,
              "#ed7953"
             ],
             [
              0.7777777777777778,
              "#fb9f3a"
             ],
             [
              0.8888888888888888,
              "#fdca26"
             ],
             [
              1,
              "#f0f921"
             ]
            ],
            "type": "surface"
           }
          ],
          "table": [
           {
            "cells": {
             "fill": {
              "color": "#EBF0F8"
             },
             "line": {
              "color": "white"
             }
            },
            "header": {
             "fill": {
              "color": "#C8D4E3"
             },
             "line": {
              "color": "white"
             }
            },
            "type": "table"
           }
          ]
         },
         "layout": {
          "annotationdefaults": {
           "arrowcolor": "#2a3f5f",
           "arrowhead": 0,
           "arrowwidth": 1
          },
          "coloraxis": {
           "colorbar": {
            "outlinewidth": 0,
            "ticks": ""
           }
          },
          "colorscale": {
           "diverging": [
            [
             0,
             "#8e0152"
            ],
            [
             0.1,
             "#c51b7d"
            ],
            [
             0.2,
             "#de77ae"
            ],
            [
             0.3,
             "#f1b6da"
            ],
            [
             0.4,
             "#fde0ef"
            ],
            [
             0.5,
             "#f7f7f7"
            ],
            [
             0.6,
             "#e6f5d0"
            ],
            [
             0.7,
             "#b8e186"
            ],
            [
             0.8,
             "#7fbc41"
            ],
            [
             0.9,
             "#4d9221"
            ],
            [
             1,
             "#276419"
            ]
           ],
           "sequential": [
            [
             0,
             "#0d0887"
            ],
            [
             0.1111111111111111,
             "#46039f"
            ],
            [
             0.2222222222222222,
             "#7201a8"
            ],
            [
             0.3333333333333333,
             "#9c179e"
            ],
            [
             0.4444444444444444,
             "#bd3786"
            ],
            [
             0.5555555555555556,
             "#d8576b"
            ],
            [
             0.6666666666666666,
             "#ed7953"
            ],
            [
             0.7777777777777778,
             "#fb9f3a"
            ],
            [
             0.8888888888888888,
             "#fdca26"
            ],
            [
             1,
             "#f0f921"
            ]
           ],
           "sequentialminus": [
            [
             0,
             "#0d0887"
            ],
            [
             0.1111111111111111,
             "#46039f"
            ],
            [
             0.2222222222222222,
             "#7201a8"
            ],
            [
             0.3333333333333333,
             "#9c179e"
            ],
            [
             0.4444444444444444,
             "#bd3786"
            ],
            [
             0.5555555555555556,
             "#d8576b"
            ],
            [
             0.6666666666666666,
             "#ed7953"
            ],
            [
             0.7777777777777778,
             "#fb9f3a"
            ],
            [
             0.8888888888888888,
             "#fdca26"
            ],
            [
             1,
             "#f0f921"
            ]
           ]
          },
          "colorway": [
           "#636efa",
           "#EF553B",
           "#00cc96",
           "#ab63fa",
           "#FFA15A",
           "#19d3f3",
           "#FF6692",
           "#B6E880",
           "#FF97FF",
           "#FECB52"
          ],
          "font": {
           "color": "#2a3f5f"
          },
          "geo": {
           "bgcolor": "white",
           "lakecolor": "white",
           "landcolor": "#E5ECF6",
           "showlakes": true,
           "showland": true,
           "subunitcolor": "white"
          },
          "hoverlabel": {
           "align": "left"
          },
          "hovermode": "closest",
          "mapbox": {
           "style": "light"
          },
          "paper_bgcolor": "white",
          "plot_bgcolor": "#E5ECF6",
          "polar": {
           "angularaxis": {
            "gridcolor": "white",
            "linecolor": "white",
            "ticks": ""
           },
           "bgcolor": "#E5ECF6",
           "radialaxis": {
            "gridcolor": "white",
            "linecolor": "white",
            "ticks": ""
           }
          },
          "scene": {
           "xaxis": {
            "backgroundcolor": "#E5ECF6",
            "gridcolor": "white",
            "gridwidth": 2,
            "linecolor": "white",
            "showbackground": true,
            "ticks": "",
            "zerolinecolor": "white"
           },
           "yaxis": {
            "backgroundcolor": "#E5ECF6",
            "gridcolor": "white",
            "gridwidth": 2,
            "linecolor": "white",
            "showbackground": true,
            "ticks": "",
            "zerolinecolor": "white"
           },
           "zaxis": {
            "backgroundcolor": "#E5ECF6",
            "gridcolor": "white",
            "gridwidth": 2,
            "linecolor": "white",
            "showbackground": true,
            "ticks": "",
            "zerolinecolor": "white"
           }
          },
          "shapedefaults": {
           "line": {
            "color": "#2a3f5f"
           }
          },
          "ternary": {
           "aaxis": {
            "gridcolor": "white",
            "linecolor": "white",
            "ticks": ""
           },
           "baxis": {
            "gridcolor": "white",
            "linecolor": "white",
            "ticks": ""
           },
           "bgcolor": "#E5ECF6",
           "caxis": {
            "gridcolor": "white",
            "linecolor": "white",
            "ticks": ""
           }
          },
          "title": {
           "x": 0.05
          },
          "xaxis": {
           "automargin": true,
           "gridcolor": "white",
           "linecolor": "white",
           "ticks": "",
           "title": {
            "standoff": 15
           },
           "zerolinecolor": "white",
           "zerolinewidth": 2
          },
          "yaxis": {
           "automargin": true,
           "gridcolor": "white",
           "linecolor": "white",
           "ticks": "",
           "title": {
            "standoff": 15
           },
           "zerolinecolor": "white",
           "zerolinewidth": 2
          }
         }
        },
        "title": {
         "font": {
          "color": "#4D5663"
         }
        },
        "xaxis": {
         "gridcolor": "#E1E5ED",
         "showgrid": true,
         "tickfont": {
          "color": "#4D5663"
         },
         "title": {
          "font": {
           "color": "#4D5663"
          },
          "text": ""
         },
         "zerolinecolor": "#E1E5ED"
        },
        "yaxis": {
         "gridcolor": "#E1E5ED",
         "showgrid": true,
         "tickfont": {
          "color": "#4D5663"
         },
         "title": {
          "font": {
           "color": "#4D5663"
          },
          "text": ""
         },
         "zerolinecolor": "#E1E5ED"
        }
       }
      },
      "text/html": [
       "<div>\n",
       "        \n",
       "        \n",
       "            <div id=\"c550e1ac-edc7-4fc8-b282-4402698e3166\" class=\"plotly-graph-div\" style=\"height:525px; width:100%;\"></div>\n",
       "            <script type=\"text/javascript\">\n",
       "                require([\"plotly\"], function(Plotly) {\n",
       "                    window.PLOTLYENV=window.PLOTLYENV || {};\n",
       "                    window.PLOTLYENV.BASE_URL='https://plot.ly';\n",
       "                    \n",
       "                if (document.getElementById(\"c550e1ac-edc7-4fc8-b282-4402698e3166\")) {\n",
       "                    Plotly.newPlot(\n",
       "                        'c550e1ac-edc7-4fc8-b282-4402698e3166',\n",
       "                        [{\"marker\": {\"color\": \"rgba(255, 153, 51, 0.6)\", \"line\": {\"color\": \"rgba(255, 153, 51, 1.0)\", \"width\": 1}}, \"name\": \"Values\", \"orientation\": \"v\", \"text\": \"\", \"type\": \"bar\", \"x\": [\"A\", \"B\", \"C\"], \"y\": [32, 43, 50]}],\n",
       "                        {\"legend\": {\"bgcolor\": \"#F5F6F9\", \"font\": {\"color\": \"#4D5663\"}}, \"paper_bgcolor\": \"#F5F6F9\", \"plot_bgcolor\": \"#F5F6F9\", \"template\": {\"data\": {\"bar\": [{\"error_x\": {\"color\": \"#2a3f5f\"}, \"error_y\": {\"color\": \"#2a3f5f\"}, \"marker\": {\"line\": {\"color\": \"#E5ECF6\", \"width\": 0.5}}, \"type\": \"bar\"}], \"barpolar\": [{\"marker\": {\"line\": {\"color\": \"#E5ECF6\", \"width\": 0.5}}, \"type\": \"barpolar\"}], \"carpet\": [{\"aaxis\": {\"endlinecolor\": \"#2a3f5f\", \"gridcolor\": \"white\", \"linecolor\": \"white\", \"minorgridcolor\": \"white\", \"startlinecolor\": \"#2a3f5f\"}, \"baxis\": {\"endlinecolor\": \"#2a3f5f\", \"gridcolor\": \"white\", \"linecolor\": \"white\", \"minorgridcolor\": \"white\", \"startlinecolor\": \"#2a3f5f\"}, \"type\": \"carpet\"}], \"choropleth\": [{\"colorbar\": {\"outlinewidth\": 0, \"ticks\": \"\"}, \"type\": \"choropleth\"}], \"contour\": [{\"colorbar\": {\"outlinewidth\": 0, \"ticks\": \"\"}, \"colorscale\": [[0.0, \"#0d0887\"], [0.1111111111111111, \"#46039f\"], [0.2222222222222222, \"#7201a8\"], [0.3333333333333333, \"#9c179e\"], [0.4444444444444444, \"#bd3786\"], [0.5555555555555556, \"#d8576b\"], [0.6666666666666666, \"#ed7953\"], [0.7777777777777778, \"#fb9f3a\"], [0.8888888888888888, \"#fdca26\"], [1.0, \"#f0f921\"]], \"type\": \"contour\"}], \"contourcarpet\": [{\"colorbar\": {\"outlinewidth\": 0, \"ticks\": \"\"}, \"type\": \"contourcarpet\"}], \"heatmap\": [{\"colorbar\": {\"outlinewidth\": 0, \"ticks\": \"\"}, \"colorscale\": [[0.0, \"#0d0887\"], [0.1111111111111111, \"#46039f\"], [0.2222222222222222, \"#7201a8\"], [0.3333333333333333, \"#9c179e\"], [0.4444444444444444, \"#bd3786\"], [0.5555555555555556, \"#d8576b\"], [0.6666666666666666, \"#ed7953\"], [0.7777777777777778, \"#fb9f3a\"], [0.8888888888888888, \"#fdca26\"], [1.0, \"#f0f921\"]], \"type\": \"heatmap\"}], \"heatmapgl\": [{\"colorbar\": {\"outlinewidth\": 0, \"ticks\": \"\"}, \"colorscale\": [[0.0, \"#0d0887\"], [0.1111111111111111, \"#46039f\"], [0.2222222222222222, \"#7201a8\"], [0.3333333333333333, \"#9c179e\"], [0.4444444444444444, \"#bd3786\"], [0.5555555555555556, \"#d8576b\"], [0.6666666666666666, \"#ed7953\"], [0.7777777777777778, \"#fb9f3a\"], [0.8888888888888888, \"#fdca26\"], [1.0, \"#f0f921\"]], \"type\": \"heatmapgl\"}], \"histogram\": [{\"marker\": {\"colorbar\": {\"outlinewidth\": 0, \"ticks\": \"\"}}, \"type\": \"histogram\"}], \"histogram2d\": [{\"colorbar\": {\"outlinewidth\": 0, \"ticks\": \"\"}, \"colorscale\": [[0.0, \"#0d0887\"], [0.1111111111111111, \"#46039f\"], [0.2222222222222222, \"#7201a8\"], [0.3333333333333333, \"#9c179e\"], [0.4444444444444444, \"#bd3786\"], [0.5555555555555556, \"#d8576b\"], [0.6666666666666666, \"#ed7953\"], [0.7777777777777778, \"#fb9f3a\"], [0.8888888888888888, \"#fdca26\"], [1.0, \"#f0f921\"]], \"type\": \"histogram2d\"}], \"histogram2dcontour\": [{\"colorbar\": {\"outlinewidth\": 0, \"ticks\": \"\"}, \"colorscale\": [[0.0, \"#0d0887\"], [0.1111111111111111, \"#46039f\"], [0.2222222222222222, \"#7201a8\"], [0.3333333333333333, \"#9c179e\"], [0.4444444444444444, \"#bd3786\"], [0.5555555555555556, \"#d8576b\"], [0.6666666666666666, \"#ed7953\"], [0.7777777777777778, \"#fb9f3a\"], [0.8888888888888888, \"#fdca26\"], [1.0, \"#f0f921\"]], \"type\": \"histogram2dcontour\"}], \"mesh3d\": [{\"colorbar\": {\"outlinewidth\": 0, \"ticks\": \"\"}, \"type\": \"mesh3d\"}], \"parcoords\": [{\"line\": {\"colorbar\": {\"outlinewidth\": 0, \"ticks\": \"\"}}, \"type\": \"parcoords\"}], \"pie\": [{\"automargin\": true, \"type\": \"pie\"}], \"scatter\": [{\"marker\": {\"colorbar\": {\"outlinewidth\": 0, \"ticks\": \"\"}}, \"type\": \"scatter\"}], \"scatter3d\": [{\"line\": {\"colorbar\": {\"outlinewidth\": 0, \"ticks\": \"\"}}, \"marker\": {\"colorbar\": {\"outlinewidth\": 0, \"ticks\": \"\"}}, \"type\": \"scatter3d\"}], \"scattercarpet\": [{\"marker\": {\"colorbar\": {\"outlinewidth\": 0, \"ticks\": \"\"}}, \"type\": \"scattercarpet\"}], \"scattergeo\": [{\"marker\": {\"colorbar\": {\"outlinewidth\": 0, \"ticks\": \"\"}}, \"type\": \"scattergeo\"}], \"scattergl\": [{\"marker\": {\"colorbar\": {\"outlinewidth\": 0, \"ticks\": \"\"}}, \"type\": \"scattergl\"}], \"scattermapbox\": [{\"marker\": {\"colorbar\": {\"outlinewidth\": 0, \"ticks\": \"\"}}, \"type\": \"scattermapbox\"}], \"scatterpolar\": [{\"marker\": {\"colorbar\": {\"outlinewidth\": 0, \"ticks\": \"\"}}, \"type\": \"scatterpolar\"}], \"scatterpolargl\": [{\"marker\": {\"colorbar\": {\"outlinewidth\": 0, \"ticks\": \"\"}}, \"type\": \"scatterpolargl\"}], \"scatterternary\": [{\"marker\": {\"colorbar\": {\"outlinewidth\": 0, \"ticks\": \"\"}}, \"type\": \"scatterternary\"}], \"surface\": [{\"colorbar\": {\"outlinewidth\": 0, \"ticks\": \"\"}, \"colorscale\": [[0.0, \"#0d0887\"], [0.1111111111111111, \"#46039f\"], [0.2222222222222222, \"#7201a8\"], [0.3333333333333333, \"#9c179e\"], [0.4444444444444444, \"#bd3786\"], [0.5555555555555556, \"#d8576b\"], [0.6666666666666666, \"#ed7953\"], [0.7777777777777778, \"#fb9f3a\"], [0.8888888888888888, \"#fdca26\"], [1.0, \"#f0f921\"]], \"type\": \"surface\"}], \"table\": [{\"cells\": {\"fill\": {\"color\": \"#EBF0F8\"}, \"line\": {\"color\": \"white\"}}, \"header\": {\"fill\": {\"color\": \"#C8D4E3\"}, \"line\": {\"color\": \"white\"}}, \"type\": \"table\"}]}, \"layout\": {\"annotationdefaults\": {\"arrowcolor\": \"#2a3f5f\", \"arrowhead\": 0, \"arrowwidth\": 1}, \"coloraxis\": {\"colorbar\": {\"outlinewidth\": 0, \"ticks\": \"\"}}, \"colorscale\": {\"diverging\": [[0, \"#8e0152\"], [0.1, \"#c51b7d\"], [0.2, \"#de77ae\"], [0.3, \"#f1b6da\"], [0.4, \"#fde0ef\"], [0.5, \"#f7f7f7\"], [0.6, \"#e6f5d0\"], [0.7, \"#b8e186\"], [0.8, \"#7fbc41\"], [0.9, \"#4d9221\"], [1, \"#276419\"]], \"sequential\": [[0.0, \"#0d0887\"], [0.1111111111111111, \"#46039f\"], [0.2222222222222222, \"#7201a8\"], [0.3333333333333333, \"#9c179e\"], [0.4444444444444444, \"#bd3786\"], [0.5555555555555556, \"#d8576b\"], [0.6666666666666666, \"#ed7953\"], [0.7777777777777778, \"#fb9f3a\"], [0.8888888888888888, \"#fdca26\"], [1.0, \"#f0f921\"]], \"sequentialminus\": [[0.0, \"#0d0887\"], [0.1111111111111111, \"#46039f\"], [0.2222222222222222, \"#7201a8\"], [0.3333333333333333, \"#9c179e\"], [0.4444444444444444, \"#bd3786\"], [0.5555555555555556, \"#d8576b\"], [0.6666666666666666, \"#ed7953\"], [0.7777777777777778, \"#fb9f3a\"], [0.8888888888888888, \"#fdca26\"], [1.0, \"#f0f921\"]]}, \"colorway\": [\"#636efa\", \"#EF553B\", \"#00cc96\", \"#ab63fa\", \"#FFA15A\", \"#19d3f3\", \"#FF6692\", \"#B6E880\", \"#FF97FF\", \"#FECB52\"], \"font\": {\"color\": \"#2a3f5f\"}, \"geo\": {\"bgcolor\": \"white\", \"lakecolor\": \"white\", \"landcolor\": \"#E5ECF6\", \"showlakes\": true, \"showland\": true, \"subunitcolor\": \"white\"}, \"hoverlabel\": {\"align\": \"left\"}, \"hovermode\": \"closest\", \"mapbox\": {\"style\": \"light\"}, \"paper_bgcolor\": \"white\", \"plot_bgcolor\": \"#E5ECF6\", \"polar\": {\"angularaxis\": {\"gridcolor\": \"white\", \"linecolor\": \"white\", \"ticks\": \"\"}, \"bgcolor\": \"#E5ECF6\", \"radialaxis\": {\"gridcolor\": \"white\", \"linecolor\": \"white\", \"ticks\": \"\"}}, \"scene\": {\"xaxis\": {\"backgroundcolor\": \"#E5ECF6\", \"gridcolor\": \"white\", \"gridwidth\": 2, \"linecolor\": \"white\", \"showbackground\": true, \"ticks\": \"\", \"zerolinecolor\": \"white\"}, \"yaxis\": {\"backgroundcolor\": \"#E5ECF6\", \"gridcolor\": \"white\", \"gridwidth\": 2, \"linecolor\": \"white\", \"showbackground\": true, \"ticks\": \"\", \"zerolinecolor\": \"white\"}, \"zaxis\": {\"backgroundcolor\": \"#E5ECF6\", \"gridcolor\": \"white\", \"gridwidth\": 2, \"linecolor\": \"white\", \"showbackground\": true, \"ticks\": \"\", \"zerolinecolor\": \"white\"}}, \"shapedefaults\": {\"line\": {\"color\": \"#2a3f5f\"}}, \"ternary\": {\"aaxis\": {\"gridcolor\": \"white\", \"linecolor\": \"white\", \"ticks\": \"\"}, \"baxis\": {\"gridcolor\": \"white\", \"linecolor\": \"white\", \"ticks\": \"\"}, \"bgcolor\": \"#E5ECF6\", \"caxis\": {\"gridcolor\": \"white\", \"linecolor\": \"white\", \"ticks\": \"\"}}, \"title\": {\"x\": 0.05}, \"xaxis\": {\"automargin\": true, \"gridcolor\": \"white\", \"linecolor\": \"white\", \"ticks\": \"\", \"title\": {\"standoff\": 15}, \"zerolinecolor\": \"white\", \"zerolinewidth\": 2}, \"yaxis\": {\"automargin\": true, \"gridcolor\": \"white\", \"linecolor\": \"white\", \"ticks\": \"\", \"title\": {\"standoff\": 15}, \"zerolinecolor\": \"white\", \"zerolinewidth\": 2}}}, \"title\": {\"font\": {\"color\": \"#4D5663\"}}, \"xaxis\": {\"gridcolor\": \"#E1E5ED\", \"showgrid\": true, \"tickfont\": {\"color\": \"#4D5663\"}, \"title\": {\"font\": {\"color\": \"#4D5663\"}, \"text\": \"\"}, \"zerolinecolor\": \"#E1E5ED\"}, \"yaxis\": {\"gridcolor\": \"#E1E5ED\", \"showgrid\": true, \"tickfont\": {\"color\": \"#4D5663\"}, \"title\": {\"font\": {\"color\": \"#4D5663\"}, \"text\": \"\"}, \"zerolinecolor\": \"#E1E5ED\"}},\n",
       "                        {\"showLink\": true, \"linkText\": \"Export to plot.ly\", \"plotlyServerURL\": \"https://plot.ly\", \"responsive\": true}\n",
       "                    ).then(function(){\n",
       "                            \n",
       "var gd = document.getElementById('c550e1ac-edc7-4fc8-b282-4402698e3166');\n",
       "var x = new MutationObserver(function (mutations, observer) {{\n",
       "        var display = window.getComputedStyle(gd).display;\n",
       "        if (!display || display === 'none') {{\n",
       "            console.log([gd, 'removed!']);\n",
       "            Plotly.purge(gd);\n",
       "            observer.disconnect();\n",
       "        }}\n",
       "}});\n",
       "\n",
       "// Listen for the removal of the full notebook cells\n",
       "var notebookContainer = gd.closest('#notebook-container');\n",
       "if (notebookContainer) {{\n",
       "    x.observe(notebookContainer, {childList: true});\n",
       "}}\n",
       "\n",
       "// Listen for the clearing of the current output cell\n",
       "var outputEl = gd.closest('.output');\n",
       "if (outputEl) {{\n",
       "    x.observe(outputEl, {childList: true});\n",
       "}}\n",
       "\n",
       "                        })\n",
       "                };\n",
       "                });\n",
       "            </script>\n",
       "        </div>"
      ]
     },
     "metadata": {},
     "output_type": "display_data"
    }
   ],
   "source": [
    "df2.iplot(kind='bar',x='Category',y='Values')"
   ]
  },
  {
   "cell_type": "code",
   "execution_count": 31,
   "metadata": {},
   "outputs": [
    {
     "data": {
      "application/vnd.plotly.v1+json": {
       "config": {
        "linkText": "Export to plot.ly",
        "plotlyServerURL": "https://plot.ly",
        "showLink": true
       },
       "data": [
        {
         "marker": {
          "color": "rgba(255, 153, 51, 0.6)",
          "line": {
           "color": "rgba(255, 153, 51, 1.0)",
           "width": 1
          }
         },
         "name": "None",
         "orientation": "v",
         "text": "",
         "type": "bar",
         "x": [
          "A",
          "B",
          "C",
          "D"
         ],
         "y": [
          23.75948031229921,
          -14.882014098300075,
          -8.473841617983348,
          3.9049120833301396
         ]
        }
       ],
       "layout": {
        "legend": {
         "bgcolor": "#F5F6F9",
         "font": {
          "color": "#4D5663"
         }
        },
        "paper_bgcolor": "#F5F6F9",
        "plot_bgcolor": "#F5F6F9",
        "template": {
         "data": {
          "bar": [
           {
            "error_x": {
             "color": "#2a3f5f"
            },
            "error_y": {
             "color": "#2a3f5f"
            },
            "marker": {
             "line": {
              "color": "#E5ECF6",
              "width": 0.5
             }
            },
            "type": "bar"
           }
          ],
          "barpolar": [
           {
            "marker": {
             "line": {
              "color": "#E5ECF6",
              "width": 0.5
             }
            },
            "type": "barpolar"
           }
          ],
          "carpet": [
           {
            "aaxis": {
             "endlinecolor": "#2a3f5f",
             "gridcolor": "white",
             "linecolor": "white",
             "minorgridcolor": "white",
             "startlinecolor": "#2a3f5f"
            },
            "baxis": {
             "endlinecolor": "#2a3f5f",
             "gridcolor": "white",
             "linecolor": "white",
             "minorgridcolor": "white",
             "startlinecolor": "#2a3f5f"
            },
            "type": "carpet"
           }
          ],
          "choropleth": [
           {
            "colorbar": {
             "outlinewidth": 0,
             "ticks": ""
            },
            "type": "choropleth"
           }
          ],
          "contour": [
           {
            "colorbar": {
             "outlinewidth": 0,
             "ticks": ""
            },
            "colorscale": [
             [
              0,
              "#0d0887"
             ],
             [
              0.1111111111111111,
              "#46039f"
             ],
             [
              0.2222222222222222,
              "#7201a8"
             ],
             [
              0.3333333333333333,
              "#9c179e"
             ],
             [
              0.4444444444444444,
              "#bd3786"
             ],
             [
              0.5555555555555556,
              "#d8576b"
             ],
             [
              0.6666666666666666,
              "#ed7953"
             ],
             [
              0.7777777777777778,
              "#fb9f3a"
             ],
             [
              0.8888888888888888,
              "#fdca26"
             ],
             [
              1,
              "#f0f921"
             ]
            ],
            "type": "contour"
           }
          ],
          "contourcarpet": [
           {
            "colorbar": {
             "outlinewidth": 0,
             "ticks": ""
            },
            "type": "contourcarpet"
           }
          ],
          "heatmap": [
           {
            "colorbar": {
             "outlinewidth": 0,
             "ticks": ""
            },
            "colorscale": [
             [
              0,
              "#0d0887"
             ],
             [
              0.1111111111111111,
              "#46039f"
             ],
             [
              0.2222222222222222,
              "#7201a8"
             ],
             [
              0.3333333333333333,
              "#9c179e"
             ],
             [
              0.4444444444444444,
              "#bd3786"
             ],
             [
              0.5555555555555556,
              "#d8576b"
             ],
             [
              0.6666666666666666,
              "#ed7953"
             ],
             [
              0.7777777777777778,
              "#fb9f3a"
             ],
             [
              0.8888888888888888,
              "#fdca26"
             ],
             [
              1,
              "#f0f921"
             ]
            ],
            "type": "heatmap"
           }
          ],
          "heatmapgl": [
           {
            "colorbar": {
             "outlinewidth": 0,
             "ticks": ""
            },
            "colorscale": [
             [
              0,
              "#0d0887"
             ],
             [
              0.1111111111111111,
              "#46039f"
             ],
             [
              0.2222222222222222,
              "#7201a8"
             ],
             [
              0.3333333333333333,
              "#9c179e"
             ],
             [
              0.4444444444444444,
              "#bd3786"
             ],
             [
              0.5555555555555556,
              "#d8576b"
             ],
             [
              0.6666666666666666,
              "#ed7953"
             ],
             [
              0.7777777777777778,
              "#fb9f3a"
             ],
             [
              0.8888888888888888,
              "#fdca26"
             ],
             [
              1,
              "#f0f921"
             ]
            ],
            "type": "heatmapgl"
           }
          ],
          "histogram": [
           {
            "marker": {
             "colorbar": {
              "outlinewidth": 0,
              "ticks": ""
             }
            },
            "type": "histogram"
           }
          ],
          "histogram2d": [
           {
            "colorbar": {
             "outlinewidth": 0,
             "ticks": ""
            },
            "colorscale": [
             [
              0,
              "#0d0887"
             ],
             [
              0.1111111111111111,
              "#46039f"
             ],
             [
              0.2222222222222222,
              "#7201a8"
             ],
             [
              0.3333333333333333,
              "#9c179e"
             ],
             [
              0.4444444444444444,
              "#bd3786"
             ],
             [
              0.5555555555555556,
              "#d8576b"
             ],
             [
              0.6666666666666666,
              "#ed7953"
             ],
             [
              0.7777777777777778,
              "#fb9f3a"
             ],
             [
              0.8888888888888888,
              "#fdca26"
             ],
             [
              1,
              "#f0f921"
             ]
            ],
            "type": "histogram2d"
           }
          ],
          "histogram2dcontour": [
           {
            "colorbar": {
             "outlinewidth": 0,
             "ticks": ""
            },
            "colorscale": [
             [
              0,
              "#0d0887"
             ],
             [
              0.1111111111111111,
              "#46039f"
             ],
             [
              0.2222222222222222,
              "#7201a8"
             ],
             [
              0.3333333333333333,
              "#9c179e"
             ],
             [
              0.4444444444444444,
              "#bd3786"
             ],
             [
              0.5555555555555556,
              "#d8576b"
             ],
             [
              0.6666666666666666,
              "#ed7953"
             ],
             [
              0.7777777777777778,
              "#fb9f3a"
             ],
             [
              0.8888888888888888,
              "#fdca26"
             ],
             [
              1,
              "#f0f921"
             ]
            ],
            "type": "histogram2dcontour"
           }
          ],
          "mesh3d": [
           {
            "colorbar": {
             "outlinewidth": 0,
             "ticks": ""
            },
            "type": "mesh3d"
           }
          ],
          "parcoords": [
           {
            "line": {
             "colorbar": {
              "outlinewidth": 0,
              "ticks": ""
             }
            },
            "type": "parcoords"
           }
          ],
          "pie": [
           {
            "automargin": true,
            "type": "pie"
           }
          ],
          "scatter": [
           {
            "marker": {
             "colorbar": {
              "outlinewidth": 0,
              "ticks": ""
             }
            },
            "type": "scatter"
           }
          ],
          "scatter3d": [
           {
            "line": {
             "colorbar": {
              "outlinewidth": 0,
              "ticks": ""
             }
            },
            "marker": {
             "colorbar": {
              "outlinewidth": 0,
              "ticks": ""
             }
            },
            "type": "scatter3d"
           }
          ],
          "scattercarpet": [
           {
            "marker": {
             "colorbar": {
              "outlinewidth": 0,
              "ticks": ""
             }
            },
            "type": "scattercarpet"
           }
          ],
          "scattergeo": [
           {
            "marker": {
             "colorbar": {
              "outlinewidth": 0,
              "ticks": ""
             }
            },
            "type": "scattergeo"
           }
          ],
          "scattergl": [
           {
            "marker": {
             "colorbar": {
              "outlinewidth": 0,
              "ticks": ""
             }
            },
            "type": "scattergl"
           }
          ],
          "scattermapbox": [
           {
            "marker": {
             "colorbar": {
              "outlinewidth": 0,
              "ticks": ""
             }
            },
            "type": "scattermapbox"
           }
          ],
          "scatterpolar": [
           {
            "marker": {
             "colorbar": {
              "outlinewidth": 0,
              "ticks": ""
             }
            },
            "type": "scatterpolar"
           }
          ],
          "scatterpolargl": [
           {
            "marker": {
             "colorbar": {
              "outlinewidth": 0,
              "ticks": ""
             }
            },
            "type": "scatterpolargl"
           }
          ],
          "scatterternary": [
           {
            "marker": {
             "colorbar": {
              "outlinewidth": 0,
              "ticks": ""
             }
            },
            "type": "scatterternary"
           }
          ],
          "surface": [
           {
            "colorbar": {
             "outlinewidth": 0,
             "ticks": ""
            },
            "colorscale": [
             [
              0,
              "#0d0887"
             ],
             [
              0.1111111111111111,
              "#46039f"
             ],
             [
              0.2222222222222222,
              "#7201a8"
             ],
             [
              0.3333333333333333,
              "#9c179e"
             ],
             [
              0.4444444444444444,
              "#bd3786"
             ],
             [
              0.5555555555555556,
              "#d8576b"
             ],
             [
              0.6666666666666666,
              "#ed7953"
             ],
             [
              0.7777777777777778,
              "#fb9f3a"
             ],
             [
              0.8888888888888888,
              "#fdca26"
             ],
             [
              1,
              "#f0f921"
             ]
            ],
            "type": "surface"
           }
          ],
          "table": [
           {
            "cells": {
             "fill": {
              "color": "#EBF0F8"
             },
             "line": {
              "color": "white"
             }
            },
            "header": {
             "fill": {
              "color": "#C8D4E3"
             },
             "line": {
              "color": "white"
             }
            },
            "type": "table"
           }
          ]
         },
         "layout": {
          "annotationdefaults": {
           "arrowcolor": "#2a3f5f",
           "arrowhead": 0,
           "arrowwidth": 1
          },
          "coloraxis": {
           "colorbar": {
            "outlinewidth": 0,
            "ticks": ""
           }
          },
          "colorscale": {
           "diverging": [
            [
             0,
             "#8e0152"
            ],
            [
             0.1,
             "#c51b7d"
            ],
            [
             0.2,
             "#de77ae"
            ],
            [
             0.3,
             "#f1b6da"
            ],
            [
             0.4,
             "#fde0ef"
            ],
            [
             0.5,
             "#f7f7f7"
            ],
            [
             0.6,
             "#e6f5d0"
            ],
            [
             0.7,
             "#b8e186"
            ],
            [
             0.8,
             "#7fbc41"
            ],
            [
             0.9,
             "#4d9221"
            ],
            [
             1,
             "#276419"
            ]
           ],
           "sequential": [
            [
             0,
             "#0d0887"
            ],
            [
             0.1111111111111111,
             "#46039f"
            ],
            [
             0.2222222222222222,
             "#7201a8"
            ],
            [
             0.3333333333333333,
             "#9c179e"
            ],
            [
             0.4444444444444444,
             "#bd3786"
            ],
            [
             0.5555555555555556,
             "#d8576b"
            ],
            [
             0.6666666666666666,
             "#ed7953"
            ],
            [
             0.7777777777777778,
             "#fb9f3a"
            ],
            [
             0.8888888888888888,
             "#fdca26"
            ],
            [
             1,
             "#f0f921"
            ]
           ],
           "sequentialminus": [
            [
             0,
             "#0d0887"
            ],
            [
             0.1111111111111111,
             "#46039f"
            ],
            [
             0.2222222222222222,
             "#7201a8"
            ],
            [
             0.3333333333333333,
             "#9c179e"
            ],
            [
             0.4444444444444444,
             "#bd3786"
            ],
            [
             0.5555555555555556,
             "#d8576b"
            ],
            [
             0.6666666666666666,
             "#ed7953"
            ],
            [
             0.7777777777777778,
             "#fb9f3a"
            ],
            [
             0.8888888888888888,
             "#fdca26"
            ],
            [
             1,
             "#f0f921"
            ]
           ]
          },
          "colorway": [
           "#636efa",
           "#EF553B",
           "#00cc96",
           "#ab63fa",
           "#FFA15A",
           "#19d3f3",
           "#FF6692",
           "#B6E880",
           "#FF97FF",
           "#FECB52"
          ],
          "font": {
           "color": "#2a3f5f"
          },
          "geo": {
           "bgcolor": "white",
           "lakecolor": "white",
           "landcolor": "#E5ECF6",
           "showlakes": true,
           "showland": true,
           "subunitcolor": "white"
          },
          "hoverlabel": {
           "align": "left"
          },
          "hovermode": "closest",
          "mapbox": {
           "style": "light"
          },
          "paper_bgcolor": "white",
          "plot_bgcolor": "#E5ECF6",
          "polar": {
           "angularaxis": {
            "gridcolor": "white",
            "linecolor": "white",
            "ticks": ""
           },
           "bgcolor": "#E5ECF6",
           "radialaxis": {
            "gridcolor": "white",
            "linecolor": "white",
            "ticks": ""
           }
          },
          "scene": {
           "xaxis": {
            "backgroundcolor": "#E5ECF6",
            "gridcolor": "white",
            "gridwidth": 2,
            "linecolor": "white",
            "showbackground": true,
            "ticks": "",
            "zerolinecolor": "white"
           },
           "yaxis": {
            "backgroundcolor": "#E5ECF6",
            "gridcolor": "white",
            "gridwidth": 2,
            "linecolor": "white",
            "showbackground": true,
            "ticks": "",
            "zerolinecolor": "white"
           },
           "zaxis": {
            "backgroundcolor": "#E5ECF6",
            "gridcolor": "white",
            "gridwidth": 2,
            "linecolor": "white",
            "showbackground": true,
            "ticks": "",
            "zerolinecolor": "white"
           }
          },
          "shapedefaults": {
           "line": {
            "color": "#2a3f5f"
           }
          },
          "ternary": {
           "aaxis": {
            "gridcolor": "white",
            "linecolor": "white",
            "ticks": ""
           },
           "baxis": {
            "gridcolor": "white",
            "linecolor": "white",
            "ticks": ""
           },
           "bgcolor": "#E5ECF6",
           "caxis": {
            "gridcolor": "white",
            "linecolor": "white",
            "ticks": ""
           }
          },
          "title": {
           "x": 0.05
          },
          "xaxis": {
           "automargin": true,
           "gridcolor": "white",
           "linecolor": "white",
           "ticks": "",
           "title": {
            "standoff": 15
           },
           "zerolinecolor": "white",
           "zerolinewidth": 2
          },
          "yaxis": {
           "automargin": true,
           "gridcolor": "white",
           "linecolor": "white",
           "ticks": "",
           "title": {
            "standoff": 15
           },
           "zerolinecolor": "white",
           "zerolinewidth": 2
          }
         }
        },
        "title": {
         "font": {
          "color": "#4D5663"
         }
        },
        "xaxis": {
         "gridcolor": "#E1E5ED",
         "showgrid": true,
         "tickfont": {
          "color": "#4D5663"
         },
         "title": {
          "font": {
           "color": "#4D5663"
          },
          "text": ""
         },
         "zerolinecolor": "#E1E5ED"
        },
        "yaxis": {
         "gridcolor": "#E1E5ED",
         "showgrid": true,
         "tickfont": {
          "color": "#4D5663"
         },
         "title": {
          "font": {
           "color": "#4D5663"
          },
          "text": ""
         },
         "zerolinecolor": "#E1E5ED"
        }
       }
      },
      "text/html": [
       "<div>\n",
       "        \n",
       "        \n",
       "            <div id=\"d81b6026-2917-45d3-942a-350807c02a70\" class=\"plotly-graph-div\" style=\"height:525px; width:100%;\"></div>\n",
       "            <script type=\"text/javascript\">\n",
       "                require([\"plotly\"], function(Plotly) {\n",
       "                    window.PLOTLYENV=window.PLOTLYENV || {};\n",
       "                    window.PLOTLYENV.BASE_URL='https://plot.ly';\n",
       "                    \n",
       "                if (document.getElementById(\"d81b6026-2917-45d3-942a-350807c02a70\")) {\n",
       "                    Plotly.newPlot(\n",
       "                        'd81b6026-2917-45d3-942a-350807c02a70',\n",
       "                        [{\"marker\": {\"color\": \"rgba(255, 153, 51, 0.6)\", \"line\": {\"color\": \"rgba(255, 153, 51, 1.0)\", \"width\": 1}}, \"name\": \"None\", \"orientation\": \"v\", \"text\": \"\", \"type\": \"bar\", \"x\": [\"A\", \"B\", \"C\", \"D\"], \"y\": [23.75948031229921, -14.882014098300075, -8.473841617983348, 3.9049120833301396]}],\n",
       "                        {\"legend\": {\"bgcolor\": \"#F5F6F9\", \"font\": {\"color\": \"#4D5663\"}}, \"paper_bgcolor\": \"#F5F6F9\", \"plot_bgcolor\": \"#F5F6F9\", \"template\": {\"data\": {\"bar\": [{\"error_x\": {\"color\": \"#2a3f5f\"}, \"error_y\": {\"color\": \"#2a3f5f\"}, \"marker\": {\"line\": {\"color\": \"#E5ECF6\", \"width\": 0.5}}, \"type\": \"bar\"}], \"barpolar\": [{\"marker\": {\"line\": {\"color\": \"#E5ECF6\", \"width\": 0.5}}, \"type\": \"barpolar\"}], \"carpet\": [{\"aaxis\": {\"endlinecolor\": \"#2a3f5f\", \"gridcolor\": \"white\", \"linecolor\": \"white\", \"minorgridcolor\": \"white\", \"startlinecolor\": \"#2a3f5f\"}, \"baxis\": {\"endlinecolor\": \"#2a3f5f\", \"gridcolor\": \"white\", \"linecolor\": \"white\", \"minorgridcolor\": \"white\", \"startlinecolor\": \"#2a3f5f\"}, \"type\": \"carpet\"}], \"choropleth\": [{\"colorbar\": {\"outlinewidth\": 0, \"ticks\": \"\"}, \"type\": \"choropleth\"}], \"contour\": [{\"colorbar\": {\"outlinewidth\": 0, \"ticks\": \"\"}, \"colorscale\": [[0.0, \"#0d0887\"], [0.1111111111111111, \"#46039f\"], [0.2222222222222222, \"#7201a8\"], [0.3333333333333333, \"#9c179e\"], [0.4444444444444444, \"#bd3786\"], [0.5555555555555556, \"#d8576b\"], [0.6666666666666666, \"#ed7953\"], [0.7777777777777778, \"#fb9f3a\"], [0.8888888888888888, \"#fdca26\"], [1.0, \"#f0f921\"]], \"type\": \"contour\"}], \"contourcarpet\": [{\"colorbar\": {\"outlinewidth\": 0, \"ticks\": \"\"}, \"type\": \"contourcarpet\"}], \"heatmap\": [{\"colorbar\": {\"outlinewidth\": 0, \"ticks\": \"\"}, \"colorscale\": [[0.0, \"#0d0887\"], [0.1111111111111111, \"#46039f\"], [0.2222222222222222, \"#7201a8\"], [0.3333333333333333, \"#9c179e\"], [0.4444444444444444, \"#bd3786\"], [0.5555555555555556, \"#d8576b\"], [0.6666666666666666, \"#ed7953\"], [0.7777777777777778, \"#fb9f3a\"], [0.8888888888888888, \"#fdca26\"], [1.0, \"#f0f921\"]], \"type\": \"heatmap\"}], \"heatmapgl\": [{\"colorbar\": {\"outlinewidth\": 0, \"ticks\": \"\"}, \"colorscale\": [[0.0, \"#0d0887\"], [0.1111111111111111, \"#46039f\"], [0.2222222222222222, \"#7201a8\"], [0.3333333333333333, \"#9c179e\"], [0.4444444444444444, \"#bd3786\"], [0.5555555555555556, \"#d8576b\"], [0.6666666666666666, \"#ed7953\"], [0.7777777777777778, \"#fb9f3a\"], [0.8888888888888888, \"#fdca26\"], [1.0, \"#f0f921\"]], \"type\": \"heatmapgl\"}], \"histogram\": [{\"marker\": {\"colorbar\": {\"outlinewidth\": 0, \"ticks\": \"\"}}, \"type\": \"histogram\"}], \"histogram2d\": [{\"colorbar\": {\"outlinewidth\": 0, \"ticks\": \"\"}, \"colorscale\": [[0.0, \"#0d0887\"], [0.1111111111111111, \"#46039f\"], [0.2222222222222222, \"#7201a8\"], [0.3333333333333333, \"#9c179e\"], [0.4444444444444444, \"#bd3786\"], [0.5555555555555556, \"#d8576b\"], [0.6666666666666666, \"#ed7953\"], [0.7777777777777778, \"#fb9f3a\"], [0.8888888888888888, \"#fdca26\"], [1.0, \"#f0f921\"]], \"type\": \"histogram2d\"}], \"histogram2dcontour\": [{\"colorbar\": {\"outlinewidth\": 0, \"ticks\": \"\"}, \"colorscale\": [[0.0, \"#0d0887\"], [0.1111111111111111, \"#46039f\"], [0.2222222222222222, \"#7201a8\"], [0.3333333333333333, \"#9c179e\"], [0.4444444444444444, \"#bd3786\"], [0.5555555555555556, \"#d8576b\"], [0.6666666666666666, \"#ed7953\"], [0.7777777777777778, \"#fb9f3a\"], [0.8888888888888888, \"#fdca26\"], [1.0, \"#f0f921\"]], \"type\": \"histogram2dcontour\"}], \"mesh3d\": [{\"colorbar\": {\"outlinewidth\": 0, \"ticks\": \"\"}, \"type\": \"mesh3d\"}], \"parcoords\": [{\"line\": {\"colorbar\": {\"outlinewidth\": 0, \"ticks\": \"\"}}, \"type\": \"parcoords\"}], \"pie\": [{\"automargin\": true, \"type\": \"pie\"}], \"scatter\": [{\"marker\": {\"colorbar\": {\"outlinewidth\": 0, \"ticks\": \"\"}}, \"type\": \"scatter\"}], \"scatter3d\": [{\"line\": {\"colorbar\": {\"outlinewidth\": 0, \"ticks\": \"\"}}, \"marker\": {\"colorbar\": {\"outlinewidth\": 0, \"ticks\": \"\"}}, \"type\": \"scatter3d\"}], \"scattercarpet\": [{\"marker\": {\"colorbar\": {\"outlinewidth\": 0, \"ticks\": \"\"}}, \"type\": \"scattercarpet\"}], \"scattergeo\": [{\"marker\": {\"colorbar\": {\"outlinewidth\": 0, \"ticks\": \"\"}}, \"type\": \"scattergeo\"}], \"scattergl\": [{\"marker\": {\"colorbar\": {\"outlinewidth\": 0, \"ticks\": \"\"}}, \"type\": \"scattergl\"}], \"scattermapbox\": [{\"marker\": {\"colorbar\": {\"outlinewidth\": 0, \"ticks\": \"\"}}, \"type\": \"scattermapbox\"}], \"scatterpolar\": [{\"marker\": {\"colorbar\": {\"outlinewidth\": 0, \"ticks\": \"\"}}, \"type\": \"scatterpolar\"}], \"scatterpolargl\": [{\"marker\": {\"colorbar\": {\"outlinewidth\": 0, \"ticks\": \"\"}}, \"type\": \"scatterpolargl\"}], \"scatterternary\": [{\"marker\": {\"colorbar\": {\"outlinewidth\": 0, \"ticks\": \"\"}}, \"type\": \"scatterternary\"}], \"surface\": [{\"colorbar\": {\"outlinewidth\": 0, \"ticks\": \"\"}, \"colorscale\": [[0.0, \"#0d0887\"], [0.1111111111111111, \"#46039f\"], [0.2222222222222222, \"#7201a8\"], [0.3333333333333333, \"#9c179e\"], [0.4444444444444444, \"#bd3786\"], [0.5555555555555556, \"#d8576b\"], [0.6666666666666666, \"#ed7953\"], [0.7777777777777778, \"#fb9f3a\"], [0.8888888888888888, \"#fdca26\"], [1.0, \"#f0f921\"]], \"type\": \"surface\"}], \"table\": [{\"cells\": {\"fill\": {\"color\": \"#EBF0F8\"}, \"line\": {\"color\": \"white\"}}, \"header\": {\"fill\": {\"color\": \"#C8D4E3\"}, \"line\": {\"color\": \"white\"}}, \"type\": \"table\"}]}, \"layout\": {\"annotationdefaults\": {\"arrowcolor\": \"#2a3f5f\", \"arrowhead\": 0, \"arrowwidth\": 1}, \"coloraxis\": {\"colorbar\": {\"outlinewidth\": 0, \"ticks\": \"\"}}, \"colorscale\": {\"diverging\": [[0, \"#8e0152\"], [0.1, \"#c51b7d\"], [0.2, \"#de77ae\"], [0.3, \"#f1b6da\"], [0.4, \"#fde0ef\"], [0.5, \"#f7f7f7\"], [0.6, \"#e6f5d0\"], [0.7, \"#b8e186\"], [0.8, \"#7fbc41\"], [0.9, \"#4d9221\"], [1, \"#276419\"]], \"sequential\": [[0.0, \"#0d0887\"], [0.1111111111111111, \"#46039f\"], [0.2222222222222222, \"#7201a8\"], [0.3333333333333333, \"#9c179e\"], [0.4444444444444444, \"#bd3786\"], [0.5555555555555556, \"#d8576b\"], [0.6666666666666666, \"#ed7953\"], [0.7777777777777778, \"#fb9f3a\"], [0.8888888888888888, \"#fdca26\"], [1.0, \"#f0f921\"]], \"sequentialminus\": [[0.0, \"#0d0887\"], [0.1111111111111111, \"#46039f\"], [0.2222222222222222, \"#7201a8\"], [0.3333333333333333, \"#9c179e\"], [0.4444444444444444, \"#bd3786\"], [0.5555555555555556, \"#d8576b\"], [0.6666666666666666, \"#ed7953\"], [0.7777777777777778, \"#fb9f3a\"], [0.8888888888888888, \"#fdca26\"], [1.0, \"#f0f921\"]]}, \"colorway\": [\"#636efa\", \"#EF553B\", \"#00cc96\", \"#ab63fa\", \"#FFA15A\", \"#19d3f3\", \"#FF6692\", \"#B6E880\", \"#FF97FF\", \"#FECB52\"], \"font\": {\"color\": \"#2a3f5f\"}, \"geo\": {\"bgcolor\": \"white\", \"lakecolor\": \"white\", \"landcolor\": \"#E5ECF6\", \"showlakes\": true, \"showland\": true, \"subunitcolor\": \"white\"}, \"hoverlabel\": {\"align\": \"left\"}, \"hovermode\": \"closest\", \"mapbox\": {\"style\": \"light\"}, \"paper_bgcolor\": \"white\", \"plot_bgcolor\": \"#E5ECF6\", \"polar\": {\"angularaxis\": {\"gridcolor\": \"white\", \"linecolor\": \"white\", \"ticks\": \"\"}, \"bgcolor\": \"#E5ECF6\", \"radialaxis\": {\"gridcolor\": \"white\", \"linecolor\": \"white\", \"ticks\": \"\"}}, \"scene\": {\"xaxis\": {\"backgroundcolor\": \"#E5ECF6\", \"gridcolor\": \"white\", \"gridwidth\": 2, \"linecolor\": \"white\", \"showbackground\": true, \"ticks\": \"\", \"zerolinecolor\": \"white\"}, \"yaxis\": {\"backgroundcolor\": \"#E5ECF6\", \"gridcolor\": \"white\", \"gridwidth\": 2, \"linecolor\": \"white\", \"showbackground\": true, \"ticks\": \"\", \"zerolinecolor\": \"white\"}, \"zaxis\": {\"backgroundcolor\": \"#E5ECF6\", \"gridcolor\": \"white\", \"gridwidth\": 2, \"linecolor\": \"white\", \"showbackground\": true, \"ticks\": \"\", \"zerolinecolor\": \"white\"}}, \"shapedefaults\": {\"line\": {\"color\": \"#2a3f5f\"}}, \"ternary\": {\"aaxis\": {\"gridcolor\": \"white\", \"linecolor\": \"white\", \"ticks\": \"\"}, \"baxis\": {\"gridcolor\": \"white\", \"linecolor\": \"white\", \"ticks\": \"\"}, \"bgcolor\": \"#E5ECF6\", \"caxis\": {\"gridcolor\": \"white\", \"linecolor\": \"white\", \"ticks\": \"\"}}, \"title\": {\"x\": 0.05}, \"xaxis\": {\"automargin\": true, \"gridcolor\": \"white\", \"linecolor\": \"white\", \"ticks\": \"\", \"title\": {\"standoff\": 15}, \"zerolinecolor\": \"white\", \"zerolinewidth\": 2}, \"yaxis\": {\"automargin\": true, \"gridcolor\": \"white\", \"linecolor\": \"white\", \"ticks\": \"\", \"title\": {\"standoff\": 15}, \"zerolinecolor\": \"white\", \"zerolinewidth\": 2}}}, \"title\": {\"font\": {\"color\": \"#4D5663\"}}, \"xaxis\": {\"gridcolor\": \"#E1E5ED\", \"showgrid\": true, \"tickfont\": {\"color\": \"#4D5663\"}, \"title\": {\"font\": {\"color\": \"#4D5663\"}, \"text\": \"\"}, \"zerolinecolor\": \"#E1E5ED\"}, \"yaxis\": {\"gridcolor\": \"#E1E5ED\", \"showgrid\": true, \"tickfont\": {\"color\": \"#4D5663\"}, \"title\": {\"font\": {\"color\": \"#4D5663\"}, \"text\": \"\"}, \"zerolinecolor\": \"#E1E5ED\"}},\n",
       "                        {\"showLink\": true, \"linkText\": \"Export to plot.ly\", \"plotlyServerURL\": \"https://plot.ly\", \"responsive\": true}\n",
       "                    ).then(function(){\n",
       "                            \n",
       "var gd = document.getElementById('d81b6026-2917-45d3-942a-350807c02a70');\n",
       "var x = new MutationObserver(function (mutations, observer) {{\n",
       "        var display = window.getComputedStyle(gd).display;\n",
       "        if (!display || display === 'none') {{\n",
       "            console.log([gd, 'removed!']);\n",
       "            Plotly.purge(gd);\n",
       "            observer.disconnect();\n",
       "        }}\n",
       "}});\n",
       "\n",
       "// Listen for the removal of the full notebook cells\n",
       "var notebookContainer = gd.closest('#notebook-container');\n",
       "if (notebookContainer) {{\n",
       "    x.observe(notebookContainer, {childList: true});\n",
       "}}\n",
       "\n",
       "// Listen for the clearing of the current output cell\n",
       "var outputEl = gd.closest('.output');\n",
       "if (outputEl) {{\n",
       "    x.observe(outputEl, {childList: true});\n",
       "}}\n",
       "\n",
       "                        })\n",
       "                };\n",
       "                });\n",
       "            </script>\n",
       "        </div>"
      ]
     },
     "metadata": {},
     "output_type": "display_data"
    }
   ],
   "source": [
    "df.sum().iplot(kind = 'bar')"
   ]
  },
  {
   "cell_type": "markdown",
   "metadata": {},
   "source": [
    "## Box plot"
   ]
  },
  {
   "cell_type": "code",
   "execution_count": 33,
   "metadata": {},
   "outputs": [
    {
     "data": {
      "application/vnd.plotly.v1+json": {
       "config": {
        "linkText": "Export to plot.ly",
        "plotlyServerURL": "https://plot.ly",
        "showLink": true
       },
       "data": [
        {
         "boxpoints": false,
         "line": {
          "width": 1.3
         },
         "marker": {
          "color": "rgba(255, 153, 51, 1.0)"
         },
         "name": "A",
         "orientation": "v",
         "type": "box",
         "y": [
          -0.15966440057435938,
          -3.0268008071009187,
          0.9221382673050521,
          0.8770652008419254,
          2.076348258904066,
          -2.5385761484776928,
          -1.9211892960913912,
          0.6007684052334087,
          -0.21961932073774648,
          0.6947663878860076,
          1.5355433012808262,
          0.682536191559496,
          -0.00784008704142355,
          -0.5486678819424253,
          -0.42858792614727115,
          0.6318614246284424,
          1.014063885119909,
          0.19769301291352875,
          0.6115860679800008,
          0.19458939348542983,
          1.9061126760600309,
          2.1888523316757906,
          2.9527829087211845,
          0.03602569987116309,
          -0.695368302564943,
          1.6976635522629786,
          -2.6266196902651697,
          -0.5470043758963876,
          0.37115828238172793,
          -0.48023110420208853,
          1.0373530630599568,
          0.6748963442511032,
          1.229032627039319,
          1.696584799985512,
          0.029752667407899197,
          0.8084195973664055,
          -2.2248088064008944,
          1.0104302308242707,
          1.1180875214270254,
          1.2193035150614107,
          0.35565864473138953,
          -1.8415745792579306,
          -0.12863986311406433,
          -0.3840273635274107,
          -1.208692561789705,
          0.4930043761880178,
          0.22606346480288667,
          0.8469056906100876,
          -0.6602972998520016,
          0.18781265774515438,
          1.6287771347743953,
          -0.5770968099743413,
          -0.16194665920300977,
          0.8681358652235673,
          0.047414635744381525,
          0.21611033116647485,
          0.5907804771654277,
          0.9708460467264816,
          -1.8110933091195884,
          -0.5530434965138656,
          1.9636940438520054,
          1.1729722539442202,
          1.2421559008155438,
          -0.6288387913785575,
          0.34805958706986584,
          -0.5436381561059997,
          -0.5631348469165319,
          1.5606728416961202,
          0.2330738885185976,
          -0.8020391201493532,
          -0.6557997346611697,
          0.5726236513169123,
          1.2246219521550379,
          1.517883432418252,
          -0.14147909287681634,
          0.3664192494581477,
          -0.4322146140696219,
          -0.3495399006296373,
          -0.6810037668207851,
          0.08504992455350263,
          1.7823784203274209,
          0.6259377596645086,
          0.6638813119909011,
          -1.482839860554188,
          -0.2901295524795004,
          0.7728721769087347,
          1.0697450666270618,
          -0.38037586807737583,
          0.7361925861522479,
          2.227251940281902,
          -0.9059783157534909,
          1.0644082103981056,
          0.41243815873235085,
          -0.70985732273822,
          0.2921920971594382,
          0.316660089561294,
          1.2009474277974572,
          -0.17950997282633827,
          -1.8222345068938892,
          1.1804269142135373
         ]
        },
        {
         "boxpoints": false,
         "line": {
          "width": 1.3
         },
         "marker": {
          "color": "rgba(55, 128, 191, 1.0)"
         },
         "name": "B",
         "orientation": "v",
         "type": "box",
         "y": [
          -0.039620201830270506,
          -1.0886265885232451,
          1.510576451901204,
          1.784954270510374,
          1.856633419738731,
          -0.06186831571432017,
          -0.7177396996119862,
          1.3056032295822502,
          0.1747268566872305,
          -2.008057573582073,
          -0.24986540881811706,
          -0.68969312419857,
          1.7203106029038477,
          0.8148414349263332,
          -0.15528528397620237,
          -1.8057674057733473,
          0.1855558056334135,
          -0.20607748084692046,
          -0.41374065948487576,
          0.07802381651058664,
          0.5122383905711916,
          -0.8816396954950696,
          0.8150638310707726,
          -0.9128064482318322,
          -0.92947076177012,
          0.5364585267673471,
          -0.09773609410488768,
          -0.8376598389398086,
          -0.5149023896730086,
          -0.07638224135806895,
          -0.528115017916814,
          0.6930140672229397,
          -0.7173712123713216,
          0.435434124645374,
          -0.10550905698074249,
          0.9825963092482132,
          1.43990174097477,
          0.21861636481047017,
          -1.4434530863386295,
          -0.8429050603925676,
          -0.5824520358502622,
          -2.5060458213683448,
          0.8188019482586176,
          -1.1311437036384802,
          2.463221499435528,
          -1.4716903339509018,
          -1.3231503668137379,
          0.9138103857479809,
          0.7169170351565702,
          -0.5942680093604714,
          -1.700684394592634,
          -0.3601746175201089,
          -0.8427200334374927,
          -0.2448910298215501,
          1.0078914884134746,
          1.1363591311807222,
          0.31267011313669657,
          -0.4966643537233206,
          1.4258032741416697,
          -0.8218663321084495,
          0.07359712719308378,
          -1.4767339034966909,
          1.1364236958318257,
          -0.23598777516022656,
          -0.6022315860538371,
          -0.1211577645937869,
          -0.5284014012330627,
          -0.8756273951246533,
          -0.11679910149382909,
          -0.28133633907251443,
          1.3360164375010046,
          -1.993994774627574,
          1.705587826284771,
          -0.1242901136836673,
          -0.5972965399776643,
          0.10528367746866872,
          -1.8588149129828984,
          -0.7940920464638387,
          0.1276581837519382,
          -1.4602897634720386,
          -0.9001307498667146,
          -1.523129993571007,
          0.08675731770656844,
          -1.369456474965436,
          0.8336132458797575,
          -1.4707252145644945,
          1.9115214411160404,
          -0.8919965099516362,
          -1.1617999087632587,
          -1.8744766266033046,
          0.04249487946173756,
          -0.27310822473698654,
          0.08953567673202818,
          0.9321519847205323,
          -0.7901851679583582,
          0.43921752031434347,
          -0.8077884830291779,
          1.4627975973322422,
          0.9795913558289675,
          -0.4743917350346864
         ]
        },
        {
         "boxpoints": false,
         "line": {
          "width": 1.3
         },
         "marker": {
          "color": "rgba(50, 171, 96, 1.0)"
         },
         "name": "C",
         "orientation": "v",
         "type": "box",
         "y": [
          -2.050959337282939,
          -0.623135714654621,
          -0.9030838504023444,
          -0.8846787432223958,
          2.6741827735425394,
          -0.6354285944956553,
          -1.8496808811668934,
          -0.2547811416970197,
          -0.055681456337364384,
          -1.3944181938604423,
          -1.2902927400307336,
          0.6698919790212503,
          0.34643521789445736,
          -0.6967082806152699,
          -0.3212602648296973,
          1.7091491299614885,
          -0.5596189805447361,
          -0.525562784078486,
          -0.48049821825529065,
          -0.6346130652937808,
          0.47830738377493814,
          0.7156755848555739,
          1.4980374410115829,
          0.019052087924581036,
          -0.18201191885345414,
          -1.6588634578354686,
          -1.4828119493830143,
          -0.09216441630414798,
          -0.14553423644609612,
          -0.7794985383640196,
          -1.7350551083837469,
          0.8011445176125315,
          -0.3657053034107941,
          0.35222604176811234,
          -0.09434046490071221,
          0.27955154174741587,
          -0.47681326929380946,
          -1.4685668326584544,
          0.253437219952115,
          -0.1393600585054475,
          0.5111332871252802,
          1.966687474163078,
          1.7827345360633533,
          1.3365900682657514,
          0.22922232264662673,
          1.2412879016957008,
          0.17669427807060434,
          1.2102070043185542,
          0.9481346148415118,
          -0.7672110846043504,
          0.6779070484347443,
          -0.2478682667913302,
          0.005290125348690879,
          -0.7278639297732168,
          0.06953868587956952,
          -0.7252599174323642,
          0.9075663142325777,
          -1.357704195417472,
          1.2337390673840867,
          -1.5435650693835654,
          -1.8384710286781478,
          -0.3654452753253253,
          0.5368726545742358,
          0.15820260819638846,
          1.1688891296948416,
          0.7204814075390948,
          0.6756862921836863,
          0.8556117363426601,
          -0.5953676095033376,
          0.5185636488627283,
          0.25262453251756867,
          -0.4431075174340808,
          -1.508605467632452,
          -0.6206387803373581,
          -0.4824311953164388,
          -1.233241584706174,
          1.061749004442179,
          0.12292683966608829,
          0.0228518775722601,
          -1.2693591727320208,
          1.5670749867806724,
          -0.658579805547281,
          0.9816083662621841,
          -0.7237472802729957,
          -2.2476477755687774,
          -1.1457021217696113,
          -1.3170117279424052,
          -0.29420173341177985,
          -0.08004309491360784,
          -0.6533971663994066,
          -0.21402171159214076,
          1.0913202896398457,
          0.15607455217360325,
          -1.1458514538797409,
          2.383439127433773,
          0.7722722931324618,
          1.035267730994433,
          -0.16931970693807658,
          -0.08934031514353971,
          -0.40305055397493394
         ]
        },
        {
         "boxpoints": false,
         "line": {
          "width": 1.3
         },
         "marker": {
          "color": "rgba(128, 0, 128, 1.0)"
         },
         "name": "D",
         "orientation": "v",
         "type": "box",
         "y": [
          -2.45621934851348,
          -0.49738336039943415,
          1.0108981951075882,
          0.4371166861850728,
          0.8196645208336938,
          -0.2625102226319903,
          -0.8241370178729576,
          -0.23884566170418514,
          0.28308329505532737,
          -0.129906715276062,
          0.6388072941638956,
          -0.9611837323014758,
          -0.11309190392054783,
          -2.0193276671871643,
          -0.6116726473014742,
          1.851123908738312,
          -0.23730695552545975,
          -0.49077189703582214,
          -1.209708462345313,
          -0.7336780104359398,
          0.6122868341768868,
          -0.08826629915224017,
          0.040203935430538205,
          -1.4395374503419898,
          -0.8108575205014021,
          0.6383840839063878,
          -0.6046071651978742,
          0.10442668741813448,
          0.187852848471582,
          0.09516650285139858,
          -1.4379657756666862,
          -1.3995467804226953,
          -2.4400939453465926,
          1.357068116169183,
          0.675741665746478,
          0.8288586832135476,
          0.42379217923617585,
          -1.6765730171493463,
          1.1239018130698488,
          -1.499624055006214,
          0.900580921839038,
          -0.5228656297420218,
          1.3972028758224073,
          1.0456152430440662,
          -0.5584210258399632,
          -0.7254461638054707,
          2.429921842197925,
          0.26687240959263203,
          -1.5752830944648926,
          -0.0645244140536077,
          2.0221467606315944,
          -0.8115737932181631,
          -0.03953346571061237,
          0.3430560115673913,
          -0.678314414616606,
          0.7671270289936455,
          -0.8352815835060328,
          0.2625005834790334,
          0.6394229699144892,
          0.5744480532482673,
          0.9687296756953383,
          0.5281467997654329,
          0.7583808354729975,
          0.01008733722285285,
          -0.06386984596535984,
          0.6164890002338478,
          -0.9804120873817879,
          -1.2995248798407089,
          1.066126626588423,
          2.2125011388403535,
          1.0918321914430453,
          0.5393123108233898,
          0.8237643386872351,
          0.596304819634739,
          0.1551546937964348,
          -1.5255989307894378,
          -1.1431078143337003,
          1.2967382341855007,
          0.8990445838252091,
          -0.6711455782326923,
          -0.6162025218962328,
          0.622278697790318,
          0.16679223213883906,
          2.9127403911622443,
          -0.27152961576738033,
          -1.238501904868217,
          -0.16835336724025413,
          0.6378914389587478,
          0.4677712941488029,
          0.5495489487295442,
          -0.17931304232859252,
          -0.40814840097137234,
          1.9677139393195497,
          0.7851712092376301,
          -0.7656167328768418,
          -0.5536626665172183,
          -0.02963446605538179,
          0.1923114466917884,
          1.1345729810559975,
          -0.9630839809637665
         ]
        }
       ],
       "layout": {
        "legend": {
         "bgcolor": "#F5F6F9",
         "font": {
          "color": "#4D5663"
         }
        },
        "paper_bgcolor": "#F5F6F9",
        "plot_bgcolor": "#F5F6F9",
        "template": {
         "data": {
          "bar": [
           {
            "error_x": {
             "color": "#2a3f5f"
            },
            "error_y": {
             "color": "#2a3f5f"
            },
            "marker": {
             "line": {
              "color": "#E5ECF6",
              "width": 0.5
             }
            },
            "type": "bar"
           }
          ],
          "barpolar": [
           {
            "marker": {
             "line": {
              "color": "#E5ECF6",
              "width": 0.5
             }
            },
            "type": "barpolar"
           }
          ],
          "carpet": [
           {
            "aaxis": {
             "endlinecolor": "#2a3f5f",
             "gridcolor": "white",
             "linecolor": "white",
             "minorgridcolor": "white",
             "startlinecolor": "#2a3f5f"
            },
            "baxis": {
             "endlinecolor": "#2a3f5f",
             "gridcolor": "white",
             "linecolor": "white",
             "minorgridcolor": "white",
             "startlinecolor": "#2a3f5f"
            },
            "type": "carpet"
           }
          ],
          "choropleth": [
           {
            "colorbar": {
             "outlinewidth": 0,
             "ticks": ""
            },
            "type": "choropleth"
           }
          ],
          "contour": [
           {
            "colorbar": {
             "outlinewidth": 0,
             "ticks": ""
            },
            "colorscale": [
             [
              0,
              "#0d0887"
             ],
             [
              0.1111111111111111,
              "#46039f"
             ],
             [
              0.2222222222222222,
              "#7201a8"
             ],
             [
              0.3333333333333333,
              "#9c179e"
             ],
             [
              0.4444444444444444,
              "#bd3786"
             ],
             [
              0.5555555555555556,
              "#d8576b"
             ],
             [
              0.6666666666666666,
              "#ed7953"
             ],
             [
              0.7777777777777778,
              "#fb9f3a"
             ],
             [
              0.8888888888888888,
              "#fdca26"
             ],
             [
              1,
              "#f0f921"
             ]
            ],
            "type": "contour"
           }
          ],
          "contourcarpet": [
           {
            "colorbar": {
             "outlinewidth": 0,
             "ticks": ""
            },
            "type": "contourcarpet"
           }
          ],
          "heatmap": [
           {
            "colorbar": {
             "outlinewidth": 0,
             "ticks": ""
            },
            "colorscale": [
             [
              0,
              "#0d0887"
             ],
             [
              0.1111111111111111,
              "#46039f"
             ],
             [
              0.2222222222222222,
              "#7201a8"
             ],
             [
              0.3333333333333333,
              "#9c179e"
             ],
             [
              0.4444444444444444,
              "#bd3786"
             ],
             [
              0.5555555555555556,
              "#d8576b"
             ],
             [
              0.6666666666666666,
              "#ed7953"
             ],
             [
              0.7777777777777778,
              "#fb9f3a"
             ],
             [
              0.8888888888888888,
              "#fdca26"
             ],
             [
              1,
              "#f0f921"
             ]
            ],
            "type": "heatmap"
           }
          ],
          "heatmapgl": [
           {
            "colorbar": {
             "outlinewidth": 0,
             "ticks": ""
            },
            "colorscale": [
             [
              0,
              "#0d0887"
             ],
             [
              0.1111111111111111,
              "#46039f"
             ],
             [
              0.2222222222222222,
              "#7201a8"
             ],
             [
              0.3333333333333333,
              "#9c179e"
             ],
             [
              0.4444444444444444,
              "#bd3786"
             ],
             [
              0.5555555555555556,
              "#d8576b"
             ],
             [
              0.6666666666666666,
              "#ed7953"
             ],
             [
              0.7777777777777778,
              "#fb9f3a"
             ],
             [
              0.8888888888888888,
              "#fdca26"
             ],
             [
              1,
              "#f0f921"
             ]
            ],
            "type": "heatmapgl"
           }
          ],
          "histogram": [
           {
            "marker": {
             "colorbar": {
              "outlinewidth": 0,
              "ticks": ""
             }
            },
            "type": "histogram"
           }
          ],
          "histogram2d": [
           {
            "colorbar": {
             "outlinewidth": 0,
             "ticks": ""
            },
            "colorscale": [
             [
              0,
              "#0d0887"
             ],
             [
              0.1111111111111111,
              "#46039f"
             ],
             [
              0.2222222222222222,
              "#7201a8"
             ],
             [
              0.3333333333333333,
              "#9c179e"
             ],
             [
              0.4444444444444444,
              "#bd3786"
             ],
             [
              0.5555555555555556,
              "#d8576b"
             ],
             [
              0.6666666666666666,
              "#ed7953"
             ],
             [
              0.7777777777777778,
              "#fb9f3a"
             ],
             [
              0.8888888888888888,
              "#fdca26"
             ],
             [
              1,
              "#f0f921"
             ]
            ],
            "type": "histogram2d"
           }
          ],
          "histogram2dcontour": [
           {
            "colorbar": {
             "outlinewidth": 0,
             "ticks": ""
            },
            "colorscale": [
             [
              0,
              "#0d0887"
             ],
             [
              0.1111111111111111,
              "#46039f"
             ],
             [
              0.2222222222222222,
              "#7201a8"
             ],
             [
              0.3333333333333333,
              "#9c179e"
             ],
             [
              0.4444444444444444,
              "#bd3786"
             ],
             [
              0.5555555555555556,
              "#d8576b"
             ],
             [
              0.6666666666666666,
              "#ed7953"
             ],
             [
              0.7777777777777778,
              "#fb9f3a"
             ],
             [
              0.8888888888888888,
              "#fdca26"
             ],
             [
              1,
              "#f0f921"
             ]
            ],
            "type": "histogram2dcontour"
           }
          ],
          "mesh3d": [
           {
            "colorbar": {
             "outlinewidth": 0,
             "ticks": ""
            },
            "type": "mesh3d"
           }
          ],
          "parcoords": [
           {
            "line": {
             "colorbar": {
              "outlinewidth": 0,
              "ticks": ""
             }
            },
            "type": "parcoords"
           }
          ],
          "pie": [
           {
            "automargin": true,
            "type": "pie"
           }
          ],
          "scatter": [
           {
            "marker": {
             "colorbar": {
              "outlinewidth": 0,
              "ticks": ""
             }
            },
            "type": "scatter"
           }
          ],
          "scatter3d": [
           {
            "line": {
             "colorbar": {
              "outlinewidth": 0,
              "ticks": ""
             }
            },
            "marker": {
             "colorbar": {
              "outlinewidth": 0,
              "ticks": ""
             }
            },
            "type": "scatter3d"
           }
          ],
          "scattercarpet": [
           {
            "marker": {
             "colorbar": {
              "outlinewidth": 0,
              "ticks": ""
             }
            },
            "type": "scattercarpet"
           }
          ],
          "scattergeo": [
           {
            "marker": {
             "colorbar": {
              "outlinewidth": 0,
              "ticks": ""
             }
            },
            "type": "scattergeo"
           }
          ],
          "scattergl": [
           {
            "marker": {
             "colorbar": {
              "outlinewidth": 0,
              "ticks": ""
             }
            },
            "type": "scattergl"
           }
          ],
          "scattermapbox": [
           {
            "marker": {
             "colorbar": {
              "outlinewidth": 0,
              "ticks": ""
             }
            },
            "type": "scattermapbox"
           }
          ],
          "scatterpolar": [
           {
            "marker": {
             "colorbar": {
              "outlinewidth": 0,
              "ticks": ""
             }
            },
            "type": "scatterpolar"
           }
          ],
          "scatterpolargl": [
           {
            "marker": {
             "colorbar": {
              "outlinewidth": 0,
              "ticks": ""
             }
            },
            "type": "scatterpolargl"
           }
          ],
          "scatterternary": [
           {
            "marker": {
             "colorbar": {
              "outlinewidth": 0,
              "ticks": ""
             }
            },
            "type": "scatterternary"
           }
          ],
          "surface": [
           {
            "colorbar": {
             "outlinewidth": 0,
             "ticks": ""
            },
            "colorscale": [
             [
              0,
              "#0d0887"
             ],
             [
              0.1111111111111111,
              "#46039f"
             ],
             [
              0.2222222222222222,
              "#7201a8"
             ],
             [
              0.3333333333333333,
              "#9c179e"
             ],
             [
              0.4444444444444444,
              "#bd3786"
             ],
             [
              0.5555555555555556,
              "#d8576b"
             ],
             [
              0.6666666666666666,
              "#ed7953"
             ],
             [
              0.7777777777777778,
              "#fb9f3a"
             ],
             [
              0.8888888888888888,
              "#fdca26"
             ],
             [
              1,
              "#f0f921"
             ]
            ],
            "type": "surface"
           }
          ],
          "table": [
           {
            "cells": {
             "fill": {
              "color": "#EBF0F8"
             },
             "line": {
              "color": "white"
             }
            },
            "header": {
             "fill": {
              "color": "#C8D4E3"
             },
             "line": {
              "color": "white"
             }
            },
            "type": "table"
           }
          ]
         },
         "layout": {
          "annotationdefaults": {
           "arrowcolor": "#2a3f5f",
           "arrowhead": 0,
           "arrowwidth": 1
          },
          "coloraxis": {
           "colorbar": {
            "outlinewidth": 0,
            "ticks": ""
           }
          },
          "colorscale": {
           "diverging": [
            [
             0,
             "#8e0152"
            ],
            [
             0.1,
             "#c51b7d"
            ],
            [
             0.2,
             "#de77ae"
            ],
            [
             0.3,
             "#f1b6da"
            ],
            [
             0.4,
             "#fde0ef"
            ],
            [
             0.5,
             "#f7f7f7"
            ],
            [
             0.6,
             "#e6f5d0"
            ],
            [
             0.7,
             "#b8e186"
            ],
            [
             0.8,
             "#7fbc41"
            ],
            [
             0.9,
             "#4d9221"
            ],
            [
             1,
             "#276419"
            ]
           ],
           "sequential": [
            [
             0,
             "#0d0887"
            ],
            [
             0.1111111111111111,
             "#46039f"
            ],
            [
             0.2222222222222222,
             "#7201a8"
            ],
            [
             0.3333333333333333,
             "#9c179e"
            ],
            [
             0.4444444444444444,
             "#bd3786"
            ],
            [
             0.5555555555555556,
             "#d8576b"
            ],
            [
             0.6666666666666666,
             "#ed7953"
            ],
            [
             0.7777777777777778,
             "#fb9f3a"
            ],
            [
             0.8888888888888888,
             "#fdca26"
            ],
            [
             1,
             "#f0f921"
            ]
           ],
           "sequentialminus": [
            [
             0,
             "#0d0887"
            ],
            [
             0.1111111111111111,
             "#46039f"
            ],
            [
             0.2222222222222222,
             "#7201a8"
            ],
            [
             0.3333333333333333,
             "#9c179e"
            ],
            [
             0.4444444444444444,
             "#bd3786"
            ],
            [
             0.5555555555555556,
             "#d8576b"
            ],
            [
             0.6666666666666666,
             "#ed7953"
            ],
            [
             0.7777777777777778,
             "#fb9f3a"
            ],
            [
             0.8888888888888888,
             "#fdca26"
            ],
            [
             1,
             "#f0f921"
            ]
           ]
          },
          "colorway": [
           "#636efa",
           "#EF553B",
           "#00cc96",
           "#ab63fa",
           "#FFA15A",
           "#19d3f3",
           "#FF6692",
           "#B6E880",
           "#FF97FF",
           "#FECB52"
          ],
          "font": {
           "color": "#2a3f5f"
          },
          "geo": {
           "bgcolor": "white",
           "lakecolor": "white",
           "landcolor": "#E5ECF6",
           "showlakes": true,
           "showland": true,
           "subunitcolor": "white"
          },
          "hoverlabel": {
           "align": "left"
          },
          "hovermode": "closest",
          "mapbox": {
           "style": "light"
          },
          "paper_bgcolor": "white",
          "plot_bgcolor": "#E5ECF6",
          "polar": {
           "angularaxis": {
            "gridcolor": "white",
            "linecolor": "white",
            "ticks": ""
           },
           "bgcolor": "#E5ECF6",
           "radialaxis": {
            "gridcolor": "white",
            "linecolor": "white",
            "ticks": ""
           }
          },
          "scene": {
           "xaxis": {
            "backgroundcolor": "#E5ECF6",
            "gridcolor": "white",
            "gridwidth": 2,
            "linecolor": "white",
            "showbackground": true,
            "ticks": "",
            "zerolinecolor": "white"
           },
           "yaxis": {
            "backgroundcolor": "#E5ECF6",
            "gridcolor": "white",
            "gridwidth": 2,
            "linecolor": "white",
            "showbackground": true,
            "ticks": "",
            "zerolinecolor": "white"
           },
           "zaxis": {
            "backgroundcolor": "#E5ECF6",
            "gridcolor": "white",
            "gridwidth": 2,
            "linecolor": "white",
            "showbackground": true,
            "ticks": "",
            "zerolinecolor": "white"
           }
          },
          "shapedefaults": {
           "line": {
            "color": "#2a3f5f"
           }
          },
          "ternary": {
           "aaxis": {
            "gridcolor": "white",
            "linecolor": "white",
            "ticks": ""
           },
           "baxis": {
            "gridcolor": "white",
            "linecolor": "white",
            "ticks": ""
           },
           "bgcolor": "#E5ECF6",
           "caxis": {
            "gridcolor": "white",
            "linecolor": "white",
            "ticks": ""
           }
          },
          "title": {
           "x": 0.05
          },
          "xaxis": {
           "automargin": true,
           "gridcolor": "white",
           "linecolor": "white",
           "ticks": "",
           "title": {
            "standoff": 15
           },
           "zerolinecolor": "white",
           "zerolinewidth": 2
          },
          "yaxis": {
           "automargin": true,
           "gridcolor": "white",
           "linecolor": "white",
           "ticks": "",
           "title": {
            "standoff": 15
           },
           "zerolinecolor": "white",
           "zerolinewidth": 2
          }
         }
        },
        "title": {
         "font": {
          "color": "#4D5663"
         }
        },
        "xaxis": {
         "gridcolor": "#E1E5ED",
         "showgrid": true,
         "tickfont": {
          "color": "#4D5663"
         },
         "title": {
          "font": {
           "color": "#4D5663"
          },
          "text": ""
         },
         "zerolinecolor": "#E1E5ED"
        },
        "yaxis": {
         "gridcolor": "#E1E5ED",
         "showgrid": true,
         "tickfont": {
          "color": "#4D5663"
         },
         "title": {
          "font": {
           "color": "#4D5663"
          },
          "text": ""
         },
         "zerolinecolor": "#E1E5ED"
        }
       }
      },
      "text/html": [
       "<div>\n",
       "        \n",
       "        \n",
       "            <div id=\"3a8a1b6c-3fdf-4410-a24e-f3403074a241\" class=\"plotly-graph-div\" style=\"height:525px; width:100%;\"></div>\n",
       "            <script type=\"text/javascript\">\n",
       "                require([\"plotly\"], function(Plotly) {\n",
       "                    window.PLOTLYENV=window.PLOTLYENV || {};\n",
       "                    window.PLOTLYENV.BASE_URL='https://plot.ly';\n",
       "                    \n",
       "                if (document.getElementById(\"3a8a1b6c-3fdf-4410-a24e-f3403074a241\")) {\n",
       "                    Plotly.newPlot(\n",
       "                        '3a8a1b6c-3fdf-4410-a24e-f3403074a241',\n",
       "                        [{\"boxpoints\": false, \"line\": {\"width\": 1.3}, \"marker\": {\"color\": \"rgba(255, 153, 51, 1.0)\"}, \"name\": \"A\", \"orientation\": \"v\", \"type\": \"box\", \"y\": [-0.15966440057435938, -3.0268008071009187, 0.9221382673050521, 0.8770652008419254, 2.076348258904066, -2.5385761484776928, -1.9211892960913912, 0.6007684052334087, -0.21961932073774648, 0.6947663878860076, 1.5355433012808262, 0.682536191559496, -0.00784008704142355, -0.5486678819424253, -0.42858792614727115, 0.6318614246284424, 1.014063885119909, 0.19769301291352875, 0.6115860679800008, 0.19458939348542983, 1.9061126760600309, 2.1888523316757906, 2.9527829087211845, 0.03602569987116309, -0.695368302564943, 1.6976635522629786, -2.6266196902651697, -0.5470043758963876, 0.37115828238172793, -0.48023110420208853, 1.0373530630599568, 0.6748963442511032, 1.229032627039319, 1.696584799985512, 0.029752667407899197, 0.8084195973664055, -2.2248088064008944, 1.0104302308242707, 1.1180875214270254, 1.2193035150614107, 0.35565864473138953, -1.8415745792579306, -0.12863986311406433, -0.3840273635274107, -1.208692561789705, 0.4930043761880178, 0.22606346480288667, 0.8469056906100876, -0.6602972998520016, 0.18781265774515438, 1.6287771347743953, -0.5770968099743413, -0.16194665920300977, 0.8681358652235673, 0.047414635744381525, 0.21611033116647485, 0.5907804771654277, 0.9708460467264816, -1.8110933091195884, -0.5530434965138656, 1.9636940438520054, 1.1729722539442202, 1.2421559008155438, -0.6288387913785575, 0.34805958706986584, -0.5436381561059997, -0.5631348469165319, 1.5606728416961202, 0.2330738885185976, -0.8020391201493532, -0.6557997346611697, 0.5726236513169123, 1.2246219521550379, 1.517883432418252, -0.14147909287681634, 0.3664192494581477, -0.4322146140696219, -0.3495399006296373, -0.6810037668207851, 0.08504992455350263, 1.7823784203274209, 0.6259377596645086, 0.6638813119909011, -1.482839860554188, -0.2901295524795004, 0.7728721769087347, 1.0697450666270618, -0.38037586807737583, 0.7361925861522479, 2.227251940281902, -0.9059783157534909, 1.0644082103981056, 0.41243815873235085, -0.70985732273822, 0.2921920971594382, 0.316660089561294, 1.2009474277974572, -0.17950997282633827, -1.8222345068938892, 1.1804269142135373]}, {\"boxpoints\": false, \"line\": {\"width\": 1.3}, \"marker\": {\"color\": \"rgba(55, 128, 191, 1.0)\"}, \"name\": \"B\", \"orientation\": \"v\", \"type\": \"box\", \"y\": [-0.039620201830270506, -1.0886265885232451, 1.510576451901204, 1.784954270510374, 1.856633419738731, -0.06186831571432017, -0.7177396996119862, 1.3056032295822502, 0.1747268566872305, -2.008057573582073, -0.24986540881811706, -0.68969312419857, 1.7203106029038477, 0.8148414349263332, -0.15528528397620237, -1.8057674057733473, 0.1855558056334135, -0.20607748084692046, -0.41374065948487576, 0.07802381651058664, 0.5122383905711916, -0.8816396954950696, 0.8150638310707726, -0.9128064482318322, -0.92947076177012, 0.5364585267673471, -0.09773609410488768, -0.8376598389398086, -0.5149023896730086, -0.07638224135806895, -0.528115017916814, 0.6930140672229397, -0.7173712123713216, 0.435434124645374, -0.10550905698074249, 0.9825963092482132, 1.43990174097477, 0.21861636481047017, -1.4434530863386295, -0.8429050603925676, -0.5824520358502622, -2.5060458213683448, 0.8188019482586176, -1.1311437036384802, 2.463221499435528, -1.4716903339509018, -1.3231503668137379, 0.9138103857479809, 0.7169170351565702, -0.5942680093604714, -1.700684394592634, -0.3601746175201089, -0.8427200334374927, -0.2448910298215501, 1.0078914884134746, 1.1363591311807222, 0.31267011313669657, -0.4966643537233206, 1.4258032741416697, -0.8218663321084495, 0.07359712719308378, -1.4767339034966909, 1.1364236958318257, -0.23598777516022656, -0.6022315860538371, -0.1211577645937869, -0.5284014012330627, -0.8756273951246533, -0.11679910149382909, -0.28133633907251443, 1.3360164375010046, -1.993994774627574, 1.705587826284771, -0.1242901136836673, -0.5972965399776643, 0.10528367746866872, -1.8588149129828984, -0.7940920464638387, 0.1276581837519382, -1.4602897634720386, -0.9001307498667146, -1.523129993571007, 0.08675731770656844, -1.369456474965436, 0.8336132458797575, -1.4707252145644945, 1.9115214411160404, -0.8919965099516362, -1.1617999087632587, -1.8744766266033046, 0.04249487946173756, -0.27310822473698654, 0.08953567673202818, 0.9321519847205323, -0.7901851679583582, 0.43921752031434347, -0.8077884830291779, 1.4627975973322422, 0.9795913558289675, -0.4743917350346864]}, {\"boxpoints\": false, \"line\": {\"width\": 1.3}, \"marker\": {\"color\": \"rgba(50, 171, 96, 1.0)\"}, \"name\": \"C\", \"orientation\": \"v\", \"type\": \"box\", \"y\": [-2.050959337282939, -0.623135714654621, -0.9030838504023444, -0.8846787432223958, 2.6741827735425394, -0.6354285944956553, -1.8496808811668934, -0.2547811416970197, -0.055681456337364384, -1.3944181938604423, -1.2902927400307336, 0.6698919790212503, 0.34643521789445736, -0.6967082806152699, -0.3212602648296973, 1.7091491299614885, -0.5596189805447361, -0.525562784078486, -0.48049821825529065, -0.6346130652937808, 0.47830738377493814, 0.7156755848555739, 1.4980374410115829, 0.019052087924581036, -0.18201191885345414, -1.6588634578354686, -1.4828119493830143, -0.09216441630414798, -0.14553423644609612, -0.7794985383640196, -1.7350551083837469, 0.8011445176125315, -0.3657053034107941, 0.35222604176811234, -0.09434046490071221, 0.27955154174741587, -0.47681326929380946, -1.4685668326584544, 0.253437219952115, -0.1393600585054475, 0.5111332871252802, 1.966687474163078, 1.7827345360633533, 1.3365900682657514, 0.22922232264662673, 1.2412879016957008, 0.17669427807060434, 1.2102070043185542, 0.9481346148415118, -0.7672110846043504, 0.6779070484347443, -0.2478682667913302, 0.005290125348690879, -0.7278639297732168, 0.06953868587956952, -0.7252599174323642, 0.9075663142325777, -1.357704195417472, 1.2337390673840867, -1.5435650693835654, -1.8384710286781478, -0.3654452753253253, 0.5368726545742358, 0.15820260819638846, 1.1688891296948416, 0.7204814075390948, 0.6756862921836863, 0.8556117363426601, -0.5953676095033376, 0.5185636488627283, 0.25262453251756867, -0.4431075174340808, -1.508605467632452, -0.6206387803373581, -0.4824311953164388, -1.233241584706174, 1.061749004442179, 0.12292683966608829, 0.0228518775722601, -1.2693591727320208, 1.5670749867806724, -0.658579805547281, 0.9816083662621841, -0.7237472802729957, -2.2476477755687774, -1.1457021217696113, -1.3170117279424052, -0.29420173341177985, -0.08004309491360784, -0.6533971663994066, -0.21402171159214076, 1.0913202896398457, 0.15607455217360325, -1.1458514538797409, 2.383439127433773, 0.7722722931324618, 1.035267730994433, -0.16931970693807658, -0.08934031514353971, -0.40305055397493394]}, {\"boxpoints\": false, \"line\": {\"width\": 1.3}, \"marker\": {\"color\": \"rgba(128, 0, 128, 1.0)\"}, \"name\": \"D\", \"orientation\": \"v\", \"type\": \"box\", \"y\": [-2.45621934851348, -0.49738336039943415, 1.0108981951075882, 0.4371166861850728, 0.8196645208336938, -0.2625102226319903, -0.8241370178729576, -0.23884566170418514, 0.28308329505532737, -0.129906715276062, 0.6388072941638956, -0.9611837323014758, -0.11309190392054783, -2.0193276671871643, -0.6116726473014742, 1.851123908738312, -0.23730695552545975, -0.49077189703582214, -1.209708462345313, -0.7336780104359398, 0.6122868341768868, -0.08826629915224017, 0.040203935430538205, -1.4395374503419898, -0.8108575205014021, 0.6383840839063878, -0.6046071651978742, 0.10442668741813448, 0.187852848471582, 0.09516650285139858, -1.4379657756666862, -1.3995467804226953, -2.4400939453465926, 1.357068116169183, 0.675741665746478, 0.8288586832135476, 0.42379217923617585, -1.6765730171493463, 1.1239018130698488, -1.499624055006214, 0.900580921839038, -0.5228656297420218, 1.3972028758224073, 1.0456152430440662, -0.5584210258399632, -0.7254461638054707, 2.429921842197925, 0.26687240959263203, -1.5752830944648926, -0.0645244140536077, 2.0221467606315944, -0.8115737932181631, -0.03953346571061237, 0.3430560115673913, -0.678314414616606, 0.7671270289936455, -0.8352815835060328, 0.2625005834790334, 0.6394229699144892, 0.5744480532482673, 0.9687296756953383, 0.5281467997654329, 0.7583808354729975, 0.01008733722285285, -0.06386984596535984, 0.6164890002338478, -0.9804120873817879, -1.2995248798407089, 1.066126626588423, 2.2125011388403535, 1.0918321914430453, 0.5393123108233898, 0.8237643386872351, 0.596304819634739, 0.1551546937964348, -1.5255989307894378, -1.1431078143337003, 1.2967382341855007, 0.8990445838252091, -0.6711455782326923, -0.6162025218962328, 0.622278697790318, 0.16679223213883906, 2.9127403911622443, -0.27152961576738033, -1.238501904868217, -0.16835336724025413, 0.6378914389587478, 0.4677712941488029, 0.5495489487295442, -0.17931304232859252, -0.40814840097137234, 1.9677139393195497, 0.7851712092376301, -0.7656167328768418, -0.5536626665172183, -0.02963446605538179, 0.1923114466917884, 1.1345729810559975, -0.9630839809637665]}],\n",
       "                        {\"legend\": {\"bgcolor\": \"#F5F6F9\", \"font\": {\"color\": \"#4D5663\"}}, \"paper_bgcolor\": \"#F5F6F9\", \"plot_bgcolor\": \"#F5F6F9\", \"template\": {\"data\": {\"bar\": [{\"error_x\": {\"color\": \"#2a3f5f\"}, \"error_y\": {\"color\": \"#2a3f5f\"}, \"marker\": {\"line\": {\"color\": \"#E5ECF6\", \"width\": 0.5}}, \"type\": \"bar\"}], \"barpolar\": [{\"marker\": {\"line\": {\"color\": \"#E5ECF6\", \"width\": 0.5}}, \"type\": \"barpolar\"}], \"carpet\": [{\"aaxis\": {\"endlinecolor\": \"#2a3f5f\", \"gridcolor\": \"white\", \"linecolor\": \"white\", \"minorgridcolor\": \"white\", \"startlinecolor\": \"#2a3f5f\"}, \"baxis\": {\"endlinecolor\": \"#2a3f5f\", \"gridcolor\": \"white\", \"linecolor\": \"white\", \"minorgridcolor\": \"white\", \"startlinecolor\": \"#2a3f5f\"}, \"type\": \"carpet\"}], \"choropleth\": [{\"colorbar\": {\"outlinewidth\": 0, \"ticks\": \"\"}, \"type\": \"choropleth\"}], \"contour\": [{\"colorbar\": {\"outlinewidth\": 0, \"ticks\": \"\"}, \"colorscale\": [[0.0, \"#0d0887\"], [0.1111111111111111, \"#46039f\"], [0.2222222222222222, \"#7201a8\"], [0.3333333333333333, \"#9c179e\"], [0.4444444444444444, \"#bd3786\"], [0.5555555555555556, \"#d8576b\"], [0.6666666666666666, \"#ed7953\"], [0.7777777777777778, \"#fb9f3a\"], [0.8888888888888888, \"#fdca26\"], [1.0, \"#f0f921\"]], \"type\": \"contour\"}], \"contourcarpet\": [{\"colorbar\": {\"outlinewidth\": 0, \"ticks\": \"\"}, \"type\": \"contourcarpet\"}], \"heatmap\": [{\"colorbar\": {\"outlinewidth\": 0, \"ticks\": \"\"}, \"colorscale\": [[0.0, \"#0d0887\"], [0.1111111111111111, \"#46039f\"], [0.2222222222222222, \"#7201a8\"], [0.3333333333333333, \"#9c179e\"], [0.4444444444444444, \"#bd3786\"], [0.5555555555555556, \"#d8576b\"], [0.6666666666666666, \"#ed7953\"], [0.7777777777777778, \"#fb9f3a\"], [0.8888888888888888, \"#fdca26\"], [1.0, \"#f0f921\"]], \"type\": \"heatmap\"}], \"heatmapgl\": [{\"colorbar\": {\"outlinewidth\": 0, \"ticks\": \"\"}, \"colorscale\": [[0.0, \"#0d0887\"], [0.1111111111111111, \"#46039f\"], [0.2222222222222222, \"#7201a8\"], [0.3333333333333333, \"#9c179e\"], [0.4444444444444444, \"#bd3786\"], [0.5555555555555556, \"#d8576b\"], [0.6666666666666666, \"#ed7953\"], [0.7777777777777778, \"#fb9f3a\"], [0.8888888888888888, \"#fdca26\"], [1.0, \"#f0f921\"]], \"type\": \"heatmapgl\"}], \"histogram\": [{\"marker\": {\"colorbar\": {\"outlinewidth\": 0, \"ticks\": \"\"}}, \"type\": \"histogram\"}], \"histogram2d\": [{\"colorbar\": {\"outlinewidth\": 0, \"ticks\": \"\"}, \"colorscale\": [[0.0, \"#0d0887\"], [0.1111111111111111, \"#46039f\"], [0.2222222222222222, \"#7201a8\"], [0.3333333333333333, \"#9c179e\"], [0.4444444444444444, \"#bd3786\"], [0.5555555555555556, \"#d8576b\"], [0.6666666666666666, \"#ed7953\"], [0.7777777777777778, \"#fb9f3a\"], [0.8888888888888888, \"#fdca26\"], [1.0, \"#f0f921\"]], \"type\": \"histogram2d\"}], \"histogram2dcontour\": [{\"colorbar\": {\"outlinewidth\": 0, \"ticks\": \"\"}, \"colorscale\": [[0.0, \"#0d0887\"], [0.1111111111111111, \"#46039f\"], [0.2222222222222222, \"#7201a8\"], [0.3333333333333333, \"#9c179e\"], [0.4444444444444444, \"#bd3786\"], [0.5555555555555556, \"#d8576b\"], [0.6666666666666666, \"#ed7953\"], [0.7777777777777778, \"#fb9f3a\"], [0.8888888888888888, \"#fdca26\"], [1.0, \"#f0f921\"]], \"type\": \"histogram2dcontour\"}], \"mesh3d\": [{\"colorbar\": {\"outlinewidth\": 0, \"ticks\": \"\"}, \"type\": \"mesh3d\"}], \"parcoords\": [{\"line\": {\"colorbar\": {\"outlinewidth\": 0, \"ticks\": \"\"}}, \"type\": \"parcoords\"}], \"pie\": [{\"automargin\": true, \"type\": \"pie\"}], \"scatter\": [{\"marker\": {\"colorbar\": {\"outlinewidth\": 0, \"ticks\": \"\"}}, \"type\": \"scatter\"}], \"scatter3d\": [{\"line\": {\"colorbar\": {\"outlinewidth\": 0, \"ticks\": \"\"}}, \"marker\": {\"colorbar\": {\"outlinewidth\": 0, \"ticks\": \"\"}}, \"type\": \"scatter3d\"}], \"scattercarpet\": [{\"marker\": {\"colorbar\": {\"outlinewidth\": 0, \"ticks\": \"\"}}, \"type\": \"scattercarpet\"}], \"scattergeo\": [{\"marker\": {\"colorbar\": {\"outlinewidth\": 0, \"ticks\": \"\"}}, \"type\": \"scattergeo\"}], \"scattergl\": [{\"marker\": {\"colorbar\": {\"outlinewidth\": 0, \"ticks\": \"\"}}, \"type\": \"scattergl\"}], \"scattermapbox\": [{\"marker\": {\"colorbar\": {\"outlinewidth\": 0, \"ticks\": \"\"}}, \"type\": \"scattermapbox\"}], \"scatterpolar\": [{\"marker\": {\"colorbar\": {\"outlinewidth\": 0, \"ticks\": \"\"}}, \"type\": \"scatterpolar\"}], \"scatterpolargl\": [{\"marker\": {\"colorbar\": {\"outlinewidth\": 0, \"ticks\": \"\"}}, \"type\": \"scatterpolargl\"}], \"scatterternary\": [{\"marker\": {\"colorbar\": {\"outlinewidth\": 0, \"ticks\": \"\"}}, \"type\": \"scatterternary\"}], \"surface\": [{\"colorbar\": {\"outlinewidth\": 0, \"ticks\": \"\"}, \"colorscale\": [[0.0, \"#0d0887\"], [0.1111111111111111, \"#46039f\"], [0.2222222222222222, \"#7201a8\"], [0.3333333333333333, \"#9c179e\"], [0.4444444444444444, \"#bd3786\"], [0.5555555555555556, \"#d8576b\"], [0.6666666666666666, \"#ed7953\"], [0.7777777777777778, \"#fb9f3a\"], [0.8888888888888888, \"#fdca26\"], [1.0, \"#f0f921\"]], \"type\": \"surface\"}], \"table\": [{\"cells\": {\"fill\": {\"color\": \"#EBF0F8\"}, \"line\": {\"color\": \"white\"}}, \"header\": {\"fill\": {\"color\": \"#C8D4E3\"}, \"line\": {\"color\": \"white\"}}, \"type\": \"table\"}]}, \"layout\": {\"annotationdefaults\": {\"arrowcolor\": \"#2a3f5f\", \"arrowhead\": 0, \"arrowwidth\": 1}, \"coloraxis\": {\"colorbar\": {\"outlinewidth\": 0, \"ticks\": \"\"}}, \"colorscale\": {\"diverging\": [[0, \"#8e0152\"], [0.1, \"#c51b7d\"], [0.2, \"#de77ae\"], [0.3, \"#f1b6da\"], [0.4, \"#fde0ef\"], [0.5, \"#f7f7f7\"], [0.6, \"#e6f5d0\"], [0.7, \"#b8e186\"], [0.8, \"#7fbc41\"], [0.9, \"#4d9221\"], [1, \"#276419\"]], \"sequential\": [[0.0, \"#0d0887\"], [0.1111111111111111, \"#46039f\"], [0.2222222222222222, \"#7201a8\"], [0.3333333333333333, \"#9c179e\"], [0.4444444444444444, \"#bd3786\"], [0.5555555555555556, \"#d8576b\"], [0.6666666666666666, \"#ed7953\"], [0.7777777777777778, \"#fb9f3a\"], [0.8888888888888888, \"#fdca26\"], [1.0, \"#f0f921\"]], \"sequentialminus\": [[0.0, \"#0d0887\"], [0.1111111111111111, \"#46039f\"], [0.2222222222222222, \"#7201a8\"], [0.3333333333333333, \"#9c179e\"], [0.4444444444444444, \"#bd3786\"], [0.5555555555555556, \"#d8576b\"], [0.6666666666666666, \"#ed7953\"], [0.7777777777777778, \"#fb9f3a\"], [0.8888888888888888, \"#fdca26\"], [1.0, \"#f0f921\"]]}, \"colorway\": [\"#636efa\", \"#EF553B\", \"#00cc96\", \"#ab63fa\", \"#FFA15A\", \"#19d3f3\", \"#FF6692\", \"#B6E880\", \"#FF97FF\", \"#FECB52\"], \"font\": {\"color\": \"#2a3f5f\"}, \"geo\": {\"bgcolor\": \"white\", \"lakecolor\": \"white\", \"landcolor\": \"#E5ECF6\", \"showlakes\": true, \"showland\": true, \"subunitcolor\": \"white\"}, \"hoverlabel\": {\"align\": \"left\"}, \"hovermode\": \"closest\", \"mapbox\": {\"style\": \"light\"}, \"paper_bgcolor\": \"white\", \"plot_bgcolor\": \"#E5ECF6\", \"polar\": {\"angularaxis\": {\"gridcolor\": \"white\", \"linecolor\": \"white\", \"ticks\": \"\"}, \"bgcolor\": \"#E5ECF6\", \"radialaxis\": {\"gridcolor\": \"white\", \"linecolor\": \"white\", \"ticks\": \"\"}}, \"scene\": {\"xaxis\": {\"backgroundcolor\": \"#E5ECF6\", \"gridcolor\": \"white\", \"gridwidth\": 2, \"linecolor\": \"white\", \"showbackground\": true, \"ticks\": \"\", \"zerolinecolor\": \"white\"}, \"yaxis\": {\"backgroundcolor\": \"#E5ECF6\", \"gridcolor\": \"white\", \"gridwidth\": 2, \"linecolor\": \"white\", \"showbackground\": true, \"ticks\": \"\", \"zerolinecolor\": \"white\"}, \"zaxis\": {\"backgroundcolor\": \"#E5ECF6\", \"gridcolor\": \"white\", \"gridwidth\": 2, \"linecolor\": \"white\", \"showbackground\": true, \"ticks\": \"\", \"zerolinecolor\": \"white\"}}, \"shapedefaults\": {\"line\": {\"color\": \"#2a3f5f\"}}, \"ternary\": {\"aaxis\": {\"gridcolor\": \"white\", \"linecolor\": \"white\", \"ticks\": \"\"}, \"baxis\": {\"gridcolor\": \"white\", \"linecolor\": \"white\", \"ticks\": \"\"}, \"bgcolor\": \"#E5ECF6\", \"caxis\": {\"gridcolor\": \"white\", \"linecolor\": \"white\", \"ticks\": \"\"}}, \"title\": {\"x\": 0.05}, \"xaxis\": {\"automargin\": true, \"gridcolor\": \"white\", \"linecolor\": \"white\", \"ticks\": \"\", \"title\": {\"standoff\": 15}, \"zerolinecolor\": \"white\", \"zerolinewidth\": 2}, \"yaxis\": {\"automargin\": true, \"gridcolor\": \"white\", \"linecolor\": \"white\", \"ticks\": \"\", \"title\": {\"standoff\": 15}, \"zerolinecolor\": \"white\", \"zerolinewidth\": 2}}}, \"title\": {\"font\": {\"color\": \"#4D5663\"}}, \"xaxis\": {\"gridcolor\": \"#E1E5ED\", \"showgrid\": true, \"tickfont\": {\"color\": \"#4D5663\"}, \"title\": {\"font\": {\"color\": \"#4D5663\"}, \"text\": \"\"}, \"zerolinecolor\": \"#E1E5ED\"}, \"yaxis\": {\"gridcolor\": \"#E1E5ED\", \"showgrid\": true, \"tickfont\": {\"color\": \"#4D5663\"}, \"title\": {\"font\": {\"color\": \"#4D5663\"}, \"text\": \"\"}, \"zerolinecolor\": \"#E1E5ED\"}},\n",
       "                        {\"showLink\": true, \"linkText\": \"Export to plot.ly\", \"plotlyServerURL\": \"https://plot.ly\", \"responsive\": true}\n",
       "                    ).then(function(){\n",
       "                            \n",
       "var gd = document.getElementById('3a8a1b6c-3fdf-4410-a24e-f3403074a241');\n",
       "var x = new MutationObserver(function (mutations, observer) {{\n",
       "        var display = window.getComputedStyle(gd).display;\n",
       "        if (!display || display === 'none') {{\n",
       "            console.log([gd, 'removed!']);\n",
       "            Plotly.purge(gd);\n",
       "            observer.disconnect();\n",
       "        }}\n",
       "}});\n",
       "\n",
       "// Listen for the removal of the full notebook cells\n",
       "var notebookContainer = gd.closest('#notebook-container');\n",
       "if (notebookContainer) {{\n",
       "    x.observe(notebookContainer, {childList: true});\n",
       "}}\n",
       "\n",
       "// Listen for the clearing of the current output cell\n",
       "var outputEl = gd.closest('.output');\n",
       "if (outputEl) {{\n",
       "    x.observe(outputEl, {childList: true});\n",
       "}}\n",
       "\n",
       "                        })\n",
       "                };\n",
       "                });\n",
       "            </script>\n",
       "        </div>"
      ]
     },
     "metadata": {},
     "output_type": "display_data"
    }
   ],
   "source": [
    "df.iplot(kind = 'box')"
   ]
  },
  {
   "cell_type": "markdown",
   "metadata": {},
   "source": [
    "## Surface plot (3D plot)"
   ]
  },
  {
   "cell_type": "code",
   "execution_count": 37,
   "metadata": {},
   "outputs": [
    {
     "data": {
      "text/html": [
       "<div>\n",
       "<style scoped>\n",
       "    .dataframe tbody tr th:only-of-type {\n",
       "        vertical-align: middle;\n",
       "    }\n",
       "\n",
       "    .dataframe tbody tr th {\n",
       "        vertical-align: top;\n",
       "    }\n",
       "\n",
       "    .dataframe thead th {\n",
       "        text-align: right;\n",
       "    }\n",
       "</style>\n",
       "<table border=\"1\" class=\"dataframe\">\n",
       "  <thead>\n",
       "    <tr style=\"text-align: right;\">\n",
       "      <th></th>\n",
       "      <th>x</th>\n",
       "      <th>y</th>\n",
       "      <th>z</th>\n",
       "    </tr>\n",
       "  </thead>\n",
       "  <tbody>\n",
       "    <tr>\n",
       "      <th>0</th>\n",
       "      <td>1</td>\n",
       "      <td>10</td>\n",
       "      <td>5</td>\n",
       "    </tr>\n",
       "    <tr>\n",
       "      <th>1</th>\n",
       "      <td>2</td>\n",
       "      <td>20</td>\n",
       "      <td>4</td>\n",
       "    </tr>\n",
       "    <tr>\n",
       "      <th>2</th>\n",
       "      <td>3</td>\n",
       "      <td>30</td>\n",
       "      <td>3</td>\n",
       "    </tr>\n",
       "    <tr>\n",
       "      <th>3</th>\n",
       "      <td>4</td>\n",
       "      <td>20</td>\n",
       "      <td>2</td>\n",
       "    </tr>\n",
       "    <tr>\n",
       "      <th>4</th>\n",
       "      <td>5</td>\n",
       "      <td>10</td>\n",
       "      <td>1</td>\n",
       "    </tr>\n",
       "  </tbody>\n",
       "</table>\n",
       "</div>"
      ],
      "text/plain": [
       "   x   y  z\n",
       "0  1  10  5\n",
       "1  2  20  4\n",
       "2  3  30  3\n",
       "3  4  20  2\n",
       "4  5  10  1"
      ]
     },
     "execution_count": 37,
     "metadata": {},
     "output_type": "execute_result"
    }
   ],
   "source": [
    "df3 = pd.DataFrame({'x':[1,2,3,4,5],'y':[10,20,30,20,10],'z':[5,4,3,2,1]})\n",
    "df3"
   ]
  },
  {
   "cell_type": "code",
   "execution_count": 56,
   "metadata": {},
   "outputs": [
    {
     "data": {
      "application/vnd.plotly.v1+json": {
       "config": {
        "linkText": "Export to plot.ly",
        "plotlyServerURL": "https://plot.ly",
        "showLink": true
       },
       "data": [
        {
         "colorscale": [
          [
           0,
           "rgb(255,255,217)"
          ],
          [
           0.125,
           "rgb(237,248,177)"
          ],
          [
           0.25,
           "rgb(199,233,180)"
          ],
          [
           0.375,
           "rgb(127,205,187)"
          ],
          [
           0.5,
           "rgb(65,182,196)"
          ],
          [
           0.625,
           "rgb(29,145,192)"
          ],
          [
           0.75,
           "rgb(34,94,168)"
          ],
          [
           0.875,
           "rgb(37,52,148)"
          ],
          [
           1,
           "rgb(8,29,88)"
          ]
         ],
         "type": "surface",
         "x": [
          0,
          1,
          2,
          3,
          4
         ],
         "y": [
          "x",
          "y",
          "z"
         ],
         "z": [
          [
           1,
           2,
           3,
           4,
           5
          ],
          [
           10,
           20,
           30,
           20,
           10
          ],
          [
           5,
           4,
           3,
           2,
           1
          ]
         ]
        }
       ],
       "layout": {
        "legend": {
         "bgcolor": "#F5F6F9",
         "font": {
          "color": "#4D5663"
         }
        },
        "paper_bgcolor": "#F5F6F9",
        "plot_bgcolor": "#F5F6F9",
        "template": {
         "data": {
          "bar": [
           {
            "error_x": {
             "color": "#2a3f5f"
            },
            "error_y": {
             "color": "#2a3f5f"
            },
            "marker": {
             "line": {
              "color": "#E5ECF6",
              "width": 0.5
             }
            },
            "type": "bar"
           }
          ],
          "barpolar": [
           {
            "marker": {
             "line": {
              "color": "#E5ECF6",
              "width": 0.5
             }
            },
            "type": "barpolar"
           }
          ],
          "carpet": [
           {
            "aaxis": {
             "endlinecolor": "#2a3f5f",
             "gridcolor": "white",
             "linecolor": "white",
             "minorgridcolor": "white",
             "startlinecolor": "#2a3f5f"
            },
            "baxis": {
             "endlinecolor": "#2a3f5f",
             "gridcolor": "white",
             "linecolor": "white",
             "minorgridcolor": "white",
             "startlinecolor": "#2a3f5f"
            },
            "type": "carpet"
           }
          ],
          "choropleth": [
           {
            "colorbar": {
             "outlinewidth": 0,
             "ticks": ""
            },
            "type": "choropleth"
           }
          ],
          "contour": [
           {
            "colorbar": {
             "outlinewidth": 0,
             "ticks": ""
            },
            "colorscale": [
             [
              0,
              "#0d0887"
             ],
             [
              0.1111111111111111,
              "#46039f"
             ],
             [
              0.2222222222222222,
              "#7201a8"
             ],
             [
              0.3333333333333333,
              "#9c179e"
             ],
             [
              0.4444444444444444,
              "#bd3786"
             ],
             [
              0.5555555555555556,
              "#d8576b"
             ],
             [
              0.6666666666666666,
              "#ed7953"
             ],
             [
              0.7777777777777778,
              "#fb9f3a"
             ],
             [
              0.8888888888888888,
              "#fdca26"
             ],
             [
              1,
              "#f0f921"
             ]
            ],
            "type": "contour"
           }
          ],
          "contourcarpet": [
           {
            "colorbar": {
             "outlinewidth": 0,
             "ticks": ""
            },
            "type": "contourcarpet"
           }
          ],
          "heatmap": [
           {
            "colorbar": {
             "outlinewidth": 0,
             "ticks": ""
            },
            "colorscale": [
             [
              0,
              "#0d0887"
             ],
             [
              0.1111111111111111,
              "#46039f"
             ],
             [
              0.2222222222222222,
              "#7201a8"
             ],
             [
              0.3333333333333333,
              "#9c179e"
             ],
             [
              0.4444444444444444,
              "#bd3786"
             ],
             [
              0.5555555555555556,
              "#d8576b"
             ],
             [
              0.6666666666666666,
              "#ed7953"
             ],
             [
              0.7777777777777778,
              "#fb9f3a"
             ],
             [
              0.8888888888888888,
              "#fdca26"
             ],
             [
              1,
              "#f0f921"
             ]
            ],
            "type": "heatmap"
           }
          ],
          "heatmapgl": [
           {
            "colorbar": {
             "outlinewidth": 0,
             "ticks": ""
            },
            "colorscale": [
             [
              0,
              "#0d0887"
             ],
             [
              0.1111111111111111,
              "#46039f"
             ],
             [
              0.2222222222222222,
              "#7201a8"
             ],
             [
              0.3333333333333333,
              "#9c179e"
             ],
             [
              0.4444444444444444,
              "#bd3786"
             ],
             [
              0.5555555555555556,
              "#d8576b"
             ],
             [
              0.6666666666666666,
              "#ed7953"
             ],
             [
              0.7777777777777778,
              "#fb9f3a"
             ],
             [
              0.8888888888888888,
              "#fdca26"
             ],
             [
              1,
              "#f0f921"
             ]
            ],
            "type": "heatmapgl"
           }
          ],
          "histogram": [
           {
            "marker": {
             "colorbar": {
              "outlinewidth": 0,
              "ticks": ""
             }
            },
            "type": "histogram"
           }
          ],
          "histogram2d": [
           {
            "colorbar": {
             "outlinewidth": 0,
             "ticks": ""
            },
            "colorscale": [
             [
              0,
              "#0d0887"
             ],
             [
              0.1111111111111111,
              "#46039f"
             ],
             [
              0.2222222222222222,
              "#7201a8"
             ],
             [
              0.3333333333333333,
              "#9c179e"
             ],
             [
              0.4444444444444444,
              "#bd3786"
             ],
             [
              0.5555555555555556,
              "#d8576b"
             ],
             [
              0.6666666666666666,
              "#ed7953"
             ],
             [
              0.7777777777777778,
              "#fb9f3a"
             ],
             [
              0.8888888888888888,
              "#fdca26"
             ],
             [
              1,
              "#f0f921"
             ]
            ],
            "type": "histogram2d"
           }
          ],
          "histogram2dcontour": [
           {
            "colorbar": {
             "outlinewidth": 0,
             "ticks": ""
            },
            "colorscale": [
             [
              0,
              "#0d0887"
             ],
             [
              0.1111111111111111,
              "#46039f"
             ],
             [
              0.2222222222222222,
              "#7201a8"
             ],
             [
              0.3333333333333333,
              "#9c179e"
             ],
             [
              0.4444444444444444,
              "#bd3786"
             ],
             [
              0.5555555555555556,
              "#d8576b"
             ],
             [
              0.6666666666666666,
              "#ed7953"
             ],
             [
              0.7777777777777778,
              "#fb9f3a"
             ],
             [
              0.8888888888888888,
              "#fdca26"
             ],
             [
              1,
              "#f0f921"
             ]
            ],
            "type": "histogram2dcontour"
           }
          ],
          "mesh3d": [
           {
            "colorbar": {
             "outlinewidth": 0,
             "ticks": ""
            },
            "type": "mesh3d"
           }
          ],
          "parcoords": [
           {
            "line": {
             "colorbar": {
              "outlinewidth": 0,
              "ticks": ""
             }
            },
            "type": "parcoords"
           }
          ],
          "pie": [
           {
            "automargin": true,
            "type": "pie"
           }
          ],
          "scatter": [
           {
            "marker": {
             "colorbar": {
              "outlinewidth": 0,
              "ticks": ""
             }
            },
            "type": "scatter"
           }
          ],
          "scatter3d": [
           {
            "line": {
             "colorbar": {
              "outlinewidth": 0,
              "ticks": ""
             }
            },
            "marker": {
             "colorbar": {
              "outlinewidth": 0,
              "ticks": ""
             }
            },
            "type": "scatter3d"
           }
          ],
          "scattercarpet": [
           {
            "marker": {
             "colorbar": {
              "outlinewidth": 0,
              "ticks": ""
             }
            },
            "type": "scattercarpet"
           }
          ],
          "scattergeo": [
           {
            "marker": {
             "colorbar": {
              "outlinewidth": 0,
              "ticks": ""
             }
            },
            "type": "scattergeo"
           }
          ],
          "scattergl": [
           {
            "marker": {
             "colorbar": {
              "outlinewidth": 0,
              "ticks": ""
             }
            },
            "type": "scattergl"
           }
          ],
          "scattermapbox": [
           {
            "marker": {
             "colorbar": {
              "outlinewidth": 0,
              "ticks": ""
             }
            },
            "type": "scattermapbox"
           }
          ],
          "scatterpolar": [
           {
            "marker": {
             "colorbar": {
              "outlinewidth": 0,
              "ticks": ""
             }
            },
            "type": "scatterpolar"
           }
          ],
          "scatterpolargl": [
           {
            "marker": {
             "colorbar": {
              "outlinewidth": 0,
              "ticks": ""
             }
            },
            "type": "scatterpolargl"
           }
          ],
          "scatterternary": [
           {
            "marker": {
             "colorbar": {
              "outlinewidth": 0,
              "ticks": ""
             }
            },
            "type": "scatterternary"
           }
          ],
          "surface": [
           {
            "colorbar": {
             "outlinewidth": 0,
             "ticks": ""
            },
            "colorscale": [
             [
              0,
              "#0d0887"
             ],
             [
              0.1111111111111111,
              "#46039f"
             ],
             [
              0.2222222222222222,
              "#7201a8"
             ],
             [
              0.3333333333333333,
              "#9c179e"
             ],
             [
              0.4444444444444444,
              "#bd3786"
             ],
             [
              0.5555555555555556,
              "#d8576b"
             ],
             [
              0.6666666666666666,
              "#ed7953"
             ],
             [
              0.7777777777777778,
              "#fb9f3a"
             ],
             [
              0.8888888888888888,
              "#fdca26"
             ],
             [
              1,
              "#f0f921"
             ]
            ],
            "type": "surface"
           }
          ],
          "table": [
           {
            "cells": {
             "fill": {
              "color": "#EBF0F8"
             },
             "line": {
              "color": "white"
             }
            },
            "header": {
             "fill": {
              "color": "#C8D4E3"
             },
             "line": {
              "color": "white"
             }
            },
            "type": "table"
           }
          ]
         },
         "layout": {
          "annotationdefaults": {
           "arrowcolor": "#2a3f5f",
           "arrowhead": 0,
           "arrowwidth": 1
          },
          "coloraxis": {
           "colorbar": {
            "outlinewidth": 0,
            "ticks": ""
           }
          },
          "colorscale": {
           "diverging": [
            [
             0,
             "#8e0152"
            ],
            [
             0.1,
             "#c51b7d"
            ],
            [
             0.2,
             "#de77ae"
            ],
            [
             0.3,
             "#f1b6da"
            ],
            [
             0.4,
             "#fde0ef"
            ],
            [
             0.5,
             "#f7f7f7"
            ],
            [
             0.6,
             "#e6f5d0"
            ],
            [
             0.7,
             "#b8e186"
            ],
            [
             0.8,
             "#7fbc41"
            ],
            [
             0.9,
             "#4d9221"
            ],
            [
             1,
             "#276419"
            ]
           ],
           "sequential": [
            [
             0,
             "#0d0887"
            ],
            [
             0.1111111111111111,
             "#46039f"
            ],
            [
             0.2222222222222222,
             "#7201a8"
            ],
            [
             0.3333333333333333,
             "#9c179e"
            ],
            [
             0.4444444444444444,
             "#bd3786"
            ],
            [
             0.5555555555555556,
             "#d8576b"
            ],
            [
             0.6666666666666666,
             "#ed7953"
            ],
            [
             0.7777777777777778,
             "#fb9f3a"
            ],
            [
             0.8888888888888888,
             "#fdca26"
            ],
            [
             1,
             "#f0f921"
            ]
           ],
           "sequentialminus": [
            [
             0,
             "#0d0887"
            ],
            [
             0.1111111111111111,
             "#46039f"
            ],
            [
             0.2222222222222222,
             "#7201a8"
            ],
            [
             0.3333333333333333,
             "#9c179e"
            ],
            [
             0.4444444444444444,
             "#bd3786"
            ],
            [
             0.5555555555555556,
             "#d8576b"
            ],
            [
             0.6666666666666666,
             "#ed7953"
            ],
            [
             0.7777777777777778,
             "#fb9f3a"
            ],
            [
             0.8888888888888888,
             "#fdca26"
            ],
            [
             1,
             "#f0f921"
            ]
           ]
          },
          "colorway": [
           "#636efa",
           "#EF553B",
           "#00cc96",
           "#ab63fa",
           "#FFA15A",
           "#19d3f3",
           "#FF6692",
           "#B6E880",
           "#FF97FF",
           "#FECB52"
          ],
          "font": {
           "color": "#2a3f5f"
          },
          "geo": {
           "bgcolor": "white",
           "lakecolor": "white",
           "landcolor": "#E5ECF6",
           "showlakes": true,
           "showland": true,
           "subunitcolor": "white"
          },
          "hoverlabel": {
           "align": "left"
          },
          "hovermode": "closest",
          "mapbox": {
           "style": "light"
          },
          "paper_bgcolor": "white",
          "plot_bgcolor": "#E5ECF6",
          "polar": {
           "angularaxis": {
            "gridcolor": "white",
            "linecolor": "white",
            "ticks": ""
           },
           "bgcolor": "#E5ECF6",
           "radialaxis": {
            "gridcolor": "white",
            "linecolor": "white",
            "ticks": ""
           }
          },
          "scene": {
           "xaxis": {
            "backgroundcolor": "#E5ECF6",
            "gridcolor": "white",
            "gridwidth": 2,
            "linecolor": "white",
            "showbackground": true,
            "ticks": "",
            "zerolinecolor": "white"
           },
           "yaxis": {
            "backgroundcolor": "#E5ECF6",
            "gridcolor": "white",
            "gridwidth": 2,
            "linecolor": "white",
            "showbackground": true,
            "ticks": "",
            "zerolinecolor": "white"
           },
           "zaxis": {
            "backgroundcolor": "#E5ECF6",
            "gridcolor": "white",
            "gridwidth": 2,
            "linecolor": "white",
            "showbackground": true,
            "ticks": "",
            "zerolinecolor": "white"
           }
          },
          "shapedefaults": {
           "line": {
            "color": "#2a3f5f"
           }
          },
          "ternary": {
           "aaxis": {
            "gridcolor": "white",
            "linecolor": "white",
            "ticks": ""
           },
           "baxis": {
            "gridcolor": "white",
            "linecolor": "white",
            "ticks": ""
           },
           "bgcolor": "#E5ECF6",
           "caxis": {
            "gridcolor": "white",
            "linecolor": "white",
            "ticks": ""
           }
          },
          "title": {
           "x": 0.05
          },
          "xaxis": {
           "automargin": true,
           "gridcolor": "white",
           "linecolor": "white",
           "ticks": "",
           "title": {
            "standoff": 15
           },
           "zerolinecolor": "white",
           "zerolinewidth": 2
          },
          "yaxis": {
           "automargin": true,
           "gridcolor": "white",
           "linecolor": "white",
           "ticks": "",
           "title": {
            "standoff": 15
           },
           "zerolinecolor": "white",
           "zerolinewidth": 2
          }
         }
        },
        "title": {
         "font": {
          "color": "#4D5663"
         }
        },
        "xaxis": {
         "gridcolor": "#E1E5ED",
         "showgrid": true,
         "tickfont": {
          "color": "#4D5663"
         },
         "title": {
          "font": {
           "color": "#4D5663"
          },
          "text": ""
         },
         "zerolinecolor": "#E1E5ED"
        },
        "yaxis": {
         "gridcolor": "#E1E5ED",
         "showgrid": true,
         "tickfont": {
          "color": "#4D5663"
         },
         "title": {
          "font": {
           "color": "#4D5663"
          },
          "text": ""
         },
         "zerolinecolor": "#E1E5ED"
        }
       }
      },
      "text/html": [
       "<div>\n",
       "        \n",
       "        \n",
       "            <div id=\"1574fca5-6059-4021-aad2-2f3644f8d667\" class=\"plotly-graph-div\" style=\"height:525px; width:100%;\"></div>\n",
       "            <script type=\"text/javascript\">\n",
       "                require([\"plotly\"], function(Plotly) {\n",
       "                    window.PLOTLYENV=window.PLOTLYENV || {};\n",
       "                    window.PLOTLYENV.BASE_URL='https://plot.ly';\n",
       "                    \n",
       "                if (document.getElementById(\"1574fca5-6059-4021-aad2-2f3644f8d667\")) {\n",
       "                    Plotly.newPlot(\n",
       "                        '1574fca5-6059-4021-aad2-2f3644f8d667',\n",
       "                        [{\"colorscale\": [[0.0, \"rgb(255,255,217)\"], [0.125, \"rgb(237,248,177)\"], [0.25, \"rgb(199,233,180)\"], [0.375, \"rgb(127,205,187)\"], [0.5, \"rgb(65,182,196)\"], [0.625, \"rgb(29,145,192)\"], [0.75, \"rgb(34,94,168)\"], [0.875, \"rgb(37,52,148)\"], [1.0, \"rgb(8,29,88)\"]], \"type\": \"surface\", \"x\": [0, 1, 2, 3, 4], \"y\": [\"x\", \"y\", \"z\"], \"z\": [[1, 2, 3, 4, 5], [10, 20, 30, 20, 10], [5, 4, 3, 2, 1]]}],\n",
       "                        {\"legend\": {\"bgcolor\": \"#F5F6F9\", \"font\": {\"color\": \"#4D5663\"}}, \"paper_bgcolor\": \"#F5F6F9\", \"plot_bgcolor\": \"#F5F6F9\", \"template\": {\"data\": {\"bar\": [{\"error_x\": {\"color\": \"#2a3f5f\"}, \"error_y\": {\"color\": \"#2a3f5f\"}, \"marker\": {\"line\": {\"color\": \"#E5ECF6\", \"width\": 0.5}}, \"type\": \"bar\"}], \"barpolar\": [{\"marker\": {\"line\": {\"color\": \"#E5ECF6\", \"width\": 0.5}}, \"type\": \"barpolar\"}], \"carpet\": [{\"aaxis\": {\"endlinecolor\": \"#2a3f5f\", \"gridcolor\": \"white\", \"linecolor\": \"white\", \"minorgridcolor\": \"white\", \"startlinecolor\": \"#2a3f5f\"}, \"baxis\": {\"endlinecolor\": \"#2a3f5f\", \"gridcolor\": \"white\", \"linecolor\": \"white\", \"minorgridcolor\": \"white\", \"startlinecolor\": \"#2a3f5f\"}, \"type\": \"carpet\"}], \"choropleth\": [{\"colorbar\": {\"outlinewidth\": 0, \"ticks\": \"\"}, \"type\": \"choropleth\"}], \"contour\": [{\"colorbar\": {\"outlinewidth\": 0, \"ticks\": \"\"}, \"colorscale\": [[0.0, \"#0d0887\"], [0.1111111111111111, \"#46039f\"], [0.2222222222222222, \"#7201a8\"], [0.3333333333333333, \"#9c179e\"], [0.4444444444444444, \"#bd3786\"], [0.5555555555555556, \"#d8576b\"], [0.6666666666666666, \"#ed7953\"], [0.7777777777777778, \"#fb9f3a\"], [0.8888888888888888, \"#fdca26\"], [1.0, \"#f0f921\"]], \"type\": \"contour\"}], \"contourcarpet\": [{\"colorbar\": {\"outlinewidth\": 0, \"ticks\": \"\"}, \"type\": \"contourcarpet\"}], \"heatmap\": [{\"colorbar\": {\"outlinewidth\": 0, \"ticks\": \"\"}, \"colorscale\": [[0.0, \"#0d0887\"], [0.1111111111111111, \"#46039f\"], [0.2222222222222222, \"#7201a8\"], [0.3333333333333333, \"#9c179e\"], [0.4444444444444444, \"#bd3786\"], [0.5555555555555556, \"#d8576b\"], [0.6666666666666666, \"#ed7953\"], [0.7777777777777778, \"#fb9f3a\"], [0.8888888888888888, \"#fdca26\"], [1.0, \"#f0f921\"]], \"type\": \"heatmap\"}], \"heatmapgl\": [{\"colorbar\": {\"outlinewidth\": 0, \"ticks\": \"\"}, \"colorscale\": [[0.0, \"#0d0887\"], [0.1111111111111111, \"#46039f\"], [0.2222222222222222, \"#7201a8\"], [0.3333333333333333, \"#9c179e\"], [0.4444444444444444, \"#bd3786\"], [0.5555555555555556, \"#d8576b\"], [0.6666666666666666, \"#ed7953\"], [0.7777777777777778, \"#fb9f3a\"], [0.8888888888888888, \"#fdca26\"], [1.0, \"#f0f921\"]], \"type\": \"heatmapgl\"}], \"histogram\": [{\"marker\": {\"colorbar\": {\"outlinewidth\": 0, \"ticks\": \"\"}}, \"type\": \"histogram\"}], \"histogram2d\": [{\"colorbar\": {\"outlinewidth\": 0, \"ticks\": \"\"}, \"colorscale\": [[0.0, \"#0d0887\"], [0.1111111111111111, \"#46039f\"], [0.2222222222222222, \"#7201a8\"], [0.3333333333333333, \"#9c179e\"], [0.4444444444444444, \"#bd3786\"], [0.5555555555555556, \"#d8576b\"], [0.6666666666666666, \"#ed7953\"], [0.7777777777777778, \"#fb9f3a\"], [0.8888888888888888, \"#fdca26\"], [1.0, \"#f0f921\"]], \"type\": \"histogram2d\"}], \"histogram2dcontour\": [{\"colorbar\": {\"outlinewidth\": 0, \"ticks\": \"\"}, \"colorscale\": [[0.0, \"#0d0887\"], [0.1111111111111111, \"#46039f\"], [0.2222222222222222, \"#7201a8\"], [0.3333333333333333, \"#9c179e\"], [0.4444444444444444, \"#bd3786\"], [0.5555555555555556, \"#d8576b\"], [0.6666666666666666, \"#ed7953\"], [0.7777777777777778, \"#fb9f3a\"], [0.8888888888888888, \"#fdca26\"], [1.0, \"#f0f921\"]], \"type\": \"histogram2dcontour\"}], \"mesh3d\": [{\"colorbar\": {\"outlinewidth\": 0, \"ticks\": \"\"}, \"type\": \"mesh3d\"}], \"parcoords\": [{\"line\": {\"colorbar\": {\"outlinewidth\": 0, \"ticks\": \"\"}}, \"type\": \"parcoords\"}], \"pie\": [{\"automargin\": true, \"type\": \"pie\"}], \"scatter\": [{\"marker\": {\"colorbar\": {\"outlinewidth\": 0, \"ticks\": \"\"}}, \"type\": \"scatter\"}], \"scatter3d\": [{\"line\": {\"colorbar\": {\"outlinewidth\": 0, \"ticks\": \"\"}}, \"marker\": {\"colorbar\": {\"outlinewidth\": 0, \"ticks\": \"\"}}, \"type\": \"scatter3d\"}], \"scattercarpet\": [{\"marker\": {\"colorbar\": {\"outlinewidth\": 0, \"ticks\": \"\"}}, \"type\": \"scattercarpet\"}], \"scattergeo\": [{\"marker\": {\"colorbar\": {\"outlinewidth\": 0, \"ticks\": \"\"}}, \"type\": \"scattergeo\"}], \"scattergl\": [{\"marker\": {\"colorbar\": {\"outlinewidth\": 0, \"ticks\": \"\"}}, \"type\": \"scattergl\"}], \"scattermapbox\": [{\"marker\": {\"colorbar\": {\"outlinewidth\": 0, \"ticks\": \"\"}}, \"type\": \"scattermapbox\"}], \"scatterpolar\": [{\"marker\": {\"colorbar\": {\"outlinewidth\": 0, \"ticks\": \"\"}}, \"type\": \"scatterpolar\"}], \"scatterpolargl\": [{\"marker\": {\"colorbar\": {\"outlinewidth\": 0, \"ticks\": \"\"}}, \"type\": \"scatterpolargl\"}], \"scatterternary\": [{\"marker\": {\"colorbar\": {\"outlinewidth\": 0, \"ticks\": \"\"}}, \"type\": \"scatterternary\"}], \"surface\": [{\"colorbar\": {\"outlinewidth\": 0, \"ticks\": \"\"}, \"colorscale\": [[0.0, \"#0d0887\"], [0.1111111111111111, \"#46039f\"], [0.2222222222222222, \"#7201a8\"], [0.3333333333333333, \"#9c179e\"], [0.4444444444444444, \"#bd3786\"], [0.5555555555555556, \"#d8576b\"], [0.6666666666666666, \"#ed7953\"], [0.7777777777777778, \"#fb9f3a\"], [0.8888888888888888, \"#fdca26\"], [1.0, \"#f0f921\"]], \"type\": \"surface\"}], \"table\": [{\"cells\": {\"fill\": {\"color\": \"#EBF0F8\"}, \"line\": {\"color\": \"white\"}}, \"header\": {\"fill\": {\"color\": \"#C8D4E3\"}, \"line\": {\"color\": \"white\"}}, \"type\": \"table\"}]}, \"layout\": {\"annotationdefaults\": {\"arrowcolor\": \"#2a3f5f\", \"arrowhead\": 0, \"arrowwidth\": 1}, \"coloraxis\": {\"colorbar\": {\"outlinewidth\": 0, \"ticks\": \"\"}}, \"colorscale\": {\"diverging\": [[0, \"#8e0152\"], [0.1, \"#c51b7d\"], [0.2, \"#de77ae\"], [0.3, \"#f1b6da\"], [0.4, \"#fde0ef\"], [0.5, \"#f7f7f7\"], [0.6, \"#e6f5d0\"], [0.7, \"#b8e186\"], [0.8, \"#7fbc41\"], [0.9, \"#4d9221\"], [1, \"#276419\"]], \"sequential\": [[0.0, \"#0d0887\"], [0.1111111111111111, \"#46039f\"], [0.2222222222222222, \"#7201a8\"], [0.3333333333333333, \"#9c179e\"], [0.4444444444444444, \"#bd3786\"], [0.5555555555555556, \"#d8576b\"], [0.6666666666666666, \"#ed7953\"], [0.7777777777777778, \"#fb9f3a\"], [0.8888888888888888, \"#fdca26\"], [1.0, \"#f0f921\"]], \"sequentialminus\": [[0.0, \"#0d0887\"], [0.1111111111111111, \"#46039f\"], [0.2222222222222222, \"#7201a8\"], [0.3333333333333333, \"#9c179e\"], [0.4444444444444444, \"#bd3786\"], [0.5555555555555556, \"#d8576b\"], [0.6666666666666666, \"#ed7953\"], [0.7777777777777778, \"#fb9f3a\"], [0.8888888888888888, \"#fdca26\"], [1.0, \"#f0f921\"]]}, \"colorway\": [\"#636efa\", \"#EF553B\", \"#00cc96\", \"#ab63fa\", \"#FFA15A\", \"#19d3f3\", \"#FF6692\", \"#B6E880\", \"#FF97FF\", \"#FECB52\"], \"font\": {\"color\": \"#2a3f5f\"}, \"geo\": {\"bgcolor\": \"white\", \"lakecolor\": \"white\", \"landcolor\": \"#E5ECF6\", \"showlakes\": true, \"showland\": true, \"subunitcolor\": \"white\"}, \"hoverlabel\": {\"align\": \"left\"}, \"hovermode\": \"closest\", \"mapbox\": {\"style\": \"light\"}, \"paper_bgcolor\": \"white\", \"plot_bgcolor\": \"#E5ECF6\", \"polar\": {\"angularaxis\": {\"gridcolor\": \"white\", \"linecolor\": \"white\", \"ticks\": \"\"}, \"bgcolor\": \"#E5ECF6\", \"radialaxis\": {\"gridcolor\": \"white\", \"linecolor\": \"white\", \"ticks\": \"\"}}, \"scene\": {\"xaxis\": {\"backgroundcolor\": \"#E5ECF6\", \"gridcolor\": \"white\", \"gridwidth\": 2, \"linecolor\": \"white\", \"showbackground\": true, \"ticks\": \"\", \"zerolinecolor\": \"white\"}, \"yaxis\": {\"backgroundcolor\": \"#E5ECF6\", \"gridcolor\": \"white\", \"gridwidth\": 2, \"linecolor\": \"white\", \"showbackground\": true, \"ticks\": \"\", \"zerolinecolor\": \"white\"}, \"zaxis\": {\"backgroundcolor\": \"#E5ECF6\", \"gridcolor\": \"white\", \"gridwidth\": 2, \"linecolor\": \"white\", \"showbackground\": true, \"ticks\": \"\", \"zerolinecolor\": \"white\"}}, \"shapedefaults\": {\"line\": {\"color\": \"#2a3f5f\"}}, \"ternary\": {\"aaxis\": {\"gridcolor\": \"white\", \"linecolor\": \"white\", \"ticks\": \"\"}, \"baxis\": {\"gridcolor\": \"white\", \"linecolor\": \"white\", \"ticks\": \"\"}, \"bgcolor\": \"#E5ECF6\", \"caxis\": {\"gridcolor\": \"white\", \"linecolor\": \"white\", \"ticks\": \"\"}}, \"title\": {\"x\": 0.05}, \"xaxis\": {\"automargin\": true, \"gridcolor\": \"white\", \"linecolor\": \"white\", \"ticks\": \"\", \"title\": {\"standoff\": 15}, \"zerolinecolor\": \"white\", \"zerolinewidth\": 2}, \"yaxis\": {\"automargin\": true, \"gridcolor\": \"white\", \"linecolor\": \"white\", \"ticks\": \"\", \"title\": {\"standoff\": 15}, \"zerolinecolor\": \"white\", \"zerolinewidth\": 2}}}, \"title\": {\"font\": {\"color\": \"#4D5663\"}}, \"xaxis\": {\"gridcolor\": \"#E1E5ED\", \"showgrid\": true, \"tickfont\": {\"color\": \"#4D5663\"}, \"title\": {\"font\": {\"color\": \"#4D5663\"}, \"text\": \"\"}, \"zerolinecolor\": \"#E1E5ED\"}, \"yaxis\": {\"gridcolor\": \"#E1E5ED\", \"showgrid\": true, \"tickfont\": {\"color\": \"#4D5663\"}, \"title\": {\"font\": {\"color\": \"#4D5663\"}, \"text\": \"\"}, \"zerolinecolor\": \"#E1E5ED\"}},\n",
       "                        {\"showLink\": true, \"linkText\": \"Export to plot.ly\", \"plotlyServerURL\": \"https://plot.ly\", \"responsive\": true}\n",
       "                    ).then(function(){\n",
       "                            \n",
       "var gd = document.getElementById('1574fca5-6059-4021-aad2-2f3644f8d667');\n",
       "var x = new MutationObserver(function (mutations, observer) {{\n",
       "        var display = window.getComputedStyle(gd).display;\n",
       "        if (!display || display === 'none') {{\n",
       "            console.log([gd, 'removed!']);\n",
       "            Plotly.purge(gd);\n",
       "            observer.disconnect();\n",
       "        }}\n",
       "}});\n",
       "\n",
       "// Listen for the removal of the full notebook cells\n",
       "var notebookContainer = gd.closest('#notebook-container');\n",
       "if (notebookContainer) {{\n",
       "    x.observe(notebookContainer, {childList: true});\n",
       "}}\n",
       "\n",
       "// Listen for the clearing of the current output cell\n",
       "var outputEl = gd.closest('.output');\n",
       "if (outputEl) {{\n",
       "    x.observe(outputEl, {childList: true});\n",
       "}}\n",
       "\n",
       "                        })\n",
       "                };\n",
       "                });\n",
       "            </script>\n",
       "        </div>"
      ]
     },
     "metadata": {},
     "output_type": "display_data"
    }
   ],
   "source": [
    "df3.iplot(kind = 'surface', colorscale = 'ylgnbu')"
   ]
  },
  {
   "cell_type": "markdown",
   "metadata": {},
   "source": [
    "## histogram"
   ]
  },
  {
   "cell_type": "code",
   "execution_count": 57,
   "metadata": {},
   "outputs": [
    {
     "data": {
      "application/vnd.plotly.v1+json": {
       "config": {
        "linkText": "Export to plot.ly",
        "plotlyServerURL": "https://plot.ly",
        "showLink": true
       },
       "data": [
        {
         "histfunc": "count",
         "histnorm": "",
         "marker": {
          "color": "rgba(255, 153, 51, 1.0)",
          "line": {
           "color": "#4D5663",
           "width": 1.3
          }
         },
         "name": "A",
         "nbinsx": 24,
         "opacity": 0.8,
         "orientation": "v",
         "type": "histogram",
         "x": [
          -0.15966440057435938,
          -3.0268008071009187,
          0.9221382673050521,
          0.8770652008419254,
          2.076348258904066,
          -2.5385761484776928,
          -1.9211892960913912,
          0.6007684052334087,
          -0.21961932073774648,
          0.6947663878860076,
          1.5355433012808262,
          0.682536191559496,
          -0.00784008704142355,
          -0.5486678819424253,
          -0.42858792614727115,
          0.6318614246284424,
          1.014063885119909,
          0.19769301291352875,
          0.6115860679800008,
          0.19458939348542983,
          1.9061126760600309,
          2.1888523316757906,
          2.9527829087211845,
          0.03602569987116309,
          -0.695368302564943,
          1.6976635522629786,
          -2.6266196902651697,
          -0.5470043758963876,
          0.37115828238172793,
          -0.48023110420208853,
          1.0373530630599568,
          0.6748963442511032,
          1.229032627039319,
          1.696584799985512,
          0.029752667407899197,
          0.8084195973664055,
          -2.2248088064008944,
          1.0104302308242707,
          1.1180875214270254,
          1.2193035150614107,
          0.35565864473138953,
          -1.8415745792579306,
          -0.12863986311406433,
          -0.3840273635274107,
          -1.208692561789705,
          0.4930043761880178,
          0.22606346480288667,
          0.8469056906100876,
          -0.6602972998520016,
          0.18781265774515438,
          1.6287771347743953,
          -0.5770968099743413,
          -0.16194665920300977,
          0.8681358652235673,
          0.047414635744381525,
          0.21611033116647485,
          0.5907804771654277,
          0.9708460467264816,
          -1.8110933091195884,
          -0.5530434965138656,
          1.9636940438520054,
          1.1729722539442202,
          1.2421559008155438,
          -0.6288387913785575,
          0.34805958706986584,
          -0.5436381561059997,
          -0.5631348469165319,
          1.5606728416961202,
          0.2330738885185976,
          -0.8020391201493532,
          -0.6557997346611697,
          0.5726236513169123,
          1.2246219521550379,
          1.517883432418252,
          -0.14147909287681634,
          0.3664192494581477,
          -0.4322146140696219,
          -0.3495399006296373,
          -0.6810037668207851,
          0.08504992455350263,
          1.7823784203274209,
          0.6259377596645086,
          0.6638813119909011,
          -1.482839860554188,
          -0.2901295524795004,
          0.7728721769087347,
          1.0697450666270618,
          -0.38037586807737583,
          0.7361925861522479,
          2.227251940281902,
          -0.9059783157534909,
          1.0644082103981056,
          0.41243815873235085,
          -0.70985732273822,
          0.2921920971594382,
          0.316660089561294,
          1.2009474277974572,
          -0.17950997282633827,
          -1.8222345068938892,
          1.1804269142135373
         ]
        }
       ],
       "layout": {
        "barmode": "overlay",
        "legend": {
         "bgcolor": "#F5F6F9",
         "font": {
          "color": "#4D5663"
         }
        },
        "paper_bgcolor": "#F5F6F9",
        "plot_bgcolor": "#F5F6F9",
        "template": {
         "data": {
          "bar": [
           {
            "error_x": {
             "color": "#2a3f5f"
            },
            "error_y": {
             "color": "#2a3f5f"
            },
            "marker": {
             "line": {
              "color": "#E5ECF6",
              "width": 0.5
             }
            },
            "type": "bar"
           }
          ],
          "barpolar": [
           {
            "marker": {
             "line": {
              "color": "#E5ECF6",
              "width": 0.5
             }
            },
            "type": "barpolar"
           }
          ],
          "carpet": [
           {
            "aaxis": {
             "endlinecolor": "#2a3f5f",
             "gridcolor": "white",
             "linecolor": "white",
             "minorgridcolor": "white",
             "startlinecolor": "#2a3f5f"
            },
            "baxis": {
             "endlinecolor": "#2a3f5f",
             "gridcolor": "white",
             "linecolor": "white",
             "minorgridcolor": "white",
             "startlinecolor": "#2a3f5f"
            },
            "type": "carpet"
           }
          ],
          "choropleth": [
           {
            "colorbar": {
             "outlinewidth": 0,
             "ticks": ""
            },
            "type": "choropleth"
           }
          ],
          "contour": [
           {
            "colorbar": {
             "outlinewidth": 0,
             "ticks": ""
            },
            "colorscale": [
             [
              0,
              "#0d0887"
             ],
             [
              0.1111111111111111,
              "#46039f"
             ],
             [
              0.2222222222222222,
              "#7201a8"
             ],
             [
              0.3333333333333333,
              "#9c179e"
             ],
             [
              0.4444444444444444,
              "#bd3786"
             ],
             [
              0.5555555555555556,
              "#d8576b"
             ],
             [
              0.6666666666666666,
              "#ed7953"
             ],
             [
              0.7777777777777778,
              "#fb9f3a"
             ],
             [
              0.8888888888888888,
              "#fdca26"
             ],
             [
              1,
              "#f0f921"
             ]
            ],
            "type": "contour"
           }
          ],
          "contourcarpet": [
           {
            "colorbar": {
             "outlinewidth": 0,
             "ticks": ""
            },
            "type": "contourcarpet"
           }
          ],
          "heatmap": [
           {
            "colorbar": {
             "outlinewidth": 0,
             "ticks": ""
            },
            "colorscale": [
             [
              0,
              "#0d0887"
             ],
             [
              0.1111111111111111,
              "#46039f"
             ],
             [
              0.2222222222222222,
              "#7201a8"
             ],
             [
              0.3333333333333333,
              "#9c179e"
             ],
             [
              0.4444444444444444,
              "#bd3786"
             ],
             [
              0.5555555555555556,
              "#d8576b"
             ],
             [
              0.6666666666666666,
              "#ed7953"
             ],
             [
              0.7777777777777778,
              "#fb9f3a"
             ],
             [
              0.8888888888888888,
              "#fdca26"
             ],
             [
              1,
              "#f0f921"
             ]
            ],
            "type": "heatmap"
           }
          ],
          "heatmapgl": [
           {
            "colorbar": {
             "outlinewidth": 0,
             "ticks": ""
            },
            "colorscale": [
             [
              0,
              "#0d0887"
             ],
             [
              0.1111111111111111,
              "#46039f"
             ],
             [
              0.2222222222222222,
              "#7201a8"
             ],
             [
              0.3333333333333333,
              "#9c179e"
             ],
             [
              0.4444444444444444,
              "#bd3786"
             ],
             [
              0.5555555555555556,
              "#d8576b"
             ],
             [
              0.6666666666666666,
              "#ed7953"
             ],
             [
              0.7777777777777778,
              "#fb9f3a"
             ],
             [
              0.8888888888888888,
              "#fdca26"
             ],
             [
              1,
              "#f0f921"
             ]
            ],
            "type": "heatmapgl"
           }
          ],
          "histogram": [
           {
            "marker": {
             "colorbar": {
              "outlinewidth": 0,
              "ticks": ""
             }
            },
            "type": "histogram"
           }
          ],
          "histogram2d": [
           {
            "colorbar": {
             "outlinewidth": 0,
             "ticks": ""
            },
            "colorscale": [
             [
              0,
              "#0d0887"
             ],
             [
              0.1111111111111111,
              "#46039f"
             ],
             [
              0.2222222222222222,
              "#7201a8"
             ],
             [
              0.3333333333333333,
              "#9c179e"
             ],
             [
              0.4444444444444444,
              "#bd3786"
             ],
             [
              0.5555555555555556,
              "#d8576b"
             ],
             [
              0.6666666666666666,
              "#ed7953"
             ],
             [
              0.7777777777777778,
              "#fb9f3a"
             ],
             [
              0.8888888888888888,
              "#fdca26"
             ],
             [
              1,
              "#f0f921"
             ]
            ],
            "type": "histogram2d"
           }
          ],
          "histogram2dcontour": [
           {
            "colorbar": {
             "outlinewidth": 0,
             "ticks": ""
            },
            "colorscale": [
             [
              0,
              "#0d0887"
             ],
             [
              0.1111111111111111,
              "#46039f"
             ],
             [
              0.2222222222222222,
              "#7201a8"
             ],
             [
              0.3333333333333333,
              "#9c179e"
             ],
             [
              0.4444444444444444,
              "#bd3786"
             ],
             [
              0.5555555555555556,
              "#d8576b"
             ],
             [
              0.6666666666666666,
              "#ed7953"
             ],
             [
              0.7777777777777778,
              "#fb9f3a"
             ],
             [
              0.8888888888888888,
              "#fdca26"
             ],
             [
              1,
              "#f0f921"
             ]
            ],
            "type": "histogram2dcontour"
           }
          ],
          "mesh3d": [
           {
            "colorbar": {
             "outlinewidth": 0,
             "ticks": ""
            },
            "type": "mesh3d"
           }
          ],
          "parcoords": [
           {
            "line": {
             "colorbar": {
              "outlinewidth": 0,
              "ticks": ""
             }
            },
            "type": "parcoords"
           }
          ],
          "pie": [
           {
            "automargin": true,
            "type": "pie"
           }
          ],
          "scatter": [
           {
            "marker": {
             "colorbar": {
              "outlinewidth": 0,
              "ticks": ""
             }
            },
            "type": "scatter"
           }
          ],
          "scatter3d": [
           {
            "line": {
             "colorbar": {
              "outlinewidth": 0,
              "ticks": ""
             }
            },
            "marker": {
             "colorbar": {
              "outlinewidth": 0,
              "ticks": ""
             }
            },
            "type": "scatter3d"
           }
          ],
          "scattercarpet": [
           {
            "marker": {
             "colorbar": {
              "outlinewidth": 0,
              "ticks": ""
             }
            },
            "type": "scattercarpet"
           }
          ],
          "scattergeo": [
           {
            "marker": {
             "colorbar": {
              "outlinewidth": 0,
              "ticks": ""
             }
            },
            "type": "scattergeo"
           }
          ],
          "scattergl": [
           {
            "marker": {
             "colorbar": {
              "outlinewidth": 0,
              "ticks": ""
             }
            },
            "type": "scattergl"
           }
          ],
          "scattermapbox": [
           {
            "marker": {
             "colorbar": {
              "outlinewidth": 0,
              "ticks": ""
             }
            },
            "type": "scattermapbox"
           }
          ],
          "scatterpolar": [
           {
            "marker": {
             "colorbar": {
              "outlinewidth": 0,
              "ticks": ""
             }
            },
            "type": "scatterpolar"
           }
          ],
          "scatterpolargl": [
           {
            "marker": {
             "colorbar": {
              "outlinewidth": 0,
              "ticks": ""
             }
            },
            "type": "scatterpolargl"
           }
          ],
          "scatterternary": [
           {
            "marker": {
             "colorbar": {
              "outlinewidth": 0,
              "ticks": ""
             }
            },
            "type": "scatterternary"
           }
          ],
          "surface": [
           {
            "colorbar": {
             "outlinewidth": 0,
             "ticks": ""
            },
            "colorscale": [
             [
              0,
              "#0d0887"
             ],
             [
              0.1111111111111111,
              "#46039f"
             ],
             [
              0.2222222222222222,
              "#7201a8"
             ],
             [
              0.3333333333333333,
              "#9c179e"
             ],
             [
              0.4444444444444444,
              "#bd3786"
             ],
             [
              0.5555555555555556,
              "#d8576b"
             ],
             [
              0.6666666666666666,
              "#ed7953"
             ],
             [
              0.7777777777777778,
              "#fb9f3a"
             ],
             [
              0.8888888888888888,
              "#fdca26"
             ],
             [
              1,
              "#f0f921"
             ]
            ],
            "type": "surface"
           }
          ],
          "table": [
           {
            "cells": {
             "fill": {
              "color": "#EBF0F8"
             },
             "line": {
              "color": "white"
             }
            },
            "header": {
             "fill": {
              "color": "#C8D4E3"
             },
             "line": {
              "color": "white"
             }
            },
            "type": "table"
           }
          ]
         },
         "layout": {
          "annotationdefaults": {
           "arrowcolor": "#2a3f5f",
           "arrowhead": 0,
           "arrowwidth": 1
          },
          "coloraxis": {
           "colorbar": {
            "outlinewidth": 0,
            "ticks": ""
           }
          },
          "colorscale": {
           "diverging": [
            [
             0,
             "#8e0152"
            ],
            [
             0.1,
             "#c51b7d"
            ],
            [
             0.2,
             "#de77ae"
            ],
            [
             0.3,
             "#f1b6da"
            ],
            [
             0.4,
             "#fde0ef"
            ],
            [
             0.5,
             "#f7f7f7"
            ],
            [
             0.6,
             "#e6f5d0"
            ],
            [
             0.7,
             "#b8e186"
            ],
            [
             0.8,
             "#7fbc41"
            ],
            [
             0.9,
             "#4d9221"
            ],
            [
             1,
             "#276419"
            ]
           ],
           "sequential": [
            [
             0,
             "#0d0887"
            ],
            [
             0.1111111111111111,
             "#46039f"
            ],
            [
             0.2222222222222222,
             "#7201a8"
            ],
            [
             0.3333333333333333,
             "#9c179e"
            ],
            [
             0.4444444444444444,
             "#bd3786"
            ],
            [
             0.5555555555555556,
             "#d8576b"
            ],
            [
             0.6666666666666666,
             "#ed7953"
            ],
            [
             0.7777777777777778,
             "#fb9f3a"
            ],
            [
             0.8888888888888888,
             "#fdca26"
            ],
            [
             1,
             "#f0f921"
            ]
           ],
           "sequentialminus": [
            [
             0,
             "#0d0887"
            ],
            [
             0.1111111111111111,
             "#46039f"
            ],
            [
             0.2222222222222222,
             "#7201a8"
            ],
            [
             0.3333333333333333,
             "#9c179e"
            ],
            [
             0.4444444444444444,
             "#bd3786"
            ],
            [
             0.5555555555555556,
             "#d8576b"
            ],
            [
             0.6666666666666666,
             "#ed7953"
            ],
            [
             0.7777777777777778,
             "#fb9f3a"
            ],
            [
             0.8888888888888888,
             "#fdca26"
            ],
            [
             1,
             "#f0f921"
            ]
           ]
          },
          "colorway": [
           "#636efa",
           "#EF553B",
           "#00cc96",
           "#ab63fa",
           "#FFA15A",
           "#19d3f3",
           "#FF6692",
           "#B6E880",
           "#FF97FF",
           "#FECB52"
          ],
          "font": {
           "color": "#2a3f5f"
          },
          "geo": {
           "bgcolor": "white",
           "lakecolor": "white",
           "landcolor": "#E5ECF6",
           "showlakes": true,
           "showland": true,
           "subunitcolor": "white"
          },
          "hoverlabel": {
           "align": "left"
          },
          "hovermode": "closest",
          "mapbox": {
           "style": "light"
          },
          "paper_bgcolor": "white",
          "plot_bgcolor": "#E5ECF6",
          "polar": {
           "angularaxis": {
            "gridcolor": "white",
            "linecolor": "white",
            "ticks": ""
           },
           "bgcolor": "#E5ECF6",
           "radialaxis": {
            "gridcolor": "white",
            "linecolor": "white",
            "ticks": ""
           }
          },
          "scene": {
           "xaxis": {
            "backgroundcolor": "#E5ECF6",
            "gridcolor": "white",
            "gridwidth": 2,
            "linecolor": "white",
            "showbackground": true,
            "ticks": "",
            "zerolinecolor": "white"
           },
           "yaxis": {
            "backgroundcolor": "#E5ECF6",
            "gridcolor": "white",
            "gridwidth": 2,
            "linecolor": "white",
            "showbackground": true,
            "ticks": "",
            "zerolinecolor": "white"
           },
           "zaxis": {
            "backgroundcolor": "#E5ECF6",
            "gridcolor": "white",
            "gridwidth": 2,
            "linecolor": "white",
            "showbackground": true,
            "ticks": "",
            "zerolinecolor": "white"
           }
          },
          "shapedefaults": {
           "line": {
            "color": "#2a3f5f"
           }
          },
          "ternary": {
           "aaxis": {
            "gridcolor": "white",
            "linecolor": "white",
            "ticks": ""
           },
           "baxis": {
            "gridcolor": "white",
            "linecolor": "white",
            "ticks": ""
           },
           "bgcolor": "#E5ECF6",
           "caxis": {
            "gridcolor": "white",
            "linecolor": "white",
            "ticks": ""
           }
          },
          "title": {
           "x": 0.05
          },
          "xaxis": {
           "automargin": true,
           "gridcolor": "white",
           "linecolor": "white",
           "ticks": "",
           "title": {
            "standoff": 15
           },
           "zerolinecolor": "white",
           "zerolinewidth": 2
          },
          "yaxis": {
           "automargin": true,
           "gridcolor": "white",
           "linecolor": "white",
           "ticks": "",
           "title": {
            "standoff": 15
           },
           "zerolinecolor": "white",
           "zerolinewidth": 2
          }
         }
        },
        "title": {
         "font": {
          "color": "#4D5663"
         }
        },
        "xaxis": {
         "gridcolor": "#E1E5ED",
         "showgrid": true,
         "tickfont": {
          "color": "#4D5663"
         },
         "title": {
          "font": {
           "color": "#4D5663"
          },
          "text": ""
         },
         "zerolinecolor": "#E1E5ED"
        },
        "yaxis": {
         "gridcolor": "#E1E5ED",
         "showgrid": true,
         "tickfont": {
          "color": "#4D5663"
         },
         "title": {
          "font": {
           "color": "#4D5663"
          },
          "text": ""
         },
         "zerolinecolor": "#E1E5ED"
        }
       }
      },
      "text/html": [
       "<div>\n",
       "        \n",
       "        \n",
       "            <div id=\"2d8bfac9-c0a9-455e-a571-8da1dbd603c0\" class=\"plotly-graph-div\" style=\"height:525px; width:100%;\"></div>\n",
       "            <script type=\"text/javascript\">\n",
       "                require([\"plotly\"], function(Plotly) {\n",
       "                    window.PLOTLYENV=window.PLOTLYENV || {};\n",
       "                    window.PLOTLYENV.BASE_URL='https://plot.ly';\n",
       "                    \n",
       "                if (document.getElementById(\"2d8bfac9-c0a9-455e-a571-8da1dbd603c0\")) {\n",
       "                    Plotly.newPlot(\n",
       "                        '2d8bfac9-c0a9-455e-a571-8da1dbd603c0',\n",
       "                        [{\"histfunc\": \"count\", \"histnorm\": \"\", \"marker\": {\"color\": \"rgba(255, 153, 51, 1.0)\", \"line\": {\"color\": \"#4D5663\", \"width\": 1.3}}, \"name\": \"A\", \"nbinsx\": 24, \"opacity\": 0.8, \"orientation\": \"v\", \"type\": \"histogram\", \"x\": [-0.15966440057435938, -3.0268008071009187, 0.9221382673050521, 0.8770652008419254, 2.076348258904066, -2.5385761484776928, -1.9211892960913912, 0.6007684052334087, -0.21961932073774648, 0.6947663878860076, 1.5355433012808262, 0.682536191559496, -0.00784008704142355, -0.5486678819424253, -0.42858792614727115, 0.6318614246284424, 1.014063885119909, 0.19769301291352875, 0.6115860679800008, 0.19458939348542983, 1.9061126760600309, 2.1888523316757906, 2.9527829087211845, 0.03602569987116309, -0.695368302564943, 1.6976635522629786, -2.6266196902651697, -0.5470043758963876, 0.37115828238172793, -0.48023110420208853, 1.0373530630599568, 0.6748963442511032, 1.229032627039319, 1.696584799985512, 0.029752667407899197, 0.8084195973664055, -2.2248088064008944, 1.0104302308242707, 1.1180875214270254, 1.2193035150614107, 0.35565864473138953, -1.8415745792579306, -0.12863986311406433, -0.3840273635274107, -1.208692561789705, 0.4930043761880178, 0.22606346480288667, 0.8469056906100876, -0.6602972998520016, 0.18781265774515438, 1.6287771347743953, -0.5770968099743413, -0.16194665920300977, 0.8681358652235673, 0.047414635744381525, 0.21611033116647485, 0.5907804771654277, 0.9708460467264816, -1.8110933091195884, -0.5530434965138656, 1.9636940438520054, 1.1729722539442202, 1.2421559008155438, -0.6288387913785575, 0.34805958706986584, -0.5436381561059997, -0.5631348469165319, 1.5606728416961202, 0.2330738885185976, -0.8020391201493532, -0.6557997346611697, 0.5726236513169123, 1.2246219521550379, 1.517883432418252, -0.14147909287681634, 0.3664192494581477, -0.4322146140696219, -0.3495399006296373, -0.6810037668207851, 0.08504992455350263, 1.7823784203274209, 0.6259377596645086, 0.6638813119909011, -1.482839860554188, -0.2901295524795004, 0.7728721769087347, 1.0697450666270618, -0.38037586807737583, 0.7361925861522479, 2.227251940281902, -0.9059783157534909, 1.0644082103981056, 0.41243815873235085, -0.70985732273822, 0.2921920971594382, 0.316660089561294, 1.2009474277974572, -0.17950997282633827, -1.8222345068938892, 1.1804269142135373]}],\n",
       "                        {\"barmode\": \"overlay\", \"legend\": {\"bgcolor\": \"#F5F6F9\", \"font\": {\"color\": \"#4D5663\"}}, \"paper_bgcolor\": \"#F5F6F9\", \"plot_bgcolor\": \"#F5F6F9\", \"template\": {\"data\": {\"bar\": [{\"error_x\": {\"color\": \"#2a3f5f\"}, \"error_y\": {\"color\": \"#2a3f5f\"}, \"marker\": {\"line\": {\"color\": \"#E5ECF6\", \"width\": 0.5}}, \"type\": \"bar\"}], \"barpolar\": [{\"marker\": {\"line\": {\"color\": \"#E5ECF6\", \"width\": 0.5}}, \"type\": \"barpolar\"}], \"carpet\": [{\"aaxis\": {\"endlinecolor\": \"#2a3f5f\", \"gridcolor\": \"white\", \"linecolor\": \"white\", \"minorgridcolor\": \"white\", \"startlinecolor\": \"#2a3f5f\"}, \"baxis\": {\"endlinecolor\": \"#2a3f5f\", \"gridcolor\": \"white\", \"linecolor\": \"white\", \"minorgridcolor\": \"white\", \"startlinecolor\": \"#2a3f5f\"}, \"type\": \"carpet\"}], \"choropleth\": [{\"colorbar\": {\"outlinewidth\": 0, \"ticks\": \"\"}, \"type\": \"choropleth\"}], \"contour\": [{\"colorbar\": {\"outlinewidth\": 0, \"ticks\": \"\"}, \"colorscale\": [[0.0, \"#0d0887\"], [0.1111111111111111, \"#46039f\"], [0.2222222222222222, \"#7201a8\"], [0.3333333333333333, \"#9c179e\"], [0.4444444444444444, \"#bd3786\"], [0.5555555555555556, \"#d8576b\"], [0.6666666666666666, \"#ed7953\"], [0.7777777777777778, \"#fb9f3a\"], [0.8888888888888888, \"#fdca26\"], [1.0, \"#f0f921\"]], \"type\": \"contour\"}], \"contourcarpet\": [{\"colorbar\": {\"outlinewidth\": 0, \"ticks\": \"\"}, \"type\": \"contourcarpet\"}], \"heatmap\": [{\"colorbar\": {\"outlinewidth\": 0, \"ticks\": \"\"}, \"colorscale\": [[0.0, \"#0d0887\"], [0.1111111111111111, \"#46039f\"], [0.2222222222222222, \"#7201a8\"], [0.3333333333333333, \"#9c179e\"], [0.4444444444444444, \"#bd3786\"], [0.5555555555555556, \"#d8576b\"], [0.6666666666666666, \"#ed7953\"], [0.7777777777777778, \"#fb9f3a\"], [0.8888888888888888, \"#fdca26\"], [1.0, \"#f0f921\"]], \"type\": \"heatmap\"}], \"heatmapgl\": [{\"colorbar\": {\"outlinewidth\": 0, \"ticks\": \"\"}, \"colorscale\": [[0.0, \"#0d0887\"], [0.1111111111111111, \"#46039f\"], [0.2222222222222222, \"#7201a8\"], [0.3333333333333333, \"#9c179e\"], [0.4444444444444444, \"#bd3786\"], [0.5555555555555556, \"#d8576b\"], [0.6666666666666666, \"#ed7953\"], [0.7777777777777778, \"#fb9f3a\"], [0.8888888888888888, \"#fdca26\"], [1.0, \"#f0f921\"]], \"type\": \"heatmapgl\"}], \"histogram\": [{\"marker\": {\"colorbar\": {\"outlinewidth\": 0, \"ticks\": \"\"}}, \"type\": \"histogram\"}], \"histogram2d\": [{\"colorbar\": {\"outlinewidth\": 0, \"ticks\": \"\"}, \"colorscale\": [[0.0, \"#0d0887\"], [0.1111111111111111, \"#46039f\"], [0.2222222222222222, \"#7201a8\"], [0.3333333333333333, \"#9c179e\"], [0.4444444444444444, \"#bd3786\"], [0.5555555555555556, \"#d8576b\"], [0.6666666666666666, \"#ed7953\"], [0.7777777777777778, \"#fb9f3a\"], [0.8888888888888888, \"#fdca26\"], [1.0, \"#f0f921\"]], \"type\": \"histogram2d\"}], \"histogram2dcontour\": [{\"colorbar\": {\"outlinewidth\": 0, \"ticks\": \"\"}, \"colorscale\": [[0.0, \"#0d0887\"], [0.1111111111111111, \"#46039f\"], [0.2222222222222222, \"#7201a8\"], [0.3333333333333333, \"#9c179e\"], [0.4444444444444444, \"#bd3786\"], [0.5555555555555556, \"#d8576b\"], [0.6666666666666666, \"#ed7953\"], [0.7777777777777778, \"#fb9f3a\"], [0.8888888888888888, \"#fdca26\"], [1.0, \"#f0f921\"]], \"type\": \"histogram2dcontour\"}], \"mesh3d\": [{\"colorbar\": {\"outlinewidth\": 0, \"ticks\": \"\"}, \"type\": \"mesh3d\"}], \"parcoords\": [{\"line\": {\"colorbar\": {\"outlinewidth\": 0, \"ticks\": \"\"}}, \"type\": \"parcoords\"}], \"pie\": [{\"automargin\": true, \"type\": \"pie\"}], \"scatter\": [{\"marker\": {\"colorbar\": {\"outlinewidth\": 0, \"ticks\": \"\"}}, \"type\": \"scatter\"}], \"scatter3d\": [{\"line\": {\"colorbar\": {\"outlinewidth\": 0, \"ticks\": \"\"}}, \"marker\": {\"colorbar\": {\"outlinewidth\": 0, \"ticks\": \"\"}}, \"type\": \"scatter3d\"}], \"scattercarpet\": [{\"marker\": {\"colorbar\": {\"outlinewidth\": 0, \"ticks\": \"\"}}, \"type\": \"scattercarpet\"}], \"scattergeo\": [{\"marker\": {\"colorbar\": {\"outlinewidth\": 0, \"ticks\": \"\"}}, \"type\": \"scattergeo\"}], \"scattergl\": [{\"marker\": {\"colorbar\": {\"outlinewidth\": 0, \"ticks\": \"\"}}, \"type\": \"scattergl\"}], \"scattermapbox\": [{\"marker\": {\"colorbar\": {\"outlinewidth\": 0, \"ticks\": \"\"}}, \"type\": \"scattermapbox\"}], \"scatterpolar\": [{\"marker\": {\"colorbar\": {\"outlinewidth\": 0, \"ticks\": \"\"}}, \"type\": \"scatterpolar\"}], \"scatterpolargl\": [{\"marker\": {\"colorbar\": {\"outlinewidth\": 0, \"ticks\": \"\"}}, \"type\": \"scatterpolargl\"}], \"scatterternary\": [{\"marker\": {\"colorbar\": {\"outlinewidth\": 0, \"ticks\": \"\"}}, \"type\": \"scatterternary\"}], \"surface\": [{\"colorbar\": {\"outlinewidth\": 0, \"ticks\": \"\"}, \"colorscale\": [[0.0, \"#0d0887\"], [0.1111111111111111, \"#46039f\"], [0.2222222222222222, \"#7201a8\"], [0.3333333333333333, \"#9c179e\"], [0.4444444444444444, \"#bd3786\"], [0.5555555555555556, \"#d8576b\"], [0.6666666666666666, \"#ed7953\"], [0.7777777777777778, \"#fb9f3a\"], [0.8888888888888888, \"#fdca26\"], [1.0, \"#f0f921\"]], \"type\": \"surface\"}], \"table\": [{\"cells\": {\"fill\": {\"color\": \"#EBF0F8\"}, \"line\": {\"color\": \"white\"}}, \"header\": {\"fill\": {\"color\": \"#C8D4E3\"}, \"line\": {\"color\": \"white\"}}, \"type\": \"table\"}]}, \"layout\": {\"annotationdefaults\": {\"arrowcolor\": \"#2a3f5f\", \"arrowhead\": 0, \"arrowwidth\": 1}, \"coloraxis\": {\"colorbar\": {\"outlinewidth\": 0, \"ticks\": \"\"}}, \"colorscale\": {\"diverging\": [[0, \"#8e0152\"], [0.1, \"#c51b7d\"], [0.2, \"#de77ae\"], [0.3, \"#f1b6da\"], [0.4, \"#fde0ef\"], [0.5, \"#f7f7f7\"], [0.6, \"#e6f5d0\"], [0.7, \"#b8e186\"], [0.8, \"#7fbc41\"], [0.9, \"#4d9221\"], [1, \"#276419\"]], \"sequential\": [[0.0, \"#0d0887\"], [0.1111111111111111, \"#46039f\"], [0.2222222222222222, \"#7201a8\"], [0.3333333333333333, \"#9c179e\"], [0.4444444444444444, \"#bd3786\"], [0.5555555555555556, \"#d8576b\"], [0.6666666666666666, \"#ed7953\"], [0.7777777777777778, \"#fb9f3a\"], [0.8888888888888888, \"#fdca26\"], [1.0, \"#f0f921\"]], \"sequentialminus\": [[0.0, \"#0d0887\"], [0.1111111111111111, \"#46039f\"], [0.2222222222222222, \"#7201a8\"], [0.3333333333333333, \"#9c179e\"], [0.4444444444444444, \"#bd3786\"], [0.5555555555555556, \"#d8576b\"], [0.6666666666666666, \"#ed7953\"], [0.7777777777777778, \"#fb9f3a\"], [0.8888888888888888, \"#fdca26\"], [1.0, \"#f0f921\"]]}, \"colorway\": [\"#636efa\", \"#EF553B\", \"#00cc96\", \"#ab63fa\", \"#FFA15A\", \"#19d3f3\", \"#FF6692\", \"#B6E880\", \"#FF97FF\", \"#FECB52\"], \"font\": {\"color\": \"#2a3f5f\"}, \"geo\": {\"bgcolor\": \"white\", \"lakecolor\": \"white\", \"landcolor\": \"#E5ECF6\", \"showlakes\": true, \"showland\": true, \"subunitcolor\": \"white\"}, \"hoverlabel\": {\"align\": \"left\"}, \"hovermode\": \"closest\", \"mapbox\": {\"style\": \"light\"}, \"paper_bgcolor\": \"white\", \"plot_bgcolor\": \"#E5ECF6\", \"polar\": {\"angularaxis\": {\"gridcolor\": \"white\", \"linecolor\": \"white\", \"ticks\": \"\"}, \"bgcolor\": \"#E5ECF6\", \"radialaxis\": {\"gridcolor\": \"white\", \"linecolor\": \"white\", \"ticks\": \"\"}}, \"scene\": {\"xaxis\": {\"backgroundcolor\": \"#E5ECF6\", \"gridcolor\": \"white\", \"gridwidth\": 2, \"linecolor\": \"white\", \"showbackground\": true, \"ticks\": \"\", \"zerolinecolor\": \"white\"}, \"yaxis\": {\"backgroundcolor\": \"#E5ECF6\", \"gridcolor\": \"white\", \"gridwidth\": 2, \"linecolor\": \"white\", \"showbackground\": true, \"ticks\": \"\", \"zerolinecolor\": \"white\"}, \"zaxis\": {\"backgroundcolor\": \"#E5ECF6\", \"gridcolor\": \"white\", \"gridwidth\": 2, \"linecolor\": \"white\", \"showbackground\": true, \"ticks\": \"\", \"zerolinecolor\": \"white\"}}, \"shapedefaults\": {\"line\": {\"color\": \"#2a3f5f\"}}, \"ternary\": {\"aaxis\": {\"gridcolor\": \"white\", \"linecolor\": \"white\", \"ticks\": \"\"}, \"baxis\": {\"gridcolor\": \"white\", \"linecolor\": \"white\", \"ticks\": \"\"}, \"bgcolor\": \"#E5ECF6\", \"caxis\": {\"gridcolor\": \"white\", \"linecolor\": \"white\", \"ticks\": \"\"}}, \"title\": {\"x\": 0.05}, \"xaxis\": {\"automargin\": true, \"gridcolor\": \"white\", \"linecolor\": \"white\", \"ticks\": \"\", \"title\": {\"standoff\": 15}, \"zerolinecolor\": \"white\", \"zerolinewidth\": 2}, \"yaxis\": {\"automargin\": true, \"gridcolor\": \"white\", \"linecolor\": \"white\", \"ticks\": \"\", \"title\": {\"standoff\": 15}, \"zerolinecolor\": \"white\", \"zerolinewidth\": 2}}}, \"title\": {\"font\": {\"color\": \"#4D5663\"}}, \"xaxis\": {\"gridcolor\": \"#E1E5ED\", \"showgrid\": true, \"tickfont\": {\"color\": \"#4D5663\"}, \"title\": {\"font\": {\"color\": \"#4D5663\"}, \"text\": \"\"}, \"zerolinecolor\": \"#E1E5ED\"}, \"yaxis\": {\"gridcolor\": \"#E1E5ED\", \"showgrid\": true, \"tickfont\": {\"color\": \"#4D5663\"}, \"title\": {\"font\": {\"color\": \"#4D5663\"}, \"text\": \"\"}, \"zerolinecolor\": \"#E1E5ED\"}},\n",
       "                        {\"showLink\": true, \"linkText\": \"Export to plot.ly\", \"plotlyServerURL\": \"https://plot.ly\", \"responsive\": true}\n",
       "                    ).then(function(){\n",
       "                            \n",
       "var gd = document.getElementById('2d8bfac9-c0a9-455e-a571-8da1dbd603c0');\n",
       "var x = new MutationObserver(function (mutations, observer) {{\n",
       "        var display = window.getComputedStyle(gd).display;\n",
       "        if (!display || display === 'none') {{\n",
       "            console.log([gd, 'removed!']);\n",
       "            Plotly.purge(gd);\n",
       "            observer.disconnect();\n",
       "        }}\n",
       "}});\n",
       "\n",
       "// Listen for the removal of the full notebook cells\n",
       "var notebookContainer = gd.closest('#notebook-container');\n",
       "if (notebookContainer) {{\n",
       "    x.observe(notebookContainer, {childList: true});\n",
       "}}\n",
       "\n",
       "// Listen for the clearing of the current output cell\n",
       "var outputEl = gd.closest('.output');\n",
       "if (outputEl) {{\n",
       "    x.observe(outputEl, {childList: true});\n",
       "}}\n",
       "\n",
       "                        })\n",
       "                };\n",
       "                });\n",
       "            </script>\n",
       "        </div>"
      ]
     },
     "metadata": {},
     "output_type": "display_data"
    }
   ],
   "source": [
    "df['A'].iplot(kind = 'hist', bins = 24)"
   ]
  },
  {
   "cell_type": "code",
   "execution_count": 61,
   "metadata": {},
   "outputs": [
    {
     "data": {
      "application/vnd.plotly.v1+json": {
       "config": {
        "linkText": "Export to plot.ly",
        "plotlyServerURL": "https://plot.ly",
        "showLink": true
       },
       "data": [
        {
         "histfunc": "count",
         "histnorm": "",
         "marker": {
          "color": "rgba(255, 153, 51, 1.0)",
          "line": {
           "color": "#4D5663",
           "width": 1.3
          }
         },
         "name": "A",
         "nbinsx": 25,
         "opacity": 0.8,
         "orientation": "v",
         "type": "histogram",
         "x": [
          -0.15966440057435938,
          -3.0268008071009187,
          0.9221382673050521,
          0.8770652008419254,
          2.076348258904066,
          -2.5385761484776928,
          -1.9211892960913912,
          0.6007684052334087,
          -0.21961932073774648,
          0.6947663878860076,
          1.5355433012808262,
          0.682536191559496,
          -0.00784008704142355,
          -0.5486678819424253,
          -0.42858792614727115,
          0.6318614246284424,
          1.014063885119909,
          0.19769301291352875,
          0.6115860679800008,
          0.19458939348542983,
          1.9061126760600309,
          2.1888523316757906,
          2.9527829087211845,
          0.03602569987116309,
          -0.695368302564943,
          1.6976635522629786,
          -2.6266196902651697,
          -0.5470043758963876,
          0.37115828238172793,
          -0.48023110420208853,
          1.0373530630599568,
          0.6748963442511032,
          1.229032627039319,
          1.696584799985512,
          0.029752667407899197,
          0.8084195973664055,
          -2.2248088064008944,
          1.0104302308242707,
          1.1180875214270254,
          1.2193035150614107,
          0.35565864473138953,
          -1.8415745792579306,
          -0.12863986311406433,
          -0.3840273635274107,
          -1.208692561789705,
          0.4930043761880178,
          0.22606346480288667,
          0.8469056906100876,
          -0.6602972998520016,
          0.18781265774515438,
          1.6287771347743953,
          -0.5770968099743413,
          -0.16194665920300977,
          0.8681358652235673,
          0.047414635744381525,
          0.21611033116647485,
          0.5907804771654277,
          0.9708460467264816,
          -1.8110933091195884,
          -0.5530434965138656,
          1.9636940438520054,
          1.1729722539442202,
          1.2421559008155438,
          -0.6288387913785575,
          0.34805958706986584,
          -0.5436381561059997,
          -0.5631348469165319,
          1.5606728416961202,
          0.2330738885185976,
          -0.8020391201493532,
          -0.6557997346611697,
          0.5726236513169123,
          1.2246219521550379,
          1.517883432418252,
          -0.14147909287681634,
          0.3664192494581477,
          -0.4322146140696219,
          -0.3495399006296373,
          -0.6810037668207851,
          0.08504992455350263,
          1.7823784203274209,
          0.6259377596645086,
          0.6638813119909011,
          -1.482839860554188,
          -0.2901295524795004,
          0.7728721769087347,
          1.0697450666270618,
          -0.38037586807737583,
          0.7361925861522479,
          2.227251940281902,
          -0.9059783157534909,
          1.0644082103981056,
          0.41243815873235085,
          -0.70985732273822,
          0.2921920971594382,
          0.316660089561294,
          1.2009474277974572,
          -0.17950997282633827,
          -1.8222345068938892,
          1.1804269142135373
         ]
        },
        {
         "histfunc": "count",
         "histnorm": "",
         "marker": {
          "color": "rgba(55, 128, 191, 1.0)",
          "line": {
           "color": "#4D5663",
           "width": 1.3
          }
         },
         "name": "B",
         "nbinsx": 25,
         "opacity": 0.8,
         "orientation": "v",
         "type": "histogram",
         "x": [
          -0.039620201830270506,
          -1.0886265885232451,
          1.510576451901204,
          1.784954270510374,
          1.856633419738731,
          -0.06186831571432017,
          -0.7177396996119862,
          1.3056032295822502,
          0.1747268566872305,
          -2.008057573582073,
          -0.24986540881811706,
          -0.68969312419857,
          1.7203106029038477,
          0.8148414349263332,
          -0.15528528397620237,
          -1.8057674057733473,
          0.1855558056334135,
          -0.20607748084692046,
          -0.41374065948487576,
          0.07802381651058664,
          0.5122383905711916,
          -0.8816396954950696,
          0.8150638310707726,
          -0.9128064482318322,
          -0.92947076177012,
          0.5364585267673471,
          -0.09773609410488768,
          -0.8376598389398086,
          -0.5149023896730086,
          -0.07638224135806895,
          -0.528115017916814,
          0.6930140672229397,
          -0.7173712123713216,
          0.435434124645374,
          -0.10550905698074249,
          0.9825963092482132,
          1.43990174097477,
          0.21861636481047017,
          -1.4434530863386295,
          -0.8429050603925676,
          -0.5824520358502622,
          -2.5060458213683448,
          0.8188019482586176,
          -1.1311437036384802,
          2.463221499435528,
          -1.4716903339509018,
          -1.3231503668137379,
          0.9138103857479809,
          0.7169170351565702,
          -0.5942680093604714,
          -1.700684394592634,
          -0.3601746175201089,
          -0.8427200334374927,
          -0.2448910298215501,
          1.0078914884134746,
          1.1363591311807222,
          0.31267011313669657,
          -0.4966643537233206,
          1.4258032741416697,
          -0.8218663321084495,
          0.07359712719308378,
          -1.4767339034966909,
          1.1364236958318257,
          -0.23598777516022656,
          -0.6022315860538371,
          -0.1211577645937869,
          -0.5284014012330627,
          -0.8756273951246533,
          -0.11679910149382909,
          -0.28133633907251443,
          1.3360164375010046,
          -1.993994774627574,
          1.705587826284771,
          -0.1242901136836673,
          -0.5972965399776643,
          0.10528367746866872,
          -1.8588149129828984,
          -0.7940920464638387,
          0.1276581837519382,
          -1.4602897634720386,
          -0.9001307498667146,
          -1.523129993571007,
          0.08675731770656844,
          -1.369456474965436,
          0.8336132458797575,
          -1.4707252145644945,
          1.9115214411160404,
          -0.8919965099516362,
          -1.1617999087632587,
          -1.8744766266033046,
          0.04249487946173756,
          -0.27310822473698654,
          0.08953567673202818,
          0.9321519847205323,
          -0.7901851679583582,
          0.43921752031434347,
          -0.8077884830291779,
          1.4627975973322422,
          0.9795913558289675,
          -0.4743917350346864
         ]
        },
        {
         "histfunc": "count",
         "histnorm": "",
         "marker": {
          "color": "rgba(50, 171, 96, 1.0)",
          "line": {
           "color": "#4D5663",
           "width": 1.3
          }
         },
         "name": "C",
         "nbinsx": 25,
         "opacity": 0.8,
         "orientation": "v",
         "type": "histogram",
         "x": [
          -2.050959337282939,
          -0.623135714654621,
          -0.9030838504023444,
          -0.8846787432223958,
          2.6741827735425394,
          -0.6354285944956553,
          -1.8496808811668934,
          -0.2547811416970197,
          -0.055681456337364384,
          -1.3944181938604423,
          -1.2902927400307336,
          0.6698919790212503,
          0.34643521789445736,
          -0.6967082806152699,
          -0.3212602648296973,
          1.7091491299614885,
          -0.5596189805447361,
          -0.525562784078486,
          -0.48049821825529065,
          -0.6346130652937808,
          0.47830738377493814,
          0.7156755848555739,
          1.4980374410115829,
          0.019052087924581036,
          -0.18201191885345414,
          -1.6588634578354686,
          -1.4828119493830143,
          -0.09216441630414798,
          -0.14553423644609612,
          -0.7794985383640196,
          -1.7350551083837469,
          0.8011445176125315,
          -0.3657053034107941,
          0.35222604176811234,
          -0.09434046490071221,
          0.27955154174741587,
          -0.47681326929380946,
          -1.4685668326584544,
          0.253437219952115,
          -0.1393600585054475,
          0.5111332871252802,
          1.966687474163078,
          1.7827345360633533,
          1.3365900682657514,
          0.22922232264662673,
          1.2412879016957008,
          0.17669427807060434,
          1.2102070043185542,
          0.9481346148415118,
          -0.7672110846043504,
          0.6779070484347443,
          -0.2478682667913302,
          0.005290125348690879,
          -0.7278639297732168,
          0.06953868587956952,
          -0.7252599174323642,
          0.9075663142325777,
          -1.357704195417472,
          1.2337390673840867,
          -1.5435650693835654,
          -1.8384710286781478,
          -0.3654452753253253,
          0.5368726545742358,
          0.15820260819638846,
          1.1688891296948416,
          0.7204814075390948,
          0.6756862921836863,
          0.8556117363426601,
          -0.5953676095033376,
          0.5185636488627283,
          0.25262453251756867,
          -0.4431075174340808,
          -1.508605467632452,
          -0.6206387803373581,
          -0.4824311953164388,
          -1.233241584706174,
          1.061749004442179,
          0.12292683966608829,
          0.0228518775722601,
          -1.2693591727320208,
          1.5670749867806724,
          -0.658579805547281,
          0.9816083662621841,
          -0.7237472802729957,
          -2.2476477755687774,
          -1.1457021217696113,
          -1.3170117279424052,
          -0.29420173341177985,
          -0.08004309491360784,
          -0.6533971663994066,
          -0.21402171159214076,
          1.0913202896398457,
          0.15607455217360325,
          -1.1458514538797409,
          2.383439127433773,
          0.7722722931324618,
          1.035267730994433,
          -0.16931970693807658,
          -0.08934031514353971,
          -0.40305055397493394
         ]
        },
        {
         "histfunc": "count",
         "histnorm": "",
         "marker": {
          "color": "rgba(128, 0, 128, 1.0)",
          "line": {
           "color": "#4D5663",
           "width": 1.3
          }
         },
         "name": "D",
         "nbinsx": 25,
         "opacity": 0.8,
         "orientation": "v",
         "type": "histogram",
         "x": [
          -2.45621934851348,
          -0.49738336039943415,
          1.0108981951075882,
          0.4371166861850728,
          0.8196645208336938,
          -0.2625102226319903,
          -0.8241370178729576,
          -0.23884566170418514,
          0.28308329505532737,
          -0.129906715276062,
          0.6388072941638956,
          -0.9611837323014758,
          -0.11309190392054783,
          -2.0193276671871643,
          -0.6116726473014742,
          1.851123908738312,
          -0.23730695552545975,
          -0.49077189703582214,
          -1.209708462345313,
          -0.7336780104359398,
          0.6122868341768868,
          -0.08826629915224017,
          0.040203935430538205,
          -1.4395374503419898,
          -0.8108575205014021,
          0.6383840839063878,
          -0.6046071651978742,
          0.10442668741813448,
          0.187852848471582,
          0.09516650285139858,
          -1.4379657756666862,
          -1.3995467804226953,
          -2.4400939453465926,
          1.357068116169183,
          0.675741665746478,
          0.8288586832135476,
          0.42379217923617585,
          -1.6765730171493463,
          1.1239018130698488,
          -1.499624055006214,
          0.900580921839038,
          -0.5228656297420218,
          1.3972028758224073,
          1.0456152430440662,
          -0.5584210258399632,
          -0.7254461638054707,
          2.429921842197925,
          0.26687240959263203,
          -1.5752830944648926,
          -0.0645244140536077,
          2.0221467606315944,
          -0.8115737932181631,
          -0.03953346571061237,
          0.3430560115673913,
          -0.678314414616606,
          0.7671270289936455,
          -0.8352815835060328,
          0.2625005834790334,
          0.6394229699144892,
          0.5744480532482673,
          0.9687296756953383,
          0.5281467997654329,
          0.7583808354729975,
          0.01008733722285285,
          -0.06386984596535984,
          0.6164890002338478,
          -0.9804120873817879,
          -1.2995248798407089,
          1.066126626588423,
          2.2125011388403535,
          1.0918321914430453,
          0.5393123108233898,
          0.8237643386872351,
          0.596304819634739,
          0.1551546937964348,
          -1.5255989307894378,
          -1.1431078143337003,
          1.2967382341855007,
          0.8990445838252091,
          -0.6711455782326923,
          -0.6162025218962328,
          0.622278697790318,
          0.16679223213883906,
          2.9127403911622443,
          -0.27152961576738033,
          -1.238501904868217,
          -0.16835336724025413,
          0.6378914389587478,
          0.4677712941488029,
          0.5495489487295442,
          -0.17931304232859252,
          -0.40814840097137234,
          1.9677139393195497,
          0.7851712092376301,
          -0.7656167328768418,
          -0.5536626665172183,
          -0.02963446605538179,
          0.1923114466917884,
          1.1345729810559975,
          -0.9630839809637665
         ]
        }
       ],
       "layout": {
        "barmode": "overlay",
        "legend": {
         "bgcolor": "#F5F6F9",
         "font": {
          "color": "#4D5663"
         }
        },
        "paper_bgcolor": "#F5F6F9",
        "plot_bgcolor": "#F5F6F9",
        "template": {
         "data": {
          "bar": [
           {
            "error_x": {
             "color": "#2a3f5f"
            },
            "error_y": {
             "color": "#2a3f5f"
            },
            "marker": {
             "line": {
              "color": "#E5ECF6",
              "width": 0.5
             }
            },
            "type": "bar"
           }
          ],
          "barpolar": [
           {
            "marker": {
             "line": {
              "color": "#E5ECF6",
              "width": 0.5
             }
            },
            "type": "barpolar"
           }
          ],
          "carpet": [
           {
            "aaxis": {
             "endlinecolor": "#2a3f5f",
             "gridcolor": "white",
             "linecolor": "white",
             "minorgridcolor": "white",
             "startlinecolor": "#2a3f5f"
            },
            "baxis": {
             "endlinecolor": "#2a3f5f",
             "gridcolor": "white",
             "linecolor": "white",
             "minorgridcolor": "white",
             "startlinecolor": "#2a3f5f"
            },
            "type": "carpet"
           }
          ],
          "choropleth": [
           {
            "colorbar": {
             "outlinewidth": 0,
             "ticks": ""
            },
            "type": "choropleth"
           }
          ],
          "contour": [
           {
            "colorbar": {
             "outlinewidth": 0,
             "ticks": ""
            },
            "colorscale": [
             [
              0,
              "#0d0887"
             ],
             [
              0.1111111111111111,
              "#46039f"
             ],
             [
              0.2222222222222222,
              "#7201a8"
             ],
             [
              0.3333333333333333,
              "#9c179e"
             ],
             [
              0.4444444444444444,
              "#bd3786"
             ],
             [
              0.5555555555555556,
              "#d8576b"
             ],
             [
              0.6666666666666666,
              "#ed7953"
             ],
             [
              0.7777777777777778,
              "#fb9f3a"
             ],
             [
              0.8888888888888888,
              "#fdca26"
             ],
             [
              1,
              "#f0f921"
             ]
            ],
            "type": "contour"
           }
          ],
          "contourcarpet": [
           {
            "colorbar": {
             "outlinewidth": 0,
             "ticks": ""
            },
            "type": "contourcarpet"
           }
          ],
          "heatmap": [
           {
            "colorbar": {
             "outlinewidth": 0,
             "ticks": ""
            },
            "colorscale": [
             [
              0,
              "#0d0887"
             ],
             [
              0.1111111111111111,
              "#46039f"
             ],
             [
              0.2222222222222222,
              "#7201a8"
             ],
             [
              0.3333333333333333,
              "#9c179e"
             ],
             [
              0.4444444444444444,
              "#bd3786"
             ],
             [
              0.5555555555555556,
              "#d8576b"
             ],
             [
              0.6666666666666666,
              "#ed7953"
             ],
             [
              0.7777777777777778,
              "#fb9f3a"
             ],
             [
              0.8888888888888888,
              "#fdca26"
             ],
             [
              1,
              "#f0f921"
             ]
            ],
            "type": "heatmap"
           }
          ],
          "heatmapgl": [
           {
            "colorbar": {
             "outlinewidth": 0,
             "ticks": ""
            },
            "colorscale": [
             [
              0,
              "#0d0887"
             ],
             [
              0.1111111111111111,
              "#46039f"
             ],
             [
              0.2222222222222222,
              "#7201a8"
             ],
             [
              0.3333333333333333,
              "#9c179e"
             ],
             [
              0.4444444444444444,
              "#bd3786"
             ],
             [
              0.5555555555555556,
              "#d8576b"
             ],
             [
              0.6666666666666666,
              "#ed7953"
             ],
             [
              0.7777777777777778,
              "#fb9f3a"
             ],
             [
              0.8888888888888888,
              "#fdca26"
             ],
             [
              1,
              "#f0f921"
             ]
            ],
            "type": "heatmapgl"
           }
          ],
          "histogram": [
           {
            "marker": {
             "colorbar": {
              "outlinewidth": 0,
              "ticks": ""
             }
            },
            "type": "histogram"
           }
          ],
          "histogram2d": [
           {
            "colorbar": {
             "outlinewidth": 0,
             "ticks": ""
            },
            "colorscale": [
             [
              0,
              "#0d0887"
             ],
             [
              0.1111111111111111,
              "#46039f"
             ],
             [
              0.2222222222222222,
              "#7201a8"
             ],
             [
              0.3333333333333333,
              "#9c179e"
             ],
             [
              0.4444444444444444,
              "#bd3786"
             ],
             [
              0.5555555555555556,
              "#d8576b"
             ],
             [
              0.6666666666666666,
              "#ed7953"
             ],
             [
              0.7777777777777778,
              "#fb9f3a"
             ],
             [
              0.8888888888888888,
              "#fdca26"
             ],
             [
              1,
              "#f0f921"
             ]
            ],
            "type": "histogram2d"
           }
          ],
          "histogram2dcontour": [
           {
            "colorbar": {
             "outlinewidth": 0,
             "ticks": ""
            },
            "colorscale": [
             [
              0,
              "#0d0887"
             ],
             [
              0.1111111111111111,
              "#46039f"
             ],
             [
              0.2222222222222222,
              "#7201a8"
             ],
             [
              0.3333333333333333,
              "#9c179e"
             ],
             [
              0.4444444444444444,
              "#bd3786"
             ],
             [
              0.5555555555555556,
              "#d8576b"
             ],
             [
              0.6666666666666666,
              "#ed7953"
             ],
             [
              0.7777777777777778,
              "#fb9f3a"
             ],
             [
              0.8888888888888888,
              "#fdca26"
             ],
             [
              1,
              "#f0f921"
             ]
            ],
            "type": "histogram2dcontour"
           }
          ],
          "mesh3d": [
           {
            "colorbar": {
             "outlinewidth": 0,
             "ticks": ""
            },
            "type": "mesh3d"
           }
          ],
          "parcoords": [
           {
            "line": {
             "colorbar": {
              "outlinewidth": 0,
              "ticks": ""
             }
            },
            "type": "parcoords"
           }
          ],
          "pie": [
           {
            "automargin": true,
            "type": "pie"
           }
          ],
          "scatter": [
           {
            "marker": {
             "colorbar": {
              "outlinewidth": 0,
              "ticks": ""
             }
            },
            "type": "scatter"
           }
          ],
          "scatter3d": [
           {
            "line": {
             "colorbar": {
              "outlinewidth": 0,
              "ticks": ""
             }
            },
            "marker": {
             "colorbar": {
              "outlinewidth": 0,
              "ticks": ""
             }
            },
            "type": "scatter3d"
           }
          ],
          "scattercarpet": [
           {
            "marker": {
             "colorbar": {
              "outlinewidth": 0,
              "ticks": ""
             }
            },
            "type": "scattercarpet"
           }
          ],
          "scattergeo": [
           {
            "marker": {
             "colorbar": {
              "outlinewidth": 0,
              "ticks": ""
             }
            },
            "type": "scattergeo"
           }
          ],
          "scattergl": [
           {
            "marker": {
             "colorbar": {
              "outlinewidth": 0,
              "ticks": ""
             }
            },
            "type": "scattergl"
           }
          ],
          "scattermapbox": [
           {
            "marker": {
             "colorbar": {
              "outlinewidth": 0,
              "ticks": ""
             }
            },
            "type": "scattermapbox"
           }
          ],
          "scatterpolar": [
           {
            "marker": {
             "colorbar": {
              "outlinewidth": 0,
              "ticks": ""
             }
            },
            "type": "scatterpolar"
           }
          ],
          "scatterpolargl": [
           {
            "marker": {
             "colorbar": {
              "outlinewidth": 0,
              "ticks": ""
             }
            },
            "type": "scatterpolargl"
           }
          ],
          "scatterternary": [
           {
            "marker": {
             "colorbar": {
              "outlinewidth": 0,
              "ticks": ""
             }
            },
            "type": "scatterternary"
           }
          ],
          "surface": [
           {
            "colorbar": {
             "outlinewidth": 0,
             "ticks": ""
            },
            "colorscale": [
             [
              0,
              "#0d0887"
             ],
             [
              0.1111111111111111,
              "#46039f"
             ],
             [
              0.2222222222222222,
              "#7201a8"
             ],
             [
              0.3333333333333333,
              "#9c179e"
             ],
             [
              0.4444444444444444,
              "#bd3786"
             ],
             [
              0.5555555555555556,
              "#d8576b"
             ],
             [
              0.6666666666666666,
              "#ed7953"
             ],
             [
              0.7777777777777778,
              "#fb9f3a"
             ],
             [
              0.8888888888888888,
              "#fdca26"
             ],
             [
              1,
              "#f0f921"
             ]
            ],
            "type": "surface"
           }
          ],
          "table": [
           {
            "cells": {
             "fill": {
              "color": "#EBF0F8"
             },
             "line": {
              "color": "white"
             }
            },
            "header": {
             "fill": {
              "color": "#C8D4E3"
             },
             "line": {
              "color": "white"
             }
            },
            "type": "table"
           }
          ]
         },
         "layout": {
          "annotationdefaults": {
           "arrowcolor": "#2a3f5f",
           "arrowhead": 0,
           "arrowwidth": 1
          },
          "coloraxis": {
           "colorbar": {
            "outlinewidth": 0,
            "ticks": ""
           }
          },
          "colorscale": {
           "diverging": [
            [
             0,
             "#8e0152"
            ],
            [
             0.1,
             "#c51b7d"
            ],
            [
             0.2,
             "#de77ae"
            ],
            [
             0.3,
             "#f1b6da"
            ],
            [
             0.4,
             "#fde0ef"
            ],
            [
             0.5,
             "#f7f7f7"
            ],
            [
             0.6,
             "#e6f5d0"
            ],
            [
             0.7,
             "#b8e186"
            ],
            [
             0.8,
             "#7fbc41"
            ],
            [
             0.9,
             "#4d9221"
            ],
            [
             1,
             "#276419"
            ]
           ],
           "sequential": [
            [
             0,
             "#0d0887"
            ],
            [
             0.1111111111111111,
             "#46039f"
            ],
            [
             0.2222222222222222,
             "#7201a8"
            ],
            [
             0.3333333333333333,
             "#9c179e"
            ],
            [
             0.4444444444444444,
             "#bd3786"
            ],
            [
             0.5555555555555556,
             "#d8576b"
            ],
            [
             0.6666666666666666,
             "#ed7953"
            ],
            [
             0.7777777777777778,
             "#fb9f3a"
            ],
            [
             0.8888888888888888,
             "#fdca26"
            ],
            [
             1,
             "#f0f921"
            ]
           ],
           "sequentialminus": [
            [
             0,
             "#0d0887"
            ],
            [
             0.1111111111111111,
             "#46039f"
            ],
            [
             0.2222222222222222,
             "#7201a8"
            ],
            [
             0.3333333333333333,
             "#9c179e"
            ],
            [
             0.4444444444444444,
             "#bd3786"
            ],
            [
             0.5555555555555556,
             "#d8576b"
            ],
            [
             0.6666666666666666,
             "#ed7953"
            ],
            [
             0.7777777777777778,
             "#fb9f3a"
            ],
            [
             0.8888888888888888,
             "#fdca26"
            ],
            [
             1,
             "#f0f921"
            ]
           ]
          },
          "colorway": [
           "#636efa",
           "#EF553B",
           "#00cc96",
           "#ab63fa",
           "#FFA15A",
           "#19d3f3",
           "#FF6692",
           "#B6E880",
           "#FF97FF",
           "#FECB52"
          ],
          "font": {
           "color": "#2a3f5f"
          },
          "geo": {
           "bgcolor": "white",
           "lakecolor": "white",
           "landcolor": "#E5ECF6",
           "showlakes": true,
           "showland": true,
           "subunitcolor": "white"
          },
          "hoverlabel": {
           "align": "left"
          },
          "hovermode": "closest",
          "mapbox": {
           "style": "light"
          },
          "paper_bgcolor": "white",
          "plot_bgcolor": "#E5ECF6",
          "polar": {
           "angularaxis": {
            "gridcolor": "white",
            "linecolor": "white",
            "ticks": ""
           },
           "bgcolor": "#E5ECF6",
           "radialaxis": {
            "gridcolor": "white",
            "linecolor": "white",
            "ticks": ""
           }
          },
          "scene": {
           "xaxis": {
            "backgroundcolor": "#E5ECF6",
            "gridcolor": "white",
            "gridwidth": 2,
            "linecolor": "white",
            "showbackground": true,
            "ticks": "",
            "zerolinecolor": "white"
           },
           "yaxis": {
            "backgroundcolor": "#E5ECF6",
            "gridcolor": "white",
            "gridwidth": 2,
            "linecolor": "white",
            "showbackground": true,
            "ticks": "",
            "zerolinecolor": "white"
           },
           "zaxis": {
            "backgroundcolor": "#E5ECF6",
            "gridcolor": "white",
            "gridwidth": 2,
            "linecolor": "white",
            "showbackground": true,
            "ticks": "",
            "zerolinecolor": "white"
           }
          },
          "shapedefaults": {
           "line": {
            "color": "#2a3f5f"
           }
          },
          "ternary": {
           "aaxis": {
            "gridcolor": "white",
            "linecolor": "white",
            "ticks": ""
           },
           "baxis": {
            "gridcolor": "white",
            "linecolor": "white",
            "ticks": ""
           },
           "bgcolor": "#E5ECF6",
           "caxis": {
            "gridcolor": "white",
            "linecolor": "white",
            "ticks": ""
           }
          },
          "title": {
           "x": 0.05
          },
          "xaxis": {
           "automargin": true,
           "gridcolor": "white",
           "linecolor": "white",
           "ticks": "",
           "title": {
            "standoff": 15
           },
           "zerolinecolor": "white",
           "zerolinewidth": 2
          },
          "yaxis": {
           "automargin": true,
           "gridcolor": "white",
           "linecolor": "white",
           "ticks": "",
           "title": {
            "standoff": 15
           },
           "zerolinecolor": "white",
           "zerolinewidth": 2
          }
         }
        },
        "title": {
         "font": {
          "color": "#4D5663"
         }
        },
        "xaxis": {
         "gridcolor": "#E1E5ED",
         "showgrid": true,
         "tickfont": {
          "color": "#4D5663"
         },
         "title": {
          "font": {
           "color": "#4D5663"
          },
          "text": ""
         },
         "zerolinecolor": "#E1E5ED"
        },
        "yaxis": {
         "gridcolor": "#E1E5ED",
         "showgrid": true,
         "tickfont": {
          "color": "#4D5663"
         },
         "title": {
          "font": {
           "color": "#4D5663"
          },
          "text": ""
         },
         "zerolinecolor": "#E1E5ED"
        }
       }
      },
      "text/html": [
       "<div>\n",
       "        \n",
       "        \n",
       "            <div id=\"0fde2cc8-d618-4d0a-89b0-62d710229a28\" class=\"plotly-graph-div\" style=\"height:525px; width:100%;\"></div>\n",
       "            <script type=\"text/javascript\">\n",
       "                require([\"plotly\"], function(Plotly) {\n",
       "                    window.PLOTLYENV=window.PLOTLYENV || {};\n",
       "                    window.PLOTLYENV.BASE_URL='https://plot.ly';\n",
       "                    \n",
       "                if (document.getElementById(\"0fde2cc8-d618-4d0a-89b0-62d710229a28\")) {\n",
       "                    Plotly.newPlot(\n",
       "                        '0fde2cc8-d618-4d0a-89b0-62d710229a28',\n",
       "                        [{\"histfunc\": \"count\", \"histnorm\": \"\", \"marker\": {\"color\": \"rgba(255, 153, 51, 1.0)\", \"line\": {\"color\": \"#4D5663\", \"width\": 1.3}}, \"name\": \"A\", \"nbinsx\": 25, \"opacity\": 0.8, \"orientation\": \"v\", \"type\": \"histogram\", \"x\": [-0.15966440057435938, -3.0268008071009187, 0.9221382673050521, 0.8770652008419254, 2.076348258904066, -2.5385761484776928, -1.9211892960913912, 0.6007684052334087, -0.21961932073774648, 0.6947663878860076, 1.5355433012808262, 0.682536191559496, -0.00784008704142355, -0.5486678819424253, -0.42858792614727115, 0.6318614246284424, 1.014063885119909, 0.19769301291352875, 0.6115860679800008, 0.19458939348542983, 1.9061126760600309, 2.1888523316757906, 2.9527829087211845, 0.03602569987116309, -0.695368302564943, 1.6976635522629786, -2.6266196902651697, -0.5470043758963876, 0.37115828238172793, -0.48023110420208853, 1.0373530630599568, 0.6748963442511032, 1.229032627039319, 1.696584799985512, 0.029752667407899197, 0.8084195973664055, -2.2248088064008944, 1.0104302308242707, 1.1180875214270254, 1.2193035150614107, 0.35565864473138953, -1.8415745792579306, -0.12863986311406433, -0.3840273635274107, -1.208692561789705, 0.4930043761880178, 0.22606346480288667, 0.8469056906100876, -0.6602972998520016, 0.18781265774515438, 1.6287771347743953, -0.5770968099743413, -0.16194665920300977, 0.8681358652235673, 0.047414635744381525, 0.21611033116647485, 0.5907804771654277, 0.9708460467264816, -1.8110933091195884, -0.5530434965138656, 1.9636940438520054, 1.1729722539442202, 1.2421559008155438, -0.6288387913785575, 0.34805958706986584, -0.5436381561059997, -0.5631348469165319, 1.5606728416961202, 0.2330738885185976, -0.8020391201493532, -0.6557997346611697, 0.5726236513169123, 1.2246219521550379, 1.517883432418252, -0.14147909287681634, 0.3664192494581477, -0.4322146140696219, -0.3495399006296373, -0.6810037668207851, 0.08504992455350263, 1.7823784203274209, 0.6259377596645086, 0.6638813119909011, -1.482839860554188, -0.2901295524795004, 0.7728721769087347, 1.0697450666270618, -0.38037586807737583, 0.7361925861522479, 2.227251940281902, -0.9059783157534909, 1.0644082103981056, 0.41243815873235085, -0.70985732273822, 0.2921920971594382, 0.316660089561294, 1.2009474277974572, -0.17950997282633827, -1.8222345068938892, 1.1804269142135373]}, {\"histfunc\": \"count\", \"histnorm\": \"\", \"marker\": {\"color\": \"rgba(55, 128, 191, 1.0)\", \"line\": {\"color\": \"#4D5663\", \"width\": 1.3}}, \"name\": \"B\", \"nbinsx\": 25, \"opacity\": 0.8, \"orientation\": \"v\", \"type\": \"histogram\", \"x\": [-0.039620201830270506, -1.0886265885232451, 1.510576451901204, 1.784954270510374, 1.856633419738731, -0.06186831571432017, -0.7177396996119862, 1.3056032295822502, 0.1747268566872305, -2.008057573582073, -0.24986540881811706, -0.68969312419857, 1.7203106029038477, 0.8148414349263332, -0.15528528397620237, -1.8057674057733473, 0.1855558056334135, -0.20607748084692046, -0.41374065948487576, 0.07802381651058664, 0.5122383905711916, -0.8816396954950696, 0.8150638310707726, -0.9128064482318322, -0.92947076177012, 0.5364585267673471, -0.09773609410488768, -0.8376598389398086, -0.5149023896730086, -0.07638224135806895, -0.528115017916814, 0.6930140672229397, -0.7173712123713216, 0.435434124645374, -0.10550905698074249, 0.9825963092482132, 1.43990174097477, 0.21861636481047017, -1.4434530863386295, -0.8429050603925676, -0.5824520358502622, -2.5060458213683448, 0.8188019482586176, -1.1311437036384802, 2.463221499435528, -1.4716903339509018, -1.3231503668137379, 0.9138103857479809, 0.7169170351565702, -0.5942680093604714, -1.700684394592634, -0.3601746175201089, -0.8427200334374927, -0.2448910298215501, 1.0078914884134746, 1.1363591311807222, 0.31267011313669657, -0.4966643537233206, 1.4258032741416697, -0.8218663321084495, 0.07359712719308378, -1.4767339034966909, 1.1364236958318257, -0.23598777516022656, -0.6022315860538371, -0.1211577645937869, -0.5284014012330627, -0.8756273951246533, -0.11679910149382909, -0.28133633907251443, 1.3360164375010046, -1.993994774627574, 1.705587826284771, -0.1242901136836673, -0.5972965399776643, 0.10528367746866872, -1.8588149129828984, -0.7940920464638387, 0.1276581837519382, -1.4602897634720386, -0.9001307498667146, -1.523129993571007, 0.08675731770656844, -1.369456474965436, 0.8336132458797575, -1.4707252145644945, 1.9115214411160404, -0.8919965099516362, -1.1617999087632587, -1.8744766266033046, 0.04249487946173756, -0.27310822473698654, 0.08953567673202818, 0.9321519847205323, -0.7901851679583582, 0.43921752031434347, -0.8077884830291779, 1.4627975973322422, 0.9795913558289675, -0.4743917350346864]}, {\"histfunc\": \"count\", \"histnorm\": \"\", \"marker\": {\"color\": \"rgba(50, 171, 96, 1.0)\", \"line\": {\"color\": \"#4D5663\", \"width\": 1.3}}, \"name\": \"C\", \"nbinsx\": 25, \"opacity\": 0.8, \"orientation\": \"v\", \"type\": \"histogram\", \"x\": [-2.050959337282939, -0.623135714654621, -0.9030838504023444, -0.8846787432223958, 2.6741827735425394, -0.6354285944956553, -1.8496808811668934, -0.2547811416970197, -0.055681456337364384, -1.3944181938604423, -1.2902927400307336, 0.6698919790212503, 0.34643521789445736, -0.6967082806152699, -0.3212602648296973, 1.7091491299614885, -0.5596189805447361, -0.525562784078486, -0.48049821825529065, -0.6346130652937808, 0.47830738377493814, 0.7156755848555739, 1.4980374410115829, 0.019052087924581036, -0.18201191885345414, -1.6588634578354686, -1.4828119493830143, -0.09216441630414798, -0.14553423644609612, -0.7794985383640196, -1.7350551083837469, 0.8011445176125315, -0.3657053034107941, 0.35222604176811234, -0.09434046490071221, 0.27955154174741587, -0.47681326929380946, -1.4685668326584544, 0.253437219952115, -0.1393600585054475, 0.5111332871252802, 1.966687474163078, 1.7827345360633533, 1.3365900682657514, 0.22922232264662673, 1.2412879016957008, 0.17669427807060434, 1.2102070043185542, 0.9481346148415118, -0.7672110846043504, 0.6779070484347443, -0.2478682667913302, 0.005290125348690879, -0.7278639297732168, 0.06953868587956952, -0.7252599174323642, 0.9075663142325777, -1.357704195417472, 1.2337390673840867, -1.5435650693835654, -1.8384710286781478, -0.3654452753253253, 0.5368726545742358, 0.15820260819638846, 1.1688891296948416, 0.7204814075390948, 0.6756862921836863, 0.8556117363426601, -0.5953676095033376, 0.5185636488627283, 0.25262453251756867, -0.4431075174340808, -1.508605467632452, -0.6206387803373581, -0.4824311953164388, -1.233241584706174, 1.061749004442179, 0.12292683966608829, 0.0228518775722601, -1.2693591727320208, 1.5670749867806724, -0.658579805547281, 0.9816083662621841, -0.7237472802729957, -2.2476477755687774, -1.1457021217696113, -1.3170117279424052, -0.29420173341177985, -0.08004309491360784, -0.6533971663994066, -0.21402171159214076, 1.0913202896398457, 0.15607455217360325, -1.1458514538797409, 2.383439127433773, 0.7722722931324618, 1.035267730994433, -0.16931970693807658, -0.08934031514353971, -0.40305055397493394]}, {\"histfunc\": \"count\", \"histnorm\": \"\", \"marker\": {\"color\": \"rgba(128, 0, 128, 1.0)\", \"line\": {\"color\": \"#4D5663\", \"width\": 1.3}}, \"name\": \"D\", \"nbinsx\": 25, \"opacity\": 0.8, \"orientation\": \"v\", \"type\": \"histogram\", \"x\": [-2.45621934851348, -0.49738336039943415, 1.0108981951075882, 0.4371166861850728, 0.8196645208336938, -0.2625102226319903, -0.8241370178729576, -0.23884566170418514, 0.28308329505532737, -0.129906715276062, 0.6388072941638956, -0.9611837323014758, -0.11309190392054783, -2.0193276671871643, -0.6116726473014742, 1.851123908738312, -0.23730695552545975, -0.49077189703582214, -1.209708462345313, -0.7336780104359398, 0.6122868341768868, -0.08826629915224017, 0.040203935430538205, -1.4395374503419898, -0.8108575205014021, 0.6383840839063878, -0.6046071651978742, 0.10442668741813448, 0.187852848471582, 0.09516650285139858, -1.4379657756666862, -1.3995467804226953, -2.4400939453465926, 1.357068116169183, 0.675741665746478, 0.8288586832135476, 0.42379217923617585, -1.6765730171493463, 1.1239018130698488, -1.499624055006214, 0.900580921839038, -0.5228656297420218, 1.3972028758224073, 1.0456152430440662, -0.5584210258399632, -0.7254461638054707, 2.429921842197925, 0.26687240959263203, -1.5752830944648926, -0.0645244140536077, 2.0221467606315944, -0.8115737932181631, -0.03953346571061237, 0.3430560115673913, -0.678314414616606, 0.7671270289936455, -0.8352815835060328, 0.2625005834790334, 0.6394229699144892, 0.5744480532482673, 0.9687296756953383, 0.5281467997654329, 0.7583808354729975, 0.01008733722285285, -0.06386984596535984, 0.6164890002338478, -0.9804120873817879, -1.2995248798407089, 1.066126626588423, 2.2125011388403535, 1.0918321914430453, 0.5393123108233898, 0.8237643386872351, 0.596304819634739, 0.1551546937964348, -1.5255989307894378, -1.1431078143337003, 1.2967382341855007, 0.8990445838252091, -0.6711455782326923, -0.6162025218962328, 0.622278697790318, 0.16679223213883906, 2.9127403911622443, -0.27152961576738033, -1.238501904868217, -0.16835336724025413, 0.6378914389587478, 0.4677712941488029, 0.5495489487295442, -0.17931304232859252, -0.40814840097137234, 1.9677139393195497, 0.7851712092376301, -0.7656167328768418, -0.5536626665172183, -0.02963446605538179, 0.1923114466917884, 1.1345729810559975, -0.9630839809637665]}],\n",
       "                        {\"barmode\": \"overlay\", \"legend\": {\"bgcolor\": \"#F5F6F9\", \"font\": {\"color\": \"#4D5663\"}}, \"paper_bgcolor\": \"#F5F6F9\", \"plot_bgcolor\": \"#F5F6F9\", \"template\": {\"data\": {\"bar\": [{\"error_x\": {\"color\": \"#2a3f5f\"}, \"error_y\": {\"color\": \"#2a3f5f\"}, \"marker\": {\"line\": {\"color\": \"#E5ECF6\", \"width\": 0.5}}, \"type\": \"bar\"}], \"barpolar\": [{\"marker\": {\"line\": {\"color\": \"#E5ECF6\", \"width\": 0.5}}, \"type\": \"barpolar\"}], \"carpet\": [{\"aaxis\": {\"endlinecolor\": \"#2a3f5f\", \"gridcolor\": \"white\", \"linecolor\": \"white\", \"minorgridcolor\": \"white\", \"startlinecolor\": \"#2a3f5f\"}, \"baxis\": {\"endlinecolor\": \"#2a3f5f\", \"gridcolor\": \"white\", \"linecolor\": \"white\", \"minorgridcolor\": \"white\", \"startlinecolor\": \"#2a3f5f\"}, \"type\": \"carpet\"}], \"choropleth\": [{\"colorbar\": {\"outlinewidth\": 0, \"ticks\": \"\"}, \"type\": \"choropleth\"}], \"contour\": [{\"colorbar\": {\"outlinewidth\": 0, \"ticks\": \"\"}, \"colorscale\": [[0.0, \"#0d0887\"], [0.1111111111111111, \"#46039f\"], [0.2222222222222222, \"#7201a8\"], [0.3333333333333333, \"#9c179e\"], [0.4444444444444444, \"#bd3786\"], [0.5555555555555556, \"#d8576b\"], [0.6666666666666666, \"#ed7953\"], [0.7777777777777778, \"#fb9f3a\"], [0.8888888888888888, \"#fdca26\"], [1.0, \"#f0f921\"]], \"type\": \"contour\"}], \"contourcarpet\": [{\"colorbar\": {\"outlinewidth\": 0, \"ticks\": \"\"}, \"type\": \"contourcarpet\"}], \"heatmap\": [{\"colorbar\": {\"outlinewidth\": 0, \"ticks\": \"\"}, \"colorscale\": [[0.0, \"#0d0887\"], [0.1111111111111111, \"#46039f\"], [0.2222222222222222, \"#7201a8\"], [0.3333333333333333, \"#9c179e\"], [0.4444444444444444, \"#bd3786\"], [0.5555555555555556, \"#d8576b\"], [0.6666666666666666, \"#ed7953\"], [0.7777777777777778, \"#fb9f3a\"], [0.8888888888888888, \"#fdca26\"], [1.0, \"#f0f921\"]], \"type\": \"heatmap\"}], \"heatmapgl\": [{\"colorbar\": {\"outlinewidth\": 0, \"ticks\": \"\"}, \"colorscale\": [[0.0, \"#0d0887\"], [0.1111111111111111, \"#46039f\"], [0.2222222222222222, \"#7201a8\"], [0.3333333333333333, \"#9c179e\"], [0.4444444444444444, \"#bd3786\"], [0.5555555555555556, \"#d8576b\"], [0.6666666666666666, \"#ed7953\"], [0.7777777777777778, \"#fb9f3a\"], [0.8888888888888888, \"#fdca26\"], [1.0, \"#f0f921\"]], \"type\": \"heatmapgl\"}], \"histogram\": [{\"marker\": {\"colorbar\": {\"outlinewidth\": 0, \"ticks\": \"\"}}, \"type\": \"histogram\"}], \"histogram2d\": [{\"colorbar\": {\"outlinewidth\": 0, \"ticks\": \"\"}, \"colorscale\": [[0.0, \"#0d0887\"], [0.1111111111111111, \"#46039f\"], [0.2222222222222222, \"#7201a8\"], [0.3333333333333333, \"#9c179e\"], [0.4444444444444444, \"#bd3786\"], [0.5555555555555556, \"#d8576b\"], [0.6666666666666666, \"#ed7953\"], [0.7777777777777778, \"#fb9f3a\"], [0.8888888888888888, \"#fdca26\"], [1.0, \"#f0f921\"]], \"type\": \"histogram2d\"}], \"histogram2dcontour\": [{\"colorbar\": {\"outlinewidth\": 0, \"ticks\": \"\"}, \"colorscale\": [[0.0, \"#0d0887\"], [0.1111111111111111, \"#46039f\"], [0.2222222222222222, \"#7201a8\"], [0.3333333333333333, \"#9c179e\"], [0.4444444444444444, \"#bd3786\"], [0.5555555555555556, \"#d8576b\"], [0.6666666666666666, \"#ed7953\"], [0.7777777777777778, \"#fb9f3a\"], [0.8888888888888888, \"#fdca26\"], [1.0, \"#f0f921\"]], \"type\": \"histogram2dcontour\"}], \"mesh3d\": [{\"colorbar\": {\"outlinewidth\": 0, \"ticks\": \"\"}, \"type\": \"mesh3d\"}], \"parcoords\": [{\"line\": {\"colorbar\": {\"outlinewidth\": 0, \"ticks\": \"\"}}, \"type\": \"parcoords\"}], \"pie\": [{\"automargin\": true, \"type\": \"pie\"}], \"scatter\": [{\"marker\": {\"colorbar\": {\"outlinewidth\": 0, \"ticks\": \"\"}}, \"type\": \"scatter\"}], \"scatter3d\": [{\"line\": {\"colorbar\": {\"outlinewidth\": 0, \"ticks\": \"\"}}, \"marker\": {\"colorbar\": {\"outlinewidth\": 0, \"ticks\": \"\"}}, \"type\": \"scatter3d\"}], \"scattercarpet\": [{\"marker\": {\"colorbar\": {\"outlinewidth\": 0, \"ticks\": \"\"}}, \"type\": \"scattercarpet\"}], \"scattergeo\": [{\"marker\": {\"colorbar\": {\"outlinewidth\": 0, \"ticks\": \"\"}}, \"type\": \"scattergeo\"}], \"scattergl\": [{\"marker\": {\"colorbar\": {\"outlinewidth\": 0, \"ticks\": \"\"}}, \"type\": \"scattergl\"}], \"scattermapbox\": [{\"marker\": {\"colorbar\": {\"outlinewidth\": 0, \"ticks\": \"\"}}, \"type\": \"scattermapbox\"}], \"scatterpolar\": [{\"marker\": {\"colorbar\": {\"outlinewidth\": 0, \"ticks\": \"\"}}, \"type\": \"scatterpolar\"}], \"scatterpolargl\": [{\"marker\": {\"colorbar\": {\"outlinewidth\": 0, \"ticks\": \"\"}}, \"type\": \"scatterpolargl\"}], \"scatterternary\": [{\"marker\": {\"colorbar\": {\"outlinewidth\": 0, \"ticks\": \"\"}}, \"type\": \"scatterternary\"}], \"surface\": [{\"colorbar\": {\"outlinewidth\": 0, \"ticks\": \"\"}, \"colorscale\": [[0.0, \"#0d0887\"], [0.1111111111111111, \"#46039f\"], [0.2222222222222222, \"#7201a8\"], [0.3333333333333333, \"#9c179e\"], [0.4444444444444444, \"#bd3786\"], [0.5555555555555556, \"#d8576b\"], [0.6666666666666666, \"#ed7953\"], [0.7777777777777778, \"#fb9f3a\"], [0.8888888888888888, \"#fdca26\"], [1.0, \"#f0f921\"]], \"type\": \"surface\"}], \"table\": [{\"cells\": {\"fill\": {\"color\": \"#EBF0F8\"}, \"line\": {\"color\": \"white\"}}, \"header\": {\"fill\": {\"color\": \"#C8D4E3\"}, \"line\": {\"color\": \"white\"}}, \"type\": \"table\"}]}, \"layout\": {\"annotationdefaults\": {\"arrowcolor\": \"#2a3f5f\", \"arrowhead\": 0, \"arrowwidth\": 1}, \"coloraxis\": {\"colorbar\": {\"outlinewidth\": 0, \"ticks\": \"\"}}, \"colorscale\": {\"diverging\": [[0, \"#8e0152\"], [0.1, \"#c51b7d\"], [0.2, \"#de77ae\"], [0.3, \"#f1b6da\"], [0.4, \"#fde0ef\"], [0.5, \"#f7f7f7\"], [0.6, \"#e6f5d0\"], [0.7, \"#b8e186\"], [0.8, \"#7fbc41\"], [0.9, \"#4d9221\"], [1, \"#276419\"]], \"sequential\": [[0.0, \"#0d0887\"], [0.1111111111111111, \"#46039f\"], [0.2222222222222222, \"#7201a8\"], [0.3333333333333333, \"#9c179e\"], [0.4444444444444444, \"#bd3786\"], [0.5555555555555556, \"#d8576b\"], [0.6666666666666666, \"#ed7953\"], [0.7777777777777778, \"#fb9f3a\"], [0.8888888888888888, \"#fdca26\"], [1.0, \"#f0f921\"]], \"sequentialminus\": [[0.0, \"#0d0887\"], [0.1111111111111111, \"#46039f\"], [0.2222222222222222, \"#7201a8\"], [0.3333333333333333, \"#9c179e\"], [0.4444444444444444, \"#bd3786\"], [0.5555555555555556, \"#d8576b\"], [0.6666666666666666, \"#ed7953\"], [0.7777777777777778, \"#fb9f3a\"], [0.8888888888888888, \"#fdca26\"], [1.0, \"#f0f921\"]]}, \"colorway\": [\"#636efa\", \"#EF553B\", \"#00cc96\", \"#ab63fa\", \"#FFA15A\", \"#19d3f3\", \"#FF6692\", \"#B6E880\", \"#FF97FF\", \"#FECB52\"], \"font\": {\"color\": \"#2a3f5f\"}, \"geo\": {\"bgcolor\": \"white\", \"lakecolor\": \"white\", \"landcolor\": \"#E5ECF6\", \"showlakes\": true, \"showland\": true, \"subunitcolor\": \"white\"}, \"hoverlabel\": {\"align\": \"left\"}, \"hovermode\": \"closest\", \"mapbox\": {\"style\": \"light\"}, \"paper_bgcolor\": \"white\", \"plot_bgcolor\": \"#E5ECF6\", \"polar\": {\"angularaxis\": {\"gridcolor\": \"white\", \"linecolor\": \"white\", \"ticks\": \"\"}, \"bgcolor\": \"#E5ECF6\", \"radialaxis\": {\"gridcolor\": \"white\", \"linecolor\": \"white\", \"ticks\": \"\"}}, \"scene\": {\"xaxis\": {\"backgroundcolor\": \"#E5ECF6\", \"gridcolor\": \"white\", \"gridwidth\": 2, \"linecolor\": \"white\", \"showbackground\": true, \"ticks\": \"\", \"zerolinecolor\": \"white\"}, \"yaxis\": {\"backgroundcolor\": \"#E5ECF6\", \"gridcolor\": \"white\", \"gridwidth\": 2, \"linecolor\": \"white\", \"showbackground\": true, \"ticks\": \"\", \"zerolinecolor\": \"white\"}, \"zaxis\": {\"backgroundcolor\": \"#E5ECF6\", \"gridcolor\": \"white\", \"gridwidth\": 2, \"linecolor\": \"white\", \"showbackground\": true, \"ticks\": \"\", \"zerolinecolor\": \"white\"}}, \"shapedefaults\": {\"line\": {\"color\": \"#2a3f5f\"}}, \"ternary\": {\"aaxis\": {\"gridcolor\": \"white\", \"linecolor\": \"white\", \"ticks\": \"\"}, \"baxis\": {\"gridcolor\": \"white\", \"linecolor\": \"white\", \"ticks\": \"\"}, \"bgcolor\": \"#E5ECF6\", \"caxis\": {\"gridcolor\": \"white\", \"linecolor\": \"white\", \"ticks\": \"\"}}, \"title\": {\"x\": 0.05}, \"xaxis\": {\"automargin\": true, \"gridcolor\": \"white\", \"linecolor\": \"white\", \"ticks\": \"\", \"title\": {\"standoff\": 15}, \"zerolinecolor\": \"white\", \"zerolinewidth\": 2}, \"yaxis\": {\"automargin\": true, \"gridcolor\": \"white\", \"linecolor\": \"white\", \"ticks\": \"\", \"title\": {\"standoff\": 15}, \"zerolinecolor\": \"white\", \"zerolinewidth\": 2}}}, \"title\": {\"font\": {\"color\": \"#4D5663\"}}, \"xaxis\": {\"gridcolor\": \"#E1E5ED\", \"showgrid\": true, \"tickfont\": {\"color\": \"#4D5663\"}, \"title\": {\"font\": {\"color\": \"#4D5663\"}, \"text\": \"\"}, \"zerolinecolor\": \"#E1E5ED\"}, \"yaxis\": {\"gridcolor\": \"#E1E5ED\", \"showgrid\": true, \"tickfont\": {\"color\": \"#4D5663\"}, \"title\": {\"font\": {\"color\": \"#4D5663\"}, \"text\": \"\"}, \"zerolinecolor\": \"#E1E5ED\"}},\n",
       "                        {\"showLink\": true, \"linkText\": \"Export to plot.ly\", \"plotlyServerURL\": \"https://plot.ly\", \"responsive\": true}\n",
       "                    ).then(function(){\n",
       "                            \n",
       "var gd = document.getElementById('0fde2cc8-d618-4d0a-89b0-62d710229a28');\n",
       "var x = new MutationObserver(function (mutations, observer) {{\n",
       "        var display = window.getComputedStyle(gd).display;\n",
       "        if (!display || display === 'none') {{\n",
       "            console.log([gd, 'removed!']);\n",
       "            Plotly.purge(gd);\n",
       "            observer.disconnect();\n",
       "        }}\n",
       "}});\n",
       "\n",
       "// Listen for the removal of the full notebook cells\n",
       "var notebookContainer = gd.closest('#notebook-container');\n",
       "if (notebookContainer) {{\n",
       "    x.observe(notebookContainer, {childList: true});\n",
       "}}\n",
       "\n",
       "// Listen for the clearing of the current output cell\n",
       "var outputEl = gd.closest('.output');\n",
       "if (outputEl) {{\n",
       "    x.observe(outputEl, {childList: true});\n",
       "}}\n",
       "\n",
       "                        })\n",
       "                };\n",
       "                });\n",
       "            </script>\n",
       "        </div>"
      ]
     },
     "metadata": {},
     "output_type": "display_data"
    }
   ],
   "source": [
    "df.iplot(kind = 'hist', bins = 25)   # we get overlapping columns for cmparision"
   ]
  },
  {
   "cell_type": "markdown",
   "metadata": {},
   "source": [
    "## Spread Type Visualization\n",
    "Used to stock up data and to see spread between two stocks"
   ]
  },
  {
   "cell_type": "code",
   "execution_count": 64,
   "metadata": {},
   "outputs": [
    {
     "data": {
      "application/vnd.plotly.v1+json": {
       "config": {
        "linkText": "Export to plot.ly",
        "plotlyServerURL": "https://plot.ly",
        "showLink": true
       },
       "data": [
        {
         "line": {
          "color": "rgba(255, 153, 51, 1.0)",
          "dash": "solid",
          "shape": "linear",
          "width": 1.3
         },
         "mode": "lines",
         "name": "A",
         "text": "",
         "type": "scatter",
         "x": [
          0,
          1,
          2,
          3,
          4,
          5,
          6,
          7,
          8,
          9,
          10,
          11,
          12,
          13,
          14,
          15,
          16,
          17,
          18,
          19,
          20,
          21,
          22,
          23,
          24,
          25,
          26,
          27,
          28,
          29,
          30,
          31,
          32,
          33,
          34,
          35,
          36,
          37,
          38,
          39,
          40,
          41,
          42,
          43,
          44,
          45,
          46,
          47,
          48,
          49,
          50,
          51,
          52,
          53,
          54,
          55,
          56,
          57,
          58,
          59,
          60,
          61,
          62,
          63,
          64,
          65,
          66,
          67,
          68,
          69,
          70,
          71,
          72,
          73,
          74,
          75,
          76,
          77,
          78,
          79,
          80,
          81,
          82,
          83,
          84,
          85,
          86,
          87,
          88,
          89,
          90,
          91,
          92,
          93,
          94,
          95,
          96,
          97,
          98,
          99
         ],
         "y": [
          -0.15966440057435938,
          -3.0268008071009187,
          0.9221382673050521,
          0.8770652008419254,
          2.076348258904066,
          -2.5385761484776928,
          -1.9211892960913912,
          0.6007684052334087,
          -0.21961932073774648,
          0.6947663878860076,
          1.5355433012808262,
          0.682536191559496,
          -0.00784008704142355,
          -0.5486678819424253,
          -0.42858792614727115,
          0.6318614246284424,
          1.014063885119909,
          0.19769301291352875,
          0.6115860679800008,
          0.19458939348542983,
          1.9061126760600309,
          2.1888523316757906,
          2.9527829087211845,
          0.03602569987116309,
          -0.695368302564943,
          1.6976635522629786,
          -2.6266196902651697,
          -0.5470043758963876,
          0.37115828238172793,
          -0.48023110420208853,
          1.0373530630599568,
          0.6748963442511032,
          1.229032627039319,
          1.696584799985512,
          0.029752667407899197,
          0.8084195973664055,
          -2.2248088064008944,
          1.0104302308242707,
          1.1180875214270254,
          1.2193035150614107,
          0.35565864473138953,
          -1.8415745792579306,
          -0.12863986311406433,
          -0.3840273635274107,
          -1.208692561789705,
          0.4930043761880178,
          0.22606346480288667,
          0.8469056906100876,
          -0.6602972998520016,
          0.18781265774515438,
          1.6287771347743953,
          -0.5770968099743413,
          -0.16194665920300977,
          0.8681358652235673,
          0.047414635744381525,
          0.21611033116647485,
          0.5907804771654277,
          0.9708460467264816,
          -1.8110933091195884,
          -0.5530434965138656,
          1.9636940438520054,
          1.1729722539442202,
          1.2421559008155438,
          -0.6288387913785575,
          0.34805958706986584,
          -0.5436381561059997,
          -0.5631348469165319,
          1.5606728416961202,
          0.2330738885185976,
          -0.8020391201493532,
          -0.6557997346611697,
          0.5726236513169123,
          1.2246219521550379,
          1.517883432418252,
          -0.14147909287681634,
          0.3664192494581477,
          -0.4322146140696219,
          -0.3495399006296373,
          -0.6810037668207851,
          0.08504992455350263,
          1.7823784203274209,
          0.6259377596645086,
          0.6638813119909011,
          -1.482839860554188,
          -0.2901295524795004,
          0.7728721769087347,
          1.0697450666270618,
          -0.38037586807737583,
          0.7361925861522479,
          2.227251940281902,
          -0.9059783157534909,
          1.0644082103981056,
          0.41243815873235085,
          -0.70985732273822,
          0.2921920971594382,
          0.316660089561294,
          1.2009474277974572,
          -0.17950997282633827,
          -1.8222345068938892,
          1.1804269142135373
         ]
        },
        {
         "line": {
          "color": "rgba(55, 128, 191, 1.0)",
          "dash": "solid",
          "shape": "linear",
          "width": 1.3
         },
         "mode": "lines",
         "name": "B",
         "text": "",
         "type": "scatter",
         "x": [
          0,
          1,
          2,
          3,
          4,
          5,
          6,
          7,
          8,
          9,
          10,
          11,
          12,
          13,
          14,
          15,
          16,
          17,
          18,
          19,
          20,
          21,
          22,
          23,
          24,
          25,
          26,
          27,
          28,
          29,
          30,
          31,
          32,
          33,
          34,
          35,
          36,
          37,
          38,
          39,
          40,
          41,
          42,
          43,
          44,
          45,
          46,
          47,
          48,
          49,
          50,
          51,
          52,
          53,
          54,
          55,
          56,
          57,
          58,
          59,
          60,
          61,
          62,
          63,
          64,
          65,
          66,
          67,
          68,
          69,
          70,
          71,
          72,
          73,
          74,
          75,
          76,
          77,
          78,
          79,
          80,
          81,
          82,
          83,
          84,
          85,
          86,
          87,
          88,
          89,
          90,
          91,
          92,
          93,
          94,
          95,
          96,
          97,
          98,
          99
         ],
         "y": [
          -0.039620201830270506,
          -1.0886265885232451,
          1.510576451901204,
          1.784954270510374,
          1.856633419738731,
          -0.06186831571432017,
          -0.7177396996119862,
          1.3056032295822502,
          0.1747268566872305,
          -2.008057573582073,
          -0.24986540881811706,
          -0.68969312419857,
          1.7203106029038477,
          0.8148414349263332,
          -0.15528528397620237,
          -1.8057674057733473,
          0.1855558056334135,
          -0.20607748084692046,
          -0.41374065948487576,
          0.07802381651058664,
          0.5122383905711916,
          -0.8816396954950696,
          0.8150638310707726,
          -0.9128064482318322,
          -0.92947076177012,
          0.5364585267673471,
          -0.09773609410488768,
          -0.8376598389398086,
          -0.5149023896730086,
          -0.07638224135806895,
          -0.528115017916814,
          0.6930140672229397,
          -0.7173712123713216,
          0.435434124645374,
          -0.10550905698074249,
          0.9825963092482132,
          1.43990174097477,
          0.21861636481047017,
          -1.4434530863386295,
          -0.8429050603925676,
          -0.5824520358502622,
          -2.5060458213683448,
          0.8188019482586176,
          -1.1311437036384802,
          2.463221499435528,
          -1.4716903339509018,
          -1.3231503668137379,
          0.9138103857479809,
          0.7169170351565702,
          -0.5942680093604714,
          -1.700684394592634,
          -0.3601746175201089,
          -0.8427200334374927,
          -0.2448910298215501,
          1.0078914884134746,
          1.1363591311807222,
          0.31267011313669657,
          -0.4966643537233206,
          1.4258032741416697,
          -0.8218663321084495,
          0.07359712719308378,
          -1.4767339034966909,
          1.1364236958318257,
          -0.23598777516022656,
          -0.6022315860538371,
          -0.1211577645937869,
          -0.5284014012330627,
          -0.8756273951246533,
          -0.11679910149382909,
          -0.28133633907251443,
          1.3360164375010046,
          -1.993994774627574,
          1.705587826284771,
          -0.1242901136836673,
          -0.5972965399776643,
          0.10528367746866872,
          -1.8588149129828984,
          -0.7940920464638387,
          0.1276581837519382,
          -1.4602897634720386,
          -0.9001307498667146,
          -1.523129993571007,
          0.08675731770656844,
          -1.369456474965436,
          0.8336132458797575,
          -1.4707252145644945,
          1.9115214411160404,
          -0.8919965099516362,
          -1.1617999087632587,
          -1.8744766266033046,
          0.04249487946173756,
          -0.27310822473698654,
          0.08953567673202818,
          0.9321519847205323,
          -0.7901851679583582,
          0.43921752031434347,
          -0.8077884830291779,
          1.4627975973322422,
          0.9795913558289675,
          -0.4743917350346864
         ]
        },
        {
         "connectgaps": false,
         "fill": "tozeroy",
         "line": {
          "color": "green",
          "dash": "solid",
          "shape": "linear",
          "width": 0.5
         },
         "mode": "lines",
         "name": "Spread",
         "showlegend": false,
         "type": "scatter",
         "x": [
          0,
          1,
          2,
          3,
          4,
          5,
          6,
          7,
          8,
          9,
          10,
          11,
          12,
          13,
          14,
          15,
          16,
          17,
          18,
          19,
          20,
          21,
          22,
          23,
          24,
          25,
          26,
          27,
          28,
          29,
          30,
          31,
          32,
          33,
          34,
          35,
          36,
          37,
          38,
          39,
          40,
          41,
          42,
          43,
          44,
          45,
          46,
          47,
          48,
          49,
          50,
          51,
          52,
          53,
          54,
          55,
          56,
          57,
          58,
          59,
          60,
          61,
          62,
          63,
          64,
          65,
          66,
          67,
          68,
          69,
          70,
          71,
          72,
          73,
          74,
          75,
          76,
          77,
          78,
          79,
          80,
          81,
          82,
          83,
          84,
          85,
          86,
          87,
          88,
          89,
          90,
          91,
          92,
          93,
          94,
          95,
          96,
          97,
          98,
          99
         ],
         "xaxis": "x2",
         "y": [
          "",
          "",
          "",
          "",
          0.21971483916533496,
          "",
          "",
          "",
          "",
          2.7028239614680807,
          1.7854087100989433,
          1.3722293157580658,
          "",
          "",
          "",
          2.4376288304017897,
          0.8285080794864956,
          0.4037704937604492,
          1.0253267274648765,
          0.1165655769748432,
          1.3938742854888393,
          3.07049202717086,
          2.137719077650412,
          0.9488321481029953,
          0.23410245920517703,
          1.1612050254956316,
          "",
          0.29065546304342094,
          0.8860606720547366,
          "",
          1.5654680809767707,
          "",
          1.9464038394106407,
          1.2611506753401378,
          0.1352617243886417,
          "",
          "",
          0.7918138660138005,
          2.5615406077656546,
          2.0622085754539783,
          0.9381106805816517,
          0.6644712421104142,
          "",
          0.7471163401110694,
          "",
          1.9646947101389196,
          1.5492138316166246,
          "",
          "",
          0.7820806671056257,
          3.3294615293670295,
          "",
          0.6807733742344829,
          1.1130268950451174,
          "",
          "",
          0.2781103640287311,
          1.467510400449802,
          "",
          0.26882283559458386,
          1.8900969166589217,
          2.649706157440911,
          0.10573220498371816,
          "",
          0.9502911731237029,
          "",
          "",
          2.4363002368207733,
          0.34987299001242667,
          "",
          "",
          2.566618425944486,
          "",
          1.6421735461019193,
          0.45581744710084793,
          0.26113557198947895,
          1.4266002989132764,
          0.4445521458342014,
          "",
          1.5453396880255412,
          2.6825091701941357,
          2.1490677532355154,
          0.5771239942843326,
          "",
          "",
          2.2435973914732292,
          "",
          0.5116206418742604,
          1.8979924949155067,
          4.101728566885207,
          "",
          1.337516435135092,
          0.3229024820003227,
          "",
          1.0823772651177965,
          "",
          2.008735910826635,
          "",
          "",
          1.6548186492482237
         ],
         "yaxis": "y2"
        },
        {
         "connectgaps": false,
         "fill": "tozeroy",
         "line": {
          "color": "red",
          "dash": "solid",
          "shape": "linear",
          "width": 0.5
         },
         "mode": "lines",
         "name": "Spread",
         "showlegend": false,
         "type": "scatter",
         "x": [
          0,
          1,
          2,
          3,
          4,
          5,
          6,
          7,
          8,
          9,
          10,
          11,
          12,
          13,
          14,
          15,
          16,
          17,
          18,
          19,
          20,
          21,
          22,
          23,
          24,
          25,
          26,
          27,
          28,
          29,
          30,
          31,
          32,
          33,
          34,
          35,
          36,
          37,
          38,
          39,
          40,
          41,
          42,
          43,
          44,
          45,
          46,
          47,
          48,
          49,
          50,
          51,
          52,
          53,
          54,
          55,
          56,
          57,
          58,
          59,
          60,
          61,
          62,
          63,
          64,
          65,
          66,
          67,
          68,
          69,
          70,
          71,
          72,
          73,
          74,
          75,
          76,
          77,
          78,
          79,
          80,
          81,
          82,
          83,
          84,
          85,
          86,
          87,
          88,
          89,
          90,
          91,
          92,
          93,
          94,
          95,
          96,
          97,
          98,
          99
         ],
         "xaxis": "x2",
         "y": [
          -0.12004419874408886,
          -1.9381742185776736,
          -0.5884381845961518,
          -0.9078890696684486,
          "",
          -2.4767078327633727,
          -1.203449596479405,
          -0.7048348243488415,
          -0.394346177424977,
          "",
          "",
          "",
          -1.7281506899452712,
          -1.3635093168687584,
          -0.2733026421710688,
          "",
          "",
          "",
          "",
          "",
          "",
          "",
          "",
          "",
          "",
          "",
          -2.528883596160282,
          "",
          "",
          -0.40384886284401955,
          "",
          -0.018117722971836447,
          "",
          "",
          "",
          -0.17417671188180772,
          -3.6647105473756643,
          "",
          "",
          "",
          "",
          "",
          -0.9474418113726819,
          "",
          -3.671914061225233,
          "",
          "",
          -0.06690469513789332,
          -1.377214335008572,
          "",
          "",
          -0.21692219245423244,
          "",
          "",
          -0.9604768526690931,
          -0.9202488000142474,
          "",
          "",
          -3.236896583261258,
          "",
          "",
          "",
          "",
          -0.3928510162183309,
          "",
          -0.42248039151221284,
          -0.034733445683469255,
          "",
          "",
          -0.5207027810768388,
          -1.9918161721621743,
          "",
          -0.48096587412973313,
          "",
          "",
          "",
          "",
          "",
          -0.8086619505727233,
          "",
          "",
          "",
          "",
          -0.11338338558875183,
          -1.1237427983592578,
          "",
          -0.8417763744889786,
          "",
          "",
          "",
          -0.9484731952152284,
          "",
          "",
          -1.6420093074587523,
          "",
          -0.12255743075304948,
          "",
          -1.6423075701585805,
          -2.8018258627228567,
          ""
         ],
         "yaxis": "y2"
        }
       ],
       "layout": {
        "hovermode": "x",
        "legend": {
         "bgcolor": "#F5F6F9",
         "font": {
          "color": "#4D5663"
         }
        },
        "paper_bgcolor": "#F5F6F9",
        "plot_bgcolor": "#F5F6F9",
        "template": {
         "data": {
          "bar": [
           {
            "error_x": {
             "color": "#2a3f5f"
            },
            "error_y": {
             "color": "#2a3f5f"
            },
            "marker": {
             "line": {
              "color": "#E5ECF6",
              "width": 0.5
             }
            },
            "type": "bar"
           }
          ],
          "barpolar": [
           {
            "marker": {
             "line": {
              "color": "#E5ECF6",
              "width": 0.5
             }
            },
            "type": "barpolar"
           }
          ],
          "carpet": [
           {
            "aaxis": {
             "endlinecolor": "#2a3f5f",
             "gridcolor": "white",
             "linecolor": "white",
             "minorgridcolor": "white",
             "startlinecolor": "#2a3f5f"
            },
            "baxis": {
             "endlinecolor": "#2a3f5f",
             "gridcolor": "white",
             "linecolor": "white",
             "minorgridcolor": "white",
             "startlinecolor": "#2a3f5f"
            },
            "type": "carpet"
           }
          ],
          "choropleth": [
           {
            "colorbar": {
             "outlinewidth": 0,
             "ticks": ""
            },
            "type": "choropleth"
           }
          ],
          "contour": [
           {
            "colorbar": {
             "outlinewidth": 0,
             "ticks": ""
            },
            "colorscale": [
             [
              0,
              "#0d0887"
             ],
             [
              0.1111111111111111,
              "#46039f"
             ],
             [
              0.2222222222222222,
              "#7201a8"
             ],
             [
              0.3333333333333333,
              "#9c179e"
             ],
             [
              0.4444444444444444,
              "#bd3786"
             ],
             [
              0.5555555555555556,
              "#d8576b"
             ],
             [
              0.6666666666666666,
              "#ed7953"
             ],
             [
              0.7777777777777778,
              "#fb9f3a"
             ],
             [
              0.8888888888888888,
              "#fdca26"
             ],
             [
              1,
              "#f0f921"
             ]
            ],
            "type": "contour"
           }
          ],
          "contourcarpet": [
           {
            "colorbar": {
             "outlinewidth": 0,
             "ticks": ""
            },
            "type": "contourcarpet"
           }
          ],
          "heatmap": [
           {
            "colorbar": {
             "outlinewidth": 0,
             "ticks": ""
            },
            "colorscale": [
             [
              0,
              "#0d0887"
             ],
             [
              0.1111111111111111,
              "#46039f"
             ],
             [
              0.2222222222222222,
              "#7201a8"
             ],
             [
              0.3333333333333333,
              "#9c179e"
             ],
             [
              0.4444444444444444,
              "#bd3786"
             ],
             [
              0.5555555555555556,
              "#d8576b"
             ],
             [
              0.6666666666666666,
              "#ed7953"
             ],
             [
              0.7777777777777778,
              "#fb9f3a"
             ],
             [
              0.8888888888888888,
              "#fdca26"
             ],
             [
              1,
              "#f0f921"
             ]
            ],
            "type": "heatmap"
           }
          ],
          "heatmapgl": [
           {
            "colorbar": {
             "outlinewidth": 0,
             "ticks": ""
            },
            "colorscale": [
             [
              0,
              "#0d0887"
             ],
             [
              0.1111111111111111,
              "#46039f"
             ],
             [
              0.2222222222222222,
              "#7201a8"
             ],
             [
              0.3333333333333333,
              "#9c179e"
             ],
             [
              0.4444444444444444,
              "#bd3786"
             ],
             [
              0.5555555555555556,
              "#d8576b"
             ],
             [
              0.6666666666666666,
              "#ed7953"
             ],
             [
              0.7777777777777778,
              "#fb9f3a"
             ],
             [
              0.8888888888888888,
              "#fdca26"
             ],
             [
              1,
              "#f0f921"
             ]
            ],
            "type": "heatmapgl"
           }
          ],
          "histogram": [
           {
            "marker": {
             "colorbar": {
              "outlinewidth": 0,
              "ticks": ""
             }
            },
            "type": "histogram"
           }
          ],
          "histogram2d": [
           {
            "colorbar": {
             "outlinewidth": 0,
             "ticks": ""
            },
            "colorscale": [
             [
              0,
              "#0d0887"
             ],
             [
              0.1111111111111111,
              "#46039f"
             ],
             [
              0.2222222222222222,
              "#7201a8"
             ],
             [
              0.3333333333333333,
              "#9c179e"
             ],
             [
              0.4444444444444444,
              "#bd3786"
             ],
             [
              0.5555555555555556,
              "#d8576b"
             ],
             [
              0.6666666666666666,
              "#ed7953"
             ],
             [
              0.7777777777777778,
              "#fb9f3a"
             ],
             [
              0.8888888888888888,
              "#fdca26"
             ],
             [
              1,
              "#f0f921"
             ]
            ],
            "type": "histogram2d"
           }
          ],
          "histogram2dcontour": [
           {
            "colorbar": {
             "outlinewidth": 0,
             "ticks": ""
            },
            "colorscale": [
             [
              0,
              "#0d0887"
             ],
             [
              0.1111111111111111,
              "#46039f"
             ],
             [
              0.2222222222222222,
              "#7201a8"
             ],
             [
              0.3333333333333333,
              "#9c179e"
             ],
             [
              0.4444444444444444,
              "#bd3786"
             ],
             [
              0.5555555555555556,
              "#d8576b"
             ],
             [
              0.6666666666666666,
              "#ed7953"
             ],
             [
              0.7777777777777778,
              "#fb9f3a"
             ],
             [
              0.8888888888888888,
              "#fdca26"
             ],
             [
              1,
              "#f0f921"
             ]
            ],
            "type": "histogram2dcontour"
           }
          ],
          "mesh3d": [
           {
            "colorbar": {
             "outlinewidth": 0,
             "ticks": ""
            },
            "type": "mesh3d"
           }
          ],
          "parcoords": [
           {
            "line": {
             "colorbar": {
              "outlinewidth": 0,
              "ticks": ""
             }
            },
            "type": "parcoords"
           }
          ],
          "pie": [
           {
            "automargin": true,
            "type": "pie"
           }
          ],
          "scatter": [
           {
            "marker": {
             "colorbar": {
              "outlinewidth": 0,
              "ticks": ""
             }
            },
            "type": "scatter"
           }
          ],
          "scatter3d": [
           {
            "line": {
             "colorbar": {
              "outlinewidth": 0,
              "ticks": ""
             }
            },
            "marker": {
             "colorbar": {
              "outlinewidth": 0,
              "ticks": ""
             }
            },
            "type": "scatter3d"
           }
          ],
          "scattercarpet": [
           {
            "marker": {
             "colorbar": {
              "outlinewidth": 0,
              "ticks": ""
             }
            },
            "type": "scattercarpet"
           }
          ],
          "scattergeo": [
           {
            "marker": {
             "colorbar": {
              "outlinewidth": 0,
              "ticks": ""
             }
            },
            "type": "scattergeo"
           }
          ],
          "scattergl": [
           {
            "marker": {
             "colorbar": {
              "outlinewidth": 0,
              "ticks": ""
             }
            },
            "type": "scattergl"
           }
          ],
          "scattermapbox": [
           {
            "marker": {
             "colorbar": {
              "outlinewidth": 0,
              "ticks": ""
             }
            },
            "type": "scattermapbox"
           }
          ],
          "scatterpolar": [
           {
            "marker": {
             "colorbar": {
              "outlinewidth": 0,
              "ticks": ""
             }
            },
            "type": "scatterpolar"
           }
          ],
          "scatterpolargl": [
           {
            "marker": {
             "colorbar": {
              "outlinewidth": 0,
              "ticks": ""
             }
            },
            "type": "scatterpolargl"
           }
          ],
          "scatterternary": [
           {
            "marker": {
             "colorbar": {
              "outlinewidth": 0,
              "ticks": ""
             }
            },
            "type": "scatterternary"
           }
          ],
          "surface": [
           {
            "colorbar": {
             "outlinewidth": 0,
             "ticks": ""
            },
            "colorscale": [
             [
              0,
              "#0d0887"
             ],
             [
              0.1111111111111111,
              "#46039f"
             ],
             [
              0.2222222222222222,
              "#7201a8"
             ],
             [
              0.3333333333333333,
              "#9c179e"
             ],
             [
              0.4444444444444444,
              "#bd3786"
             ],
             [
              0.5555555555555556,
              "#d8576b"
             ],
             [
              0.6666666666666666,
              "#ed7953"
             ],
             [
              0.7777777777777778,
              "#fb9f3a"
             ],
             [
              0.8888888888888888,
              "#fdca26"
             ],
             [
              1,
              "#f0f921"
             ]
            ],
            "type": "surface"
           }
          ],
          "table": [
           {
            "cells": {
             "fill": {
              "color": "#EBF0F8"
             },
             "line": {
              "color": "white"
             }
            },
            "header": {
             "fill": {
              "color": "#C8D4E3"
             },
             "line": {
              "color": "white"
             }
            },
            "type": "table"
           }
          ]
         },
         "layout": {
          "annotationdefaults": {
           "arrowcolor": "#2a3f5f",
           "arrowhead": 0,
           "arrowwidth": 1
          },
          "coloraxis": {
           "colorbar": {
            "outlinewidth": 0,
            "ticks": ""
           }
          },
          "colorscale": {
           "diverging": [
            [
             0,
             "#8e0152"
            ],
            [
             0.1,
             "#c51b7d"
            ],
            [
             0.2,
             "#de77ae"
            ],
            [
             0.3,
             "#f1b6da"
            ],
            [
             0.4,
             "#fde0ef"
            ],
            [
             0.5,
             "#f7f7f7"
            ],
            [
             0.6,
             "#e6f5d0"
            ],
            [
             0.7,
             "#b8e186"
            ],
            [
             0.8,
             "#7fbc41"
            ],
            [
             0.9,
             "#4d9221"
            ],
            [
             1,
             "#276419"
            ]
           ],
           "sequential": [
            [
             0,
             "#0d0887"
            ],
            [
             0.1111111111111111,
             "#46039f"
            ],
            [
             0.2222222222222222,
             "#7201a8"
            ],
            [
             0.3333333333333333,
             "#9c179e"
            ],
            [
             0.4444444444444444,
             "#bd3786"
            ],
            [
             0.5555555555555556,
             "#d8576b"
            ],
            [
             0.6666666666666666,
             "#ed7953"
            ],
            [
             0.7777777777777778,
             "#fb9f3a"
            ],
            [
             0.8888888888888888,
             "#fdca26"
            ],
            [
             1,
             "#f0f921"
            ]
           ],
           "sequentialminus": [
            [
             0,
             "#0d0887"
            ],
            [
             0.1111111111111111,
             "#46039f"
            ],
            [
             0.2222222222222222,
             "#7201a8"
            ],
            [
             0.3333333333333333,
             "#9c179e"
            ],
            [
             0.4444444444444444,
             "#bd3786"
            ],
            [
             0.5555555555555556,
             "#d8576b"
            ],
            [
             0.6666666666666666,
             "#ed7953"
            ],
            [
             0.7777777777777778,
             "#fb9f3a"
            ],
            [
             0.8888888888888888,
             "#fdca26"
            ],
            [
             1,
             "#f0f921"
            ]
           ]
          },
          "colorway": [
           "#636efa",
           "#EF553B",
           "#00cc96",
           "#ab63fa",
           "#FFA15A",
           "#19d3f3",
           "#FF6692",
           "#B6E880",
           "#FF97FF",
           "#FECB52"
          ],
          "font": {
           "color": "#2a3f5f"
          },
          "geo": {
           "bgcolor": "white",
           "lakecolor": "white",
           "landcolor": "#E5ECF6",
           "showlakes": true,
           "showland": true,
           "subunitcolor": "white"
          },
          "hoverlabel": {
           "align": "left"
          },
          "hovermode": "closest",
          "mapbox": {
           "style": "light"
          },
          "paper_bgcolor": "white",
          "plot_bgcolor": "#E5ECF6",
          "polar": {
           "angularaxis": {
            "gridcolor": "white",
            "linecolor": "white",
            "ticks": ""
           },
           "bgcolor": "#E5ECF6",
           "radialaxis": {
            "gridcolor": "white",
            "linecolor": "white",
            "ticks": ""
           }
          },
          "scene": {
           "xaxis": {
            "backgroundcolor": "#E5ECF6",
            "gridcolor": "white",
            "gridwidth": 2,
            "linecolor": "white",
            "showbackground": true,
            "ticks": "",
            "zerolinecolor": "white"
           },
           "yaxis": {
            "backgroundcolor": "#E5ECF6",
            "gridcolor": "white",
            "gridwidth": 2,
            "linecolor": "white",
            "showbackground": true,
            "ticks": "",
            "zerolinecolor": "white"
           },
           "zaxis": {
            "backgroundcolor": "#E5ECF6",
            "gridcolor": "white",
            "gridwidth": 2,
            "linecolor": "white",
            "showbackground": true,
            "ticks": "",
            "zerolinecolor": "white"
           }
          },
          "shapedefaults": {
           "line": {
            "color": "#2a3f5f"
           }
          },
          "ternary": {
           "aaxis": {
            "gridcolor": "white",
            "linecolor": "white",
            "ticks": ""
           },
           "baxis": {
            "gridcolor": "white",
            "linecolor": "white",
            "ticks": ""
           },
           "bgcolor": "#E5ECF6",
           "caxis": {
            "gridcolor": "white",
            "linecolor": "white",
            "ticks": ""
           }
          },
          "title": {
           "x": 0.05
          },
          "xaxis": {
           "automargin": true,
           "gridcolor": "white",
           "linecolor": "white",
           "ticks": "",
           "title": {
            "standoff": 15
           },
           "zerolinecolor": "white",
           "zerolinewidth": 2
          },
          "yaxis": {
           "automargin": true,
           "gridcolor": "white",
           "linecolor": "white",
           "ticks": "",
           "title": {
            "standoff": 15
           },
           "zerolinecolor": "white",
           "zerolinewidth": 2
          }
         }
        },
        "title": {
         "font": {
          "color": "#4D5663"
         }
        },
        "xaxis": {
         "gridcolor": "#E1E5ED",
         "showgrid": true,
         "tickfont": {
          "color": "#4D5663"
         },
         "title": {
          "font": {
           "color": "#4D5663"
          },
          "text": ""
         },
         "zerolinecolor": "#E1E5ED"
        },
        "xaxis2": {
         "anchor": "y2",
         "gridcolor": "#E1E5ED",
         "showgrid": true,
         "showticklabels": false,
         "tickfont": {
          "color": "#4D5663"
         },
         "title": {
          "font": {
           "color": "#4D5663"
          },
          "text": ""
         },
         "zerolinecolor": "#E1E5ED"
        },
        "yaxis": {
         "domain": [
          0.3,
          1
         ],
         "gridcolor": "#E1E5ED",
         "showgrid": true,
         "tickfont": {
          "color": "#4D5663"
         },
         "title": {
          "font": {
           "color": "#4D5663"
          },
          "text": ""
         },
         "zerolinecolor": "#E1E5ED"
        },
        "yaxis2": {
         "domain": [
          0,
          0.25
         ],
         "gridcolor": "#E1E5ED",
         "showgrid": true,
         "tickfont": {
          "color": "#4D5663"
         },
         "title": {
          "font": {
           "color": "#4D5663"
          },
          "text": "Spread"
         },
         "zerolinecolor": "#E1E5ED"
        }
       }
      },
      "text/html": [
       "<div>\n",
       "        \n",
       "        \n",
       "            <div id=\"a55b7630-4da5-4c3c-89df-9a78f6d0a279\" class=\"plotly-graph-div\" style=\"height:525px; width:100%;\"></div>\n",
       "            <script type=\"text/javascript\">\n",
       "                require([\"plotly\"], function(Plotly) {\n",
       "                    window.PLOTLYENV=window.PLOTLYENV || {};\n",
       "                    window.PLOTLYENV.BASE_URL='https://plot.ly';\n",
       "                    \n",
       "                if (document.getElementById(\"a55b7630-4da5-4c3c-89df-9a78f6d0a279\")) {\n",
       "                    Plotly.newPlot(\n",
       "                        'a55b7630-4da5-4c3c-89df-9a78f6d0a279',\n",
       "                        [{\"line\": {\"color\": \"rgba(255, 153, 51, 1.0)\", \"dash\": \"solid\", \"shape\": \"linear\", \"width\": 1.3}, \"mode\": \"lines\", \"name\": \"A\", \"text\": \"\", \"type\": \"scatter\", \"x\": [0, 1, 2, 3, 4, 5, 6, 7, 8, 9, 10, 11, 12, 13, 14, 15, 16, 17, 18, 19, 20, 21, 22, 23, 24, 25, 26, 27, 28, 29, 30, 31, 32, 33, 34, 35, 36, 37, 38, 39, 40, 41, 42, 43, 44, 45, 46, 47, 48, 49, 50, 51, 52, 53, 54, 55, 56, 57, 58, 59, 60, 61, 62, 63, 64, 65, 66, 67, 68, 69, 70, 71, 72, 73, 74, 75, 76, 77, 78, 79, 80, 81, 82, 83, 84, 85, 86, 87, 88, 89, 90, 91, 92, 93, 94, 95, 96, 97, 98, 99], \"y\": [-0.15966440057435938, -3.0268008071009187, 0.9221382673050521, 0.8770652008419254, 2.076348258904066, -2.5385761484776928, -1.9211892960913912, 0.6007684052334087, -0.21961932073774648, 0.6947663878860076, 1.5355433012808262, 0.682536191559496, -0.00784008704142355, -0.5486678819424253, -0.42858792614727115, 0.6318614246284424, 1.014063885119909, 0.19769301291352875, 0.6115860679800008, 0.19458939348542983, 1.9061126760600309, 2.1888523316757906, 2.9527829087211845, 0.03602569987116309, -0.695368302564943, 1.6976635522629786, -2.6266196902651697, -0.5470043758963876, 0.37115828238172793, -0.48023110420208853, 1.0373530630599568, 0.6748963442511032, 1.229032627039319, 1.696584799985512, 0.029752667407899197, 0.8084195973664055, -2.2248088064008944, 1.0104302308242707, 1.1180875214270254, 1.2193035150614107, 0.35565864473138953, -1.8415745792579306, -0.12863986311406433, -0.3840273635274107, -1.208692561789705, 0.4930043761880178, 0.22606346480288667, 0.8469056906100876, -0.6602972998520016, 0.18781265774515438, 1.6287771347743953, -0.5770968099743413, -0.16194665920300977, 0.8681358652235673, 0.047414635744381525, 0.21611033116647485, 0.5907804771654277, 0.9708460467264816, -1.8110933091195884, -0.5530434965138656, 1.9636940438520054, 1.1729722539442202, 1.2421559008155438, -0.6288387913785575, 0.34805958706986584, -0.5436381561059997, -0.5631348469165319, 1.5606728416961202, 0.2330738885185976, -0.8020391201493532, -0.6557997346611697, 0.5726236513169123, 1.2246219521550379, 1.517883432418252, -0.14147909287681634, 0.3664192494581477, -0.4322146140696219, -0.3495399006296373, -0.6810037668207851, 0.08504992455350263, 1.7823784203274209, 0.6259377596645086, 0.6638813119909011, -1.482839860554188, -0.2901295524795004, 0.7728721769087347, 1.0697450666270618, -0.38037586807737583, 0.7361925861522479, 2.227251940281902, -0.9059783157534909, 1.0644082103981056, 0.41243815873235085, -0.70985732273822, 0.2921920971594382, 0.316660089561294, 1.2009474277974572, -0.17950997282633827, -1.8222345068938892, 1.1804269142135373]}, {\"line\": {\"color\": \"rgba(55, 128, 191, 1.0)\", \"dash\": \"solid\", \"shape\": \"linear\", \"width\": 1.3}, \"mode\": \"lines\", \"name\": \"B\", \"text\": \"\", \"type\": \"scatter\", \"x\": [0, 1, 2, 3, 4, 5, 6, 7, 8, 9, 10, 11, 12, 13, 14, 15, 16, 17, 18, 19, 20, 21, 22, 23, 24, 25, 26, 27, 28, 29, 30, 31, 32, 33, 34, 35, 36, 37, 38, 39, 40, 41, 42, 43, 44, 45, 46, 47, 48, 49, 50, 51, 52, 53, 54, 55, 56, 57, 58, 59, 60, 61, 62, 63, 64, 65, 66, 67, 68, 69, 70, 71, 72, 73, 74, 75, 76, 77, 78, 79, 80, 81, 82, 83, 84, 85, 86, 87, 88, 89, 90, 91, 92, 93, 94, 95, 96, 97, 98, 99], \"y\": [-0.039620201830270506, -1.0886265885232451, 1.510576451901204, 1.784954270510374, 1.856633419738731, -0.06186831571432017, -0.7177396996119862, 1.3056032295822502, 0.1747268566872305, -2.008057573582073, -0.24986540881811706, -0.68969312419857, 1.7203106029038477, 0.8148414349263332, -0.15528528397620237, -1.8057674057733473, 0.1855558056334135, -0.20607748084692046, -0.41374065948487576, 0.07802381651058664, 0.5122383905711916, -0.8816396954950696, 0.8150638310707726, -0.9128064482318322, -0.92947076177012, 0.5364585267673471, -0.09773609410488768, -0.8376598389398086, -0.5149023896730086, -0.07638224135806895, -0.528115017916814, 0.6930140672229397, -0.7173712123713216, 0.435434124645374, -0.10550905698074249, 0.9825963092482132, 1.43990174097477, 0.21861636481047017, -1.4434530863386295, -0.8429050603925676, -0.5824520358502622, -2.5060458213683448, 0.8188019482586176, -1.1311437036384802, 2.463221499435528, -1.4716903339509018, -1.3231503668137379, 0.9138103857479809, 0.7169170351565702, -0.5942680093604714, -1.700684394592634, -0.3601746175201089, -0.8427200334374927, -0.2448910298215501, 1.0078914884134746, 1.1363591311807222, 0.31267011313669657, -0.4966643537233206, 1.4258032741416697, -0.8218663321084495, 0.07359712719308378, -1.4767339034966909, 1.1364236958318257, -0.23598777516022656, -0.6022315860538371, -0.1211577645937869, -0.5284014012330627, -0.8756273951246533, -0.11679910149382909, -0.28133633907251443, 1.3360164375010046, -1.993994774627574, 1.705587826284771, -0.1242901136836673, -0.5972965399776643, 0.10528367746866872, -1.8588149129828984, -0.7940920464638387, 0.1276581837519382, -1.4602897634720386, -0.9001307498667146, -1.523129993571007, 0.08675731770656844, -1.369456474965436, 0.8336132458797575, -1.4707252145644945, 1.9115214411160404, -0.8919965099516362, -1.1617999087632587, -1.8744766266033046, 0.04249487946173756, -0.27310822473698654, 0.08953567673202818, 0.9321519847205323, -0.7901851679583582, 0.43921752031434347, -0.8077884830291779, 1.4627975973322422, 0.9795913558289675, -0.4743917350346864]}, {\"connectgaps\": false, \"fill\": \"tozeroy\", \"line\": {\"color\": \"green\", \"dash\": \"solid\", \"shape\": \"linear\", \"width\": 0.5}, \"mode\": \"lines\", \"name\": \"Spread\", \"showlegend\": false, \"type\": \"scatter\", \"x\": [0, 1, 2, 3, 4, 5, 6, 7, 8, 9, 10, 11, 12, 13, 14, 15, 16, 17, 18, 19, 20, 21, 22, 23, 24, 25, 26, 27, 28, 29, 30, 31, 32, 33, 34, 35, 36, 37, 38, 39, 40, 41, 42, 43, 44, 45, 46, 47, 48, 49, 50, 51, 52, 53, 54, 55, 56, 57, 58, 59, 60, 61, 62, 63, 64, 65, 66, 67, 68, 69, 70, 71, 72, 73, 74, 75, 76, 77, 78, 79, 80, 81, 82, 83, 84, 85, 86, 87, 88, 89, 90, 91, 92, 93, 94, 95, 96, 97, 98, 99], \"xaxis\": \"x2\", \"y\": [\"\", \"\", \"\", \"\", 0.21971483916533496, \"\", \"\", \"\", \"\", 2.7028239614680807, 1.7854087100989433, 1.3722293157580658, \"\", \"\", \"\", 2.4376288304017897, 0.8285080794864956, 0.4037704937604492, 1.0253267274648765, 0.1165655769748432, 1.3938742854888393, 3.07049202717086, 2.137719077650412, 0.9488321481029953, 0.23410245920517703, 1.1612050254956316, \"\", 0.29065546304342094, 0.8860606720547366, \"\", 1.5654680809767707, \"\", 1.9464038394106407, 1.2611506753401378, 0.1352617243886417, \"\", \"\", 0.7918138660138005, 2.5615406077656546, 2.0622085754539783, 0.9381106805816517, 0.6644712421104142, \"\", 0.7471163401110694, \"\", 1.9646947101389196, 1.5492138316166246, \"\", \"\", 0.7820806671056257, 3.3294615293670295, \"\", 0.6807733742344829, 1.1130268950451174, \"\", \"\", 0.2781103640287311, 1.467510400449802, \"\", 0.26882283559458386, 1.8900969166589217, 2.649706157440911, 0.10573220498371816, \"\", 0.9502911731237029, \"\", \"\", 2.4363002368207733, 0.34987299001242667, \"\", \"\", 2.566618425944486, \"\", 1.6421735461019193, 0.45581744710084793, 0.26113557198947895, 1.4266002989132764, 0.4445521458342014, \"\", 1.5453396880255412, 2.6825091701941357, 2.1490677532355154, 0.5771239942843326, \"\", \"\", 2.2435973914732292, \"\", 0.5116206418742604, 1.8979924949155067, 4.101728566885207, \"\", 1.337516435135092, 0.3229024820003227, \"\", 1.0823772651177965, \"\", 2.008735910826635, \"\", \"\", 1.6548186492482237], \"yaxis\": \"y2\"}, {\"connectgaps\": false, \"fill\": \"tozeroy\", \"line\": {\"color\": \"red\", \"dash\": \"solid\", \"shape\": \"linear\", \"width\": 0.5}, \"mode\": \"lines\", \"name\": \"Spread\", \"showlegend\": false, \"type\": \"scatter\", \"x\": [0, 1, 2, 3, 4, 5, 6, 7, 8, 9, 10, 11, 12, 13, 14, 15, 16, 17, 18, 19, 20, 21, 22, 23, 24, 25, 26, 27, 28, 29, 30, 31, 32, 33, 34, 35, 36, 37, 38, 39, 40, 41, 42, 43, 44, 45, 46, 47, 48, 49, 50, 51, 52, 53, 54, 55, 56, 57, 58, 59, 60, 61, 62, 63, 64, 65, 66, 67, 68, 69, 70, 71, 72, 73, 74, 75, 76, 77, 78, 79, 80, 81, 82, 83, 84, 85, 86, 87, 88, 89, 90, 91, 92, 93, 94, 95, 96, 97, 98, 99], \"xaxis\": \"x2\", \"y\": [-0.12004419874408886, -1.9381742185776736, -0.5884381845961518, -0.9078890696684486, \"\", -2.4767078327633727, -1.203449596479405, -0.7048348243488415, -0.394346177424977, \"\", \"\", \"\", -1.7281506899452712, -1.3635093168687584, -0.2733026421710688, \"\", \"\", \"\", \"\", \"\", \"\", \"\", \"\", \"\", \"\", \"\", -2.528883596160282, \"\", \"\", -0.40384886284401955, \"\", -0.018117722971836447, \"\", \"\", \"\", -0.17417671188180772, -3.6647105473756643, \"\", \"\", \"\", \"\", \"\", -0.9474418113726819, \"\", -3.671914061225233, \"\", \"\", -0.06690469513789332, -1.377214335008572, \"\", \"\", -0.21692219245423244, \"\", \"\", -0.9604768526690931, -0.9202488000142474, \"\", \"\", -3.236896583261258, \"\", \"\", \"\", \"\", -0.3928510162183309, \"\", -0.42248039151221284, -0.034733445683469255, \"\", \"\", -0.5207027810768388, -1.9918161721621743, \"\", -0.48096587412973313, \"\", \"\", \"\", \"\", \"\", -0.8086619505727233, \"\", \"\", \"\", \"\", -0.11338338558875183, -1.1237427983592578, \"\", -0.8417763744889786, \"\", \"\", \"\", -0.9484731952152284, \"\", \"\", -1.6420093074587523, \"\", -0.12255743075304948, \"\", -1.6423075701585805, -2.8018258627228567, \"\"], \"yaxis\": \"y2\"}],\n",
       "                        {\"hovermode\": \"x\", \"legend\": {\"bgcolor\": \"#F5F6F9\", \"font\": {\"color\": \"#4D5663\"}}, \"paper_bgcolor\": \"#F5F6F9\", \"plot_bgcolor\": \"#F5F6F9\", \"template\": {\"data\": {\"bar\": [{\"error_x\": {\"color\": \"#2a3f5f\"}, \"error_y\": {\"color\": \"#2a3f5f\"}, \"marker\": {\"line\": {\"color\": \"#E5ECF6\", \"width\": 0.5}}, \"type\": \"bar\"}], \"barpolar\": [{\"marker\": {\"line\": {\"color\": \"#E5ECF6\", \"width\": 0.5}}, \"type\": \"barpolar\"}], \"carpet\": [{\"aaxis\": {\"endlinecolor\": \"#2a3f5f\", \"gridcolor\": \"white\", \"linecolor\": \"white\", \"minorgridcolor\": \"white\", \"startlinecolor\": \"#2a3f5f\"}, \"baxis\": {\"endlinecolor\": \"#2a3f5f\", \"gridcolor\": \"white\", \"linecolor\": \"white\", \"minorgridcolor\": \"white\", \"startlinecolor\": \"#2a3f5f\"}, \"type\": \"carpet\"}], \"choropleth\": [{\"colorbar\": {\"outlinewidth\": 0, \"ticks\": \"\"}, \"type\": \"choropleth\"}], \"contour\": [{\"colorbar\": {\"outlinewidth\": 0, \"ticks\": \"\"}, \"colorscale\": [[0.0, \"#0d0887\"], [0.1111111111111111, \"#46039f\"], [0.2222222222222222, \"#7201a8\"], [0.3333333333333333, \"#9c179e\"], [0.4444444444444444, \"#bd3786\"], [0.5555555555555556, \"#d8576b\"], [0.6666666666666666, \"#ed7953\"], [0.7777777777777778, \"#fb9f3a\"], [0.8888888888888888, \"#fdca26\"], [1.0, \"#f0f921\"]], \"type\": \"contour\"}], \"contourcarpet\": [{\"colorbar\": {\"outlinewidth\": 0, \"ticks\": \"\"}, \"type\": \"contourcarpet\"}], \"heatmap\": [{\"colorbar\": {\"outlinewidth\": 0, \"ticks\": \"\"}, \"colorscale\": [[0.0, \"#0d0887\"], [0.1111111111111111, \"#46039f\"], [0.2222222222222222, \"#7201a8\"], [0.3333333333333333, \"#9c179e\"], [0.4444444444444444, \"#bd3786\"], [0.5555555555555556, \"#d8576b\"], [0.6666666666666666, \"#ed7953\"], [0.7777777777777778, \"#fb9f3a\"], [0.8888888888888888, \"#fdca26\"], [1.0, \"#f0f921\"]], \"type\": \"heatmap\"}], \"heatmapgl\": [{\"colorbar\": {\"outlinewidth\": 0, \"ticks\": \"\"}, \"colorscale\": [[0.0, \"#0d0887\"], [0.1111111111111111, \"#46039f\"], [0.2222222222222222, \"#7201a8\"], [0.3333333333333333, \"#9c179e\"], [0.4444444444444444, \"#bd3786\"], [0.5555555555555556, \"#d8576b\"], [0.6666666666666666, \"#ed7953\"], [0.7777777777777778, \"#fb9f3a\"], [0.8888888888888888, \"#fdca26\"], [1.0, \"#f0f921\"]], \"type\": \"heatmapgl\"}], \"histogram\": [{\"marker\": {\"colorbar\": {\"outlinewidth\": 0, \"ticks\": \"\"}}, \"type\": \"histogram\"}], \"histogram2d\": [{\"colorbar\": {\"outlinewidth\": 0, \"ticks\": \"\"}, \"colorscale\": [[0.0, \"#0d0887\"], [0.1111111111111111, \"#46039f\"], [0.2222222222222222, \"#7201a8\"], [0.3333333333333333, \"#9c179e\"], [0.4444444444444444, \"#bd3786\"], [0.5555555555555556, \"#d8576b\"], [0.6666666666666666, \"#ed7953\"], [0.7777777777777778, \"#fb9f3a\"], [0.8888888888888888, \"#fdca26\"], [1.0, \"#f0f921\"]], \"type\": \"histogram2d\"}], \"histogram2dcontour\": [{\"colorbar\": {\"outlinewidth\": 0, \"ticks\": \"\"}, \"colorscale\": [[0.0, \"#0d0887\"], [0.1111111111111111, \"#46039f\"], [0.2222222222222222, \"#7201a8\"], [0.3333333333333333, \"#9c179e\"], [0.4444444444444444, \"#bd3786\"], [0.5555555555555556, \"#d8576b\"], [0.6666666666666666, \"#ed7953\"], [0.7777777777777778, \"#fb9f3a\"], [0.8888888888888888, \"#fdca26\"], [1.0, \"#f0f921\"]], \"type\": \"histogram2dcontour\"}], \"mesh3d\": [{\"colorbar\": {\"outlinewidth\": 0, \"ticks\": \"\"}, \"type\": \"mesh3d\"}], \"parcoords\": [{\"line\": {\"colorbar\": {\"outlinewidth\": 0, \"ticks\": \"\"}}, \"type\": \"parcoords\"}], \"pie\": [{\"automargin\": true, \"type\": \"pie\"}], \"scatter\": [{\"marker\": {\"colorbar\": {\"outlinewidth\": 0, \"ticks\": \"\"}}, \"type\": \"scatter\"}], \"scatter3d\": [{\"line\": {\"colorbar\": {\"outlinewidth\": 0, \"ticks\": \"\"}}, \"marker\": {\"colorbar\": {\"outlinewidth\": 0, \"ticks\": \"\"}}, \"type\": \"scatter3d\"}], \"scattercarpet\": [{\"marker\": {\"colorbar\": {\"outlinewidth\": 0, \"ticks\": \"\"}}, \"type\": \"scattercarpet\"}], \"scattergeo\": [{\"marker\": {\"colorbar\": {\"outlinewidth\": 0, \"ticks\": \"\"}}, \"type\": \"scattergeo\"}], \"scattergl\": [{\"marker\": {\"colorbar\": {\"outlinewidth\": 0, \"ticks\": \"\"}}, \"type\": \"scattergl\"}], \"scattermapbox\": [{\"marker\": {\"colorbar\": {\"outlinewidth\": 0, \"ticks\": \"\"}}, \"type\": \"scattermapbox\"}], \"scatterpolar\": [{\"marker\": {\"colorbar\": {\"outlinewidth\": 0, \"ticks\": \"\"}}, \"type\": \"scatterpolar\"}], \"scatterpolargl\": [{\"marker\": {\"colorbar\": {\"outlinewidth\": 0, \"ticks\": \"\"}}, \"type\": \"scatterpolargl\"}], \"scatterternary\": [{\"marker\": {\"colorbar\": {\"outlinewidth\": 0, \"ticks\": \"\"}}, \"type\": \"scatterternary\"}], \"surface\": [{\"colorbar\": {\"outlinewidth\": 0, \"ticks\": \"\"}, \"colorscale\": [[0.0, \"#0d0887\"], [0.1111111111111111, \"#46039f\"], [0.2222222222222222, \"#7201a8\"], [0.3333333333333333, \"#9c179e\"], [0.4444444444444444, \"#bd3786\"], [0.5555555555555556, \"#d8576b\"], [0.6666666666666666, \"#ed7953\"], [0.7777777777777778, \"#fb9f3a\"], [0.8888888888888888, \"#fdca26\"], [1.0, \"#f0f921\"]], \"type\": \"surface\"}], \"table\": [{\"cells\": {\"fill\": {\"color\": \"#EBF0F8\"}, \"line\": {\"color\": \"white\"}}, \"header\": {\"fill\": {\"color\": \"#C8D4E3\"}, \"line\": {\"color\": \"white\"}}, \"type\": \"table\"}]}, \"layout\": {\"annotationdefaults\": {\"arrowcolor\": \"#2a3f5f\", \"arrowhead\": 0, \"arrowwidth\": 1}, \"coloraxis\": {\"colorbar\": {\"outlinewidth\": 0, \"ticks\": \"\"}}, \"colorscale\": {\"diverging\": [[0, \"#8e0152\"], [0.1, \"#c51b7d\"], [0.2, \"#de77ae\"], [0.3, \"#f1b6da\"], [0.4, \"#fde0ef\"], [0.5, \"#f7f7f7\"], [0.6, \"#e6f5d0\"], [0.7, \"#b8e186\"], [0.8, \"#7fbc41\"], [0.9, \"#4d9221\"], [1, \"#276419\"]], \"sequential\": [[0.0, \"#0d0887\"], [0.1111111111111111, \"#46039f\"], [0.2222222222222222, \"#7201a8\"], [0.3333333333333333, \"#9c179e\"], [0.4444444444444444, \"#bd3786\"], [0.5555555555555556, \"#d8576b\"], [0.6666666666666666, \"#ed7953\"], [0.7777777777777778, \"#fb9f3a\"], [0.8888888888888888, \"#fdca26\"], [1.0, \"#f0f921\"]], \"sequentialminus\": [[0.0, \"#0d0887\"], [0.1111111111111111, \"#46039f\"], [0.2222222222222222, \"#7201a8\"], [0.3333333333333333, \"#9c179e\"], [0.4444444444444444, \"#bd3786\"], [0.5555555555555556, \"#d8576b\"], [0.6666666666666666, \"#ed7953\"], [0.7777777777777778, \"#fb9f3a\"], [0.8888888888888888, \"#fdca26\"], [1.0, \"#f0f921\"]]}, \"colorway\": [\"#636efa\", \"#EF553B\", \"#00cc96\", \"#ab63fa\", \"#FFA15A\", \"#19d3f3\", \"#FF6692\", \"#B6E880\", \"#FF97FF\", \"#FECB52\"], \"font\": {\"color\": \"#2a3f5f\"}, \"geo\": {\"bgcolor\": \"white\", \"lakecolor\": \"white\", \"landcolor\": \"#E5ECF6\", \"showlakes\": true, \"showland\": true, \"subunitcolor\": \"white\"}, \"hoverlabel\": {\"align\": \"left\"}, \"hovermode\": \"closest\", \"mapbox\": {\"style\": \"light\"}, \"paper_bgcolor\": \"white\", \"plot_bgcolor\": \"#E5ECF6\", \"polar\": {\"angularaxis\": {\"gridcolor\": \"white\", \"linecolor\": \"white\", \"ticks\": \"\"}, \"bgcolor\": \"#E5ECF6\", \"radialaxis\": {\"gridcolor\": \"white\", \"linecolor\": \"white\", \"ticks\": \"\"}}, \"scene\": {\"xaxis\": {\"backgroundcolor\": \"#E5ECF6\", \"gridcolor\": \"white\", \"gridwidth\": 2, \"linecolor\": \"white\", \"showbackground\": true, \"ticks\": \"\", \"zerolinecolor\": \"white\"}, \"yaxis\": {\"backgroundcolor\": \"#E5ECF6\", \"gridcolor\": \"white\", \"gridwidth\": 2, \"linecolor\": \"white\", \"showbackground\": true, \"ticks\": \"\", \"zerolinecolor\": \"white\"}, \"zaxis\": {\"backgroundcolor\": \"#E5ECF6\", \"gridcolor\": \"white\", \"gridwidth\": 2, \"linecolor\": \"white\", \"showbackground\": true, \"ticks\": \"\", \"zerolinecolor\": \"white\"}}, \"shapedefaults\": {\"line\": {\"color\": \"#2a3f5f\"}}, \"ternary\": {\"aaxis\": {\"gridcolor\": \"white\", \"linecolor\": \"white\", \"ticks\": \"\"}, \"baxis\": {\"gridcolor\": \"white\", \"linecolor\": \"white\", \"ticks\": \"\"}, \"bgcolor\": \"#E5ECF6\", \"caxis\": {\"gridcolor\": \"white\", \"linecolor\": \"white\", \"ticks\": \"\"}}, \"title\": {\"x\": 0.05}, \"xaxis\": {\"automargin\": true, \"gridcolor\": \"white\", \"linecolor\": \"white\", \"ticks\": \"\", \"title\": {\"standoff\": 15}, \"zerolinecolor\": \"white\", \"zerolinewidth\": 2}, \"yaxis\": {\"automargin\": true, \"gridcolor\": \"white\", \"linecolor\": \"white\", \"ticks\": \"\", \"title\": {\"standoff\": 15}, \"zerolinecolor\": \"white\", \"zerolinewidth\": 2}}}, \"title\": {\"font\": {\"color\": \"#4D5663\"}}, \"xaxis\": {\"gridcolor\": \"#E1E5ED\", \"showgrid\": true, \"tickfont\": {\"color\": \"#4D5663\"}, \"title\": {\"font\": {\"color\": \"#4D5663\"}, \"text\": \"\"}, \"zerolinecolor\": \"#E1E5ED\"}, \"xaxis2\": {\"anchor\": \"y2\", \"gridcolor\": \"#E1E5ED\", \"showgrid\": true, \"showticklabels\": false, \"tickfont\": {\"color\": \"#4D5663\"}, \"title\": {\"font\": {\"color\": \"#4D5663\"}, \"text\": \"\"}, \"zerolinecolor\": \"#E1E5ED\"}, \"yaxis\": {\"domain\": [0.3, 1], \"gridcolor\": \"#E1E5ED\", \"showgrid\": true, \"tickfont\": {\"color\": \"#4D5663\"}, \"title\": {\"font\": {\"color\": \"#4D5663\"}, \"text\": \"\"}, \"zerolinecolor\": \"#E1E5ED\"}, \"yaxis2\": {\"domain\": [0, 0.25], \"gridcolor\": \"#E1E5ED\", \"showgrid\": true, \"tickfont\": {\"color\": \"#4D5663\"}, \"title\": {\"font\": {\"color\": \"#4D5663\"}, \"text\": \"Spread\"}, \"zerolinecolor\": \"#E1E5ED\"}},\n",
       "                        {\"showLink\": true, \"linkText\": \"Export to plot.ly\", \"plotlyServerURL\": \"https://plot.ly\", \"responsive\": true}\n",
       "                    ).then(function(){\n",
       "                            \n",
       "var gd = document.getElementById('a55b7630-4da5-4c3c-89df-9a78f6d0a279');\n",
       "var x = new MutationObserver(function (mutations, observer) {{\n",
       "        var display = window.getComputedStyle(gd).display;\n",
       "        if (!display || display === 'none') {{\n",
       "            console.log([gd, 'removed!']);\n",
       "            Plotly.purge(gd);\n",
       "            observer.disconnect();\n",
       "        }}\n",
       "}});\n",
       "\n",
       "// Listen for the removal of the full notebook cells\n",
       "var notebookContainer = gd.closest('#notebook-container');\n",
       "if (notebookContainer) {{\n",
       "    x.observe(notebookContainer, {childList: true});\n",
       "}}\n",
       "\n",
       "// Listen for the clearing of the current output cell\n",
       "var outputEl = gd.closest('.output');\n",
       "if (outputEl) {{\n",
       "    x.observe(outputEl, {childList: true});\n",
       "}}\n",
       "\n",
       "                        })\n",
       "                };\n",
       "                });\n",
       "            </script>\n",
       "        </div>"
      ]
     },
     "metadata": {},
     "output_type": "display_data"
    }
   ],
   "source": [
    "df[['A','B']].iplot(kind = 'spread')   # we get aline plot and a spread plot"
   ]
  },
  {
   "cell_type": "markdown",
   "metadata": {},
   "source": [
    "## Bubble plot"
   ]
  },
  {
   "cell_type": "code",
   "execution_count": 68,
   "metadata": {},
   "outputs": [
    {
     "data": {
      "application/vnd.plotly.v1+json": {
       "config": {
        "linkText": "Export to plot.ly",
        "plotlyServerURL": "https://plot.ly",
        "showLink": true
       },
       "data": [
        {
         "marker": {
          "color": [
           "rgb(255, 153, 51)",
           "rgb(55, 128, 191)",
           "rgb(50, 171, 96)",
           "rgb(128, 0, 128)",
           "rgb(219, 64, 82)",
           "rgb(0, 128, 128)",
           "rgb(255, 255, 51)",
           "rgb(128, 128, 0)",
           "rgb(251, 128, 114)",
           "rgb(128, 177, 211)"
          ],
          "line": {
           "width": 1.3
          },
          "size": [
           15,
           45,
           39,
           39,
           112,
           44,
           20,
           52,
           56,
           29,
           31,
           71,
           64,
           43,
           51,
           92,
           46,
           46,
           47,
           44,
           67,
           72,
           88,
           58,
           53,
           23,
           27,
           55,
           54,
           41,
           22,
           73,
           50,
           64,
           55,
           63,
           47,
           27,
           62,
           54,
           68,
           97,
           93,
           84,
           62,
           82,
           61,
           82,
           76,
           42,
           71,
           52,
           57,
           42,
           59,
           42,
           76,
           30,
           82,
           26,
           20,
           50,
           68,
           60,
           81,
           72,
           71,
           75,
           45,
           68,
           62,
           48,
           27,
           45,
           47,
           32,
           79,
           60,
           58,
           31,
           89,
           44,
           77,
           42,
           12,
           34,
           30,
           51,
           56,
           44,
           53,
           79,
           60,
           34,
           106,
           73,
           78,
           54,
           55,
           49
          ],
          "symbol": "circle"
         },
         "mode": "markers",
         "text": "",
         "type": "scatter",
         "x": [
          -0.15966440057435938,
          -3.0268008071009187,
          0.9221382673050521,
          0.8770652008419254,
          2.076348258904066,
          -2.5385761484776928,
          -1.9211892960913912,
          0.6007684052334087,
          -0.21961932073774648,
          0.6947663878860076,
          1.5355433012808262,
          0.682536191559496,
          -0.00784008704142355,
          -0.5486678819424253,
          -0.42858792614727115,
          0.6318614246284424,
          1.014063885119909,
          0.19769301291352875,
          0.6115860679800008,
          0.19458939348542983,
          1.9061126760600309,
          2.1888523316757906,
          2.9527829087211845,
          0.03602569987116309,
          -0.695368302564943,
          1.6976635522629786,
          -2.6266196902651697,
          -0.5470043758963876,
          0.37115828238172793,
          -0.48023110420208853,
          1.0373530630599568,
          0.6748963442511032,
          1.229032627039319,
          1.696584799985512,
          0.029752667407899197,
          0.8084195973664055,
          -2.2248088064008944,
          1.0104302308242707,
          1.1180875214270254,
          1.2193035150614107,
          0.35565864473138953,
          -1.8415745792579306,
          -0.12863986311406433,
          -0.3840273635274107,
          -1.208692561789705,
          0.4930043761880178,
          0.22606346480288667,
          0.8469056906100876,
          -0.6602972998520016,
          0.18781265774515438,
          1.6287771347743953,
          -0.5770968099743413,
          -0.16194665920300977,
          0.8681358652235673,
          0.047414635744381525,
          0.21611033116647485,
          0.5907804771654277,
          0.9708460467264816,
          -1.8110933091195884,
          -0.5530434965138656,
          1.9636940438520054,
          1.1729722539442202,
          1.2421559008155438,
          -0.6288387913785575,
          0.34805958706986584,
          -0.5436381561059997,
          -0.5631348469165319,
          1.5606728416961202,
          0.2330738885185976,
          -0.8020391201493532,
          -0.6557997346611697,
          0.5726236513169123,
          1.2246219521550379,
          1.517883432418252,
          -0.14147909287681634,
          0.3664192494581477,
          -0.4322146140696219,
          -0.3495399006296373,
          -0.6810037668207851,
          0.08504992455350263,
          1.7823784203274209,
          0.6259377596645086,
          0.6638813119909011,
          -1.482839860554188,
          -0.2901295524795004,
          0.7728721769087347,
          1.0697450666270618,
          -0.38037586807737583,
          0.7361925861522479,
          2.227251940281902,
          -0.9059783157534909,
          1.0644082103981056,
          0.41243815873235085,
          -0.70985732273822,
          0.2921920971594382,
          0.316660089561294,
          1.2009474277974572,
          -0.17950997282633827,
          -1.8222345068938892,
          1.1804269142135373
         ],
         "y": [
          -0.039620201830270506,
          -1.0886265885232451,
          1.510576451901204,
          1.784954270510374,
          1.856633419738731,
          -0.06186831571432017,
          -0.7177396996119862,
          1.3056032295822502,
          0.1747268566872305,
          -2.008057573582073,
          -0.24986540881811706,
          -0.68969312419857,
          1.7203106029038477,
          0.8148414349263332,
          -0.15528528397620237,
          -1.8057674057733473,
          0.1855558056334135,
          -0.20607748084692046,
          -0.41374065948487576,
          0.07802381651058664,
          0.5122383905711916,
          -0.8816396954950696,
          0.8150638310707726,
          -0.9128064482318322,
          -0.92947076177012,
          0.5364585267673471,
          -0.09773609410488768,
          -0.8376598389398086,
          -0.5149023896730086,
          -0.07638224135806895,
          -0.528115017916814,
          0.6930140672229397,
          -0.7173712123713216,
          0.435434124645374,
          -0.10550905698074249,
          0.9825963092482132,
          1.43990174097477,
          0.21861636481047017,
          -1.4434530863386295,
          -0.8429050603925676,
          -0.5824520358502622,
          -2.5060458213683448,
          0.8188019482586176,
          -1.1311437036384802,
          2.463221499435528,
          -1.4716903339509018,
          -1.3231503668137379,
          0.9138103857479809,
          0.7169170351565702,
          -0.5942680093604714,
          -1.700684394592634,
          -0.3601746175201089,
          -0.8427200334374927,
          -0.2448910298215501,
          1.0078914884134746,
          1.1363591311807222,
          0.31267011313669657,
          -0.4966643537233206,
          1.4258032741416697,
          -0.8218663321084495,
          0.07359712719308378,
          -1.4767339034966909,
          1.1364236958318257,
          -0.23598777516022656,
          -0.6022315860538371,
          -0.1211577645937869,
          -0.5284014012330627,
          -0.8756273951246533,
          -0.11679910149382909,
          -0.28133633907251443,
          1.3360164375010046,
          -1.993994774627574,
          1.705587826284771,
          -0.1242901136836673,
          -0.5972965399776643,
          0.10528367746866872,
          -1.8588149129828984,
          -0.7940920464638387,
          0.1276581837519382,
          -1.4602897634720386,
          -0.9001307498667146,
          -1.523129993571007,
          0.08675731770656844,
          -1.369456474965436,
          0.8336132458797575,
          -1.4707252145644945,
          1.9115214411160404,
          -0.8919965099516362,
          -1.1617999087632587,
          -1.8744766266033046,
          0.04249487946173756,
          -0.27310822473698654,
          0.08953567673202818,
          0.9321519847205323,
          -0.7901851679583582,
          0.43921752031434347,
          -0.8077884830291779,
          1.4627975973322422,
          0.9795913558289675,
          -0.4743917350346864
         ]
        }
       ],
       "layout": {
        "legend": {
         "bgcolor": "#F5F6F9",
         "font": {
          "color": "#4D5663"
         }
        },
        "paper_bgcolor": "#F5F6F9",
        "plot_bgcolor": "#F5F6F9",
        "template": {
         "data": {
          "bar": [
           {
            "error_x": {
             "color": "#2a3f5f"
            },
            "error_y": {
             "color": "#2a3f5f"
            },
            "marker": {
             "line": {
              "color": "#E5ECF6",
              "width": 0.5
             }
            },
            "type": "bar"
           }
          ],
          "barpolar": [
           {
            "marker": {
             "line": {
              "color": "#E5ECF6",
              "width": 0.5
             }
            },
            "type": "barpolar"
           }
          ],
          "carpet": [
           {
            "aaxis": {
             "endlinecolor": "#2a3f5f",
             "gridcolor": "white",
             "linecolor": "white",
             "minorgridcolor": "white",
             "startlinecolor": "#2a3f5f"
            },
            "baxis": {
             "endlinecolor": "#2a3f5f",
             "gridcolor": "white",
             "linecolor": "white",
             "minorgridcolor": "white",
             "startlinecolor": "#2a3f5f"
            },
            "type": "carpet"
           }
          ],
          "choropleth": [
           {
            "colorbar": {
             "outlinewidth": 0,
             "ticks": ""
            },
            "type": "choropleth"
           }
          ],
          "contour": [
           {
            "colorbar": {
             "outlinewidth": 0,
             "ticks": ""
            },
            "colorscale": [
             [
              0,
              "#0d0887"
             ],
             [
              0.1111111111111111,
              "#46039f"
             ],
             [
              0.2222222222222222,
              "#7201a8"
             ],
             [
              0.3333333333333333,
              "#9c179e"
             ],
             [
              0.4444444444444444,
              "#bd3786"
             ],
             [
              0.5555555555555556,
              "#d8576b"
             ],
             [
              0.6666666666666666,
              "#ed7953"
             ],
             [
              0.7777777777777778,
              "#fb9f3a"
             ],
             [
              0.8888888888888888,
              "#fdca26"
             ],
             [
              1,
              "#f0f921"
             ]
            ],
            "type": "contour"
           }
          ],
          "contourcarpet": [
           {
            "colorbar": {
             "outlinewidth": 0,
             "ticks": ""
            },
            "type": "contourcarpet"
           }
          ],
          "heatmap": [
           {
            "colorbar": {
             "outlinewidth": 0,
             "ticks": ""
            },
            "colorscale": [
             [
              0,
              "#0d0887"
             ],
             [
              0.1111111111111111,
              "#46039f"
             ],
             [
              0.2222222222222222,
              "#7201a8"
             ],
             [
              0.3333333333333333,
              "#9c179e"
             ],
             [
              0.4444444444444444,
              "#bd3786"
             ],
             [
              0.5555555555555556,
              "#d8576b"
             ],
             [
              0.6666666666666666,
              "#ed7953"
             ],
             [
              0.7777777777777778,
              "#fb9f3a"
             ],
             [
              0.8888888888888888,
              "#fdca26"
             ],
             [
              1,
              "#f0f921"
             ]
            ],
            "type": "heatmap"
           }
          ],
          "heatmapgl": [
           {
            "colorbar": {
             "outlinewidth": 0,
             "ticks": ""
            },
            "colorscale": [
             [
              0,
              "#0d0887"
             ],
             [
              0.1111111111111111,
              "#46039f"
             ],
             [
              0.2222222222222222,
              "#7201a8"
             ],
             [
              0.3333333333333333,
              "#9c179e"
             ],
             [
              0.4444444444444444,
              "#bd3786"
             ],
             [
              0.5555555555555556,
              "#d8576b"
             ],
             [
              0.6666666666666666,
              "#ed7953"
             ],
             [
              0.7777777777777778,
              "#fb9f3a"
             ],
             [
              0.8888888888888888,
              "#fdca26"
             ],
             [
              1,
              "#f0f921"
             ]
            ],
            "type": "heatmapgl"
           }
          ],
          "histogram": [
           {
            "marker": {
             "colorbar": {
              "outlinewidth": 0,
              "ticks": ""
             }
            },
            "type": "histogram"
           }
          ],
          "histogram2d": [
           {
            "colorbar": {
             "outlinewidth": 0,
             "ticks": ""
            },
            "colorscale": [
             [
              0,
              "#0d0887"
             ],
             [
              0.1111111111111111,
              "#46039f"
             ],
             [
              0.2222222222222222,
              "#7201a8"
             ],
             [
              0.3333333333333333,
              "#9c179e"
             ],
             [
              0.4444444444444444,
              "#bd3786"
             ],
             [
              0.5555555555555556,
              "#d8576b"
             ],
             [
              0.6666666666666666,
              "#ed7953"
             ],
             [
              0.7777777777777778,
              "#fb9f3a"
             ],
             [
              0.8888888888888888,
              "#fdca26"
             ],
             [
              1,
              "#f0f921"
             ]
            ],
            "type": "histogram2d"
           }
          ],
          "histogram2dcontour": [
           {
            "colorbar": {
             "outlinewidth": 0,
             "ticks": ""
            },
            "colorscale": [
             [
              0,
              "#0d0887"
             ],
             [
              0.1111111111111111,
              "#46039f"
             ],
             [
              0.2222222222222222,
              "#7201a8"
             ],
             [
              0.3333333333333333,
              "#9c179e"
             ],
             [
              0.4444444444444444,
              "#bd3786"
             ],
             [
              0.5555555555555556,
              "#d8576b"
             ],
             [
              0.6666666666666666,
              "#ed7953"
             ],
             [
              0.7777777777777778,
              "#fb9f3a"
             ],
             [
              0.8888888888888888,
              "#fdca26"
             ],
             [
              1,
              "#f0f921"
             ]
            ],
            "type": "histogram2dcontour"
           }
          ],
          "mesh3d": [
           {
            "colorbar": {
             "outlinewidth": 0,
             "ticks": ""
            },
            "type": "mesh3d"
           }
          ],
          "parcoords": [
           {
            "line": {
             "colorbar": {
              "outlinewidth": 0,
              "ticks": ""
             }
            },
            "type": "parcoords"
           }
          ],
          "pie": [
           {
            "automargin": true,
            "type": "pie"
           }
          ],
          "scatter": [
           {
            "marker": {
             "colorbar": {
              "outlinewidth": 0,
              "ticks": ""
             }
            },
            "type": "scatter"
           }
          ],
          "scatter3d": [
           {
            "line": {
             "colorbar": {
              "outlinewidth": 0,
              "ticks": ""
             }
            },
            "marker": {
             "colorbar": {
              "outlinewidth": 0,
              "ticks": ""
             }
            },
            "type": "scatter3d"
           }
          ],
          "scattercarpet": [
           {
            "marker": {
             "colorbar": {
              "outlinewidth": 0,
              "ticks": ""
             }
            },
            "type": "scattercarpet"
           }
          ],
          "scattergeo": [
           {
            "marker": {
             "colorbar": {
              "outlinewidth": 0,
              "ticks": ""
             }
            },
            "type": "scattergeo"
           }
          ],
          "scattergl": [
           {
            "marker": {
             "colorbar": {
              "outlinewidth": 0,
              "ticks": ""
             }
            },
            "type": "scattergl"
           }
          ],
          "scattermapbox": [
           {
            "marker": {
             "colorbar": {
              "outlinewidth": 0,
              "ticks": ""
             }
            },
            "type": "scattermapbox"
           }
          ],
          "scatterpolar": [
           {
            "marker": {
             "colorbar": {
              "outlinewidth": 0,
              "ticks": ""
             }
            },
            "type": "scatterpolar"
           }
          ],
          "scatterpolargl": [
           {
            "marker": {
             "colorbar": {
              "outlinewidth": 0,
              "ticks": ""
             }
            },
            "type": "scatterpolargl"
           }
          ],
          "scatterternary": [
           {
            "marker": {
             "colorbar": {
              "outlinewidth": 0,
              "ticks": ""
             }
            },
            "type": "scatterternary"
           }
          ],
          "surface": [
           {
            "colorbar": {
             "outlinewidth": 0,
             "ticks": ""
            },
            "colorscale": [
             [
              0,
              "#0d0887"
             ],
             [
              0.1111111111111111,
              "#46039f"
             ],
             [
              0.2222222222222222,
              "#7201a8"
             ],
             [
              0.3333333333333333,
              "#9c179e"
             ],
             [
              0.4444444444444444,
              "#bd3786"
             ],
             [
              0.5555555555555556,
              "#d8576b"
             ],
             [
              0.6666666666666666,
              "#ed7953"
             ],
             [
              0.7777777777777778,
              "#fb9f3a"
             ],
             [
              0.8888888888888888,
              "#fdca26"
             ],
             [
              1,
              "#f0f921"
             ]
            ],
            "type": "surface"
           }
          ],
          "table": [
           {
            "cells": {
             "fill": {
              "color": "#EBF0F8"
             },
             "line": {
              "color": "white"
             }
            },
            "header": {
             "fill": {
              "color": "#C8D4E3"
             },
             "line": {
              "color": "white"
             }
            },
            "type": "table"
           }
          ]
         },
         "layout": {
          "annotationdefaults": {
           "arrowcolor": "#2a3f5f",
           "arrowhead": 0,
           "arrowwidth": 1
          },
          "coloraxis": {
           "colorbar": {
            "outlinewidth": 0,
            "ticks": ""
           }
          },
          "colorscale": {
           "diverging": [
            [
             0,
             "#8e0152"
            ],
            [
             0.1,
             "#c51b7d"
            ],
            [
             0.2,
             "#de77ae"
            ],
            [
             0.3,
             "#f1b6da"
            ],
            [
             0.4,
             "#fde0ef"
            ],
            [
             0.5,
             "#f7f7f7"
            ],
            [
             0.6,
             "#e6f5d0"
            ],
            [
             0.7,
             "#b8e186"
            ],
            [
             0.8,
             "#7fbc41"
            ],
            [
             0.9,
             "#4d9221"
            ],
            [
             1,
             "#276419"
            ]
           ],
           "sequential": [
            [
             0,
             "#0d0887"
            ],
            [
             0.1111111111111111,
             "#46039f"
            ],
            [
             0.2222222222222222,
             "#7201a8"
            ],
            [
             0.3333333333333333,
             "#9c179e"
            ],
            [
             0.4444444444444444,
             "#bd3786"
            ],
            [
             0.5555555555555556,
             "#d8576b"
            ],
            [
             0.6666666666666666,
             "#ed7953"
            ],
            [
             0.7777777777777778,
             "#fb9f3a"
            ],
            [
             0.8888888888888888,
             "#fdca26"
            ],
            [
             1,
             "#f0f921"
            ]
           ],
           "sequentialminus": [
            [
             0,
             "#0d0887"
            ],
            [
             0.1111111111111111,
             "#46039f"
            ],
            [
             0.2222222222222222,
             "#7201a8"
            ],
            [
             0.3333333333333333,
             "#9c179e"
            ],
            [
             0.4444444444444444,
             "#bd3786"
            ],
            [
             0.5555555555555556,
             "#d8576b"
            ],
            [
             0.6666666666666666,
             "#ed7953"
            ],
            [
             0.7777777777777778,
             "#fb9f3a"
            ],
            [
             0.8888888888888888,
             "#fdca26"
            ],
            [
             1,
             "#f0f921"
            ]
           ]
          },
          "colorway": [
           "#636efa",
           "#EF553B",
           "#00cc96",
           "#ab63fa",
           "#FFA15A",
           "#19d3f3",
           "#FF6692",
           "#B6E880",
           "#FF97FF",
           "#FECB52"
          ],
          "font": {
           "color": "#2a3f5f"
          },
          "geo": {
           "bgcolor": "white",
           "lakecolor": "white",
           "landcolor": "#E5ECF6",
           "showlakes": true,
           "showland": true,
           "subunitcolor": "white"
          },
          "hoverlabel": {
           "align": "left"
          },
          "hovermode": "closest",
          "mapbox": {
           "style": "light"
          },
          "paper_bgcolor": "white",
          "plot_bgcolor": "#E5ECF6",
          "polar": {
           "angularaxis": {
            "gridcolor": "white",
            "linecolor": "white",
            "ticks": ""
           },
           "bgcolor": "#E5ECF6",
           "radialaxis": {
            "gridcolor": "white",
            "linecolor": "white",
            "ticks": ""
           }
          },
          "scene": {
           "xaxis": {
            "backgroundcolor": "#E5ECF6",
            "gridcolor": "white",
            "gridwidth": 2,
            "linecolor": "white",
            "showbackground": true,
            "ticks": "",
            "zerolinecolor": "white"
           },
           "yaxis": {
            "backgroundcolor": "#E5ECF6",
            "gridcolor": "white",
            "gridwidth": 2,
            "linecolor": "white",
            "showbackground": true,
            "ticks": "",
            "zerolinecolor": "white"
           },
           "zaxis": {
            "backgroundcolor": "#E5ECF6",
            "gridcolor": "white",
            "gridwidth": 2,
            "linecolor": "white",
            "showbackground": true,
            "ticks": "",
            "zerolinecolor": "white"
           }
          },
          "shapedefaults": {
           "line": {
            "color": "#2a3f5f"
           }
          },
          "ternary": {
           "aaxis": {
            "gridcolor": "white",
            "linecolor": "white",
            "ticks": ""
           },
           "baxis": {
            "gridcolor": "white",
            "linecolor": "white",
            "ticks": ""
           },
           "bgcolor": "#E5ECF6",
           "caxis": {
            "gridcolor": "white",
            "linecolor": "white",
            "ticks": ""
           }
          },
          "title": {
           "x": 0.05
          },
          "xaxis": {
           "automargin": true,
           "gridcolor": "white",
           "linecolor": "white",
           "ticks": "",
           "title": {
            "standoff": 15
           },
           "zerolinecolor": "white",
           "zerolinewidth": 2
          },
          "yaxis": {
           "automargin": true,
           "gridcolor": "white",
           "linecolor": "white",
           "ticks": "",
           "title": {
            "standoff": 15
           },
           "zerolinecolor": "white",
           "zerolinewidth": 2
          }
         }
        },
        "title": {
         "font": {
          "color": "#4D5663"
         }
        },
        "xaxis": {
         "gridcolor": "#E1E5ED",
         "showgrid": true,
         "tickfont": {
          "color": "#4D5663"
         },
         "title": {
          "font": {
           "color": "#4D5663"
          },
          "text": ""
         },
         "zerolinecolor": "#E1E5ED"
        },
        "yaxis": {
         "gridcolor": "#E1E5ED",
         "showgrid": true,
         "tickfont": {
          "color": "#4D5663"
         },
         "title": {
          "font": {
           "color": "#4D5663"
          },
          "text": ""
         },
         "zerolinecolor": "#E1E5ED"
        }
       }
      },
      "text/html": [
       "<div>\n",
       "        \n",
       "        \n",
       "            <div id=\"9f83603c-80e8-4b6c-9087-c86c19051aaa\" class=\"plotly-graph-div\" style=\"height:525px; width:100%;\"></div>\n",
       "            <script type=\"text/javascript\">\n",
       "                require([\"plotly\"], function(Plotly) {\n",
       "                    window.PLOTLYENV=window.PLOTLYENV || {};\n",
       "                    window.PLOTLYENV.BASE_URL='https://plot.ly';\n",
       "                    \n",
       "                if (document.getElementById(\"9f83603c-80e8-4b6c-9087-c86c19051aaa\")) {\n",
       "                    Plotly.newPlot(\n",
       "                        '9f83603c-80e8-4b6c-9087-c86c19051aaa',\n",
       "                        [{\"marker\": {\"color\": [\"rgb(255, 153, 51)\", \"rgb(55, 128, 191)\", \"rgb(50, 171, 96)\", \"rgb(128, 0, 128)\", \"rgb(219, 64, 82)\", \"rgb(0, 128, 128)\", \"rgb(255, 255, 51)\", \"rgb(128, 128, 0)\", \"rgb(251, 128, 114)\", \"rgb(128, 177, 211)\"], \"line\": {\"width\": 1.3}, \"size\": [15, 45, 39, 39, 112, 44, 20, 52, 56, 29, 31, 71, 64, 43, 51, 92, 46, 46, 47, 44, 67, 72, 88, 58, 53, 23, 27, 55, 54, 41, 22, 73, 50, 64, 55, 63, 47, 27, 62, 54, 68, 97, 93, 84, 62, 82, 61, 82, 76, 42, 71, 52, 57, 42, 59, 42, 76, 30, 82, 26, 20, 50, 68, 60, 81, 72, 71, 75, 45, 68, 62, 48, 27, 45, 47, 32, 79, 60, 58, 31, 89, 44, 77, 42, 12, 34, 30, 51, 56, 44, 53, 79, 60, 34, 106, 73, 78, 54, 55, 49], \"symbol\": \"circle\"}, \"mode\": \"markers\", \"text\": \"\", \"type\": \"scatter\", \"x\": [-0.15966440057435938, -3.0268008071009187, 0.9221382673050521, 0.8770652008419254, 2.076348258904066, -2.5385761484776928, -1.9211892960913912, 0.6007684052334087, -0.21961932073774648, 0.6947663878860076, 1.5355433012808262, 0.682536191559496, -0.00784008704142355, -0.5486678819424253, -0.42858792614727115, 0.6318614246284424, 1.014063885119909, 0.19769301291352875, 0.6115860679800008, 0.19458939348542983, 1.9061126760600309, 2.1888523316757906, 2.9527829087211845, 0.03602569987116309, -0.695368302564943, 1.6976635522629786, -2.6266196902651697, -0.5470043758963876, 0.37115828238172793, -0.48023110420208853, 1.0373530630599568, 0.6748963442511032, 1.229032627039319, 1.696584799985512, 0.029752667407899197, 0.8084195973664055, -2.2248088064008944, 1.0104302308242707, 1.1180875214270254, 1.2193035150614107, 0.35565864473138953, -1.8415745792579306, -0.12863986311406433, -0.3840273635274107, -1.208692561789705, 0.4930043761880178, 0.22606346480288667, 0.8469056906100876, -0.6602972998520016, 0.18781265774515438, 1.6287771347743953, -0.5770968099743413, -0.16194665920300977, 0.8681358652235673, 0.047414635744381525, 0.21611033116647485, 0.5907804771654277, 0.9708460467264816, -1.8110933091195884, -0.5530434965138656, 1.9636940438520054, 1.1729722539442202, 1.2421559008155438, -0.6288387913785575, 0.34805958706986584, -0.5436381561059997, -0.5631348469165319, 1.5606728416961202, 0.2330738885185976, -0.8020391201493532, -0.6557997346611697, 0.5726236513169123, 1.2246219521550379, 1.517883432418252, -0.14147909287681634, 0.3664192494581477, -0.4322146140696219, -0.3495399006296373, -0.6810037668207851, 0.08504992455350263, 1.7823784203274209, 0.6259377596645086, 0.6638813119909011, -1.482839860554188, -0.2901295524795004, 0.7728721769087347, 1.0697450666270618, -0.38037586807737583, 0.7361925861522479, 2.227251940281902, -0.9059783157534909, 1.0644082103981056, 0.41243815873235085, -0.70985732273822, 0.2921920971594382, 0.316660089561294, 1.2009474277974572, -0.17950997282633827, -1.8222345068938892, 1.1804269142135373], \"y\": [-0.039620201830270506, -1.0886265885232451, 1.510576451901204, 1.784954270510374, 1.856633419738731, -0.06186831571432017, -0.7177396996119862, 1.3056032295822502, 0.1747268566872305, -2.008057573582073, -0.24986540881811706, -0.68969312419857, 1.7203106029038477, 0.8148414349263332, -0.15528528397620237, -1.8057674057733473, 0.1855558056334135, -0.20607748084692046, -0.41374065948487576, 0.07802381651058664, 0.5122383905711916, -0.8816396954950696, 0.8150638310707726, -0.9128064482318322, -0.92947076177012, 0.5364585267673471, -0.09773609410488768, -0.8376598389398086, -0.5149023896730086, -0.07638224135806895, -0.528115017916814, 0.6930140672229397, -0.7173712123713216, 0.435434124645374, -0.10550905698074249, 0.9825963092482132, 1.43990174097477, 0.21861636481047017, -1.4434530863386295, -0.8429050603925676, -0.5824520358502622, -2.5060458213683448, 0.8188019482586176, -1.1311437036384802, 2.463221499435528, -1.4716903339509018, -1.3231503668137379, 0.9138103857479809, 0.7169170351565702, -0.5942680093604714, -1.700684394592634, -0.3601746175201089, -0.8427200334374927, -0.2448910298215501, 1.0078914884134746, 1.1363591311807222, 0.31267011313669657, -0.4966643537233206, 1.4258032741416697, -0.8218663321084495, 0.07359712719308378, -1.4767339034966909, 1.1364236958318257, -0.23598777516022656, -0.6022315860538371, -0.1211577645937869, -0.5284014012330627, -0.8756273951246533, -0.11679910149382909, -0.28133633907251443, 1.3360164375010046, -1.993994774627574, 1.705587826284771, -0.1242901136836673, -0.5972965399776643, 0.10528367746866872, -1.8588149129828984, -0.7940920464638387, 0.1276581837519382, -1.4602897634720386, -0.9001307498667146, -1.523129993571007, 0.08675731770656844, -1.369456474965436, 0.8336132458797575, -1.4707252145644945, 1.9115214411160404, -0.8919965099516362, -1.1617999087632587, -1.8744766266033046, 0.04249487946173756, -0.27310822473698654, 0.08953567673202818, 0.9321519847205323, -0.7901851679583582, 0.43921752031434347, -0.8077884830291779, 1.4627975973322422, 0.9795913558289675, -0.4743917350346864]}],\n",
       "                        {\"legend\": {\"bgcolor\": \"#F5F6F9\", \"font\": {\"color\": \"#4D5663\"}}, \"paper_bgcolor\": \"#F5F6F9\", \"plot_bgcolor\": \"#F5F6F9\", \"template\": {\"data\": {\"bar\": [{\"error_x\": {\"color\": \"#2a3f5f\"}, \"error_y\": {\"color\": \"#2a3f5f\"}, \"marker\": {\"line\": {\"color\": \"#E5ECF6\", \"width\": 0.5}}, \"type\": \"bar\"}], \"barpolar\": [{\"marker\": {\"line\": {\"color\": \"#E5ECF6\", \"width\": 0.5}}, \"type\": \"barpolar\"}], \"carpet\": [{\"aaxis\": {\"endlinecolor\": \"#2a3f5f\", \"gridcolor\": \"white\", \"linecolor\": \"white\", \"minorgridcolor\": \"white\", \"startlinecolor\": \"#2a3f5f\"}, \"baxis\": {\"endlinecolor\": \"#2a3f5f\", \"gridcolor\": \"white\", \"linecolor\": \"white\", \"minorgridcolor\": \"white\", \"startlinecolor\": \"#2a3f5f\"}, \"type\": \"carpet\"}], \"choropleth\": [{\"colorbar\": {\"outlinewidth\": 0, \"ticks\": \"\"}, \"type\": \"choropleth\"}], \"contour\": [{\"colorbar\": {\"outlinewidth\": 0, \"ticks\": \"\"}, \"colorscale\": [[0.0, \"#0d0887\"], [0.1111111111111111, \"#46039f\"], [0.2222222222222222, \"#7201a8\"], [0.3333333333333333, \"#9c179e\"], [0.4444444444444444, \"#bd3786\"], [0.5555555555555556, \"#d8576b\"], [0.6666666666666666, \"#ed7953\"], [0.7777777777777778, \"#fb9f3a\"], [0.8888888888888888, \"#fdca26\"], [1.0, \"#f0f921\"]], \"type\": \"contour\"}], \"contourcarpet\": [{\"colorbar\": {\"outlinewidth\": 0, \"ticks\": \"\"}, \"type\": \"contourcarpet\"}], \"heatmap\": [{\"colorbar\": {\"outlinewidth\": 0, \"ticks\": \"\"}, \"colorscale\": [[0.0, \"#0d0887\"], [0.1111111111111111, \"#46039f\"], [0.2222222222222222, \"#7201a8\"], [0.3333333333333333, \"#9c179e\"], [0.4444444444444444, \"#bd3786\"], [0.5555555555555556, \"#d8576b\"], [0.6666666666666666, \"#ed7953\"], [0.7777777777777778, \"#fb9f3a\"], [0.8888888888888888, \"#fdca26\"], [1.0, \"#f0f921\"]], \"type\": \"heatmap\"}], \"heatmapgl\": [{\"colorbar\": {\"outlinewidth\": 0, \"ticks\": \"\"}, \"colorscale\": [[0.0, \"#0d0887\"], [0.1111111111111111, \"#46039f\"], [0.2222222222222222, \"#7201a8\"], [0.3333333333333333, \"#9c179e\"], [0.4444444444444444, \"#bd3786\"], [0.5555555555555556, \"#d8576b\"], [0.6666666666666666, \"#ed7953\"], [0.7777777777777778, \"#fb9f3a\"], [0.8888888888888888, \"#fdca26\"], [1.0, \"#f0f921\"]], \"type\": \"heatmapgl\"}], \"histogram\": [{\"marker\": {\"colorbar\": {\"outlinewidth\": 0, \"ticks\": \"\"}}, \"type\": \"histogram\"}], \"histogram2d\": [{\"colorbar\": {\"outlinewidth\": 0, \"ticks\": \"\"}, \"colorscale\": [[0.0, \"#0d0887\"], [0.1111111111111111, \"#46039f\"], [0.2222222222222222, \"#7201a8\"], [0.3333333333333333, \"#9c179e\"], [0.4444444444444444, \"#bd3786\"], [0.5555555555555556, \"#d8576b\"], [0.6666666666666666, \"#ed7953\"], [0.7777777777777778, \"#fb9f3a\"], [0.8888888888888888, \"#fdca26\"], [1.0, \"#f0f921\"]], \"type\": \"histogram2d\"}], \"histogram2dcontour\": [{\"colorbar\": {\"outlinewidth\": 0, \"ticks\": \"\"}, \"colorscale\": [[0.0, \"#0d0887\"], [0.1111111111111111, \"#46039f\"], [0.2222222222222222, \"#7201a8\"], [0.3333333333333333, \"#9c179e\"], [0.4444444444444444, \"#bd3786\"], [0.5555555555555556, \"#d8576b\"], [0.6666666666666666, \"#ed7953\"], [0.7777777777777778, \"#fb9f3a\"], [0.8888888888888888, \"#fdca26\"], [1.0, \"#f0f921\"]], \"type\": \"histogram2dcontour\"}], \"mesh3d\": [{\"colorbar\": {\"outlinewidth\": 0, \"ticks\": \"\"}, \"type\": \"mesh3d\"}], \"parcoords\": [{\"line\": {\"colorbar\": {\"outlinewidth\": 0, \"ticks\": \"\"}}, \"type\": \"parcoords\"}], \"pie\": [{\"automargin\": true, \"type\": \"pie\"}], \"scatter\": [{\"marker\": {\"colorbar\": {\"outlinewidth\": 0, \"ticks\": \"\"}}, \"type\": \"scatter\"}], \"scatter3d\": [{\"line\": {\"colorbar\": {\"outlinewidth\": 0, \"ticks\": \"\"}}, \"marker\": {\"colorbar\": {\"outlinewidth\": 0, \"ticks\": \"\"}}, \"type\": \"scatter3d\"}], \"scattercarpet\": [{\"marker\": {\"colorbar\": {\"outlinewidth\": 0, \"ticks\": \"\"}}, \"type\": \"scattercarpet\"}], \"scattergeo\": [{\"marker\": {\"colorbar\": {\"outlinewidth\": 0, \"ticks\": \"\"}}, \"type\": \"scattergeo\"}], \"scattergl\": [{\"marker\": {\"colorbar\": {\"outlinewidth\": 0, \"ticks\": \"\"}}, \"type\": \"scattergl\"}], \"scattermapbox\": [{\"marker\": {\"colorbar\": {\"outlinewidth\": 0, \"ticks\": \"\"}}, \"type\": \"scattermapbox\"}], \"scatterpolar\": [{\"marker\": {\"colorbar\": {\"outlinewidth\": 0, \"ticks\": \"\"}}, \"type\": \"scatterpolar\"}], \"scatterpolargl\": [{\"marker\": {\"colorbar\": {\"outlinewidth\": 0, \"ticks\": \"\"}}, \"type\": \"scatterpolargl\"}], \"scatterternary\": [{\"marker\": {\"colorbar\": {\"outlinewidth\": 0, \"ticks\": \"\"}}, \"type\": \"scatterternary\"}], \"surface\": [{\"colorbar\": {\"outlinewidth\": 0, \"ticks\": \"\"}, \"colorscale\": [[0.0, \"#0d0887\"], [0.1111111111111111, \"#46039f\"], [0.2222222222222222, \"#7201a8\"], [0.3333333333333333, \"#9c179e\"], [0.4444444444444444, \"#bd3786\"], [0.5555555555555556, \"#d8576b\"], [0.6666666666666666, \"#ed7953\"], [0.7777777777777778, \"#fb9f3a\"], [0.8888888888888888, \"#fdca26\"], [1.0, \"#f0f921\"]], \"type\": \"surface\"}], \"table\": [{\"cells\": {\"fill\": {\"color\": \"#EBF0F8\"}, \"line\": {\"color\": \"white\"}}, \"header\": {\"fill\": {\"color\": \"#C8D4E3\"}, \"line\": {\"color\": \"white\"}}, \"type\": \"table\"}]}, \"layout\": {\"annotationdefaults\": {\"arrowcolor\": \"#2a3f5f\", \"arrowhead\": 0, \"arrowwidth\": 1}, \"coloraxis\": {\"colorbar\": {\"outlinewidth\": 0, \"ticks\": \"\"}}, \"colorscale\": {\"diverging\": [[0, \"#8e0152\"], [0.1, \"#c51b7d\"], [0.2, \"#de77ae\"], [0.3, \"#f1b6da\"], [0.4, \"#fde0ef\"], [0.5, \"#f7f7f7\"], [0.6, \"#e6f5d0\"], [0.7, \"#b8e186\"], [0.8, \"#7fbc41\"], [0.9, \"#4d9221\"], [1, \"#276419\"]], \"sequential\": [[0.0, \"#0d0887\"], [0.1111111111111111, \"#46039f\"], [0.2222222222222222, \"#7201a8\"], [0.3333333333333333, \"#9c179e\"], [0.4444444444444444, \"#bd3786\"], [0.5555555555555556, \"#d8576b\"], [0.6666666666666666, \"#ed7953\"], [0.7777777777777778, \"#fb9f3a\"], [0.8888888888888888, \"#fdca26\"], [1.0, \"#f0f921\"]], \"sequentialminus\": [[0.0, \"#0d0887\"], [0.1111111111111111, \"#46039f\"], [0.2222222222222222, \"#7201a8\"], [0.3333333333333333, \"#9c179e\"], [0.4444444444444444, \"#bd3786\"], [0.5555555555555556, \"#d8576b\"], [0.6666666666666666, \"#ed7953\"], [0.7777777777777778, \"#fb9f3a\"], [0.8888888888888888, \"#fdca26\"], [1.0, \"#f0f921\"]]}, \"colorway\": [\"#636efa\", \"#EF553B\", \"#00cc96\", \"#ab63fa\", \"#FFA15A\", \"#19d3f3\", \"#FF6692\", \"#B6E880\", \"#FF97FF\", \"#FECB52\"], \"font\": {\"color\": \"#2a3f5f\"}, \"geo\": {\"bgcolor\": \"white\", \"lakecolor\": \"white\", \"landcolor\": \"#E5ECF6\", \"showlakes\": true, \"showland\": true, \"subunitcolor\": \"white\"}, \"hoverlabel\": {\"align\": \"left\"}, \"hovermode\": \"closest\", \"mapbox\": {\"style\": \"light\"}, \"paper_bgcolor\": \"white\", \"plot_bgcolor\": \"#E5ECF6\", \"polar\": {\"angularaxis\": {\"gridcolor\": \"white\", \"linecolor\": \"white\", \"ticks\": \"\"}, \"bgcolor\": \"#E5ECF6\", \"radialaxis\": {\"gridcolor\": \"white\", \"linecolor\": \"white\", \"ticks\": \"\"}}, \"scene\": {\"xaxis\": {\"backgroundcolor\": \"#E5ECF6\", \"gridcolor\": \"white\", \"gridwidth\": 2, \"linecolor\": \"white\", \"showbackground\": true, \"ticks\": \"\", \"zerolinecolor\": \"white\"}, \"yaxis\": {\"backgroundcolor\": \"#E5ECF6\", \"gridcolor\": \"white\", \"gridwidth\": 2, \"linecolor\": \"white\", \"showbackground\": true, \"ticks\": \"\", \"zerolinecolor\": \"white\"}, \"zaxis\": {\"backgroundcolor\": \"#E5ECF6\", \"gridcolor\": \"white\", \"gridwidth\": 2, \"linecolor\": \"white\", \"showbackground\": true, \"ticks\": \"\", \"zerolinecolor\": \"white\"}}, \"shapedefaults\": {\"line\": {\"color\": \"#2a3f5f\"}}, \"ternary\": {\"aaxis\": {\"gridcolor\": \"white\", \"linecolor\": \"white\", \"ticks\": \"\"}, \"baxis\": {\"gridcolor\": \"white\", \"linecolor\": \"white\", \"ticks\": \"\"}, \"bgcolor\": \"#E5ECF6\", \"caxis\": {\"gridcolor\": \"white\", \"linecolor\": \"white\", \"ticks\": \"\"}}, \"title\": {\"x\": 0.05}, \"xaxis\": {\"automargin\": true, \"gridcolor\": \"white\", \"linecolor\": \"white\", \"ticks\": \"\", \"title\": {\"standoff\": 15}, \"zerolinecolor\": \"white\", \"zerolinewidth\": 2}, \"yaxis\": {\"automargin\": true, \"gridcolor\": \"white\", \"linecolor\": \"white\", \"ticks\": \"\", \"title\": {\"standoff\": 15}, \"zerolinecolor\": \"white\", \"zerolinewidth\": 2}}}, \"title\": {\"font\": {\"color\": \"#4D5663\"}}, \"xaxis\": {\"gridcolor\": \"#E1E5ED\", \"showgrid\": true, \"tickfont\": {\"color\": \"#4D5663\"}, \"title\": {\"font\": {\"color\": \"#4D5663\"}, \"text\": \"\"}, \"zerolinecolor\": \"#E1E5ED\"}, \"yaxis\": {\"gridcolor\": \"#E1E5ED\", \"showgrid\": true, \"tickfont\": {\"color\": \"#4D5663\"}, \"title\": {\"font\": {\"color\": \"#4D5663\"}, \"text\": \"\"}, \"zerolinecolor\": \"#E1E5ED\"}},\n",
       "                        {\"showLink\": true, \"linkText\": \"Export to plot.ly\", \"plotlyServerURL\": \"https://plot.ly\", \"responsive\": true}\n",
       "                    ).then(function(){\n",
       "                            \n",
       "var gd = document.getElementById('9f83603c-80e8-4b6c-9087-c86c19051aaa');\n",
       "var x = new MutationObserver(function (mutations, observer) {{\n",
       "        var display = window.getComputedStyle(gd).display;\n",
       "        if (!display || display === 'none') {{\n",
       "            console.log([gd, 'removed!']);\n",
       "            Plotly.purge(gd);\n",
       "            observer.disconnect();\n",
       "        }}\n",
       "}});\n",
       "\n",
       "// Listen for the removal of the full notebook cells\n",
       "var notebookContainer = gd.closest('#notebook-container');\n",
       "if (notebookContainer) {{\n",
       "    x.observe(notebookContainer, {childList: true});\n",
       "}}\n",
       "\n",
       "// Listen for the clearing of the current output cell\n",
       "var outputEl = gd.closest('.output');\n",
       "if (outputEl) {{\n",
       "    x.observe(outputEl, {childList: true});\n",
       "}}\n",
       "\n",
       "                        })\n",
       "                };\n",
       "                });\n",
       "            </script>\n",
       "        </div>"
      ]
     },
     "metadata": {},
     "output_type": "display_data"
    }
   ],
   "source": [
    "#similar to scatter plot except the size of the points depends on the column given as variable here it is 'C'\n",
    "df.iplot(kind = 'bubble', x = 'A', y = 'B', size = 'C')"
   ]
  },
  {
   "cell_type": "markdown",
   "metadata": {},
   "source": [
    "## Scatter matrix (matrix plot)"
   ]
  },
  {
   "cell_type": "code",
   "execution_count": 72,
   "metadata": {},
   "outputs": [
    {
     "data": {
      "application/vnd.plotly.v1+json": {
       "config": {
        "linkText": "Export to plot.ly",
        "plotlyServerURL": "https://plot.ly",
        "showLink": true
       },
       "data": [
        {
         "histfunc": "count",
         "histnorm": "",
         "marker": {
          "color": "rgba(255, 153, 51, 1.0)",
          "line": {
           "color": "#4D5663",
           "width": 1.3
          }
         },
         "name": "A",
         "nbinsx": 10,
         "opacity": 0.8,
         "orientation": "v",
         "type": "histogram",
         "x": [
          -0.15966440057435938,
          -3.0268008071009187,
          0.9221382673050521,
          0.8770652008419254,
          2.076348258904066,
          -2.5385761484776928,
          -1.9211892960913912,
          0.6007684052334087,
          -0.21961932073774648,
          0.6947663878860076,
          1.5355433012808262,
          0.682536191559496,
          -0.00784008704142355,
          -0.5486678819424253,
          -0.42858792614727115,
          0.6318614246284424,
          1.014063885119909,
          0.19769301291352875,
          0.6115860679800008,
          0.19458939348542983,
          1.9061126760600309,
          2.1888523316757906,
          2.9527829087211845,
          0.03602569987116309,
          -0.695368302564943,
          1.6976635522629786,
          -2.6266196902651697,
          -0.5470043758963876,
          0.37115828238172793,
          -0.48023110420208853,
          1.0373530630599568,
          0.6748963442511032,
          1.229032627039319,
          1.696584799985512,
          0.029752667407899197,
          0.8084195973664055,
          -2.2248088064008944,
          1.0104302308242707,
          1.1180875214270254,
          1.2193035150614107,
          0.35565864473138953,
          -1.8415745792579306,
          -0.12863986311406433,
          -0.3840273635274107,
          -1.208692561789705,
          0.4930043761880178,
          0.22606346480288667,
          0.8469056906100876,
          -0.6602972998520016,
          0.18781265774515438,
          1.6287771347743953,
          -0.5770968099743413,
          -0.16194665920300977,
          0.8681358652235673,
          0.047414635744381525,
          0.21611033116647485,
          0.5907804771654277,
          0.9708460467264816,
          -1.8110933091195884,
          -0.5530434965138656,
          1.9636940438520054,
          1.1729722539442202,
          1.2421559008155438,
          -0.6288387913785575,
          0.34805958706986584,
          -0.5436381561059997,
          -0.5631348469165319,
          1.5606728416961202,
          0.2330738885185976,
          -0.8020391201493532,
          -0.6557997346611697,
          0.5726236513169123,
          1.2246219521550379,
          1.517883432418252,
          -0.14147909287681634,
          0.3664192494581477,
          -0.4322146140696219,
          -0.3495399006296373,
          -0.6810037668207851,
          0.08504992455350263,
          1.7823784203274209,
          0.6259377596645086,
          0.6638813119909011,
          -1.482839860554188,
          -0.2901295524795004,
          0.7728721769087347,
          1.0697450666270618,
          -0.38037586807737583,
          0.7361925861522479,
          2.227251940281902,
          -0.9059783157534909,
          1.0644082103981056,
          0.41243815873235085,
          -0.70985732273822,
          0.2921920971594382,
          0.316660089561294,
          1.2009474277974572,
          -0.17950997282633827,
          -1.8222345068938892,
          1.1804269142135373
         ],
         "xaxis": "x",
         "yaxis": "y"
        },
        {
         "line": {
          "color": "rgba(128, 128, 128, 1.0)",
          "dash": "solid",
          "shape": "linear",
          "width": 1.3
         },
         "marker": {
          "size": 2,
          "symbol": "circle"
         },
         "mode": "markers",
         "name": "A",
         "text": "",
         "type": "scatter",
         "x": [
          -0.039620201830270506,
          -1.0886265885232451,
          1.510576451901204,
          1.784954270510374,
          1.856633419738731,
          -0.06186831571432017,
          -0.7177396996119862,
          1.3056032295822502,
          0.1747268566872305,
          -2.008057573582073,
          -0.24986540881811706,
          -0.68969312419857,
          1.7203106029038477,
          0.8148414349263332,
          -0.15528528397620237,
          -1.8057674057733473,
          0.1855558056334135,
          -0.20607748084692046,
          -0.41374065948487576,
          0.07802381651058664,
          0.5122383905711916,
          -0.8816396954950696,
          0.8150638310707726,
          -0.9128064482318322,
          -0.92947076177012,
          0.5364585267673471,
          -0.09773609410488768,
          -0.8376598389398086,
          -0.5149023896730086,
          -0.07638224135806895,
          -0.528115017916814,
          0.6930140672229397,
          -0.7173712123713216,
          0.435434124645374,
          -0.10550905698074249,
          0.9825963092482132,
          1.43990174097477,
          0.21861636481047017,
          -1.4434530863386295,
          -0.8429050603925676,
          -0.5824520358502622,
          -2.5060458213683448,
          0.8188019482586176,
          -1.1311437036384802,
          2.463221499435528,
          -1.4716903339509018,
          -1.3231503668137379,
          0.9138103857479809,
          0.7169170351565702,
          -0.5942680093604714,
          -1.700684394592634,
          -0.3601746175201089,
          -0.8427200334374927,
          -0.2448910298215501,
          1.0078914884134746,
          1.1363591311807222,
          0.31267011313669657,
          -0.4966643537233206,
          1.4258032741416697,
          -0.8218663321084495,
          0.07359712719308378,
          -1.4767339034966909,
          1.1364236958318257,
          -0.23598777516022656,
          -0.6022315860538371,
          -0.1211577645937869,
          -0.5284014012330627,
          -0.8756273951246533,
          -0.11679910149382909,
          -0.28133633907251443,
          1.3360164375010046,
          -1.993994774627574,
          1.705587826284771,
          -0.1242901136836673,
          -0.5972965399776643,
          0.10528367746866872,
          -1.8588149129828984,
          -0.7940920464638387,
          0.1276581837519382,
          -1.4602897634720386,
          -0.9001307498667146,
          -1.523129993571007,
          0.08675731770656844,
          -1.369456474965436,
          0.8336132458797575,
          -1.4707252145644945,
          1.9115214411160404,
          -0.8919965099516362,
          -1.1617999087632587,
          -1.8744766266033046,
          0.04249487946173756,
          -0.27310822473698654,
          0.08953567673202818,
          0.9321519847205323,
          -0.7901851679583582,
          0.43921752031434347,
          -0.8077884830291779,
          1.4627975973322422,
          0.9795913558289675,
          -0.4743917350346864
         ],
         "xaxis": "x2",
         "y": [
          -0.15966440057435938,
          -3.0268008071009187,
          0.9221382673050521,
          0.8770652008419254,
          2.076348258904066,
          -2.5385761484776928,
          -1.9211892960913912,
          0.6007684052334087,
          -0.21961932073774648,
          0.6947663878860076,
          1.5355433012808262,
          0.682536191559496,
          -0.00784008704142355,
          -0.5486678819424253,
          -0.42858792614727115,
          0.6318614246284424,
          1.014063885119909,
          0.19769301291352875,
          0.6115860679800008,
          0.19458939348542983,
          1.9061126760600309,
          2.1888523316757906,
          2.9527829087211845,
          0.03602569987116309,
          -0.695368302564943,
          1.6976635522629786,
          -2.6266196902651697,
          -0.5470043758963876,
          0.37115828238172793,
          -0.48023110420208853,
          1.0373530630599568,
          0.6748963442511032,
          1.229032627039319,
          1.696584799985512,
          0.029752667407899197,
          0.8084195973664055,
          -2.2248088064008944,
          1.0104302308242707,
          1.1180875214270254,
          1.2193035150614107,
          0.35565864473138953,
          -1.8415745792579306,
          -0.12863986311406433,
          -0.3840273635274107,
          -1.208692561789705,
          0.4930043761880178,
          0.22606346480288667,
          0.8469056906100876,
          -0.6602972998520016,
          0.18781265774515438,
          1.6287771347743953,
          -0.5770968099743413,
          -0.16194665920300977,
          0.8681358652235673,
          0.047414635744381525,
          0.21611033116647485,
          0.5907804771654277,
          0.9708460467264816,
          -1.8110933091195884,
          -0.5530434965138656,
          1.9636940438520054,
          1.1729722539442202,
          1.2421559008155438,
          -0.6288387913785575,
          0.34805958706986584,
          -0.5436381561059997,
          -0.5631348469165319,
          1.5606728416961202,
          0.2330738885185976,
          -0.8020391201493532,
          -0.6557997346611697,
          0.5726236513169123,
          1.2246219521550379,
          1.517883432418252,
          -0.14147909287681634,
          0.3664192494581477,
          -0.4322146140696219,
          -0.3495399006296373,
          -0.6810037668207851,
          0.08504992455350263,
          1.7823784203274209,
          0.6259377596645086,
          0.6638813119909011,
          -1.482839860554188,
          -0.2901295524795004,
          0.7728721769087347,
          1.0697450666270618,
          -0.38037586807737583,
          0.7361925861522479,
          2.227251940281902,
          -0.9059783157534909,
          1.0644082103981056,
          0.41243815873235085,
          -0.70985732273822,
          0.2921920971594382,
          0.316660089561294,
          1.2009474277974572,
          -0.17950997282633827,
          -1.8222345068938892,
          1.1804269142135373
         ],
         "yaxis": "y2"
        },
        {
         "line": {
          "color": "rgba(128, 128, 128, 1.0)",
          "dash": "solid",
          "shape": "linear",
          "width": 1.3
         },
         "marker": {
          "size": 2,
          "symbol": "circle"
         },
         "mode": "markers",
         "name": "A",
         "text": "",
         "type": "scatter",
         "x": [
          -2.050959337282939,
          -0.623135714654621,
          -0.9030838504023444,
          -0.8846787432223958,
          2.6741827735425394,
          -0.6354285944956553,
          -1.8496808811668934,
          -0.2547811416970197,
          -0.055681456337364384,
          -1.3944181938604423,
          -1.2902927400307336,
          0.6698919790212503,
          0.34643521789445736,
          -0.6967082806152699,
          -0.3212602648296973,
          1.7091491299614885,
          -0.5596189805447361,
          -0.525562784078486,
          -0.48049821825529065,
          -0.6346130652937808,
          0.47830738377493814,
          0.7156755848555739,
          1.4980374410115829,
          0.019052087924581036,
          -0.18201191885345414,
          -1.6588634578354686,
          -1.4828119493830143,
          -0.09216441630414798,
          -0.14553423644609612,
          -0.7794985383640196,
          -1.7350551083837469,
          0.8011445176125315,
          -0.3657053034107941,
          0.35222604176811234,
          -0.09434046490071221,
          0.27955154174741587,
          -0.47681326929380946,
          -1.4685668326584544,
          0.253437219952115,
          -0.1393600585054475,
          0.5111332871252802,
          1.966687474163078,
          1.7827345360633533,
          1.3365900682657514,
          0.22922232264662673,
          1.2412879016957008,
          0.17669427807060434,
          1.2102070043185542,
          0.9481346148415118,
          -0.7672110846043504,
          0.6779070484347443,
          -0.2478682667913302,
          0.005290125348690879,
          -0.7278639297732168,
          0.06953868587956952,
          -0.7252599174323642,
          0.9075663142325777,
          -1.357704195417472,
          1.2337390673840867,
          -1.5435650693835654,
          -1.8384710286781478,
          -0.3654452753253253,
          0.5368726545742358,
          0.15820260819638846,
          1.1688891296948416,
          0.7204814075390948,
          0.6756862921836863,
          0.8556117363426601,
          -0.5953676095033376,
          0.5185636488627283,
          0.25262453251756867,
          -0.4431075174340808,
          -1.508605467632452,
          -0.6206387803373581,
          -0.4824311953164388,
          -1.233241584706174,
          1.061749004442179,
          0.12292683966608829,
          0.0228518775722601,
          -1.2693591727320208,
          1.5670749867806724,
          -0.658579805547281,
          0.9816083662621841,
          -0.7237472802729957,
          -2.2476477755687774,
          -1.1457021217696113,
          -1.3170117279424052,
          -0.29420173341177985,
          -0.08004309491360784,
          -0.6533971663994066,
          -0.21402171159214076,
          1.0913202896398457,
          0.15607455217360325,
          -1.1458514538797409,
          2.383439127433773,
          0.7722722931324618,
          1.035267730994433,
          -0.16931970693807658,
          -0.08934031514353971,
          -0.40305055397493394
         ],
         "xaxis": "x3",
         "y": [
          -0.15966440057435938,
          -3.0268008071009187,
          0.9221382673050521,
          0.8770652008419254,
          2.076348258904066,
          -2.5385761484776928,
          -1.9211892960913912,
          0.6007684052334087,
          -0.21961932073774648,
          0.6947663878860076,
          1.5355433012808262,
          0.682536191559496,
          -0.00784008704142355,
          -0.5486678819424253,
          -0.42858792614727115,
          0.6318614246284424,
          1.014063885119909,
          0.19769301291352875,
          0.6115860679800008,
          0.19458939348542983,
          1.9061126760600309,
          2.1888523316757906,
          2.9527829087211845,
          0.03602569987116309,
          -0.695368302564943,
          1.6976635522629786,
          -2.6266196902651697,
          -0.5470043758963876,
          0.37115828238172793,
          -0.48023110420208853,
          1.0373530630599568,
          0.6748963442511032,
          1.229032627039319,
          1.696584799985512,
          0.029752667407899197,
          0.8084195973664055,
          -2.2248088064008944,
          1.0104302308242707,
          1.1180875214270254,
          1.2193035150614107,
          0.35565864473138953,
          -1.8415745792579306,
          -0.12863986311406433,
          -0.3840273635274107,
          -1.208692561789705,
          0.4930043761880178,
          0.22606346480288667,
          0.8469056906100876,
          -0.6602972998520016,
          0.18781265774515438,
          1.6287771347743953,
          -0.5770968099743413,
          -0.16194665920300977,
          0.8681358652235673,
          0.047414635744381525,
          0.21611033116647485,
          0.5907804771654277,
          0.9708460467264816,
          -1.8110933091195884,
          -0.5530434965138656,
          1.9636940438520054,
          1.1729722539442202,
          1.2421559008155438,
          -0.6288387913785575,
          0.34805958706986584,
          -0.5436381561059997,
          -0.5631348469165319,
          1.5606728416961202,
          0.2330738885185976,
          -0.8020391201493532,
          -0.6557997346611697,
          0.5726236513169123,
          1.2246219521550379,
          1.517883432418252,
          -0.14147909287681634,
          0.3664192494581477,
          -0.4322146140696219,
          -0.3495399006296373,
          -0.6810037668207851,
          0.08504992455350263,
          1.7823784203274209,
          0.6259377596645086,
          0.6638813119909011,
          -1.482839860554188,
          -0.2901295524795004,
          0.7728721769087347,
          1.0697450666270618,
          -0.38037586807737583,
          0.7361925861522479,
          2.227251940281902,
          -0.9059783157534909,
          1.0644082103981056,
          0.41243815873235085,
          -0.70985732273822,
          0.2921920971594382,
          0.316660089561294,
          1.2009474277974572,
          -0.17950997282633827,
          -1.8222345068938892,
          1.1804269142135373
         ],
         "yaxis": "y3"
        },
        {
         "line": {
          "color": "rgba(128, 128, 128, 1.0)",
          "dash": "solid",
          "shape": "linear",
          "width": 1.3
         },
         "marker": {
          "size": 2,
          "symbol": "circle"
         },
         "mode": "markers",
         "name": "A",
         "text": "",
         "type": "scatter",
         "x": [
          -2.45621934851348,
          -0.49738336039943415,
          1.0108981951075882,
          0.4371166861850728,
          0.8196645208336938,
          -0.2625102226319903,
          -0.8241370178729576,
          -0.23884566170418514,
          0.28308329505532737,
          -0.129906715276062,
          0.6388072941638956,
          -0.9611837323014758,
          -0.11309190392054783,
          -2.0193276671871643,
          -0.6116726473014742,
          1.851123908738312,
          -0.23730695552545975,
          -0.49077189703582214,
          -1.209708462345313,
          -0.7336780104359398,
          0.6122868341768868,
          -0.08826629915224017,
          0.040203935430538205,
          -1.4395374503419898,
          -0.8108575205014021,
          0.6383840839063878,
          -0.6046071651978742,
          0.10442668741813448,
          0.187852848471582,
          0.09516650285139858,
          -1.4379657756666862,
          -1.3995467804226953,
          -2.4400939453465926,
          1.357068116169183,
          0.675741665746478,
          0.8288586832135476,
          0.42379217923617585,
          -1.6765730171493463,
          1.1239018130698488,
          -1.499624055006214,
          0.900580921839038,
          -0.5228656297420218,
          1.3972028758224073,
          1.0456152430440662,
          -0.5584210258399632,
          -0.7254461638054707,
          2.429921842197925,
          0.26687240959263203,
          -1.5752830944648926,
          -0.0645244140536077,
          2.0221467606315944,
          -0.8115737932181631,
          -0.03953346571061237,
          0.3430560115673913,
          -0.678314414616606,
          0.7671270289936455,
          -0.8352815835060328,
          0.2625005834790334,
          0.6394229699144892,
          0.5744480532482673,
          0.9687296756953383,
          0.5281467997654329,
          0.7583808354729975,
          0.01008733722285285,
          -0.06386984596535984,
          0.6164890002338478,
          -0.9804120873817879,
          -1.2995248798407089,
          1.066126626588423,
          2.2125011388403535,
          1.0918321914430453,
          0.5393123108233898,
          0.8237643386872351,
          0.596304819634739,
          0.1551546937964348,
          -1.5255989307894378,
          -1.1431078143337003,
          1.2967382341855007,
          0.8990445838252091,
          -0.6711455782326923,
          -0.6162025218962328,
          0.622278697790318,
          0.16679223213883906,
          2.9127403911622443,
          -0.27152961576738033,
          -1.238501904868217,
          -0.16835336724025413,
          0.6378914389587478,
          0.4677712941488029,
          0.5495489487295442,
          -0.17931304232859252,
          -0.40814840097137234,
          1.9677139393195497,
          0.7851712092376301,
          -0.7656167328768418,
          -0.5536626665172183,
          -0.02963446605538179,
          0.1923114466917884,
          1.1345729810559975,
          -0.9630839809637665
         ],
         "xaxis": "x4",
         "y": [
          -0.15966440057435938,
          -3.0268008071009187,
          0.9221382673050521,
          0.8770652008419254,
          2.076348258904066,
          -2.5385761484776928,
          -1.9211892960913912,
          0.6007684052334087,
          -0.21961932073774648,
          0.6947663878860076,
          1.5355433012808262,
          0.682536191559496,
          -0.00784008704142355,
          -0.5486678819424253,
          -0.42858792614727115,
          0.6318614246284424,
          1.014063885119909,
          0.19769301291352875,
          0.6115860679800008,
          0.19458939348542983,
          1.9061126760600309,
          2.1888523316757906,
          2.9527829087211845,
          0.03602569987116309,
          -0.695368302564943,
          1.6976635522629786,
          -2.6266196902651697,
          -0.5470043758963876,
          0.37115828238172793,
          -0.48023110420208853,
          1.0373530630599568,
          0.6748963442511032,
          1.229032627039319,
          1.696584799985512,
          0.029752667407899197,
          0.8084195973664055,
          -2.2248088064008944,
          1.0104302308242707,
          1.1180875214270254,
          1.2193035150614107,
          0.35565864473138953,
          -1.8415745792579306,
          -0.12863986311406433,
          -0.3840273635274107,
          -1.208692561789705,
          0.4930043761880178,
          0.22606346480288667,
          0.8469056906100876,
          -0.6602972998520016,
          0.18781265774515438,
          1.6287771347743953,
          -0.5770968099743413,
          -0.16194665920300977,
          0.8681358652235673,
          0.047414635744381525,
          0.21611033116647485,
          0.5907804771654277,
          0.9708460467264816,
          -1.8110933091195884,
          -0.5530434965138656,
          1.9636940438520054,
          1.1729722539442202,
          1.2421559008155438,
          -0.6288387913785575,
          0.34805958706986584,
          -0.5436381561059997,
          -0.5631348469165319,
          1.5606728416961202,
          0.2330738885185976,
          -0.8020391201493532,
          -0.6557997346611697,
          0.5726236513169123,
          1.2246219521550379,
          1.517883432418252,
          -0.14147909287681634,
          0.3664192494581477,
          -0.4322146140696219,
          -0.3495399006296373,
          -0.6810037668207851,
          0.08504992455350263,
          1.7823784203274209,
          0.6259377596645086,
          0.6638813119909011,
          -1.482839860554188,
          -0.2901295524795004,
          0.7728721769087347,
          1.0697450666270618,
          -0.38037586807737583,
          0.7361925861522479,
          2.227251940281902,
          -0.9059783157534909,
          1.0644082103981056,
          0.41243815873235085,
          -0.70985732273822,
          0.2921920971594382,
          0.316660089561294,
          1.2009474277974572,
          -0.17950997282633827,
          -1.8222345068938892,
          1.1804269142135373
         ],
         "yaxis": "y4"
        },
        {
         "line": {
          "color": "rgba(128, 128, 128, 1.0)",
          "dash": "solid",
          "shape": "linear",
          "width": 1.3
         },
         "marker": {
          "size": 2,
          "symbol": "circle"
         },
         "mode": "markers",
         "name": "B",
         "text": "",
         "type": "scatter",
         "x": [
          -0.15966440057435938,
          -3.0268008071009187,
          0.9221382673050521,
          0.8770652008419254,
          2.076348258904066,
          -2.5385761484776928,
          -1.9211892960913912,
          0.6007684052334087,
          -0.21961932073774648,
          0.6947663878860076,
          1.5355433012808262,
          0.682536191559496,
          -0.00784008704142355,
          -0.5486678819424253,
          -0.42858792614727115,
          0.6318614246284424,
          1.014063885119909,
          0.19769301291352875,
          0.6115860679800008,
          0.19458939348542983,
          1.9061126760600309,
          2.1888523316757906,
          2.9527829087211845,
          0.03602569987116309,
          -0.695368302564943,
          1.6976635522629786,
          -2.6266196902651697,
          -0.5470043758963876,
          0.37115828238172793,
          -0.48023110420208853,
          1.0373530630599568,
          0.6748963442511032,
          1.229032627039319,
          1.696584799985512,
          0.029752667407899197,
          0.8084195973664055,
          -2.2248088064008944,
          1.0104302308242707,
          1.1180875214270254,
          1.2193035150614107,
          0.35565864473138953,
          -1.8415745792579306,
          -0.12863986311406433,
          -0.3840273635274107,
          -1.208692561789705,
          0.4930043761880178,
          0.22606346480288667,
          0.8469056906100876,
          -0.6602972998520016,
          0.18781265774515438,
          1.6287771347743953,
          -0.5770968099743413,
          -0.16194665920300977,
          0.8681358652235673,
          0.047414635744381525,
          0.21611033116647485,
          0.5907804771654277,
          0.9708460467264816,
          -1.8110933091195884,
          -0.5530434965138656,
          1.9636940438520054,
          1.1729722539442202,
          1.2421559008155438,
          -0.6288387913785575,
          0.34805958706986584,
          -0.5436381561059997,
          -0.5631348469165319,
          1.5606728416961202,
          0.2330738885185976,
          -0.8020391201493532,
          -0.6557997346611697,
          0.5726236513169123,
          1.2246219521550379,
          1.517883432418252,
          -0.14147909287681634,
          0.3664192494581477,
          -0.4322146140696219,
          -0.3495399006296373,
          -0.6810037668207851,
          0.08504992455350263,
          1.7823784203274209,
          0.6259377596645086,
          0.6638813119909011,
          -1.482839860554188,
          -0.2901295524795004,
          0.7728721769087347,
          1.0697450666270618,
          -0.38037586807737583,
          0.7361925861522479,
          2.227251940281902,
          -0.9059783157534909,
          1.0644082103981056,
          0.41243815873235085,
          -0.70985732273822,
          0.2921920971594382,
          0.316660089561294,
          1.2009474277974572,
          -0.17950997282633827,
          -1.8222345068938892,
          1.1804269142135373
         ],
         "xaxis": "x5",
         "y": [
          -0.039620201830270506,
          -1.0886265885232451,
          1.510576451901204,
          1.784954270510374,
          1.856633419738731,
          -0.06186831571432017,
          -0.7177396996119862,
          1.3056032295822502,
          0.1747268566872305,
          -2.008057573582073,
          -0.24986540881811706,
          -0.68969312419857,
          1.7203106029038477,
          0.8148414349263332,
          -0.15528528397620237,
          -1.8057674057733473,
          0.1855558056334135,
          -0.20607748084692046,
          -0.41374065948487576,
          0.07802381651058664,
          0.5122383905711916,
          -0.8816396954950696,
          0.8150638310707726,
          -0.9128064482318322,
          -0.92947076177012,
          0.5364585267673471,
          -0.09773609410488768,
          -0.8376598389398086,
          -0.5149023896730086,
          -0.07638224135806895,
          -0.528115017916814,
          0.6930140672229397,
          -0.7173712123713216,
          0.435434124645374,
          -0.10550905698074249,
          0.9825963092482132,
          1.43990174097477,
          0.21861636481047017,
          -1.4434530863386295,
          -0.8429050603925676,
          -0.5824520358502622,
          -2.5060458213683448,
          0.8188019482586176,
          -1.1311437036384802,
          2.463221499435528,
          -1.4716903339509018,
          -1.3231503668137379,
          0.9138103857479809,
          0.7169170351565702,
          -0.5942680093604714,
          -1.700684394592634,
          -0.3601746175201089,
          -0.8427200334374927,
          -0.2448910298215501,
          1.0078914884134746,
          1.1363591311807222,
          0.31267011313669657,
          -0.4966643537233206,
          1.4258032741416697,
          -0.8218663321084495,
          0.07359712719308378,
          -1.4767339034966909,
          1.1364236958318257,
          -0.23598777516022656,
          -0.6022315860538371,
          -0.1211577645937869,
          -0.5284014012330627,
          -0.8756273951246533,
          -0.11679910149382909,
          -0.28133633907251443,
          1.3360164375010046,
          -1.993994774627574,
          1.705587826284771,
          -0.1242901136836673,
          -0.5972965399776643,
          0.10528367746866872,
          -1.8588149129828984,
          -0.7940920464638387,
          0.1276581837519382,
          -1.4602897634720386,
          -0.9001307498667146,
          -1.523129993571007,
          0.08675731770656844,
          -1.369456474965436,
          0.8336132458797575,
          -1.4707252145644945,
          1.9115214411160404,
          -0.8919965099516362,
          -1.1617999087632587,
          -1.8744766266033046,
          0.04249487946173756,
          -0.27310822473698654,
          0.08953567673202818,
          0.9321519847205323,
          -0.7901851679583582,
          0.43921752031434347,
          -0.8077884830291779,
          1.4627975973322422,
          0.9795913558289675,
          -0.4743917350346864
         ],
         "yaxis": "y5"
        },
        {
         "histfunc": "count",
         "histnorm": "",
         "marker": {
          "color": "rgba(55, 128, 191, 1.0)",
          "line": {
           "color": "#4D5663",
           "width": 1.3
          }
         },
         "name": "B",
         "nbinsx": 10,
         "opacity": 0.8,
         "orientation": "v",
         "type": "histogram",
         "x": [
          -0.039620201830270506,
          -1.0886265885232451,
          1.510576451901204,
          1.784954270510374,
          1.856633419738731,
          -0.06186831571432017,
          -0.7177396996119862,
          1.3056032295822502,
          0.1747268566872305,
          -2.008057573582073,
          -0.24986540881811706,
          -0.68969312419857,
          1.7203106029038477,
          0.8148414349263332,
          -0.15528528397620237,
          -1.8057674057733473,
          0.1855558056334135,
          -0.20607748084692046,
          -0.41374065948487576,
          0.07802381651058664,
          0.5122383905711916,
          -0.8816396954950696,
          0.8150638310707726,
          -0.9128064482318322,
          -0.92947076177012,
          0.5364585267673471,
          -0.09773609410488768,
          -0.8376598389398086,
          -0.5149023896730086,
          -0.07638224135806895,
          -0.528115017916814,
          0.6930140672229397,
          -0.7173712123713216,
          0.435434124645374,
          -0.10550905698074249,
          0.9825963092482132,
          1.43990174097477,
          0.21861636481047017,
          -1.4434530863386295,
          -0.8429050603925676,
          -0.5824520358502622,
          -2.5060458213683448,
          0.8188019482586176,
          -1.1311437036384802,
          2.463221499435528,
          -1.4716903339509018,
          -1.3231503668137379,
          0.9138103857479809,
          0.7169170351565702,
          -0.5942680093604714,
          -1.700684394592634,
          -0.3601746175201089,
          -0.8427200334374927,
          -0.2448910298215501,
          1.0078914884134746,
          1.1363591311807222,
          0.31267011313669657,
          -0.4966643537233206,
          1.4258032741416697,
          -0.8218663321084495,
          0.07359712719308378,
          -1.4767339034966909,
          1.1364236958318257,
          -0.23598777516022656,
          -0.6022315860538371,
          -0.1211577645937869,
          -0.5284014012330627,
          -0.8756273951246533,
          -0.11679910149382909,
          -0.28133633907251443,
          1.3360164375010046,
          -1.993994774627574,
          1.705587826284771,
          -0.1242901136836673,
          -0.5972965399776643,
          0.10528367746866872,
          -1.8588149129828984,
          -0.7940920464638387,
          0.1276581837519382,
          -1.4602897634720386,
          -0.9001307498667146,
          -1.523129993571007,
          0.08675731770656844,
          -1.369456474965436,
          0.8336132458797575,
          -1.4707252145644945,
          1.9115214411160404,
          -0.8919965099516362,
          -1.1617999087632587,
          -1.8744766266033046,
          0.04249487946173756,
          -0.27310822473698654,
          0.08953567673202818,
          0.9321519847205323,
          -0.7901851679583582,
          0.43921752031434347,
          -0.8077884830291779,
          1.4627975973322422,
          0.9795913558289675,
          -0.4743917350346864
         ],
         "xaxis": "x6",
         "yaxis": "y6"
        },
        {
         "line": {
          "color": "rgba(128, 128, 128, 1.0)",
          "dash": "solid",
          "shape": "linear",
          "width": 1.3
         },
         "marker": {
          "size": 2,
          "symbol": "circle"
         },
         "mode": "markers",
         "name": "B",
         "text": "",
         "type": "scatter",
         "x": [
          -2.050959337282939,
          -0.623135714654621,
          -0.9030838504023444,
          -0.8846787432223958,
          2.6741827735425394,
          -0.6354285944956553,
          -1.8496808811668934,
          -0.2547811416970197,
          -0.055681456337364384,
          -1.3944181938604423,
          -1.2902927400307336,
          0.6698919790212503,
          0.34643521789445736,
          -0.6967082806152699,
          -0.3212602648296973,
          1.7091491299614885,
          -0.5596189805447361,
          -0.525562784078486,
          -0.48049821825529065,
          -0.6346130652937808,
          0.47830738377493814,
          0.7156755848555739,
          1.4980374410115829,
          0.019052087924581036,
          -0.18201191885345414,
          -1.6588634578354686,
          -1.4828119493830143,
          -0.09216441630414798,
          -0.14553423644609612,
          -0.7794985383640196,
          -1.7350551083837469,
          0.8011445176125315,
          -0.3657053034107941,
          0.35222604176811234,
          -0.09434046490071221,
          0.27955154174741587,
          -0.47681326929380946,
          -1.4685668326584544,
          0.253437219952115,
          -0.1393600585054475,
          0.5111332871252802,
          1.966687474163078,
          1.7827345360633533,
          1.3365900682657514,
          0.22922232264662673,
          1.2412879016957008,
          0.17669427807060434,
          1.2102070043185542,
          0.9481346148415118,
          -0.7672110846043504,
          0.6779070484347443,
          -0.2478682667913302,
          0.005290125348690879,
          -0.7278639297732168,
          0.06953868587956952,
          -0.7252599174323642,
          0.9075663142325777,
          -1.357704195417472,
          1.2337390673840867,
          -1.5435650693835654,
          -1.8384710286781478,
          -0.3654452753253253,
          0.5368726545742358,
          0.15820260819638846,
          1.1688891296948416,
          0.7204814075390948,
          0.6756862921836863,
          0.8556117363426601,
          -0.5953676095033376,
          0.5185636488627283,
          0.25262453251756867,
          -0.4431075174340808,
          -1.508605467632452,
          -0.6206387803373581,
          -0.4824311953164388,
          -1.233241584706174,
          1.061749004442179,
          0.12292683966608829,
          0.0228518775722601,
          -1.2693591727320208,
          1.5670749867806724,
          -0.658579805547281,
          0.9816083662621841,
          -0.7237472802729957,
          -2.2476477755687774,
          -1.1457021217696113,
          -1.3170117279424052,
          -0.29420173341177985,
          -0.08004309491360784,
          -0.6533971663994066,
          -0.21402171159214076,
          1.0913202896398457,
          0.15607455217360325,
          -1.1458514538797409,
          2.383439127433773,
          0.7722722931324618,
          1.035267730994433,
          -0.16931970693807658,
          -0.08934031514353971,
          -0.40305055397493394
         ],
         "xaxis": "x7",
         "y": [
          -0.039620201830270506,
          -1.0886265885232451,
          1.510576451901204,
          1.784954270510374,
          1.856633419738731,
          -0.06186831571432017,
          -0.7177396996119862,
          1.3056032295822502,
          0.1747268566872305,
          -2.008057573582073,
          -0.24986540881811706,
          -0.68969312419857,
          1.7203106029038477,
          0.8148414349263332,
          -0.15528528397620237,
          -1.8057674057733473,
          0.1855558056334135,
          -0.20607748084692046,
          -0.41374065948487576,
          0.07802381651058664,
          0.5122383905711916,
          -0.8816396954950696,
          0.8150638310707726,
          -0.9128064482318322,
          -0.92947076177012,
          0.5364585267673471,
          -0.09773609410488768,
          -0.8376598389398086,
          -0.5149023896730086,
          -0.07638224135806895,
          -0.528115017916814,
          0.6930140672229397,
          -0.7173712123713216,
          0.435434124645374,
          -0.10550905698074249,
          0.9825963092482132,
          1.43990174097477,
          0.21861636481047017,
          -1.4434530863386295,
          -0.8429050603925676,
          -0.5824520358502622,
          -2.5060458213683448,
          0.8188019482586176,
          -1.1311437036384802,
          2.463221499435528,
          -1.4716903339509018,
          -1.3231503668137379,
          0.9138103857479809,
          0.7169170351565702,
          -0.5942680093604714,
          -1.700684394592634,
          -0.3601746175201089,
          -0.8427200334374927,
          -0.2448910298215501,
          1.0078914884134746,
          1.1363591311807222,
          0.31267011313669657,
          -0.4966643537233206,
          1.4258032741416697,
          -0.8218663321084495,
          0.07359712719308378,
          -1.4767339034966909,
          1.1364236958318257,
          -0.23598777516022656,
          -0.6022315860538371,
          -0.1211577645937869,
          -0.5284014012330627,
          -0.8756273951246533,
          -0.11679910149382909,
          -0.28133633907251443,
          1.3360164375010046,
          -1.993994774627574,
          1.705587826284771,
          -0.1242901136836673,
          -0.5972965399776643,
          0.10528367746866872,
          -1.8588149129828984,
          -0.7940920464638387,
          0.1276581837519382,
          -1.4602897634720386,
          -0.9001307498667146,
          -1.523129993571007,
          0.08675731770656844,
          -1.369456474965436,
          0.8336132458797575,
          -1.4707252145644945,
          1.9115214411160404,
          -0.8919965099516362,
          -1.1617999087632587,
          -1.8744766266033046,
          0.04249487946173756,
          -0.27310822473698654,
          0.08953567673202818,
          0.9321519847205323,
          -0.7901851679583582,
          0.43921752031434347,
          -0.8077884830291779,
          1.4627975973322422,
          0.9795913558289675,
          -0.4743917350346864
         ],
         "yaxis": "y7"
        },
        {
         "line": {
          "color": "rgba(128, 128, 128, 1.0)",
          "dash": "solid",
          "shape": "linear",
          "width": 1.3
         },
         "marker": {
          "size": 2,
          "symbol": "circle"
         },
         "mode": "markers",
         "name": "B",
         "text": "",
         "type": "scatter",
         "x": [
          -2.45621934851348,
          -0.49738336039943415,
          1.0108981951075882,
          0.4371166861850728,
          0.8196645208336938,
          -0.2625102226319903,
          -0.8241370178729576,
          -0.23884566170418514,
          0.28308329505532737,
          -0.129906715276062,
          0.6388072941638956,
          -0.9611837323014758,
          -0.11309190392054783,
          -2.0193276671871643,
          -0.6116726473014742,
          1.851123908738312,
          -0.23730695552545975,
          -0.49077189703582214,
          -1.209708462345313,
          -0.7336780104359398,
          0.6122868341768868,
          -0.08826629915224017,
          0.040203935430538205,
          -1.4395374503419898,
          -0.8108575205014021,
          0.6383840839063878,
          -0.6046071651978742,
          0.10442668741813448,
          0.187852848471582,
          0.09516650285139858,
          -1.4379657756666862,
          -1.3995467804226953,
          -2.4400939453465926,
          1.357068116169183,
          0.675741665746478,
          0.8288586832135476,
          0.42379217923617585,
          -1.6765730171493463,
          1.1239018130698488,
          -1.499624055006214,
          0.900580921839038,
          -0.5228656297420218,
          1.3972028758224073,
          1.0456152430440662,
          -0.5584210258399632,
          -0.7254461638054707,
          2.429921842197925,
          0.26687240959263203,
          -1.5752830944648926,
          -0.0645244140536077,
          2.0221467606315944,
          -0.8115737932181631,
          -0.03953346571061237,
          0.3430560115673913,
          -0.678314414616606,
          0.7671270289936455,
          -0.8352815835060328,
          0.2625005834790334,
          0.6394229699144892,
          0.5744480532482673,
          0.9687296756953383,
          0.5281467997654329,
          0.7583808354729975,
          0.01008733722285285,
          -0.06386984596535984,
          0.6164890002338478,
          -0.9804120873817879,
          -1.2995248798407089,
          1.066126626588423,
          2.2125011388403535,
          1.0918321914430453,
          0.5393123108233898,
          0.8237643386872351,
          0.596304819634739,
          0.1551546937964348,
          -1.5255989307894378,
          -1.1431078143337003,
          1.2967382341855007,
          0.8990445838252091,
          -0.6711455782326923,
          -0.6162025218962328,
          0.622278697790318,
          0.16679223213883906,
          2.9127403911622443,
          -0.27152961576738033,
          -1.238501904868217,
          -0.16835336724025413,
          0.6378914389587478,
          0.4677712941488029,
          0.5495489487295442,
          -0.17931304232859252,
          -0.40814840097137234,
          1.9677139393195497,
          0.7851712092376301,
          -0.7656167328768418,
          -0.5536626665172183,
          -0.02963446605538179,
          0.1923114466917884,
          1.1345729810559975,
          -0.9630839809637665
         ],
         "xaxis": "x8",
         "y": [
          -0.039620201830270506,
          -1.0886265885232451,
          1.510576451901204,
          1.784954270510374,
          1.856633419738731,
          -0.06186831571432017,
          -0.7177396996119862,
          1.3056032295822502,
          0.1747268566872305,
          -2.008057573582073,
          -0.24986540881811706,
          -0.68969312419857,
          1.7203106029038477,
          0.8148414349263332,
          -0.15528528397620237,
          -1.8057674057733473,
          0.1855558056334135,
          -0.20607748084692046,
          -0.41374065948487576,
          0.07802381651058664,
          0.5122383905711916,
          -0.8816396954950696,
          0.8150638310707726,
          -0.9128064482318322,
          -0.92947076177012,
          0.5364585267673471,
          -0.09773609410488768,
          -0.8376598389398086,
          -0.5149023896730086,
          -0.07638224135806895,
          -0.528115017916814,
          0.6930140672229397,
          -0.7173712123713216,
          0.435434124645374,
          -0.10550905698074249,
          0.9825963092482132,
          1.43990174097477,
          0.21861636481047017,
          -1.4434530863386295,
          -0.8429050603925676,
          -0.5824520358502622,
          -2.5060458213683448,
          0.8188019482586176,
          -1.1311437036384802,
          2.463221499435528,
          -1.4716903339509018,
          -1.3231503668137379,
          0.9138103857479809,
          0.7169170351565702,
          -0.5942680093604714,
          -1.700684394592634,
          -0.3601746175201089,
          -0.8427200334374927,
          -0.2448910298215501,
          1.0078914884134746,
          1.1363591311807222,
          0.31267011313669657,
          -0.4966643537233206,
          1.4258032741416697,
          -0.8218663321084495,
          0.07359712719308378,
          -1.4767339034966909,
          1.1364236958318257,
          -0.23598777516022656,
          -0.6022315860538371,
          -0.1211577645937869,
          -0.5284014012330627,
          -0.8756273951246533,
          -0.11679910149382909,
          -0.28133633907251443,
          1.3360164375010046,
          -1.993994774627574,
          1.705587826284771,
          -0.1242901136836673,
          -0.5972965399776643,
          0.10528367746866872,
          -1.8588149129828984,
          -0.7940920464638387,
          0.1276581837519382,
          -1.4602897634720386,
          -0.9001307498667146,
          -1.523129993571007,
          0.08675731770656844,
          -1.369456474965436,
          0.8336132458797575,
          -1.4707252145644945,
          1.9115214411160404,
          -0.8919965099516362,
          -1.1617999087632587,
          -1.8744766266033046,
          0.04249487946173756,
          -0.27310822473698654,
          0.08953567673202818,
          0.9321519847205323,
          -0.7901851679583582,
          0.43921752031434347,
          -0.8077884830291779,
          1.4627975973322422,
          0.9795913558289675,
          -0.4743917350346864
         ],
         "yaxis": "y8"
        },
        {
         "line": {
          "color": "rgba(128, 128, 128, 1.0)",
          "dash": "solid",
          "shape": "linear",
          "width": 1.3
         },
         "marker": {
          "size": 2,
          "symbol": "circle"
         },
         "mode": "markers",
         "name": "C",
         "text": "",
         "type": "scatter",
         "x": [
          -0.15966440057435938,
          -3.0268008071009187,
          0.9221382673050521,
          0.8770652008419254,
          2.076348258904066,
          -2.5385761484776928,
          -1.9211892960913912,
          0.6007684052334087,
          -0.21961932073774648,
          0.6947663878860076,
          1.5355433012808262,
          0.682536191559496,
          -0.00784008704142355,
          -0.5486678819424253,
          -0.42858792614727115,
          0.6318614246284424,
          1.014063885119909,
          0.19769301291352875,
          0.6115860679800008,
          0.19458939348542983,
          1.9061126760600309,
          2.1888523316757906,
          2.9527829087211845,
          0.03602569987116309,
          -0.695368302564943,
          1.6976635522629786,
          -2.6266196902651697,
          -0.5470043758963876,
          0.37115828238172793,
          -0.48023110420208853,
          1.0373530630599568,
          0.6748963442511032,
          1.229032627039319,
          1.696584799985512,
          0.029752667407899197,
          0.8084195973664055,
          -2.2248088064008944,
          1.0104302308242707,
          1.1180875214270254,
          1.2193035150614107,
          0.35565864473138953,
          -1.8415745792579306,
          -0.12863986311406433,
          -0.3840273635274107,
          -1.208692561789705,
          0.4930043761880178,
          0.22606346480288667,
          0.8469056906100876,
          -0.6602972998520016,
          0.18781265774515438,
          1.6287771347743953,
          -0.5770968099743413,
          -0.16194665920300977,
          0.8681358652235673,
          0.047414635744381525,
          0.21611033116647485,
          0.5907804771654277,
          0.9708460467264816,
          -1.8110933091195884,
          -0.5530434965138656,
          1.9636940438520054,
          1.1729722539442202,
          1.2421559008155438,
          -0.6288387913785575,
          0.34805958706986584,
          -0.5436381561059997,
          -0.5631348469165319,
          1.5606728416961202,
          0.2330738885185976,
          -0.8020391201493532,
          -0.6557997346611697,
          0.5726236513169123,
          1.2246219521550379,
          1.517883432418252,
          -0.14147909287681634,
          0.3664192494581477,
          -0.4322146140696219,
          -0.3495399006296373,
          -0.6810037668207851,
          0.08504992455350263,
          1.7823784203274209,
          0.6259377596645086,
          0.6638813119909011,
          -1.482839860554188,
          -0.2901295524795004,
          0.7728721769087347,
          1.0697450666270618,
          -0.38037586807737583,
          0.7361925861522479,
          2.227251940281902,
          -0.9059783157534909,
          1.0644082103981056,
          0.41243815873235085,
          -0.70985732273822,
          0.2921920971594382,
          0.316660089561294,
          1.2009474277974572,
          -0.17950997282633827,
          -1.8222345068938892,
          1.1804269142135373
         ],
         "xaxis": "x9",
         "y": [
          -2.050959337282939,
          -0.623135714654621,
          -0.9030838504023444,
          -0.8846787432223958,
          2.6741827735425394,
          -0.6354285944956553,
          -1.8496808811668934,
          -0.2547811416970197,
          -0.055681456337364384,
          -1.3944181938604423,
          -1.2902927400307336,
          0.6698919790212503,
          0.34643521789445736,
          -0.6967082806152699,
          -0.3212602648296973,
          1.7091491299614885,
          -0.5596189805447361,
          -0.525562784078486,
          -0.48049821825529065,
          -0.6346130652937808,
          0.47830738377493814,
          0.7156755848555739,
          1.4980374410115829,
          0.019052087924581036,
          -0.18201191885345414,
          -1.6588634578354686,
          -1.4828119493830143,
          -0.09216441630414798,
          -0.14553423644609612,
          -0.7794985383640196,
          -1.7350551083837469,
          0.8011445176125315,
          -0.3657053034107941,
          0.35222604176811234,
          -0.09434046490071221,
          0.27955154174741587,
          -0.47681326929380946,
          -1.4685668326584544,
          0.253437219952115,
          -0.1393600585054475,
          0.5111332871252802,
          1.966687474163078,
          1.7827345360633533,
          1.3365900682657514,
          0.22922232264662673,
          1.2412879016957008,
          0.17669427807060434,
          1.2102070043185542,
          0.9481346148415118,
          -0.7672110846043504,
          0.6779070484347443,
          -0.2478682667913302,
          0.005290125348690879,
          -0.7278639297732168,
          0.06953868587956952,
          -0.7252599174323642,
          0.9075663142325777,
          -1.357704195417472,
          1.2337390673840867,
          -1.5435650693835654,
          -1.8384710286781478,
          -0.3654452753253253,
          0.5368726545742358,
          0.15820260819638846,
          1.1688891296948416,
          0.7204814075390948,
          0.6756862921836863,
          0.8556117363426601,
          -0.5953676095033376,
          0.5185636488627283,
          0.25262453251756867,
          -0.4431075174340808,
          -1.508605467632452,
          -0.6206387803373581,
          -0.4824311953164388,
          -1.233241584706174,
          1.061749004442179,
          0.12292683966608829,
          0.0228518775722601,
          -1.2693591727320208,
          1.5670749867806724,
          -0.658579805547281,
          0.9816083662621841,
          -0.7237472802729957,
          -2.2476477755687774,
          -1.1457021217696113,
          -1.3170117279424052,
          -0.29420173341177985,
          -0.08004309491360784,
          -0.6533971663994066,
          -0.21402171159214076,
          1.0913202896398457,
          0.15607455217360325,
          -1.1458514538797409,
          2.383439127433773,
          0.7722722931324618,
          1.035267730994433,
          -0.16931970693807658,
          -0.08934031514353971,
          -0.40305055397493394
         ],
         "yaxis": "y9"
        },
        {
         "line": {
          "color": "rgba(128, 128, 128, 1.0)",
          "dash": "solid",
          "shape": "linear",
          "width": 1.3
         },
         "marker": {
          "size": 2,
          "symbol": "circle"
         },
         "mode": "markers",
         "name": "C",
         "text": "",
         "type": "scatter",
         "x": [
          -0.039620201830270506,
          -1.0886265885232451,
          1.510576451901204,
          1.784954270510374,
          1.856633419738731,
          -0.06186831571432017,
          -0.7177396996119862,
          1.3056032295822502,
          0.1747268566872305,
          -2.008057573582073,
          -0.24986540881811706,
          -0.68969312419857,
          1.7203106029038477,
          0.8148414349263332,
          -0.15528528397620237,
          -1.8057674057733473,
          0.1855558056334135,
          -0.20607748084692046,
          -0.41374065948487576,
          0.07802381651058664,
          0.5122383905711916,
          -0.8816396954950696,
          0.8150638310707726,
          -0.9128064482318322,
          -0.92947076177012,
          0.5364585267673471,
          -0.09773609410488768,
          -0.8376598389398086,
          -0.5149023896730086,
          -0.07638224135806895,
          -0.528115017916814,
          0.6930140672229397,
          -0.7173712123713216,
          0.435434124645374,
          -0.10550905698074249,
          0.9825963092482132,
          1.43990174097477,
          0.21861636481047017,
          -1.4434530863386295,
          -0.8429050603925676,
          -0.5824520358502622,
          -2.5060458213683448,
          0.8188019482586176,
          -1.1311437036384802,
          2.463221499435528,
          -1.4716903339509018,
          -1.3231503668137379,
          0.9138103857479809,
          0.7169170351565702,
          -0.5942680093604714,
          -1.700684394592634,
          -0.3601746175201089,
          -0.8427200334374927,
          -0.2448910298215501,
          1.0078914884134746,
          1.1363591311807222,
          0.31267011313669657,
          -0.4966643537233206,
          1.4258032741416697,
          -0.8218663321084495,
          0.07359712719308378,
          -1.4767339034966909,
          1.1364236958318257,
          -0.23598777516022656,
          -0.6022315860538371,
          -0.1211577645937869,
          -0.5284014012330627,
          -0.8756273951246533,
          -0.11679910149382909,
          -0.28133633907251443,
          1.3360164375010046,
          -1.993994774627574,
          1.705587826284771,
          -0.1242901136836673,
          -0.5972965399776643,
          0.10528367746866872,
          -1.8588149129828984,
          -0.7940920464638387,
          0.1276581837519382,
          -1.4602897634720386,
          -0.9001307498667146,
          -1.523129993571007,
          0.08675731770656844,
          -1.369456474965436,
          0.8336132458797575,
          -1.4707252145644945,
          1.9115214411160404,
          -0.8919965099516362,
          -1.1617999087632587,
          -1.8744766266033046,
          0.04249487946173756,
          -0.27310822473698654,
          0.08953567673202818,
          0.9321519847205323,
          -0.7901851679583582,
          0.43921752031434347,
          -0.8077884830291779,
          1.4627975973322422,
          0.9795913558289675,
          -0.4743917350346864
         ],
         "xaxis": "x10",
         "y": [
          -2.050959337282939,
          -0.623135714654621,
          -0.9030838504023444,
          -0.8846787432223958,
          2.6741827735425394,
          -0.6354285944956553,
          -1.8496808811668934,
          -0.2547811416970197,
          -0.055681456337364384,
          -1.3944181938604423,
          -1.2902927400307336,
          0.6698919790212503,
          0.34643521789445736,
          -0.6967082806152699,
          -0.3212602648296973,
          1.7091491299614885,
          -0.5596189805447361,
          -0.525562784078486,
          -0.48049821825529065,
          -0.6346130652937808,
          0.47830738377493814,
          0.7156755848555739,
          1.4980374410115829,
          0.019052087924581036,
          -0.18201191885345414,
          -1.6588634578354686,
          -1.4828119493830143,
          -0.09216441630414798,
          -0.14553423644609612,
          -0.7794985383640196,
          -1.7350551083837469,
          0.8011445176125315,
          -0.3657053034107941,
          0.35222604176811234,
          -0.09434046490071221,
          0.27955154174741587,
          -0.47681326929380946,
          -1.4685668326584544,
          0.253437219952115,
          -0.1393600585054475,
          0.5111332871252802,
          1.966687474163078,
          1.7827345360633533,
          1.3365900682657514,
          0.22922232264662673,
          1.2412879016957008,
          0.17669427807060434,
          1.2102070043185542,
          0.9481346148415118,
          -0.7672110846043504,
          0.6779070484347443,
          -0.2478682667913302,
          0.005290125348690879,
          -0.7278639297732168,
          0.06953868587956952,
          -0.7252599174323642,
          0.9075663142325777,
          -1.357704195417472,
          1.2337390673840867,
          -1.5435650693835654,
          -1.8384710286781478,
          -0.3654452753253253,
          0.5368726545742358,
          0.15820260819638846,
          1.1688891296948416,
          0.7204814075390948,
          0.6756862921836863,
          0.8556117363426601,
          -0.5953676095033376,
          0.5185636488627283,
          0.25262453251756867,
          -0.4431075174340808,
          -1.508605467632452,
          -0.6206387803373581,
          -0.4824311953164388,
          -1.233241584706174,
          1.061749004442179,
          0.12292683966608829,
          0.0228518775722601,
          -1.2693591727320208,
          1.5670749867806724,
          -0.658579805547281,
          0.9816083662621841,
          -0.7237472802729957,
          -2.2476477755687774,
          -1.1457021217696113,
          -1.3170117279424052,
          -0.29420173341177985,
          -0.08004309491360784,
          -0.6533971663994066,
          -0.21402171159214076,
          1.0913202896398457,
          0.15607455217360325,
          -1.1458514538797409,
          2.383439127433773,
          0.7722722931324618,
          1.035267730994433,
          -0.16931970693807658,
          -0.08934031514353971,
          -0.40305055397493394
         ],
         "yaxis": "y10"
        },
        {
         "histfunc": "count",
         "histnorm": "",
         "marker": {
          "color": "rgba(50, 171, 96, 1.0)",
          "line": {
           "color": "#4D5663",
           "width": 1.3
          }
         },
         "name": "C",
         "nbinsx": 10,
         "opacity": 0.8,
         "orientation": "v",
         "type": "histogram",
         "x": [
          -2.050959337282939,
          -0.623135714654621,
          -0.9030838504023444,
          -0.8846787432223958,
          2.6741827735425394,
          -0.6354285944956553,
          -1.8496808811668934,
          -0.2547811416970197,
          -0.055681456337364384,
          -1.3944181938604423,
          -1.2902927400307336,
          0.6698919790212503,
          0.34643521789445736,
          -0.6967082806152699,
          -0.3212602648296973,
          1.7091491299614885,
          -0.5596189805447361,
          -0.525562784078486,
          -0.48049821825529065,
          -0.6346130652937808,
          0.47830738377493814,
          0.7156755848555739,
          1.4980374410115829,
          0.019052087924581036,
          -0.18201191885345414,
          -1.6588634578354686,
          -1.4828119493830143,
          -0.09216441630414798,
          -0.14553423644609612,
          -0.7794985383640196,
          -1.7350551083837469,
          0.8011445176125315,
          -0.3657053034107941,
          0.35222604176811234,
          -0.09434046490071221,
          0.27955154174741587,
          -0.47681326929380946,
          -1.4685668326584544,
          0.253437219952115,
          -0.1393600585054475,
          0.5111332871252802,
          1.966687474163078,
          1.7827345360633533,
          1.3365900682657514,
          0.22922232264662673,
          1.2412879016957008,
          0.17669427807060434,
          1.2102070043185542,
          0.9481346148415118,
          -0.7672110846043504,
          0.6779070484347443,
          -0.2478682667913302,
          0.005290125348690879,
          -0.7278639297732168,
          0.06953868587956952,
          -0.7252599174323642,
          0.9075663142325777,
          -1.357704195417472,
          1.2337390673840867,
          -1.5435650693835654,
          -1.8384710286781478,
          -0.3654452753253253,
          0.5368726545742358,
          0.15820260819638846,
          1.1688891296948416,
          0.7204814075390948,
          0.6756862921836863,
          0.8556117363426601,
          -0.5953676095033376,
          0.5185636488627283,
          0.25262453251756867,
          -0.4431075174340808,
          -1.508605467632452,
          -0.6206387803373581,
          -0.4824311953164388,
          -1.233241584706174,
          1.061749004442179,
          0.12292683966608829,
          0.0228518775722601,
          -1.2693591727320208,
          1.5670749867806724,
          -0.658579805547281,
          0.9816083662621841,
          -0.7237472802729957,
          -2.2476477755687774,
          -1.1457021217696113,
          -1.3170117279424052,
          -0.29420173341177985,
          -0.08004309491360784,
          -0.6533971663994066,
          -0.21402171159214076,
          1.0913202896398457,
          0.15607455217360325,
          -1.1458514538797409,
          2.383439127433773,
          0.7722722931324618,
          1.035267730994433,
          -0.16931970693807658,
          -0.08934031514353971,
          -0.40305055397493394
         ],
         "xaxis": "x11",
         "yaxis": "y11"
        },
        {
         "line": {
          "color": "rgba(128, 128, 128, 1.0)",
          "dash": "solid",
          "shape": "linear",
          "width": 1.3
         },
         "marker": {
          "size": 2,
          "symbol": "circle"
         },
         "mode": "markers",
         "name": "C",
         "text": "",
         "type": "scatter",
         "x": [
          -2.45621934851348,
          -0.49738336039943415,
          1.0108981951075882,
          0.4371166861850728,
          0.8196645208336938,
          -0.2625102226319903,
          -0.8241370178729576,
          -0.23884566170418514,
          0.28308329505532737,
          -0.129906715276062,
          0.6388072941638956,
          -0.9611837323014758,
          -0.11309190392054783,
          -2.0193276671871643,
          -0.6116726473014742,
          1.851123908738312,
          -0.23730695552545975,
          -0.49077189703582214,
          -1.209708462345313,
          -0.7336780104359398,
          0.6122868341768868,
          -0.08826629915224017,
          0.040203935430538205,
          -1.4395374503419898,
          -0.8108575205014021,
          0.6383840839063878,
          -0.6046071651978742,
          0.10442668741813448,
          0.187852848471582,
          0.09516650285139858,
          -1.4379657756666862,
          -1.3995467804226953,
          -2.4400939453465926,
          1.357068116169183,
          0.675741665746478,
          0.8288586832135476,
          0.42379217923617585,
          -1.6765730171493463,
          1.1239018130698488,
          -1.499624055006214,
          0.900580921839038,
          -0.5228656297420218,
          1.3972028758224073,
          1.0456152430440662,
          -0.5584210258399632,
          -0.7254461638054707,
          2.429921842197925,
          0.26687240959263203,
          -1.5752830944648926,
          -0.0645244140536077,
          2.0221467606315944,
          -0.8115737932181631,
          -0.03953346571061237,
          0.3430560115673913,
          -0.678314414616606,
          0.7671270289936455,
          -0.8352815835060328,
          0.2625005834790334,
          0.6394229699144892,
          0.5744480532482673,
          0.9687296756953383,
          0.5281467997654329,
          0.7583808354729975,
          0.01008733722285285,
          -0.06386984596535984,
          0.6164890002338478,
          -0.9804120873817879,
          -1.2995248798407089,
          1.066126626588423,
          2.2125011388403535,
          1.0918321914430453,
          0.5393123108233898,
          0.8237643386872351,
          0.596304819634739,
          0.1551546937964348,
          -1.5255989307894378,
          -1.1431078143337003,
          1.2967382341855007,
          0.8990445838252091,
          -0.6711455782326923,
          -0.6162025218962328,
          0.622278697790318,
          0.16679223213883906,
          2.9127403911622443,
          -0.27152961576738033,
          -1.238501904868217,
          -0.16835336724025413,
          0.6378914389587478,
          0.4677712941488029,
          0.5495489487295442,
          -0.17931304232859252,
          -0.40814840097137234,
          1.9677139393195497,
          0.7851712092376301,
          -0.7656167328768418,
          -0.5536626665172183,
          -0.02963446605538179,
          0.1923114466917884,
          1.1345729810559975,
          -0.9630839809637665
         ],
         "xaxis": "x12",
         "y": [
          -2.050959337282939,
          -0.623135714654621,
          -0.9030838504023444,
          -0.8846787432223958,
          2.6741827735425394,
          -0.6354285944956553,
          -1.8496808811668934,
          -0.2547811416970197,
          -0.055681456337364384,
          -1.3944181938604423,
          -1.2902927400307336,
          0.6698919790212503,
          0.34643521789445736,
          -0.6967082806152699,
          -0.3212602648296973,
          1.7091491299614885,
          -0.5596189805447361,
          -0.525562784078486,
          -0.48049821825529065,
          -0.6346130652937808,
          0.47830738377493814,
          0.7156755848555739,
          1.4980374410115829,
          0.019052087924581036,
          -0.18201191885345414,
          -1.6588634578354686,
          -1.4828119493830143,
          -0.09216441630414798,
          -0.14553423644609612,
          -0.7794985383640196,
          -1.7350551083837469,
          0.8011445176125315,
          -0.3657053034107941,
          0.35222604176811234,
          -0.09434046490071221,
          0.27955154174741587,
          -0.47681326929380946,
          -1.4685668326584544,
          0.253437219952115,
          -0.1393600585054475,
          0.5111332871252802,
          1.966687474163078,
          1.7827345360633533,
          1.3365900682657514,
          0.22922232264662673,
          1.2412879016957008,
          0.17669427807060434,
          1.2102070043185542,
          0.9481346148415118,
          -0.7672110846043504,
          0.6779070484347443,
          -0.2478682667913302,
          0.005290125348690879,
          -0.7278639297732168,
          0.06953868587956952,
          -0.7252599174323642,
          0.9075663142325777,
          -1.357704195417472,
          1.2337390673840867,
          -1.5435650693835654,
          -1.8384710286781478,
          -0.3654452753253253,
          0.5368726545742358,
          0.15820260819638846,
          1.1688891296948416,
          0.7204814075390948,
          0.6756862921836863,
          0.8556117363426601,
          -0.5953676095033376,
          0.5185636488627283,
          0.25262453251756867,
          -0.4431075174340808,
          -1.508605467632452,
          -0.6206387803373581,
          -0.4824311953164388,
          -1.233241584706174,
          1.061749004442179,
          0.12292683966608829,
          0.0228518775722601,
          -1.2693591727320208,
          1.5670749867806724,
          -0.658579805547281,
          0.9816083662621841,
          -0.7237472802729957,
          -2.2476477755687774,
          -1.1457021217696113,
          -1.3170117279424052,
          -0.29420173341177985,
          -0.08004309491360784,
          -0.6533971663994066,
          -0.21402171159214076,
          1.0913202896398457,
          0.15607455217360325,
          -1.1458514538797409,
          2.383439127433773,
          0.7722722931324618,
          1.035267730994433,
          -0.16931970693807658,
          -0.08934031514353971,
          -0.40305055397493394
         ],
         "yaxis": "y12"
        },
        {
         "line": {
          "color": "rgba(128, 128, 128, 1.0)",
          "dash": "solid",
          "shape": "linear",
          "width": 1.3
         },
         "marker": {
          "size": 2,
          "symbol": "circle"
         },
         "mode": "markers",
         "name": "D",
         "text": "",
         "type": "scatter",
         "x": [
          -0.15966440057435938,
          -3.0268008071009187,
          0.9221382673050521,
          0.8770652008419254,
          2.076348258904066,
          -2.5385761484776928,
          -1.9211892960913912,
          0.6007684052334087,
          -0.21961932073774648,
          0.6947663878860076,
          1.5355433012808262,
          0.682536191559496,
          -0.00784008704142355,
          -0.5486678819424253,
          -0.42858792614727115,
          0.6318614246284424,
          1.014063885119909,
          0.19769301291352875,
          0.6115860679800008,
          0.19458939348542983,
          1.9061126760600309,
          2.1888523316757906,
          2.9527829087211845,
          0.03602569987116309,
          -0.695368302564943,
          1.6976635522629786,
          -2.6266196902651697,
          -0.5470043758963876,
          0.37115828238172793,
          -0.48023110420208853,
          1.0373530630599568,
          0.6748963442511032,
          1.229032627039319,
          1.696584799985512,
          0.029752667407899197,
          0.8084195973664055,
          -2.2248088064008944,
          1.0104302308242707,
          1.1180875214270254,
          1.2193035150614107,
          0.35565864473138953,
          -1.8415745792579306,
          -0.12863986311406433,
          -0.3840273635274107,
          -1.208692561789705,
          0.4930043761880178,
          0.22606346480288667,
          0.8469056906100876,
          -0.6602972998520016,
          0.18781265774515438,
          1.6287771347743953,
          -0.5770968099743413,
          -0.16194665920300977,
          0.8681358652235673,
          0.047414635744381525,
          0.21611033116647485,
          0.5907804771654277,
          0.9708460467264816,
          -1.8110933091195884,
          -0.5530434965138656,
          1.9636940438520054,
          1.1729722539442202,
          1.2421559008155438,
          -0.6288387913785575,
          0.34805958706986584,
          -0.5436381561059997,
          -0.5631348469165319,
          1.5606728416961202,
          0.2330738885185976,
          -0.8020391201493532,
          -0.6557997346611697,
          0.5726236513169123,
          1.2246219521550379,
          1.517883432418252,
          -0.14147909287681634,
          0.3664192494581477,
          -0.4322146140696219,
          -0.3495399006296373,
          -0.6810037668207851,
          0.08504992455350263,
          1.7823784203274209,
          0.6259377596645086,
          0.6638813119909011,
          -1.482839860554188,
          -0.2901295524795004,
          0.7728721769087347,
          1.0697450666270618,
          -0.38037586807737583,
          0.7361925861522479,
          2.227251940281902,
          -0.9059783157534909,
          1.0644082103981056,
          0.41243815873235085,
          -0.70985732273822,
          0.2921920971594382,
          0.316660089561294,
          1.2009474277974572,
          -0.17950997282633827,
          -1.8222345068938892,
          1.1804269142135373
         ],
         "xaxis": "x13",
         "y": [
          -2.45621934851348,
          -0.49738336039943415,
          1.0108981951075882,
          0.4371166861850728,
          0.8196645208336938,
          -0.2625102226319903,
          -0.8241370178729576,
          -0.23884566170418514,
          0.28308329505532737,
          -0.129906715276062,
          0.6388072941638956,
          -0.9611837323014758,
          -0.11309190392054783,
          -2.0193276671871643,
          -0.6116726473014742,
          1.851123908738312,
          -0.23730695552545975,
          -0.49077189703582214,
          -1.209708462345313,
          -0.7336780104359398,
          0.6122868341768868,
          -0.08826629915224017,
          0.040203935430538205,
          -1.4395374503419898,
          -0.8108575205014021,
          0.6383840839063878,
          -0.6046071651978742,
          0.10442668741813448,
          0.187852848471582,
          0.09516650285139858,
          -1.4379657756666862,
          -1.3995467804226953,
          -2.4400939453465926,
          1.357068116169183,
          0.675741665746478,
          0.8288586832135476,
          0.42379217923617585,
          -1.6765730171493463,
          1.1239018130698488,
          -1.499624055006214,
          0.900580921839038,
          -0.5228656297420218,
          1.3972028758224073,
          1.0456152430440662,
          -0.5584210258399632,
          -0.7254461638054707,
          2.429921842197925,
          0.26687240959263203,
          -1.5752830944648926,
          -0.0645244140536077,
          2.0221467606315944,
          -0.8115737932181631,
          -0.03953346571061237,
          0.3430560115673913,
          -0.678314414616606,
          0.7671270289936455,
          -0.8352815835060328,
          0.2625005834790334,
          0.6394229699144892,
          0.5744480532482673,
          0.9687296756953383,
          0.5281467997654329,
          0.7583808354729975,
          0.01008733722285285,
          -0.06386984596535984,
          0.6164890002338478,
          -0.9804120873817879,
          -1.2995248798407089,
          1.066126626588423,
          2.2125011388403535,
          1.0918321914430453,
          0.5393123108233898,
          0.8237643386872351,
          0.596304819634739,
          0.1551546937964348,
          -1.5255989307894378,
          -1.1431078143337003,
          1.2967382341855007,
          0.8990445838252091,
          -0.6711455782326923,
          -0.6162025218962328,
          0.622278697790318,
          0.16679223213883906,
          2.9127403911622443,
          -0.27152961576738033,
          -1.238501904868217,
          -0.16835336724025413,
          0.6378914389587478,
          0.4677712941488029,
          0.5495489487295442,
          -0.17931304232859252,
          -0.40814840097137234,
          1.9677139393195497,
          0.7851712092376301,
          -0.7656167328768418,
          -0.5536626665172183,
          -0.02963446605538179,
          0.1923114466917884,
          1.1345729810559975,
          -0.9630839809637665
         ],
         "yaxis": "y13"
        },
        {
         "line": {
          "color": "rgba(128, 128, 128, 1.0)",
          "dash": "solid",
          "shape": "linear",
          "width": 1.3
         },
         "marker": {
          "size": 2,
          "symbol": "circle"
         },
         "mode": "markers",
         "name": "D",
         "text": "",
         "type": "scatter",
         "x": [
          -0.039620201830270506,
          -1.0886265885232451,
          1.510576451901204,
          1.784954270510374,
          1.856633419738731,
          -0.06186831571432017,
          -0.7177396996119862,
          1.3056032295822502,
          0.1747268566872305,
          -2.008057573582073,
          -0.24986540881811706,
          -0.68969312419857,
          1.7203106029038477,
          0.8148414349263332,
          -0.15528528397620237,
          -1.8057674057733473,
          0.1855558056334135,
          -0.20607748084692046,
          -0.41374065948487576,
          0.07802381651058664,
          0.5122383905711916,
          -0.8816396954950696,
          0.8150638310707726,
          -0.9128064482318322,
          -0.92947076177012,
          0.5364585267673471,
          -0.09773609410488768,
          -0.8376598389398086,
          -0.5149023896730086,
          -0.07638224135806895,
          -0.528115017916814,
          0.6930140672229397,
          -0.7173712123713216,
          0.435434124645374,
          -0.10550905698074249,
          0.9825963092482132,
          1.43990174097477,
          0.21861636481047017,
          -1.4434530863386295,
          -0.8429050603925676,
          -0.5824520358502622,
          -2.5060458213683448,
          0.8188019482586176,
          -1.1311437036384802,
          2.463221499435528,
          -1.4716903339509018,
          -1.3231503668137379,
          0.9138103857479809,
          0.7169170351565702,
          -0.5942680093604714,
          -1.700684394592634,
          -0.3601746175201089,
          -0.8427200334374927,
          -0.2448910298215501,
          1.0078914884134746,
          1.1363591311807222,
          0.31267011313669657,
          -0.4966643537233206,
          1.4258032741416697,
          -0.8218663321084495,
          0.07359712719308378,
          -1.4767339034966909,
          1.1364236958318257,
          -0.23598777516022656,
          -0.6022315860538371,
          -0.1211577645937869,
          -0.5284014012330627,
          -0.8756273951246533,
          -0.11679910149382909,
          -0.28133633907251443,
          1.3360164375010046,
          -1.993994774627574,
          1.705587826284771,
          -0.1242901136836673,
          -0.5972965399776643,
          0.10528367746866872,
          -1.8588149129828984,
          -0.7940920464638387,
          0.1276581837519382,
          -1.4602897634720386,
          -0.9001307498667146,
          -1.523129993571007,
          0.08675731770656844,
          -1.369456474965436,
          0.8336132458797575,
          -1.4707252145644945,
          1.9115214411160404,
          -0.8919965099516362,
          -1.1617999087632587,
          -1.8744766266033046,
          0.04249487946173756,
          -0.27310822473698654,
          0.08953567673202818,
          0.9321519847205323,
          -0.7901851679583582,
          0.43921752031434347,
          -0.8077884830291779,
          1.4627975973322422,
          0.9795913558289675,
          -0.4743917350346864
         ],
         "xaxis": "x14",
         "y": [
          -2.45621934851348,
          -0.49738336039943415,
          1.0108981951075882,
          0.4371166861850728,
          0.8196645208336938,
          -0.2625102226319903,
          -0.8241370178729576,
          -0.23884566170418514,
          0.28308329505532737,
          -0.129906715276062,
          0.6388072941638956,
          -0.9611837323014758,
          -0.11309190392054783,
          -2.0193276671871643,
          -0.6116726473014742,
          1.851123908738312,
          -0.23730695552545975,
          -0.49077189703582214,
          -1.209708462345313,
          -0.7336780104359398,
          0.6122868341768868,
          -0.08826629915224017,
          0.040203935430538205,
          -1.4395374503419898,
          -0.8108575205014021,
          0.6383840839063878,
          -0.6046071651978742,
          0.10442668741813448,
          0.187852848471582,
          0.09516650285139858,
          -1.4379657756666862,
          -1.3995467804226953,
          -2.4400939453465926,
          1.357068116169183,
          0.675741665746478,
          0.8288586832135476,
          0.42379217923617585,
          -1.6765730171493463,
          1.1239018130698488,
          -1.499624055006214,
          0.900580921839038,
          -0.5228656297420218,
          1.3972028758224073,
          1.0456152430440662,
          -0.5584210258399632,
          -0.7254461638054707,
          2.429921842197925,
          0.26687240959263203,
          -1.5752830944648926,
          -0.0645244140536077,
          2.0221467606315944,
          -0.8115737932181631,
          -0.03953346571061237,
          0.3430560115673913,
          -0.678314414616606,
          0.7671270289936455,
          -0.8352815835060328,
          0.2625005834790334,
          0.6394229699144892,
          0.5744480532482673,
          0.9687296756953383,
          0.5281467997654329,
          0.7583808354729975,
          0.01008733722285285,
          -0.06386984596535984,
          0.6164890002338478,
          -0.9804120873817879,
          -1.2995248798407089,
          1.066126626588423,
          2.2125011388403535,
          1.0918321914430453,
          0.5393123108233898,
          0.8237643386872351,
          0.596304819634739,
          0.1551546937964348,
          -1.5255989307894378,
          -1.1431078143337003,
          1.2967382341855007,
          0.8990445838252091,
          -0.6711455782326923,
          -0.6162025218962328,
          0.622278697790318,
          0.16679223213883906,
          2.9127403911622443,
          -0.27152961576738033,
          -1.238501904868217,
          -0.16835336724025413,
          0.6378914389587478,
          0.4677712941488029,
          0.5495489487295442,
          -0.17931304232859252,
          -0.40814840097137234,
          1.9677139393195497,
          0.7851712092376301,
          -0.7656167328768418,
          -0.5536626665172183,
          -0.02963446605538179,
          0.1923114466917884,
          1.1345729810559975,
          -0.9630839809637665
         ],
         "yaxis": "y14"
        },
        {
         "line": {
          "color": "rgba(128, 128, 128, 1.0)",
          "dash": "solid",
          "shape": "linear",
          "width": 1.3
         },
         "marker": {
          "size": 2,
          "symbol": "circle"
         },
         "mode": "markers",
         "name": "D",
         "text": "",
         "type": "scatter",
         "x": [
          -2.050959337282939,
          -0.623135714654621,
          -0.9030838504023444,
          -0.8846787432223958,
          2.6741827735425394,
          -0.6354285944956553,
          -1.8496808811668934,
          -0.2547811416970197,
          -0.055681456337364384,
          -1.3944181938604423,
          -1.2902927400307336,
          0.6698919790212503,
          0.34643521789445736,
          -0.6967082806152699,
          -0.3212602648296973,
          1.7091491299614885,
          -0.5596189805447361,
          -0.525562784078486,
          -0.48049821825529065,
          -0.6346130652937808,
          0.47830738377493814,
          0.7156755848555739,
          1.4980374410115829,
          0.019052087924581036,
          -0.18201191885345414,
          -1.6588634578354686,
          -1.4828119493830143,
          -0.09216441630414798,
          -0.14553423644609612,
          -0.7794985383640196,
          -1.7350551083837469,
          0.8011445176125315,
          -0.3657053034107941,
          0.35222604176811234,
          -0.09434046490071221,
          0.27955154174741587,
          -0.47681326929380946,
          -1.4685668326584544,
          0.253437219952115,
          -0.1393600585054475,
          0.5111332871252802,
          1.966687474163078,
          1.7827345360633533,
          1.3365900682657514,
          0.22922232264662673,
          1.2412879016957008,
          0.17669427807060434,
          1.2102070043185542,
          0.9481346148415118,
          -0.7672110846043504,
          0.6779070484347443,
          -0.2478682667913302,
          0.005290125348690879,
          -0.7278639297732168,
          0.06953868587956952,
          -0.7252599174323642,
          0.9075663142325777,
          -1.357704195417472,
          1.2337390673840867,
          -1.5435650693835654,
          -1.8384710286781478,
          -0.3654452753253253,
          0.5368726545742358,
          0.15820260819638846,
          1.1688891296948416,
          0.7204814075390948,
          0.6756862921836863,
          0.8556117363426601,
          -0.5953676095033376,
          0.5185636488627283,
          0.25262453251756867,
          -0.4431075174340808,
          -1.508605467632452,
          -0.6206387803373581,
          -0.4824311953164388,
          -1.233241584706174,
          1.061749004442179,
          0.12292683966608829,
          0.0228518775722601,
          -1.2693591727320208,
          1.5670749867806724,
          -0.658579805547281,
          0.9816083662621841,
          -0.7237472802729957,
          -2.2476477755687774,
          -1.1457021217696113,
          -1.3170117279424052,
          -0.29420173341177985,
          -0.08004309491360784,
          -0.6533971663994066,
          -0.21402171159214076,
          1.0913202896398457,
          0.15607455217360325,
          -1.1458514538797409,
          2.383439127433773,
          0.7722722931324618,
          1.035267730994433,
          -0.16931970693807658,
          -0.08934031514353971,
          -0.40305055397493394
         ],
         "xaxis": "x15",
         "y": [
          -2.45621934851348,
          -0.49738336039943415,
          1.0108981951075882,
          0.4371166861850728,
          0.8196645208336938,
          -0.2625102226319903,
          -0.8241370178729576,
          -0.23884566170418514,
          0.28308329505532737,
          -0.129906715276062,
          0.6388072941638956,
          -0.9611837323014758,
          -0.11309190392054783,
          -2.0193276671871643,
          -0.6116726473014742,
          1.851123908738312,
          -0.23730695552545975,
          -0.49077189703582214,
          -1.209708462345313,
          -0.7336780104359398,
          0.6122868341768868,
          -0.08826629915224017,
          0.040203935430538205,
          -1.4395374503419898,
          -0.8108575205014021,
          0.6383840839063878,
          -0.6046071651978742,
          0.10442668741813448,
          0.187852848471582,
          0.09516650285139858,
          -1.4379657756666862,
          -1.3995467804226953,
          -2.4400939453465926,
          1.357068116169183,
          0.675741665746478,
          0.8288586832135476,
          0.42379217923617585,
          -1.6765730171493463,
          1.1239018130698488,
          -1.499624055006214,
          0.900580921839038,
          -0.5228656297420218,
          1.3972028758224073,
          1.0456152430440662,
          -0.5584210258399632,
          -0.7254461638054707,
          2.429921842197925,
          0.26687240959263203,
          -1.5752830944648926,
          -0.0645244140536077,
          2.0221467606315944,
          -0.8115737932181631,
          -0.03953346571061237,
          0.3430560115673913,
          -0.678314414616606,
          0.7671270289936455,
          -0.8352815835060328,
          0.2625005834790334,
          0.6394229699144892,
          0.5744480532482673,
          0.9687296756953383,
          0.5281467997654329,
          0.7583808354729975,
          0.01008733722285285,
          -0.06386984596535984,
          0.6164890002338478,
          -0.9804120873817879,
          -1.2995248798407089,
          1.066126626588423,
          2.2125011388403535,
          1.0918321914430453,
          0.5393123108233898,
          0.8237643386872351,
          0.596304819634739,
          0.1551546937964348,
          -1.5255989307894378,
          -1.1431078143337003,
          1.2967382341855007,
          0.8990445838252091,
          -0.6711455782326923,
          -0.6162025218962328,
          0.622278697790318,
          0.16679223213883906,
          2.9127403911622443,
          -0.27152961576738033,
          -1.238501904868217,
          -0.16835336724025413,
          0.6378914389587478,
          0.4677712941488029,
          0.5495489487295442,
          -0.17931304232859252,
          -0.40814840097137234,
          1.9677139393195497,
          0.7851712092376301,
          -0.7656167328768418,
          -0.5536626665172183,
          -0.02963446605538179,
          0.1923114466917884,
          1.1345729810559975,
          -0.9630839809637665
         ],
         "yaxis": "y15"
        },
        {
         "histfunc": "count",
         "histnorm": "",
         "marker": {
          "color": "rgba(128, 0, 128, 1.0)",
          "line": {
           "color": "#4D5663",
           "width": 1.3
          }
         },
         "name": "D",
         "nbinsx": 10,
         "opacity": 0.8,
         "orientation": "v",
         "type": "histogram",
         "x": [
          -2.45621934851348,
          -0.49738336039943415,
          1.0108981951075882,
          0.4371166861850728,
          0.8196645208336938,
          -0.2625102226319903,
          -0.8241370178729576,
          -0.23884566170418514,
          0.28308329505532737,
          -0.129906715276062,
          0.6388072941638956,
          -0.9611837323014758,
          -0.11309190392054783,
          -2.0193276671871643,
          -0.6116726473014742,
          1.851123908738312,
          -0.23730695552545975,
          -0.49077189703582214,
          -1.209708462345313,
          -0.7336780104359398,
          0.6122868341768868,
          -0.08826629915224017,
          0.040203935430538205,
          -1.4395374503419898,
          -0.8108575205014021,
          0.6383840839063878,
          -0.6046071651978742,
          0.10442668741813448,
          0.187852848471582,
          0.09516650285139858,
          -1.4379657756666862,
          -1.3995467804226953,
          -2.4400939453465926,
          1.357068116169183,
          0.675741665746478,
          0.8288586832135476,
          0.42379217923617585,
          -1.6765730171493463,
          1.1239018130698488,
          -1.499624055006214,
          0.900580921839038,
          -0.5228656297420218,
          1.3972028758224073,
          1.0456152430440662,
          -0.5584210258399632,
          -0.7254461638054707,
          2.429921842197925,
          0.26687240959263203,
          -1.5752830944648926,
          -0.0645244140536077,
          2.0221467606315944,
          -0.8115737932181631,
          -0.03953346571061237,
          0.3430560115673913,
          -0.678314414616606,
          0.7671270289936455,
          -0.8352815835060328,
          0.2625005834790334,
          0.6394229699144892,
          0.5744480532482673,
          0.9687296756953383,
          0.5281467997654329,
          0.7583808354729975,
          0.01008733722285285,
          -0.06386984596535984,
          0.6164890002338478,
          -0.9804120873817879,
          -1.2995248798407089,
          1.066126626588423,
          2.2125011388403535,
          1.0918321914430453,
          0.5393123108233898,
          0.8237643386872351,
          0.596304819634739,
          0.1551546937964348,
          -1.5255989307894378,
          -1.1431078143337003,
          1.2967382341855007,
          0.8990445838252091,
          -0.6711455782326923,
          -0.6162025218962328,
          0.622278697790318,
          0.16679223213883906,
          2.9127403911622443,
          -0.27152961576738033,
          -1.238501904868217,
          -0.16835336724025413,
          0.6378914389587478,
          0.4677712941488029,
          0.5495489487295442,
          -0.17931304232859252,
          -0.40814840097137234,
          1.9677139393195497,
          0.7851712092376301,
          -0.7656167328768418,
          -0.5536626665172183,
          -0.02963446605538179,
          0.1923114466917884,
          1.1345729810559975,
          -0.9630839809637665
         ],
         "xaxis": "x16",
         "yaxis": "y16"
        }
       ],
       "layout": {
        "bargap": 0.02,
        "legend": {
         "bgcolor": "#F5F6F9",
         "font": {
          "color": "#4D5663"
         }
        },
        "paper_bgcolor": "#F5F6F9",
        "plot_bgcolor": "#F5F6F9",
        "showlegend": false,
        "template": {
         "data": {
          "bar": [
           {
            "error_x": {
             "color": "#2a3f5f"
            },
            "error_y": {
             "color": "#2a3f5f"
            },
            "marker": {
             "line": {
              "color": "#E5ECF6",
              "width": 0.5
             }
            },
            "type": "bar"
           }
          ],
          "barpolar": [
           {
            "marker": {
             "line": {
              "color": "#E5ECF6",
              "width": 0.5
             }
            },
            "type": "barpolar"
           }
          ],
          "carpet": [
           {
            "aaxis": {
             "endlinecolor": "#2a3f5f",
             "gridcolor": "white",
             "linecolor": "white",
             "minorgridcolor": "white",
             "startlinecolor": "#2a3f5f"
            },
            "baxis": {
             "endlinecolor": "#2a3f5f",
             "gridcolor": "white",
             "linecolor": "white",
             "minorgridcolor": "white",
             "startlinecolor": "#2a3f5f"
            },
            "type": "carpet"
           }
          ],
          "choropleth": [
           {
            "colorbar": {
             "outlinewidth": 0,
             "ticks": ""
            },
            "type": "choropleth"
           }
          ],
          "contour": [
           {
            "colorbar": {
             "outlinewidth": 0,
             "ticks": ""
            },
            "colorscale": [
             [
              0,
              "#0d0887"
             ],
             [
              0.1111111111111111,
              "#46039f"
             ],
             [
              0.2222222222222222,
              "#7201a8"
             ],
             [
              0.3333333333333333,
              "#9c179e"
             ],
             [
              0.4444444444444444,
              "#bd3786"
             ],
             [
              0.5555555555555556,
              "#d8576b"
             ],
             [
              0.6666666666666666,
              "#ed7953"
             ],
             [
              0.7777777777777778,
              "#fb9f3a"
             ],
             [
              0.8888888888888888,
              "#fdca26"
             ],
             [
              1,
              "#f0f921"
             ]
            ],
            "type": "contour"
           }
          ],
          "contourcarpet": [
           {
            "colorbar": {
             "outlinewidth": 0,
             "ticks": ""
            },
            "type": "contourcarpet"
           }
          ],
          "heatmap": [
           {
            "colorbar": {
             "outlinewidth": 0,
             "ticks": ""
            },
            "colorscale": [
             [
              0,
              "#0d0887"
             ],
             [
              0.1111111111111111,
              "#46039f"
             ],
             [
              0.2222222222222222,
              "#7201a8"
             ],
             [
              0.3333333333333333,
              "#9c179e"
             ],
             [
              0.4444444444444444,
              "#bd3786"
             ],
             [
              0.5555555555555556,
              "#d8576b"
             ],
             [
              0.6666666666666666,
              "#ed7953"
             ],
             [
              0.7777777777777778,
              "#fb9f3a"
             ],
             [
              0.8888888888888888,
              "#fdca26"
             ],
             [
              1,
              "#f0f921"
             ]
            ],
            "type": "heatmap"
           }
          ],
          "heatmapgl": [
           {
            "colorbar": {
             "outlinewidth": 0,
             "ticks": ""
            },
            "colorscale": [
             [
              0,
              "#0d0887"
             ],
             [
              0.1111111111111111,
              "#46039f"
             ],
             [
              0.2222222222222222,
              "#7201a8"
             ],
             [
              0.3333333333333333,
              "#9c179e"
             ],
             [
              0.4444444444444444,
              "#bd3786"
             ],
             [
              0.5555555555555556,
              "#d8576b"
             ],
             [
              0.6666666666666666,
              "#ed7953"
             ],
             [
              0.7777777777777778,
              "#fb9f3a"
             ],
             [
              0.8888888888888888,
              "#fdca26"
             ],
             [
              1,
              "#f0f921"
             ]
            ],
            "type": "heatmapgl"
           }
          ],
          "histogram": [
           {
            "marker": {
             "colorbar": {
              "outlinewidth": 0,
              "ticks": ""
             }
            },
            "type": "histogram"
           }
          ],
          "histogram2d": [
           {
            "colorbar": {
             "outlinewidth": 0,
             "ticks": ""
            },
            "colorscale": [
             [
              0,
              "#0d0887"
             ],
             [
              0.1111111111111111,
              "#46039f"
             ],
             [
              0.2222222222222222,
              "#7201a8"
             ],
             [
              0.3333333333333333,
              "#9c179e"
             ],
             [
              0.4444444444444444,
              "#bd3786"
             ],
             [
              0.5555555555555556,
              "#d8576b"
             ],
             [
              0.6666666666666666,
              "#ed7953"
             ],
             [
              0.7777777777777778,
              "#fb9f3a"
             ],
             [
              0.8888888888888888,
              "#fdca26"
             ],
             [
              1,
              "#f0f921"
             ]
            ],
            "type": "histogram2d"
           }
          ],
          "histogram2dcontour": [
           {
            "colorbar": {
             "outlinewidth": 0,
             "ticks": ""
            },
            "colorscale": [
             [
              0,
              "#0d0887"
             ],
             [
              0.1111111111111111,
              "#46039f"
             ],
             [
              0.2222222222222222,
              "#7201a8"
             ],
             [
              0.3333333333333333,
              "#9c179e"
             ],
             [
              0.4444444444444444,
              "#bd3786"
             ],
             [
              0.5555555555555556,
              "#d8576b"
             ],
             [
              0.6666666666666666,
              "#ed7953"
             ],
             [
              0.7777777777777778,
              "#fb9f3a"
             ],
             [
              0.8888888888888888,
              "#fdca26"
             ],
             [
              1,
              "#f0f921"
             ]
            ],
            "type": "histogram2dcontour"
           }
          ],
          "mesh3d": [
           {
            "colorbar": {
             "outlinewidth": 0,
             "ticks": ""
            },
            "type": "mesh3d"
           }
          ],
          "parcoords": [
           {
            "line": {
             "colorbar": {
              "outlinewidth": 0,
              "ticks": ""
             }
            },
            "type": "parcoords"
           }
          ],
          "pie": [
           {
            "automargin": true,
            "type": "pie"
           }
          ],
          "scatter": [
           {
            "marker": {
             "colorbar": {
              "outlinewidth": 0,
              "ticks": ""
             }
            },
            "type": "scatter"
           }
          ],
          "scatter3d": [
           {
            "line": {
             "colorbar": {
              "outlinewidth": 0,
              "ticks": ""
             }
            },
            "marker": {
             "colorbar": {
              "outlinewidth": 0,
              "ticks": ""
             }
            },
            "type": "scatter3d"
           }
          ],
          "scattercarpet": [
           {
            "marker": {
             "colorbar": {
              "outlinewidth": 0,
              "ticks": ""
             }
            },
            "type": "scattercarpet"
           }
          ],
          "scattergeo": [
           {
            "marker": {
             "colorbar": {
              "outlinewidth": 0,
              "ticks": ""
             }
            },
            "type": "scattergeo"
           }
          ],
          "scattergl": [
           {
            "marker": {
             "colorbar": {
              "outlinewidth": 0,
              "ticks": ""
             }
            },
            "type": "scattergl"
           }
          ],
          "scattermapbox": [
           {
            "marker": {
             "colorbar": {
              "outlinewidth": 0,
              "ticks": ""
             }
            },
            "type": "scattermapbox"
           }
          ],
          "scatterpolar": [
           {
            "marker": {
             "colorbar": {
              "outlinewidth": 0,
              "ticks": ""
             }
            },
            "type": "scatterpolar"
           }
          ],
          "scatterpolargl": [
           {
            "marker": {
             "colorbar": {
              "outlinewidth": 0,
              "ticks": ""
             }
            },
            "type": "scatterpolargl"
           }
          ],
          "scatterternary": [
           {
            "marker": {
             "colorbar": {
              "outlinewidth": 0,
              "ticks": ""
             }
            },
            "type": "scatterternary"
           }
          ],
          "surface": [
           {
            "colorbar": {
             "outlinewidth": 0,
             "ticks": ""
            },
            "colorscale": [
             [
              0,
              "#0d0887"
             ],
             [
              0.1111111111111111,
              "#46039f"
             ],
             [
              0.2222222222222222,
              "#7201a8"
             ],
             [
              0.3333333333333333,
              "#9c179e"
             ],
             [
              0.4444444444444444,
              "#bd3786"
             ],
             [
              0.5555555555555556,
              "#d8576b"
             ],
             [
              0.6666666666666666,
              "#ed7953"
             ],
             [
              0.7777777777777778,
              "#fb9f3a"
             ],
             [
              0.8888888888888888,
              "#fdca26"
             ],
             [
              1,
              "#f0f921"
             ]
            ],
            "type": "surface"
           }
          ],
          "table": [
           {
            "cells": {
             "fill": {
              "color": "#EBF0F8"
             },
             "line": {
              "color": "white"
             }
            },
            "header": {
             "fill": {
              "color": "#C8D4E3"
             },
             "line": {
              "color": "white"
             }
            },
            "type": "table"
           }
          ]
         },
         "layout": {
          "annotationdefaults": {
           "arrowcolor": "#2a3f5f",
           "arrowhead": 0,
           "arrowwidth": 1
          },
          "coloraxis": {
           "colorbar": {
            "outlinewidth": 0,
            "ticks": ""
           }
          },
          "colorscale": {
           "diverging": [
            [
             0,
             "#8e0152"
            ],
            [
             0.1,
             "#c51b7d"
            ],
            [
             0.2,
             "#de77ae"
            ],
            [
             0.3,
             "#f1b6da"
            ],
            [
             0.4,
             "#fde0ef"
            ],
            [
             0.5,
             "#f7f7f7"
            ],
            [
             0.6,
             "#e6f5d0"
            ],
            [
             0.7,
             "#b8e186"
            ],
            [
             0.8,
             "#7fbc41"
            ],
            [
             0.9,
             "#4d9221"
            ],
            [
             1,
             "#276419"
            ]
           ],
           "sequential": [
            [
             0,
             "#0d0887"
            ],
            [
             0.1111111111111111,
             "#46039f"
            ],
            [
             0.2222222222222222,
             "#7201a8"
            ],
            [
             0.3333333333333333,
             "#9c179e"
            ],
            [
             0.4444444444444444,
             "#bd3786"
            ],
            [
             0.5555555555555556,
             "#d8576b"
            ],
            [
             0.6666666666666666,
             "#ed7953"
            ],
            [
             0.7777777777777778,
             "#fb9f3a"
            ],
            [
             0.8888888888888888,
             "#fdca26"
            ],
            [
             1,
             "#f0f921"
            ]
           ],
           "sequentialminus": [
            [
             0,
             "#0d0887"
            ],
            [
             0.1111111111111111,
             "#46039f"
            ],
            [
             0.2222222222222222,
             "#7201a8"
            ],
            [
             0.3333333333333333,
             "#9c179e"
            ],
            [
             0.4444444444444444,
             "#bd3786"
            ],
            [
             0.5555555555555556,
             "#d8576b"
            ],
            [
             0.6666666666666666,
             "#ed7953"
            ],
            [
             0.7777777777777778,
             "#fb9f3a"
            ],
            [
             0.8888888888888888,
             "#fdca26"
            ],
            [
             1,
             "#f0f921"
            ]
           ]
          },
          "colorway": [
           "#636efa",
           "#EF553B",
           "#00cc96",
           "#ab63fa",
           "#FFA15A",
           "#19d3f3",
           "#FF6692",
           "#B6E880",
           "#FF97FF",
           "#FECB52"
          ],
          "font": {
           "color": "#2a3f5f"
          },
          "geo": {
           "bgcolor": "white",
           "lakecolor": "white",
           "landcolor": "#E5ECF6",
           "showlakes": true,
           "showland": true,
           "subunitcolor": "white"
          },
          "hoverlabel": {
           "align": "left"
          },
          "hovermode": "closest",
          "mapbox": {
           "style": "light"
          },
          "paper_bgcolor": "white",
          "plot_bgcolor": "#E5ECF6",
          "polar": {
           "angularaxis": {
            "gridcolor": "white",
            "linecolor": "white",
            "ticks": ""
           },
           "bgcolor": "#E5ECF6",
           "radialaxis": {
            "gridcolor": "white",
            "linecolor": "white",
            "ticks": ""
           }
          },
          "scene": {
           "xaxis": {
            "backgroundcolor": "#E5ECF6",
            "gridcolor": "white",
            "gridwidth": 2,
            "linecolor": "white",
            "showbackground": true,
            "ticks": "",
            "zerolinecolor": "white"
           },
           "yaxis": {
            "backgroundcolor": "#E5ECF6",
            "gridcolor": "white",
            "gridwidth": 2,
            "linecolor": "white",
            "showbackground": true,
            "ticks": "",
            "zerolinecolor": "white"
           },
           "zaxis": {
            "backgroundcolor": "#E5ECF6",
            "gridcolor": "white",
            "gridwidth": 2,
            "linecolor": "white",
            "showbackground": true,
            "ticks": "",
            "zerolinecolor": "white"
           }
          },
          "shapedefaults": {
           "line": {
            "color": "#2a3f5f"
           }
          },
          "ternary": {
           "aaxis": {
            "gridcolor": "white",
            "linecolor": "white",
            "ticks": ""
           },
           "baxis": {
            "gridcolor": "white",
            "linecolor": "white",
            "ticks": ""
           },
           "bgcolor": "#E5ECF6",
           "caxis": {
            "gridcolor": "white",
            "linecolor": "white",
            "ticks": ""
           }
          },
          "title": {
           "x": 0.05
          },
          "xaxis": {
           "automargin": true,
           "gridcolor": "white",
           "linecolor": "white",
           "ticks": "",
           "title": {
            "standoff": 15
           },
           "zerolinecolor": "white",
           "zerolinewidth": 2
          },
          "yaxis": {
           "automargin": true,
           "gridcolor": "white",
           "linecolor": "white",
           "ticks": "",
           "title": {
            "standoff": 15
           },
           "zerolinecolor": "white",
           "zerolinewidth": 2
          }
         }
        },
        "title": {
         "font": {
          "color": "#4D5663"
         }
        },
        "xaxis": {
         "anchor": "y",
         "domain": [
          0,
          0.2125
         ],
         "gridcolor": "#E1E5ED",
         "showgrid": false,
         "tickfont": {
          "color": "#4D5663"
         },
         "title": {
          "font": {
           "color": "#4D5663"
          },
          "text": ""
         },
         "zerolinecolor": "#E1E5ED"
        },
        "xaxis10": {
         "anchor": "y10",
         "domain": [
          0.2625,
          0.475
         ],
         "gridcolor": "#E1E5ED",
         "showgrid": false,
         "tickfont": {
          "color": "#4D5663"
         },
         "title": {
          "font": {
           "color": "#4D5663"
          },
          "text": ""
         },
         "zerolinecolor": "#E1E5ED"
        },
        "xaxis11": {
         "anchor": "y11",
         "domain": [
          0.525,
          0.7375
         ],
         "gridcolor": "#E1E5ED",
         "showgrid": false,
         "tickfont": {
          "color": "#4D5663"
         },
         "title": {
          "font": {
           "color": "#4D5663"
          },
          "text": ""
         },
         "zerolinecolor": "#E1E5ED"
        },
        "xaxis12": {
         "anchor": "y12",
         "domain": [
          0.7875,
          1
         ],
         "gridcolor": "#E1E5ED",
         "showgrid": false,
         "tickfont": {
          "color": "#4D5663"
         },
         "title": {
          "font": {
           "color": "#4D5663"
          },
          "text": ""
         },
         "zerolinecolor": "#E1E5ED"
        },
        "xaxis13": {
         "anchor": "y13",
         "domain": [
          0,
          0.2125
         ],
         "gridcolor": "#E1E5ED",
         "showgrid": false,
         "tickfont": {
          "color": "#4D5663"
         },
         "title": {
          "font": {
           "color": "#4D5663"
          },
          "text": ""
         },
         "zerolinecolor": "#E1E5ED"
        },
        "xaxis14": {
         "anchor": "y14",
         "domain": [
          0.2625,
          0.475
         ],
         "gridcolor": "#E1E5ED",
         "showgrid": false,
         "tickfont": {
          "color": "#4D5663"
         },
         "title": {
          "font": {
           "color": "#4D5663"
          },
          "text": ""
         },
         "zerolinecolor": "#E1E5ED"
        },
        "xaxis15": {
         "anchor": "y15",
         "domain": [
          0.525,
          0.7375
         ],
         "gridcolor": "#E1E5ED",
         "showgrid": false,
         "tickfont": {
          "color": "#4D5663"
         },
         "title": {
          "font": {
           "color": "#4D5663"
          },
          "text": ""
         },
         "zerolinecolor": "#E1E5ED"
        },
        "xaxis16": {
         "anchor": "y16",
         "domain": [
          0.7875,
          1
         ],
         "gridcolor": "#E1E5ED",
         "showgrid": false,
         "tickfont": {
          "color": "#4D5663"
         },
         "title": {
          "font": {
           "color": "#4D5663"
          },
          "text": ""
         },
         "zerolinecolor": "#E1E5ED"
        },
        "xaxis2": {
         "anchor": "y2",
         "domain": [
          0.2625,
          0.475
         ],
         "gridcolor": "#E1E5ED",
         "showgrid": false,
         "tickfont": {
          "color": "#4D5663"
         },
         "title": {
          "font": {
           "color": "#4D5663"
          },
          "text": ""
         },
         "zerolinecolor": "#E1E5ED"
        },
        "xaxis3": {
         "anchor": "y3",
         "domain": [
          0.525,
          0.7375
         ],
         "gridcolor": "#E1E5ED",
         "showgrid": false,
         "tickfont": {
          "color": "#4D5663"
         },
         "title": {
          "font": {
           "color": "#4D5663"
          },
          "text": ""
         },
         "zerolinecolor": "#E1E5ED"
        },
        "xaxis4": {
         "anchor": "y4",
         "domain": [
          0.7875,
          1
         ],
         "gridcolor": "#E1E5ED",
         "showgrid": false,
         "tickfont": {
          "color": "#4D5663"
         },
         "title": {
          "font": {
           "color": "#4D5663"
          },
          "text": ""
         },
         "zerolinecolor": "#E1E5ED"
        },
        "xaxis5": {
         "anchor": "y5",
         "domain": [
          0,
          0.2125
         ],
         "gridcolor": "#E1E5ED",
         "showgrid": false,
         "tickfont": {
          "color": "#4D5663"
         },
         "title": {
          "font": {
           "color": "#4D5663"
          },
          "text": ""
         },
         "zerolinecolor": "#E1E5ED"
        },
        "xaxis6": {
         "anchor": "y6",
         "domain": [
          0.2625,
          0.475
         ],
         "gridcolor": "#E1E5ED",
         "showgrid": false,
         "tickfont": {
          "color": "#4D5663"
         },
         "title": {
          "font": {
           "color": "#4D5663"
          },
          "text": ""
         },
         "zerolinecolor": "#E1E5ED"
        },
        "xaxis7": {
         "anchor": "y7",
         "domain": [
          0.525,
          0.7375
         ],
         "gridcolor": "#E1E5ED",
         "showgrid": false,
         "tickfont": {
          "color": "#4D5663"
         },
         "title": {
          "font": {
           "color": "#4D5663"
          },
          "text": ""
         },
         "zerolinecolor": "#E1E5ED"
        },
        "xaxis8": {
         "anchor": "y8",
         "domain": [
          0.7875,
          1
         ],
         "gridcolor": "#E1E5ED",
         "showgrid": false,
         "tickfont": {
          "color": "#4D5663"
         },
         "title": {
          "font": {
           "color": "#4D5663"
          },
          "text": ""
         },
         "zerolinecolor": "#E1E5ED"
        },
        "xaxis9": {
         "anchor": "y9",
         "domain": [
          0,
          0.2125
         ],
         "gridcolor": "#E1E5ED",
         "showgrid": false,
         "tickfont": {
          "color": "#4D5663"
         },
         "title": {
          "font": {
           "color": "#4D5663"
          },
          "text": ""
         },
         "zerolinecolor": "#E1E5ED"
        },
        "yaxis": {
         "anchor": "x",
         "domain": [
          0.8025,
          1
         ],
         "gridcolor": "#E1E5ED",
         "showgrid": false,
         "tickfont": {
          "color": "#4D5663"
         },
         "title": {
          "font": {
           "color": "#4D5663"
          },
          "text": ""
         },
         "zerolinecolor": "#E1E5ED"
        },
        "yaxis10": {
         "anchor": "x10",
         "domain": [
          0.2675,
          0.465
         ],
         "gridcolor": "#E1E5ED",
         "showgrid": false,
         "tickfont": {
          "color": "#4D5663"
         },
         "title": {
          "font": {
           "color": "#4D5663"
          },
          "text": ""
         },
         "zerolinecolor": "#E1E5ED"
        },
        "yaxis11": {
         "anchor": "x11",
         "domain": [
          0.2675,
          0.465
         ],
         "gridcolor": "#E1E5ED",
         "showgrid": false,
         "tickfont": {
          "color": "#4D5663"
         },
         "title": {
          "font": {
           "color": "#4D5663"
          },
          "text": ""
         },
         "zerolinecolor": "#E1E5ED"
        },
        "yaxis12": {
         "anchor": "x12",
         "domain": [
          0.2675,
          0.465
         ],
         "gridcolor": "#E1E5ED",
         "showgrid": false,
         "tickfont": {
          "color": "#4D5663"
         },
         "title": {
          "font": {
           "color": "#4D5663"
          },
          "text": ""
         },
         "zerolinecolor": "#E1E5ED"
        },
        "yaxis13": {
         "anchor": "x13",
         "domain": [
          0,
          0.1975
         ],
         "gridcolor": "#E1E5ED",
         "showgrid": false,
         "tickfont": {
          "color": "#4D5663"
         },
         "title": {
          "font": {
           "color": "#4D5663"
          },
          "text": ""
         },
         "zerolinecolor": "#E1E5ED"
        },
        "yaxis14": {
         "anchor": "x14",
         "domain": [
          0,
          0.1975
         ],
         "gridcolor": "#E1E5ED",
         "showgrid": false,
         "tickfont": {
          "color": "#4D5663"
         },
         "title": {
          "font": {
           "color": "#4D5663"
          },
          "text": ""
         },
         "zerolinecolor": "#E1E5ED"
        },
        "yaxis15": {
         "anchor": "x15",
         "domain": [
          0,
          0.1975
         ],
         "gridcolor": "#E1E5ED",
         "showgrid": false,
         "tickfont": {
          "color": "#4D5663"
         },
         "title": {
          "font": {
           "color": "#4D5663"
          },
          "text": ""
         },
         "zerolinecolor": "#E1E5ED"
        },
        "yaxis16": {
         "anchor": "x16",
         "domain": [
          0,
          0.1975
         ],
         "gridcolor": "#E1E5ED",
         "showgrid": false,
         "tickfont": {
          "color": "#4D5663"
         },
         "title": {
          "font": {
           "color": "#4D5663"
          },
          "text": ""
         },
         "zerolinecolor": "#E1E5ED"
        },
        "yaxis2": {
         "anchor": "x2",
         "domain": [
          0.8025,
          1
         ],
         "gridcolor": "#E1E5ED",
         "showgrid": false,
         "tickfont": {
          "color": "#4D5663"
         },
         "title": {
          "font": {
           "color": "#4D5663"
          },
          "text": ""
         },
         "zerolinecolor": "#E1E5ED"
        },
        "yaxis3": {
         "anchor": "x3",
         "domain": [
          0.8025,
          1
         ],
         "gridcolor": "#E1E5ED",
         "showgrid": false,
         "tickfont": {
          "color": "#4D5663"
         },
         "title": {
          "font": {
           "color": "#4D5663"
          },
          "text": ""
         },
         "zerolinecolor": "#E1E5ED"
        },
        "yaxis4": {
         "anchor": "x4",
         "domain": [
          0.8025,
          1
         ],
         "gridcolor": "#E1E5ED",
         "showgrid": false,
         "tickfont": {
          "color": "#4D5663"
         },
         "title": {
          "font": {
           "color": "#4D5663"
          },
          "text": ""
         },
         "zerolinecolor": "#E1E5ED"
        },
        "yaxis5": {
         "anchor": "x5",
         "domain": [
          0.535,
          0.7325
         ],
         "gridcolor": "#E1E5ED",
         "showgrid": false,
         "tickfont": {
          "color": "#4D5663"
         },
         "title": {
          "font": {
           "color": "#4D5663"
          },
          "text": ""
         },
         "zerolinecolor": "#E1E5ED"
        },
        "yaxis6": {
         "anchor": "x6",
         "domain": [
          0.535,
          0.7325
         ],
         "gridcolor": "#E1E5ED",
         "showgrid": false,
         "tickfont": {
          "color": "#4D5663"
         },
         "title": {
          "font": {
           "color": "#4D5663"
          },
          "text": ""
         },
         "zerolinecolor": "#E1E5ED"
        },
        "yaxis7": {
         "anchor": "x7",
         "domain": [
          0.535,
          0.7325
         ],
         "gridcolor": "#E1E5ED",
         "showgrid": false,
         "tickfont": {
          "color": "#4D5663"
         },
         "title": {
          "font": {
           "color": "#4D5663"
          },
          "text": ""
         },
         "zerolinecolor": "#E1E5ED"
        },
        "yaxis8": {
         "anchor": "x8",
         "domain": [
          0.535,
          0.7325
         ],
         "gridcolor": "#E1E5ED",
         "showgrid": false,
         "tickfont": {
          "color": "#4D5663"
         },
         "title": {
          "font": {
           "color": "#4D5663"
          },
          "text": ""
         },
         "zerolinecolor": "#E1E5ED"
        },
        "yaxis9": {
         "anchor": "x9",
         "domain": [
          0.2675,
          0.465
         ],
         "gridcolor": "#E1E5ED",
         "showgrid": false,
         "tickfont": {
          "color": "#4D5663"
         },
         "title": {
          "font": {
           "color": "#4D5663"
          },
          "text": ""
         },
         "zerolinecolor": "#E1E5ED"
        }
       }
      },
      "text/html": [
       "<div>\n",
       "        \n",
       "        \n",
       "            <div id=\"bc54385e-f363-489b-87af-0bf87a95d421\" class=\"plotly-graph-div\" style=\"height:525px; width:100%;\"></div>\n",
       "            <script type=\"text/javascript\">\n",
       "                require([\"plotly\"], function(Plotly) {\n",
       "                    window.PLOTLYENV=window.PLOTLYENV || {};\n",
       "                    window.PLOTLYENV.BASE_URL='https://plot.ly';\n",
       "                    \n",
       "                if (document.getElementById(\"bc54385e-f363-489b-87af-0bf87a95d421\")) {\n",
       "                    Plotly.newPlot(\n",
       "                        'bc54385e-f363-489b-87af-0bf87a95d421',\n",
       "                        [{\"histfunc\": \"count\", \"histnorm\": \"\", \"marker\": {\"color\": \"rgba(255, 153, 51, 1.0)\", \"line\": {\"color\": \"#4D5663\", \"width\": 1.3}}, \"name\": \"A\", \"nbinsx\": 10, \"opacity\": 0.8, \"orientation\": \"v\", \"type\": \"histogram\", \"x\": [-0.15966440057435938, -3.0268008071009187, 0.9221382673050521, 0.8770652008419254, 2.076348258904066, -2.5385761484776928, -1.9211892960913912, 0.6007684052334087, -0.21961932073774648, 0.6947663878860076, 1.5355433012808262, 0.682536191559496, -0.00784008704142355, -0.5486678819424253, -0.42858792614727115, 0.6318614246284424, 1.014063885119909, 0.19769301291352875, 0.6115860679800008, 0.19458939348542983, 1.9061126760600309, 2.1888523316757906, 2.9527829087211845, 0.03602569987116309, -0.695368302564943, 1.6976635522629786, -2.6266196902651697, -0.5470043758963876, 0.37115828238172793, -0.48023110420208853, 1.0373530630599568, 0.6748963442511032, 1.229032627039319, 1.696584799985512, 0.029752667407899197, 0.8084195973664055, -2.2248088064008944, 1.0104302308242707, 1.1180875214270254, 1.2193035150614107, 0.35565864473138953, -1.8415745792579306, -0.12863986311406433, -0.3840273635274107, -1.208692561789705, 0.4930043761880178, 0.22606346480288667, 0.8469056906100876, -0.6602972998520016, 0.18781265774515438, 1.6287771347743953, -0.5770968099743413, -0.16194665920300977, 0.8681358652235673, 0.047414635744381525, 0.21611033116647485, 0.5907804771654277, 0.9708460467264816, -1.8110933091195884, -0.5530434965138656, 1.9636940438520054, 1.1729722539442202, 1.2421559008155438, -0.6288387913785575, 0.34805958706986584, -0.5436381561059997, -0.5631348469165319, 1.5606728416961202, 0.2330738885185976, -0.8020391201493532, -0.6557997346611697, 0.5726236513169123, 1.2246219521550379, 1.517883432418252, -0.14147909287681634, 0.3664192494581477, -0.4322146140696219, -0.3495399006296373, -0.6810037668207851, 0.08504992455350263, 1.7823784203274209, 0.6259377596645086, 0.6638813119909011, -1.482839860554188, -0.2901295524795004, 0.7728721769087347, 1.0697450666270618, -0.38037586807737583, 0.7361925861522479, 2.227251940281902, -0.9059783157534909, 1.0644082103981056, 0.41243815873235085, -0.70985732273822, 0.2921920971594382, 0.316660089561294, 1.2009474277974572, -0.17950997282633827, -1.8222345068938892, 1.1804269142135373], \"xaxis\": \"x\", \"yaxis\": \"y\"}, {\"line\": {\"color\": \"rgba(128, 128, 128, 1.0)\", \"dash\": \"solid\", \"shape\": \"linear\", \"width\": 1.3}, \"marker\": {\"size\": 2, \"symbol\": \"circle\"}, \"mode\": \"markers\", \"name\": \"A\", \"text\": \"\", \"type\": \"scatter\", \"x\": [-0.039620201830270506, -1.0886265885232451, 1.510576451901204, 1.784954270510374, 1.856633419738731, -0.06186831571432017, -0.7177396996119862, 1.3056032295822502, 0.1747268566872305, -2.008057573582073, -0.24986540881811706, -0.68969312419857, 1.7203106029038477, 0.8148414349263332, -0.15528528397620237, -1.8057674057733473, 0.1855558056334135, -0.20607748084692046, -0.41374065948487576, 0.07802381651058664, 0.5122383905711916, -0.8816396954950696, 0.8150638310707726, -0.9128064482318322, -0.92947076177012, 0.5364585267673471, -0.09773609410488768, -0.8376598389398086, -0.5149023896730086, -0.07638224135806895, -0.528115017916814, 0.6930140672229397, -0.7173712123713216, 0.435434124645374, -0.10550905698074249, 0.9825963092482132, 1.43990174097477, 0.21861636481047017, -1.4434530863386295, -0.8429050603925676, -0.5824520358502622, -2.5060458213683448, 0.8188019482586176, -1.1311437036384802, 2.463221499435528, -1.4716903339509018, -1.3231503668137379, 0.9138103857479809, 0.7169170351565702, -0.5942680093604714, -1.700684394592634, -0.3601746175201089, -0.8427200334374927, -0.2448910298215501, 1.0078914884134746, 1.1363591311807222, 0.31267011313669657, -0.4966643537233206, 1.4258032741416697, -0.8218663321084495, 0.07359712719308378, -1.4767339034966909, 1.1364236958318257, -0.23598777516022656, -0.6022315860538371, -0.1211577645937869, -0.5284014012330627, -0.8756273951246533, -0.11679910149382909, -0.28133633907251443, 1.3360164375010046, -1.993994774627574, 1.705587826284771, -0.1242901136836673, -0.5972965399776643, 0.10528367746866872, -1.8588149129828984, -0.7940920464638387, 0.1276581837519382, -1.4602897634720386, -0.9001307498667146, -1.523129993571007, 0.08675731770656844, -1.369456474965436, 0.8336132458797575, -1.4707252145644945, 1.9115214411160404, -0.8919965099516362, -1.1617999087632587, -1.8744766266033046, 0.04249487946173756, -0.27310822473698654, 0.08953567673202818, 0.9321519847205323, -0.7901851679583582, 0.43921752031434347, -0.8077884830291779, 1.4627975973322422, 0.9795913558289675, -0.4743917350346864], \"xaxis\": \"x2\", \"y\": [-0.15966440057435938, -3.0268008071009187, 0.9221382673050521, 0.8770652008419254, 2.076348258904066, -2.5385761484776928, -1.9211892960913912, 0.6007684052334087, -0.21961932073774648, 0.6947663878860076, 1.5355433012808262, 0.682536191559496, -0.00784008704142355, -0.5486678819424253, -0.42858792614727115, 0.6318614246284424, 1.014063885119909, 0.19769301291352875, 0.6115860679800008, 0.19458939348542983, 1.9061126760600309, 2.1888523316757906, 2.9527829087211845, 0.03602569987116309, -0.695368302564943, 1.6976635522629786, -2.6266196902651697, -0.5470043758963876, 0.37115828238172793, -0.48023110420208853, 1.0373530630599568, 0.6748963442511032, 1.229032627039319, 1.696584799985512, 0.029752667407899197, 0.8084195973664055, -2.2248088064008944, 1.0104302308242707, 1.1180875214270254, 1.2193035150614107, 0.35565864473138953, -1.8415745792579306, -0.12863986311406433, -0.3840273635274107, -1.208692561789705, 0.4930043761880178, 0.22606346480288667, 0.8469056906100876, -0.6602972998520016, 0.18781265774515438, 1.6287771347743953, -0.5770968099743413, -0.16194665920300977, 0.8681358652235673, 0.047414635744381525, 0.21611033116647485, 0.5907804771654277, 0.9708460467264816, -1.8110933091195884, -0.5530434965138656, 1.9636940438520054, 1.1729722539442202, 1.2421559008155438, -0.6288387913785575, 0.34805958706986584, -0.5436381561059997, -0.5631348469165319, 1.5606728416961202, 0.2330738885185976, -0.8020391201493532, -0.6557997346611697, 0.5726236513169123, 1.2246219521550379, 1.517883432418252, -0.14147909287681634, 0.3664192494581477, -0.4322146140696219, -0.3495399006296373, -0.6810037668207851, 0.08504992455350263, 1.7823784203274209, 0.6259377596645086, 0.6638813119909011, -1.482839860554188, -0.2901295524795004, 0.7728721769087347, 1.0697450666270618, -0.38037586807737583, 0.7361925861522479, 2.227251940281902, -0.9059783157534909, 1.0644082103981056, 0.41243815873235085, -0.70985732273822, 0.2921920971594382, 0.316660089561294, 1.2009474277974572, -0.17950997282633827, -1.8222345068938892, 1.1804269142135373], \"yaxis\": \"y2\"}, {\"line\": {\"color\": \"rgba(128, 128, 128, 1.0)\", \"dash\": \"solid\", \"shape\": \"linear\", \"width\": 1.3}, \"marker\": {\"size\": 2, \"symbol\": \"circle\"}, \"mode\": \"markers\", \"name\": \"A\", \"text\": \"\", \"type\": \"scatter\", \"x\": [-2.050959337282939, -0.623135714654621, -0.9030838504023444, -0.8846787432223958, 2.6741827735425394, -0.6354285944956553, -1.8496808811668934, -0.2547811416970197, -0.055681456337364384, -1.3944181938604423, -1.2902927400307336, 0.6698919790212503, 0.34643521789445736, -0.6967082806152699, -0.3212602648296973, 1.7091491299614885, -0.5596189805447361, -0.525562784078486, -0.48049821825529065, -0.6346130652937808, 0.47830738377493814, 0.7156755848555739, 1.4980374410115829, 0.019052087924581036, -0.18201191885345414, -1.6588634578354686, -1.4828119493830143, -0.09216441630414798, -0.14553423644609612, -0.7794985383640196, -1.7350551083837469, 0.8011445176125315, -0.3657053034107941, 0.35222604176811234, -0.09434046490071221, 0.27955154174741587, -0.47681326929380946, -1.4685668326584544, 0.253437219952115, -0.1393600585054475, 0.5111332871252802, 1.966687474163078, 1.7827345360633533, 1.3365900682657514, 0.22922232264662673, 1.2412879016957008, 0.17669427807060434, 1.2102070043185542, 0.9481346148415118, -0.7672110846043504, 0.6779070484347443, -0.2478682667913302, 0.005290125348690879, -0.7278639297732168, 0.06953868587956952, -0.7252599174323642, 0.9075663142325777, -1.357704195417472, 1.2337390673840867, -1.5435650693835654, -1.8384710286781478, -0.3654452753253253, 0.5368726545742358, 0.15820260819638846, 1.1688891296948416, 0.7204814075390948, 0.6756862921836863, 0.8556117363426601, -0.5953676095033376, 0.5185636488627283, 0.25262453251756867, -0.4431075174340808, -1.508605467632452, -0.6206387803373581, -0.4824311953164388, -1.233241584706174, 1.061749004442179, 0.12292683966608829, 0.0228518775722601, -1.2693591727320208, 1.5670749867806724, -0.658579805547281, 0.9816083662621841, -0.7237472802729957, -2.2476477755687774, -1.1457021217696113, -1.3170117279424052, -0.29420173341177985, -0.08004309491360784, -0.6533971663994066, -0.21402171159214076, 1.0913202896398457, 0.15607455217360325, -1.1458514538797409, 2.383439127433773, 0.7722722931324618, 1.035267730994433, -0.16931970693807658, -0.08934031514353971, -0.40305055397493394], \"xaxis\": \"x3\", \"y\": [-0.15966440057435938, -3.0268008071009187, 0.9221382673050521, 0.8770652008419254, 2.076348258904066, -2.5385761484776928, -1.9211892960913912, 0.6007684052334087, -0.21961932073774648, 0.6947663878860076, 1.5355433012808262, 0.682536191559496, -0.00784008704142355, -0.5486678819424253, -0.42858792614727115, 0.6318614246284424, 1.014063885119909, 0.19769301291352875, 0.6115860679800008, 0.19458939348542983, 1.9061126760600309, 2.1888523316757906, 2.9527829087211845, 0.03602569987116309, -0.695368302564943, 1.6976635522629786, -2.6266196902651697, -0.5470043758963876, 0.37115828238172793, -0.48023110420208853, 1.0373530630599568, 0.6748963442511032, 1.229032627039319, 1.696584799985512, 0.029752667407899197, 0.8084195973664055, -2.2248088064008944, 1.0104302308242707, 1.1180875214270254, 1.2193035150614107, 0.35565864473138953, -1.8415745792579306, -0.12863986311406433, -0.3840273635274107, -1.208692561789705, 0.4930043761880178, 0.22606346480288667, 0.8469056906100876, -0.6602972998520016, 0.18781265774515438, 1.6287771347743953, -0.5770968099743413, -0.16194665920300977, 0.8681358652235673, 0.047414635744381525, 0.21611033116647485, 0.5907804771654277, 0.9708460467264816, -1.8110933091195884, -0.5530434965138656, 1.9636940438520054, 1.1729722539442202, 1.2421559008155438, -0.6288387913785575, 0.34805958706986584, -0.5436381561059997, -0.5631348469165319, 1.5606728416961202, 0.2330738885185976, -0.8020391201493532, -0.6557997346611697, 0.5726236513169123, 1.2246219521550379, 1.517883432418252, -0.14147909287681634, 0.3664192494581477, -0.4322146140696219, -0.3495399006296373, -0.6810037668207851, 0.08504992455350263, 1.7823784203274209, 0.6259377596645086, 0.6638813119909011, -1.482839860554188, -0.2901295524795004, 0.7728721769087347, 1.0697450666270618, -0.38037586807737583, 0.7361925861522479, 2.227251940281902, -0.9059783157534909, 1.0644082103981056, 0.41243815873235085, -0.70985732273822, 0.2921920971594382, 0.316660089561294, 1.2009474277974572, -0.17950997282633827, -1.8222345068938892, 1.1804269142135373], \"yaxis\": \"y3\"}, {\"line\": {\"color\": \"rgba(128, 128, 128, 1.0)\", \"dash\": \"solid\", \"shape\": \"linear\", \"width\": 1.3}, \"marker\": {\"size\": 2, \"symbol\": \"circle\"}, \"mode\": \"markers\", \"name\": \"A\", \"text\": \"\", \"type\": \"scatter\", \"x\": [-2.45621934851348, -0.49738336039943415, 1.0108981951075882, 0.4371166861850728, 0.8196645208336938, -0.2625102226319903, -0.8241370178729576, -0.23884566170418514, 0.28308329505532737, -0.129906715276062, 0.6388072941638956, -0.9611837323014758, -0.11309190392054783, -2.0193276671871643, -0.6116726473014742, 1.851123908738312, -0.23730695552545975, -0.49077189703582214, -1.209708462345313, -0.7336780104359398, 0.6122868341768868, -0.08826629915224017, 0.040203935430538205, -1.4395374503419898, -0.8108575205014021, 0.6383840839063878, -0.6046071651978742, 0.10442668741813448, 0.187852848471582, 0.09516650285139858, -1.4379657756666862, -1.3995467804226953, -2.4400939453465926, 1.357068116169183, 0.675741665746478, 0.8288586832135476, 0.42379217923617585, -1.6765730171493463, 1.1239018130698488, -1.499624055006214, 0.900580921839038, -0.5228656297420218, 1.3972028758224073, 1.0456152430440662, -0.5584210258399632, -0.7254461638054707, 2.429921842197925, 0.26687240959263203, -1.5752830944648926, -0.0645244140536077, 2.0221467606315944, -0.8115737932181631, -0.03953346571061237, 0.3430560115673913, -0.678314414616606, 0.7671270289936455, -0.8352815835060328, 0.2625005834790334, 0.6394229699144892, 0.5744480532482673, 0.9687296756953383, 0.5281467997654329, 0.7583808354729975, 0.01008733722285285, -0.06386984596535984, 0.6164890002338478, -0.9804120873817879, -1.2995248798407089, 1.066126626588423, 2.2125011388403535, 1.0918321914430453, 0.5393123108233898, 0.8237643386872351, 0.596304819634739, 0.1551546937964348, -1.5255989307894378, -1.1431078143337003, 1.2967382341855007, 0.8990445838252091, -0.6711455782326923, -0.6162025218962328, 0.622278697790318, 0.16679223213883906, 2.9127403911622443, -0.27152961576738033, -1.238501904868217, -0.16835336724025413, 0.6378914389587478, 0.4677712941488029, 0.5495489487295442, -0.17931304232859252, -0.40814840097137234, 1.9677139393195497, 0.7851712092376301, -0.7656167328768418, -0.5536626665172183, -0.02963446605538179, 0.1923114466917884, 1.1345729810559975, -0.9630839809637665], \"xaxis\": \"x4\", \"y\": [-0.15966440057435938, -3.0268008071009187, 0.9221382673050521, 0.8770652008419254, 2.076348258904066, -2.5385761484776928, -1.9211892960913912, 0.6007684052334087, -0.21961932073774648, 0.6947663878860076, 1.5355433012808262, 0.682536191559496, -0.00784008704142355, -0.5486678819424253, -0.42858792614727115, 0.6318614246284424, 1.014063885119909, 0.19769301291352875, 0.6115860679800008, 0.19458939348542983, 1.9061126760600309, 2.1888523316757906, 2.9527829087211845, 0.03602569987116309, -0.695368302564943, 1.6976635522629786, -2.6266196902651697, -0.5470043758963876, 0.37115828238172793, -0.48023110420208853, 1.0373530630599568, 0.6748963442511032, 1.229032627039319, 1.696584799985512, 0.029752667407899197, 0.8084195973664055, -2.2248088064008944, 1.0104302308242707, 1.1180875214270254, 1.2193035150614107, 0.35565864473138953, -1.8415745792579306, -0.12863986311406433, -0.3840273635274107, -1.208692561789705, 0.4930043761880178, 0.22606346480288667, 0.8469056906100876, -0.6602972998520016, 0.18781265774515438, 1.6287771347743953, -0.5770968099743413, -0.16194665920300977, 0.8681358652235673, 0.047414635744381525, 0.21611033116647485, 0.5907804771654277, 0.9708460467264816, -1.8110933091195884, -0.5530434965138656, 1.9636940438520054, 1.1729722539442202, 1.2421559008155438, -0.6288387913785575, 0.34805958706986584, -0.5436381561059997, -0.5631348469165319, 1.5606728416961202, 0.2330738885185976, -0.8020391201493532, -0.6557997346611697, 0.5726236513169123, 1.2246219521550379, 1.517883432418252, -0.14147909287681634, 0.3664192494581477, -0.4322146140696219, -0.3495399006296373, -0.6810037668207851, 0.08504992455350263, 1.7823784203274209, 0.6259377596645086, 0.6638813119909011, -1.482839860554188, -0.2901295524795004, 0.7728721769087347, 1.0697450666270618, -0.38037586807737583, 0.7361925861522479, 2.227251940281902, -0.9059783157534909, 1.0644082103981056, 0.41243815873235085, -0.70985732273822, 0.2921920971594382, 0.316660089561294, 1.2009474277974572, -0.17950997282633827, -1.8222345068938892, 1.1804269142135373], \"yaxis\": \"y4\"}, {\"line\": {\"color\": \"rgba(128, 128, 128, 1.0)\", \"dash\": \"solid\", \"shape\": \"linear\", \"width\": 1.3}, \"marker\": {\"size\": 2, \"symbol\": \"circle\"}, \"mode\": \"markers\", \"name\": \"B\", \"text\": \"\", \"type\": \"scatter\", \"x\": [-0.15966440057435938, -3.0268008071009187, 0.9221382673050521, 0.8770652008419254, 2.076348258904066, -2.5385761484776928, -1.9211892960913912, 0.6007684052334087, -0.21961932073774648, 0.6947663878860076, 1.5355433012808262, 0.682536191559496, -0.00784008704142355, -0.5486678819424253, -0.42858792614727115, 0.6318614246284424, 1.014063885119909, 0.19769301291352875, 0.6115860679800008, 0.19458939348542983, 1.9061126760600309, 2.1888523316757906, 2.9527829087211845, 0.03602569987116309, -0.695368302564943, 1.6976635522629786, -2.6266196902651697, -0.5470043758963876, 0.37115828238172793, -0.48023110420208853, 1.0373530630599568, 0.6748963442511032, 1.229032627039319, 1.696584799985512, 0.029752667407899197, 0.8084195973664055, -2.2248088064008944, 1.0104302308242707, 1.1180875214270254, 1.2193035150614107, 0.35565864473138953, -1.8415745792579306, -0.12863986311406433, -0.3840273635274107, -1.208692561789705, 0.4930043761880178, 0.22606346480288667, 0.8469056906100876, -0.6602972998520016, 0.18781265774515438, 1.6287771347743953, -0.5770968099743413, -0.16194665920300977, 0.8681358652235673, 0.047414635744381525, 0.21611033116647485, 0.5907804771654277, 0.9708460467264816, -1.8110933091195884, -0.5530434965138656, 1.9636940438520054, 1.1729722539442202, 1.2421559008155438, -0.6288387913785575, 0.34805958706986584, -0.5436381561059997, -0.5631348469165319, 1.5606728416961202, 0.2330738885185976, -0.8020391201493532, -0.6557997346611697, 0.5726236513169123, 1.2246219521550379, 1.517883432418252, -0.14147909287681634, 0.3664192494581477, -0.4322146140696219, -0.3495399006296373, -0.6810037668207851, 0.08504992455350263, 1.7823784203274209, 0.6259377596645086, 0.6638813119909011, -1.482839860554188, -0.2901295524795004, 0.7728721769087347, 1.0697450666270618, -0.38037586807737583, 0.7361925861522479, 2.227251940281902, -0.9059783157534909, 1.0644082103981056, 0.41243815873235085, -0.70985732273822, 0.2921920971594382, 0.316660089561294, 1.2009474277974572, -0.17950997282633827, -1.8222345068938892, 1.1804269142135373], \"xaxis\": \"x5\", \"y\": [-0.039620201830270506, -1.0886265885232451, 1.510576451901204, 1.784954270510374, 1.856633419738731, -0.06186831571432017, -0.7177396996119862, 1.3056032295822502, 0.1747268566872305, -2.008057573582073, -0.24986540881811706, -0.68969312419857, 1.7203106029038477, 0.8148414349263332, -0.15528528397620237, -1.8057674057733473, 0.1855558056334135, -0.20607748084692046, -0.41374065948487576, 0.07802381651058664, 0.5122383905711916, -0.8816396954950696, 0.8150638310707726, -0.9128064482318322, -0.92947076177012, 0.5364585267673471, -0.09773609410488768, -0.8376598389398086, -0.5149023896730086, -0.07638224135806895, -0.528115017916814, 0.6930140672229397, -0.7173712123713216, 0.435434124645374, -0.10550905698074249, 0.9825963092482132, 1.43990174097477, 0.21861636481047017, -1.4434530863386295, -0.8429050603925676, -0.5824520358502622, -2.5060458213683448, 0.8188019482586176, -1.1311437036384802, 2.463221499435528, -1.4716903339509018, -1.3231503668137379, 0.9138103857479809, 0.7169170351565702, -0.5942680093604714, -1.700684394592634, -0.3601746175201089, -0.8427200334374927, -0.2448910298215501, 1.0078914884134746, 1.1363591311807222, 0.31267011313669657, -0.4966643537233206, 1.4258032741416697, -0.8218663321084495, 0.07359712719308378, -1.4767339034966909, 1.1364236958318257, -0.23598777516022656, -0.6022315860538371, -0.1211577645937869, -0.5284014012330627, -0.8756273951246533, -0.11679910149382909, -0.28133633907251443, 1.3360164375010046, -1.993994774627574, 1.705587826284771, -0.1242901136836673, -0.5972965399776643, 0.10528367746866872, -1.8588149129828984, -0.7940920464638387, 0.1276581837519382, -1.4602897634720386, -0.9001307498667146, -1.523129993571007, 0.08675731770656844, -1.369456474965436, 0.8336132458797575, -1.4707252145644945, 1.9115214411160404, -0.8919965099516362, -1.1617999087632587, -1.8744766266033046, 0.04249487946173756, -0.27310822473698654, 0.08953567673202818, 0.9321519847205323, -0.7901851679583582, 0.43921752031434347, -0.8077884830291779, 1.4627975973322422, 0.9795913558289675, -0.4743917350346864], \"yaxis\": \"y5\"}, {\"histfunc\": \"count\", \"histnorm\": \"\", \"marker\": {\"color\": \"rgba(55, 128, 191, 1.0)\", \"line\": {\"color\": \"#4D5663\", \"width\": 1.3}}, \"name\": \"B\", \"nbinsx\": 10, \"opacity\": 0.8, \"orientation\": \"v\", \"type\": \"histogram\", \"x\": [-0.039620201830270506, -1.0886265885232451, 1.510576451901204, 1.784954270510374, 1.856633419738731, -0.06186831571432017, -0.7177396996119862, 1.3056032295822502, 0.1747268566872305, -2.008057573582073, -0.24986540881811706, -0.68969312419857, 1.7203106029038477, 0.8148414349263332, -0.15528528397620237, -1.8057674057733473, 0.1855558056334135, -0.20607748084692046, -0.41374065948487576, 0.07802381651058664, 0.5122383905711916, -0.8816396954950696, 0.8150638310707726, -0.9128064482318322, -0.92947076177012, 0.5364585267673471, -0.09773609410488768, -0.8376598389398086, -0.5149023896730086, -0.07638224135806895, -0.528115017916814, 0.6930140672229397, -0.7173712123713216, 0.435434124645374, -0.10550905698074249, 0.9825963092482132, 1.43990174097477, 0.21861636481047017, -1.4434530863386295, -0.8429050603925676, -0.5824520358502622, -2.5060458213683448, 0.8188019482586176, -1.1311437036384802, 2.463221499435528, -1.4716903339509018, -1.3231503668137379, 0.9138103857479809, 0.7169170351565702, -0.5942680093604714, -1.700684394592634, -0.3601746175201089, -0.8427200334374927, -0.2448910298215501, 1.0078914884134746, 1.1363591311807222, 0.31267011313669657, -0.4966643537233206, 1.4258032741416697, -0.8218663321084495, 0.07359712719308378, -1.4767339034966909, 1.1364236958318257, -0.23598777516022656, -0.6022315860538371, -0.1211577645937869, -0.5284014012330627, -0.8756273951246533, -0.11679910149382909, -0.28133633907251443, 1.3360164375010046, -1.993994774627574, 1.705587826284771, -0.1242901136836673, -0.5972965399776643, 0.10528367746866872, -1.8588149129828984, -0.7940920464638387, 0.1276581837519382, -1.4602897634720386, -0.9001307498667146, -1.523129993571007, 0.08675731770656844, -1.369456474965436, 0.8336132458797575, -1.4707252145644945, 1.9115214411160404, -0.8919965099516362, -1.1617999087632587, -1.8744766266033046, 0.04249487946173756, -0.27310822473698654, 0.08953567673202818, 0.9321519847205323, -0.7901851679583582, 0.43921752031434347, -0.8077884830291779, 1.4627975973322422, 0.9795913558289675, -0.4743917350346864], \"xaxis\": \"x6\", \"yaxis\": \"y6\"}, {\"line\": {\"color\": \"rgba(128, 128, 128, 1.0)\", \"dash\": \"solid\", \"shape\": \"linear\", \"width\": 1.3}, \"marker\": {\"size\": 2, \"symbol\": \"circle\"}, \"mode\": \"markers\", \"name\": \"B\", \"text\": \"\", \"type\": \"scatter\", \"x\": [-2.050959337282939, -0.623135714654621, -0.9030838504023444, -0.8846787432223958, 2.6741827735425394, -0.6354285944956553, -1.8496808811668934, -0.2547811416970197, -0.055681456337364384, -1.3944181938604423, -1.2902927400307336, 0.6698919790212503, 0.34643521789445736, -0.6967082806152699, -0.3212602648296973, 1.7091491299614885, -0.5596189805447361, -0.525562784078486, -0.48049821825529065, -0.6346130652937808, 0.47830738377493814, 0.7156755848555739, 1.4980374410115829, 0.019052087924581036, -0.18201191885345414, -1.6588634578354686, -1.4828119493830143, -0.09216441630414798, -0.14553423644609612, -0.7794985383640196, -1.7350551083837469, 0.8011445176125315, -0.3657053034107941, 0.35222604176811234, -0.09434046490071221, 0.27955154174741587, -0.47681326929380946, -1.4685668326584544, 0.253437219952115, -0.1393600585054475, 0.5111332871252802, 1.966687474163078, 1.7827345360633533, 1.3365900682657514, 0.22922232264662673, 1.2412879016957008, 0.17669427807060434, 1.2102070043185542, 0.9481346148415118, -0.7672110846043504, 0.6779070484347443, -0.2478682667913302, 0.005290125348690879, -0.7278639297732168, 0.06953868587956952, -0.7252599174323642, 0.9075663142325777, -1.357704195417472, 1.2337390673840867, -1.5435650693835654, -1.8384710286781478, -0.3654452753253253, 0.5368726545742358, 0.15820260819638846, 1.1688891296948416, 0.7204814075390948, 0.6756862921836863, 0.8556117363426601, -0.5953676095033376, 0.5185636488627283, 0.25262453251756867, -0.4431075174340808, -1.508605467632452, -0.6206387803373581, -0.4824311953164388, -1.233241584706174, 1.061749004442179, 0.12292683966608829, 0.0228518775722601, -1.2693591727320208, 1.5670749867806724, -0.658579805547281, 0.9816083662621841, -0.7237472802729957, -2.2476477755687774, -1.1457021217696113, -1.3170117279424052, -0.29420173341177985, -0.08004309491360784, -0.6533971663994066, -0.21402171159214076, 1.0913202896398457, 0.15607455217360325, -1.1458514538797409, 2.383439127433773, 0.7722722931324618, 1.035267730994433, -0.16931970693807658, -0.08934031514353971, -0.40305055397493394], \"xaxis\": \"x7\", \"y\": [-0.039620201830270506, -1.0886265885232451, 1.510576451901204, 1.784954270510374, 1.856633419738731, -0.06186831571432017, -0.7177396996119862, 1.3056032295822502, 0.1747268566872305, -2.008057573582073, -0.24986540881811706, -0.68969312419857, 1.7203106029038477, 0.8148414349263332, -0.15528528397620237, -1.8057674057733473, 0.1855558056334135, -0.20607748084692046, -0.41374065948487576, 0.07802381651058664, 0.5122383905711916, -0.8816396954950696, 0.8150638310707726, -0.9128064482318322, -0.92947076177012, 0.5364585267673471, -0.09773609410488768, -0.8376598389398086, -0.5149023896730086, -0.07638224135806895, -0.528115017916814, 0.6930140672229397, -0.7173712123713216, 0.435434124645374, -0.10550905698074249, 0.9825963092482132, 1.43990174097477, 0.21861636481047017, -1.4434530863386295, -0.8429050603925676, -0.5824520358502622, -2.5060458213683448, 0.8188019482586176, -1.1311437036384802, 2.463221499435528, -1.4716903339509018, -1.3231503668137379, 0.9138103857479809, 0.7169170351565702, -0.5942680093604714, -1.700684394592634, -0.3601746175201089, -0.8427200334374927, -0.2448910298215501, 1.0078914884134746, 1.1363591311807222, 0.31267011313669657, -0.4966643537233206, 1.4258032741416697, -0.8218663321084495, 0.07359712719308378, -1.4767339034966909, 1.1364236958318257, -0.23598777516022656, -0.6022315860538371, -0.1211577645937869, -0.5284014012330627, -0.8756273951246533, -0.11679910149382909, -0.28133633907251443, 1.3360164375010046, -1.993994774627574, 1.705587826284771, -0.1242901136836673, -0.5972965399776643, 0.10528367746866872, -1.8588149129828984, -0.7940920464638387, 0.1276581837519382, -1.4602897634720386, -0.9001307498667146, -1.523129993571007, 0.08675731770656844, -1.369456474965436, 0.8336132458797575, -1.4707252145644945, 1.9115214411160404, -0.8919965099516362, -1.1617999087632587, -1.8744766266033046, 0.04249487946173756, -0.27310822473698654, 0.08953567673202818, 0.9321519847205323, -0.7901851679583582, 0.43921752031434347, -0.8077884830291779, 1.4627975973322422, 0.9795913558289675, -0.4743917350346864], \"yaxis\": \"y7\"}, {\"line\": {\"color\": \"rgba(128, 128, 128, 1.0)\", \"dash\": \"solid\", \"shape\": \"linear\", \"width\": 1.3}, \"marker\": {\"size\": 2, \"symbol\": \"circle\"}, \"mode\": \"markers\", \"name\": \"B\", \"text\": \"\", \"type\": \"scatter\", \"x\": [-2.45621934851348, -0.49738336039943415, 1.0108981951075882, 0.4371166861850728, 0.8196645208336938, -0.2625102226319903, -0.8241370178729576, -0.23884566170418514, 0.28308329505532737, -0.129906715276062, 0.6388072941638956, -0.9611837323014758, -0.11309190392054783, -2.0193276671871643, -0.6116726473014742, 1.851123908738312, -0.23730695552545975, -0.49077189703582214, -1.209708462345313, -0.7336780104359398, 0.6122868341768868, -0.08826629915224017, 0.040203935430538205, -1.4395374503419898, -0.8108575205014021, 0.6383840839063878, -0.6046071651978742, 0.10442668741813448, 0.187852848471582, 0.09516650285139858, -1.4379657756666862, -1.3995467804226953, -2.4400939453465926, 1.357068116169183, 0.675741665746478, 0.8288586832135476, 0.42379217923617585, -1.6765730171493463, 1.1239018130698488, -1.499624055006214, 0.900580921839038, -0.5228656297420218, 1.3972028758224073, 1.0456152430440662, -0.5584210258399632, -0.7254461638054707, 2.429921842197925, 0.26687240959263203, -1.5752830944648926, -0.0645244140536077, 2.0221467606315944, -0.8115737932181631, -0.03953346571061237, 0.3430560115673913, -0.678314414616606, 0.7671270289936455, -0.8352815835060328, 0.2625005834790334, 0.6394229699144892, 0.5744480532482673, 0.9687296756953383, 0.5281467997654329, 0.7583808354729975, 0.01008733722285285, -0.06386984596535984, 0.6164890002338478, -0.9804120873817879, -1.2995248798407089, 1.066126626588423, 2.2125011388403535, 1.0918321914430453, 0.5393123108233898, 0.8237643386872351, 0.596304819634739, 0.1551546937964348, -1.5255989307894378, -1.1431078143337003, 1.2967382341855007, 0.8990445838252091, -0.6711455782326923, -0.6162025218962328, 0.622278697790318, 0.16679223213883906, 2.9127403911622443, -0.27152961576738033, -1.238501904868217, -0.16835336724025413, 0.6378914389587478, 0.4677712941488029, 0.5495489487295442, -0.17931304232859252, -0.40814840097137234, 1.9677139393195497, 0.7851712092376301, -0.7656167328768418, -0.5536626665172183, -0.02963446605538179, 0.1923114466917884, 1.1345729810559975, -0.9630839809637665], \"xaxis\": \"x8\", \"y\": [-0.039620201830270506, -1.0886265885232451, 1.510576451901204, 1.784954270510374, 1.856633419738731, -0.06186831571432017, -0.7177396996119862, 1.3056032295822502, 0.1747268566872305, -2.008057573582073, -0.24986540881811706, -0.68969312419857, 1.7203106029038477, 0.8148414349263332, -0.15528528397620237, -1.8057674057733473, 0.1855558056334135, -0.20607748084692046, -0.41374065948487576, 0.07802381651058664, 0.5122383905711916, -0.8816396954950696, 0.8150638310707726, -0.9128064482318322, -0.92947076177012, 0.5364585267673471, -0.09773609410488768, -0.8376598389398086, -0.5149023896730086, -0.07638224135806895, -0.528115017916814, 0.6930140672229397, -0.7173712123713216, 0.435434124645374, -0.10550905698074249, 0.9825963092482132, 1.43990174097477, 0.21861636481047017, -1.4434530863386295, -0.8429050603925676, -0.5824520358502622, -2.5060458213683448, 0.8188019482586176, -1.1311437036384802, 2.463221499435528, -1.4716903339509018, -1.3231503668137379, 0.9138103857479809, 0.7169170351565702, -0.5942680093604714, -1.700684394592634, -0.3601746175201089, -0.8427200334374927, -0.2448910298215501, 1.0078914884134746, 1.1363591311807222, 0.31267011313669657, -0.4966643537233206, 1.4258032741416697, -0.8218663321084495, 0.07359712719308378, -1.4767339034966909, 1.1364236958318257, -0.23598777516022656, -0.6022315860538371, -0.1211577645937869, -0.5284014012330627, -0.8756273951246533, -0.11679910149382909, -0.28133633907251443, 1.3360164375010046, -1.993994774627574, 1.705587826284771, -0.1242901136836673, -0.5972965399776643, 0.10528367746866872, -1.8588149129828984, -0.7940920464638387, 0.1276581837519382, -1.4602897634720386, -0.9001307498667146, -1.523129993571007, 0.08675731770656844, -1.369456474965436, 0.8336132458797575, -1.4707252145644945, 1.9115214411160404, -0.8919965099516362, -1.1617999087632587, -1.8744766266033046, 0.04249487946173756, -0.27310822473698654, 0.08953567673202818, 0.9321519847205323, -0.7901851679583582, 0.43921752031434347, -0.8077884830291779, 1.4627975973322422, 0.9795913558289675, -0.4743917350346864], \"yaxis\": \"y8\"}, {\"line\": {\"color\": \"rgba(128, 128, 128, 1.0)\", \"dash\": \"solid\", \"shape\": \"linear\", \"width\": 1.3}, \"marker\": {\"size\": 2, \"symbol\": \"circle\"}, \"mode\": \"markers\", \"name\": \"C\", \"text\": \"\", \"type\": \"scatter\", \"x\": [-0.15966440057435938, -3.0268008071009187, 0.9221382673050521, 0.8770652008419254, 2.076348258904066, -2.5385761484776928, -1.9211892960913912, 0.6007684052334087, -0.21961932073774648, 0.6947663878860076, 1.5355433012808262, 0.682536191559496, -0.00784008704142355, -0.5486678819424253, -0.42858792614727115, 0.6318614246284424, 1.014063885119909, 0.19769301291352875, 0.6115860679800008, 0.19458939348542983, 1.9061126760600309, 2.1888523316757906, 2.9527829087211845, 0.03602569987116309, -0.695368302564943, 1.6976635522629786, -2.6266196902651697, -0.5470043758963876, 0.37115828238172793, -0.48023110420208853, 1.0373530630599568, 0.6748963442511032, 1.229032627039319, 1.696584799985512, 0.029752667407899197, 0.8084195973664055, -2.2248088064008944, 1.0104302308242707, 1.1180875214270254, 1.2193035150614107, 0.35565864473138953, -1.8415745792579306, -0.12863986311406433, -0.3840273635274107, -1.208692561789705, 0.4930043761880178, 0.22606346480288667, 0.8469056906100876, -0.6602972998520016, 0.18781265774515438, 1.6287771347743953, -0.5770968099743413, -0.16194665920300977, 0.8681358652235673, 0.047414635744381525, 0.21611033116647485, 0.5907804771654277, 0.9708460467264816, -1.8110933091195884, -0.5530434965138656, 1.9636940438520054, 1.1729722539442202, 1.2421559008155438, -0.6288387913785575, 0.34805958706986584, -0.5436381561059997, -0.5631348469165319, 1.5606728416961202, 0.2330738885185976, -0.8020391201493532, -0.6557997346611697, 0.5726236513169123, 1.2246219521550379, 1.517883432418252, -0.14147909287681634, 0.3664192494581477, -0.4322146140696219, -0.3495399006296373, -0.6810037668207851, 0.08504992455350263, 1.7823784203274209, 0.6259377596645086, 0.6638813119909011, -1.482839860554188, -0.2901295524795004, 0.7728721769087347, 1.0697450666270618, -0.38037586807737583, 0.7361925861522479, 2.227251940281902, -0.9059783157534909, 1.0644082103981056, 0.41243815873235085, -0.70985732273822, 0.2921920971594382, 0.316660089561294, 1.2009474277974572, -0.17950997282633827, -1.8222345068938892, 1.1804269142135373], \"xaxis\": \"x9\", \"y\": [-2.050959337282939, -0.623135714654621, -0.9030838504023444, -0.8846787432223958, 2.6741827735425394, -0.6354285944956553, -1.8496808811668934, -0.2547811416970197, -0.055681456337364384, -1.3944181938604423, -1.2902927400307336, 0.6698919790212503, 0.34643521789445736, -0.6967082806152699, -0.3212602648296973, 1.7091491299614885, -0.5596189805447361, -0.525562784078486, -0.48049821825529065, -0.6346130652937808, 0.47830738377493814, 0.7156755848555739, 1.4980374410115829, 0.019052087924581036, -0.18201191885345414, -1.6588634578354686, -1.4828119493830143, -0.09216441630414798, -0.14553423644609612, -0.7794985383640196, -1.7350551083837469, 0.8011445176125315, -0.3657053034107941, 0.35222604176811234, -0.09434046490071221, 0.27955154174741587, -0.47681326929380946, -1.4685668326584544, 0.253437219952115, -0.1393600585054475, 0.5111332871252802, 1.966687474163078, 1.7827345360633533, 1.3365900682657514, 0.22922232264662673, 1.2412879016957008, 0.17669427807060434, 1.2102070043185542, 0.9481346148415118, -0.7672110846043504, 0.6779070484347443, -0.2478682667913302, 0.005290125348690879, -0.7278639297732168, 0.06953868587956952, -0.7252599174323642, 0.9075663142325777, -1.357704195417472, 1.2337390673840867, -1.5435650693835654, -1.8384710286781478, -0.3654452753253253, 0.5368726545742358, 0.15820260819638846, 1.1688891296948416, 0.7204814075390948, 0.6756862921836863, 0.8556117363426601, -0.5953676095033376, 0.5185636488627283, 0.25262453251756867, -0.4431075174340808, -1.508605467632452, -0.6206387803373581, -0.4824311953164388, -1.233241584706174, 1.061749004442179, 0.12292683966608829, 0.0228518775722601, -1.2693591727320208, 1.5670749867806724, -0.658579805547281, 0.9816083662621841, -0.7237472802729957, -2.2476477755687774, -1.1457021217696113, -1.3170117279424052, -0.29420173341177985, -0.08004309491360784, -0.6533971663994066, -0.21402171159214076, 1.0913202896398457, 0.15607455217360325, -1.1458514538797409, 2.383439127433773, 0.7722722931324618, 1.035267730994433, -0.16931970693807658, -0.08934031514353971, -0.40305055397493394], \"yaxis\": \"y9\"}, {\"line\": {\"color\": \"rgba(128, 128, 128, 1.0)\", \"dash\": \"solid\", \"shape\": \"linear\", \"width\": 1.3}, \"marker\": {\"size\": 2, \"symbol\": \"circle\"}, \"mode\": \"markers\", \"name\": \"C\", \"text\": \"\", \"type\": \"scatter\", \"x\": [-0.039620201830270506, -1.0886265885232451, 1.510576451901204, 1.784954270510374, 1.856633419738731, -0.06186831571432017, -0.7177396996119862, 1.3056032295822502, 0.1747268566872305, -2.008057573582073, -0.24986540881811706, -0.68969312419857, 1.7203106029038477, 0.8148414349263332, -0.15528528397620237, -1.8057674057733473, 0.1855558056334135, -0.20607748084692046, -0.41374065948487576, 0.07802381651058664, 0.5122383905711916, -0.8816396954950696, 0.8150638310707726, -0.9128064482318322, -0.92947076177012, 0.5364585267673471, -0.09773609410488768, -0.8376598389398086, -0.5149023896730086, -0.07638224135806895, -0.528115017916814, 0.6930140672229397, -0.7173712123713216, 0.435434124645374, -0.10550905698074249, 0.9825963092482132, 1.43990174097477, 0.21861636481047017, -1.4434530863386295, -0.8429050603925676, -0.5824520358502622, -2.5060458213683448, 0.8188019482586176, -1.1311437036384802, 2.463221499435528, -1.4716903339509018, -1.3231503668137379, 0.9138103857479809, 0.7169170351565702, -0.5942680093604714, -1.700684394592634, -0.3601746175201089, -0.8427200334374927, -0.2448910298215501, 1.0078914884134746, 1.1363591311807222, 0.31267011313669657, -0.4966643537233206, 1.4258032741416697, -0.8218663321084495, 0.07359712719308378, -1.4767339034966909, 1.1364236958318257, -0.23598777516022656, -0.6022315860538371, -0.1211577645937869, -0.5284014012330627, -0.8756273951246533, -0.11679910149382909, -0.28133633907251443, 1.3360164375010046, -1.993994774627574, 1.705587826284771, -0.1242901136836673, -0.5972965399776643, 0.10528367746866872, -1.8588149129828984, -0.7940920464638387, 0.1276581837519382, -1.4602897634720386, -0.9001307498667146, -1.523129993571007, 0.08675731770656844, -1.369456474965436, 0.8336132458797575, -1.4707252145644945, 1.9115214411160404, -0.8919965099516362, -1.1617999087632587, -1.8744766266033046, 0.04249487946173756, -0.27310822473698654, 0.08953567673202818, 0.9321519847205323, -0.7901851679583582, 0.43921752031434347, -0.8077884830291779, 1.4627975973322422, 0.9795913558289675, -0.4743917350346864], \"xaxis\": \"x10\", \"y\": [-2.050959337282939, -0.623135714654621, -0.9030838504023444, -0.8846787432223958, 2.6741827735425394, -0.6354285944956553, -1.8496808811668934, -0.2547811416970197, -0.055681456337364384, -1.3944181938604423, -1.2902927400307336, 0.6698919790212503, 0.34643521789445736, -0.6967082806152699, -0.3212602648296973, 1.7091491299614885, -0.5596189805447361, -0.525562784078486, -0.48049821825529065, -0.6346130652937808, 0.47830738377493814, 0.7156755848555739, 1.4980374410115829, 0.019052087924581036, -0.18201191885345414, -1.6588634578354686, -1.4828119493830143, -0.09216441630414798, -0.14553423644609612, -0.7794985383640196, -1.7350551083837469, 0.8011445176125315, -0.3657053034107941, 0.35222604176811234, -0.09434046490071221, 0.27955154174741587, -0.47681326929380946, -1.4685668326584544, 0.253437219952115, -0.1393600585054475, 0.5111332871252802, 1.966687474163078, 1.7827345360633533, 1.3365900682657514, 0.22922232264662673, 1.2412879016957008, 0.17669427807060434, 1.2102070043185542, 0.9481346148415118, -0.7672110846043504, 0.6779070484347443, -0.2478682667913302, 0.005290125348690879, -0.7278639297732168, 0.06953868587956952, -0.7252599174323642, 0.9075663142325777, -1.357704195417472, 1.2337390673840867, -1.5435650693835654, -1.8384710286781478, -0.3654452753253253, 0.5368726545742358, 0.15820260819638846, 1.1688891296948416, 0.7204814075390948, 0.6756862921836863, 0.8556117363426601, -0.5953676095033376, 0.5185636488627283, 0.25262453251756867, -0.4431075174340808, -1.508605467632452, -0.6206387803373581, -0.4824311953164388, -1.233241584706174, 1.061749004442179, 0.12292683966608829, 0.0228518775722601, -1.2693591727320208, 1.5670749867806724, -0.658579805547281, 0.9816083662621841, -0.7237472802729957, -2.2476477755687774, -1.1457021217696113, -1.3170117279424052, -0.29420173341177985, -0.08004309491360784, -0.6533971663994066, -0.21402171159214076, 1.0913202896398457, 0.15607455217360325, -1.1458514538797409, 2.383439127433773, 0.7722722931324618, 1.035267730994433, -0.16931970693807658, -0.08934031514353971, -0.40305055397493394], \"yaxis\": \"y10\"}, {\"histfunc\": \"count\", \"histnorm\": \"\", \"marker\": {\"color\": \"rgba(50, 171, 96, 1.0)\", \"line\": {\"color\": \"#4D5663\", \"width\": 1.3}}, \"name\": \"C\", \"nbinsx\": 10, \"opacity\": 0.8, \"orientation\": \"v\", \"type\": \"histogram\", \"x\": [-2.050959337282939, -0.623135714654621, -0.9030838504023444, -0.8846787432223958, 2.6741827735425394, -0.6354285944956553, -1.8496808811668934, -0.2547811416970197, -0.055681456337364384, -1.3944181938604423, -1.2902927400307336, 0.6698919790212503, 0.34643521789445736, -0.6967082806152699, -0.3212602648296973, 1.7091491299614885, -0.5596189805447361, -0.525562784078486, -0.48049821825529065, -0.6346130652937808, 0.47830738377493814, 0.7156755848555739, 1.4980374410115829, 0.019052087924581036, -0.18201191885345414, -1.6588634578354686, -1.4828119493830143, -0.09216441630414798, -0.14553423644609612, -0.7794985383640196, -1.7350551083837469, 0.8011445176125315, -0.3657053034107941, 0.35222604176811234, -0.09434046490071221, 0.27955154174741587, -0.47681326929380946, -1.4685668326584544, 0.253437219952115, -0.1393600585054475, 0.5111332871252802, 1.966687474163078, 1.7827345360633533, 1.3365900682657514, 0.22922232264662673, 1.2412879016957008, 0.17669427807060434, 1.2102070043185542, 0.9481346148415118, -0.7672110846043504, 0.6779070484347443, -0.2478682667913302, 0.005290125348690879, -0.7278639297732168, 0.06953868587956952, -0.7252599174323642, 0.9075663142325777, -1.357704195417472, 1.2337390673840867, -1.5435650693835654, -1.8384710286781478, -0.3654452753253253, 0.5368726545742358, 0.15820260819638846, 1.1688891296948416, 0.7204814075390948, 0.6756862921836863, 0.8556117363426601, -0.5953676095033376, 0.5185636488627283, 0.25262453251756867, -0.4431075174340808, -1.508605467632452, -0.6206387803373581, -0.4824311953164388, -1.233241584706174, 1.061749004442179, 0.12292683966608829, 0.0228518775722601, -1.2693591727320208, 1.5670749867806724, -0.658579805547281, 0.9816083662621841, -0.7237472802729957, -2.2476477755687774, -1.1457021217696113, -1.3170117279424052, -0.29420173341177985, -0.08004309491360784, -0.6533971663994066, -0.21402171159214076, 1.0913202896398457, 0.15607455217360325, -1.1458514538797409, 2.383439127433773, 0.7722722931324618, 1.035267730994433, -0.16931970693807658, -0.08934031514353971, -0.40305055397493394], \"xaxis\": \"x11\", \"yaxis\": \"y11\"}, {\"line\": {\"color\": \"rgba(128, 128, 128, 1.0)\", \"dash\": \"solid\", \"shape\": \"linear\", \"width\": 1.3}, \"marker\": {\"size\": 2, \"symbol\": \"circle\"}, \"mode\": \"markers\", \"name\": \"C\", \"text\": \"\", \"type\": \"scatter\", \"x\": [-2.45621934851348, -0.49738336039943415, 1.0108981951075882, 0.4371166861850728, 0.8196645208336938, -0.2625102226319903, -0.8241370178729576, -0.23884566170418514, 0.28308329505532737, -0.129906715276062, 0.6388072941638956, -0.9611837323014758, -0.11309190392054783, -2.0193276671871643, -0.6116726473014742, 1.851123908738312, -0.23730695552545975, -0.49077189703582214, -1.209708462345313, -0.7336780104359398, 0.6122868341768868, -0.08826629915224017, 0.040203935430538205, -1.4395374503419898, -0.8108575205014021, 0.6383840839063878, -0.6046071651978742, 0.10442668741813448, 0.187852848471582, 0.09516650285139858, -1.4379657756666862, -1.3995467804226953, -2.4400939453465926, 1.357068116169183, 0.675741665746478, 0.8288586832135476, 0.42379217923617585, -1.6765730171493463, 1.1239018130698488, -1.499624055006214, 0.900580921839038, -0.5228656297420218, 1.3972028758224073, 1.0456152430440662, -0.5584210258399632, -0.7254461638054707, 2.429921842197925, 0.26687240959263203, -1.5752830944648926, -0.0645244140536077, 2.0221467606315944, -0.8115737932181631, -0.03953346571061237, 0.3430560115673913, -0.678314414616606, 0.7671270289936455, -0.8352815835060328, 0.2625005834790334, 0.6394229699144892, 0.5744480532482673, 0.9687296756953383, 0.5281467997654329, 0.7583808354729975, 0.01008733722285285, -0.06386984596535984, 0.6164890002338478, -0.9804120873817879, -1.2995248798407089, 1.066126626588423, 2.2125011388403535, 1.0918321914430453, 0.5393123108233898, 0.8237643386872351, 0.596304819634739, 0.1551546937964348, -1.5255989307894378, -1.1431078143337003, 1.2967382341855007, 0.8990445838252091, -0.6711455782326923, -0.6162025218962328, 0.622278697790318, 0.16679223213883906, 2.9127403911622443, -0.27152961576738033, -1.238501904868217, -0.16835336724025413, 0.6378914389587478, 0.4677712941488029, 0.5495489487295442, -0.17931304232859252, -0.40814840097137234, 1.9677139393195497, 0.7851712092376301, -0.7656167328768418, -0.5536626665172183, -0.02963446605538179, 0.1923114466917884, 1.1345729810559975, -0.9630839809637665], \"xaxis\": \"x12\", \"y\": [-2.050959337282939, -0.623135714654621, -0.9030838504023444, -0.8846787432223958, 2.6741827735425394, -0.6354285944956553, -1.8496808811668934, -0.2547811416970197, -0.055681456337364384, -1.3944181938604423, -1.2902927400307336, 0.6698919790212503, 0.34643521789445736, -0.6967082806152699, -0.3212602648296973, 1.7091491299614885, -0.5596189805447361, -0.525562784078486, -0.48049821825529065, -0.6346130652937808, 0.47830738377493814, 0.7156755848555739, 1.4980374410115829, 0.019052087924581036, -0.18201191885345414, -1.6588634578354686, -1.4828119493830143, -0.09216441630414798, -0.14553423644609612, -0.7794985383640196, -1.7350551083837469, 0.8011445176125315, -0.3657053034107941, 0.35222604176811234, -0.09434046490071221, 0.27955154174741587, -0.47681326929380946, -1.4685668326584544, 0.253437219952115, -0.1393600585054475, 0.5111332871252802, 1.966687474163078, 1.7827345360633533, 1.3365900682657514, 0.22922232264662673, 1.2412879016957008, 0.17669427807060434, 1.2102070043185542, 0.9481346148415118, -0.7672110846043504, 0.6779070484347443, -0.2478682667913302, 0.005290125348690879, -0.7278639297732168, 0.06953868587956952, -0.7252599174323642, 0.9075663142325777, -1.357704195417472, 1.2337390673840867, -1.5435650693835654, -1.8384710286781478, -0.3654452753253253, 0.5368726545742358, 0.15820260819638846, 1.1688891296948416, 0.7204814075390948, 0.6756862921836863, 0.8556117363426601, -0.5953676095033376, 0.5185636488627283, 0.25262453251756867, -0.4431075174340808, -1.508605467632452, -0.6206387803373581, -0.4824311953164388, -1.233241584706174, 1.061749004442179, 0.12292683966608829, 0.0228518775722601, -1.2693591727320208, 1.5670749867806724, -0.658579805547281, 0.9816083662621841, -0.7237472802729957, -2.2476477755687774, -1.1457021217696113, -1.3170117279424052, -0.29420173341177985, -0.08004309491360784, -0.6533971663994066, -0.21402171159214076, 1.0913202896398457, 0.15607455217360325, -1.1458514538797409, 2.383439127433773, 0.7722722931324618, 1.035267730994433, -0.16931970693807658, -0.08934031514353971, -0.40305055397493394], \"yaxis\": \"y12\"}, {\"line\": {\"color\": \"rgba(128, 128, 128, 1.0)\", \"dash\": \"solid\", \"shape\": \"linear\", \"width\": 1.3}, \"marker\": {\"size\": 2, \"symbol\": \"circle\"}, \"mode\": \"markers\", \"name\": \"D\", \"text\": \"\", \"type\": \"scatter\", \"x\": [-0.15966440057435938, -3.0268008071009187, 0.9221382673050521, 0.8770652008419254, 2.076348258904066, -2.5385761484776928, -1.9211892960913912, 0.6007684052334087, -0.21961932073774648, 0.6947663878860076, 1.5355433012808262, 0.682536191559496, -0.00784008704142355, -0.5486678819424253, -0.42858792614727115, 0.6318614246284424, 1.014063885119909, 0.19769301291352875, 0.6115860679800008, 0.19458939348542983, 1.9061126760600309, 2.1888523316757906, 2.9527829087211845, 0.03602569987116309, -0.695368302564943, 1.6976635522629786, -2.6266196902651697, -0.5470043758963876, 0.37115828238172793, -0.48023110420208853, 1.0373530630599568, 0.6748963442511032, 1.229032627039319, 1.696584799985512, 0.029752667407899197, 0.8084195973664055, -2.2248088064008944, 1.0104302308242707, 1.1180875214270254, 1.2193035150614107, 0.35565864473138953, -1.8415745792579306, -0.12863986311406433, -0.3840273635274107, -1.208692561789705, 0.4930043761880178, 0.22606346480288667, 0.8469056906100876, -0.6602972998520016, 0.18781265774515438, 1.6287771347743953, -0.5770968099743413, -0.16194665920300977, 0.8681358652235673, 0.047414635744381525, 0.21611033116647485, 0.5907804771654277, 0.9708460467264816, -1.8110933091195884, -0.5530434965138656, 1.9636940438520054, 1.1729722539442202, 1.2421559008155438, -0.6288387913785575, 0.34805958706986584, -0.5436381561059997, -0.5631348469165319, 1.5606728416961202, 0.2330738885185976, -0.8020391201493532, -0.6557997346611697, 0.5726236513169123, 1.2246219521550379, 1.517883432418252, -0.14147909287681634, 0.3664192494581477, -0.4322146140696219, -0.3495399006296373, -0.6810037668207851, 0.08504992455350263, 1.7823784203274209, 0.6259377596645086, 0.6638813119909011, -1.482839860554188, -0.2901295524795004, 0.7728721769087347, 1.0697450666270618, -0.38037586807737583, 0.7361925861522479, 2.227251940281902, -0.9059783157534909, 1.0644082103981056, 0.41243815873235085, -0.70985732273822, 0.2921920971594382, 0.316660089561294, 1.2009474277974572, -0.17950997282633827, -1.8222345068938892, 1.1804269142135373], \"xaxis\": \"x13\", \"y\": [-2.45621934851348, -0.49738336039943415, 1.0108981951075882, 0.4371166861850728, 0.8196645208336938, -0.2625102226319903, -0.8241370178729576, -0.23884566170418514, 0.28308329505532737, -0.129906715276062, 0.6388072941638956, -0.9611837323014758, -0.11309190392054783, -2.0193276671871643, -0.6116726473014742, 1.851123908738312, -0.23730695552545975, -0.49077189703582214, -1.209708462345313, -0.7336780104359398, 0.6122868341768868, -0.08826629915224017, 0.040203935430538205, -1.4395374503419898, -0.8108575205014021, 0.6383840839063878, -0.6046071651978742, 0.10442668741813448, 0.187852848471582, 0.09516650285139858, -1.4379657756666862, -1.3995467804226953, -2.4400939453465926, 1.357068116169183, 0.675741665746478, 0.8288586832135476, 0.42379217923617585, -1.6765730171493463, 1.1239018130698488, -1.499624055006214, 0.900580921839038, -0.5228656297420218, 1.3972028758224073, 1.0456152430440662, -0.5584210258399632, -0.7254461638054707, 2.429921842197925, 0.26687240959263203, -1.5752830944648926, -0.0645244140536077, 2.0221467606315944, -0.8115737932181631, -0.03953346571061237, 0.3430560115673913, -0.678314414616606, 0.7671270289936455, -0.8352815835060328, 0.2625005834790334, 0.6394229699144892, 0.5744480532482673, 0.9687296756953383, 0.5281467997654329, 0.7583808354729975, 0.01008733722285285, -0.06386984596535984, 0.6164890002338478, -0.9804120873817879, -1.2995248798407089, 1.066126626588423, 2.2125011388403535, 1.0918321914430453, 0.5393123108233898, 0.8237643386872351, 0.596304819634739, 0.1551546937964348, -1.5255989307894378, -1.1431078143337003, 1.2967382341855007, 0.8990445838252091, -0.6711455782326923, -0.6162025218962328, 0.622278697790318, 0.16679223213883906, 2.9127403911622443, -0.27152961576738033, -1.238501904868217, -0.16835336724025413, 0.6378914389587478, 0.4677712941488029, 0.5495489487295442, -0.17931304232859252, -0.40814840097137234, 1.9677139393195497, 0.7851712092376301, -0.7656167328768418, -0.5536626665172183, -0.02963446605538179, 0.1923114466917884, 1.1345729810559975, -0.9630839809637665], \"yaxis\": \"y13\"}, {\"line\": {\"color\": \"rgba(128, 128, 128, 1.0)\", \"dash\": \"solid\", \"shape\": \"linear\", \"width\": 1.3}, \"marker\": {\"size\": 2, \"symbol\": \"circle\"}, \"mode\": \"markers\", \"name\": \"D\", \"text\": \"\", \"type\": \"scatter\", \"x\": [-0.039620201830270506, -1.0886265885232451, 1.510576451901204, 1.784954270510374, 1.856633419738731, -0.06186831571432017, -0.7177396996119862, 1.3056032295822502, 0.1747268566872305, -2.008057573582073, -0.24986540881811706, -0.68969312419857, 1.7203106029038477, 0.8148414349263332, -0.15528528397620237, -1.8057674057733473, 0.1855558056334135, -0.20607748084692046, -0.41374065948487576, 0.07802381651058664, 0.5122383905711916, -0.8816396954950696, 0.8150638310707726, -0.9128064482318322, -0.92947076177012, 0.5364585267673471, -0.09773609410488768, -0.8376598389398086, -0.5149023896730086, -0.07638224135806895, -0.528115017916814, 0.6930140672229397, -0.7173712123713216, 0.435434124645374, -0.10550905698074249, 0.9825963092482132, 1.43990174097477, 0.21861636481047017, -1.4434530863386295, -0.8429050603925676, -0.5824520358502622, -2.5060458213683448, 0.8188019482586176, -1.1311437036384802, 2.463221499435528, -1.4716903339509018, -1.3231503668137379, 0.9138103857479809, 0.7169170351565702, -0.5942680093604714, -1.700684394592634, -0.3601746175201089, -0.8427200334374927, -0.2448910298215501, 1.0078914884134746, 1.1363591311807222, 0.31267011313669657, -0.4966643537233206, 1.4258032741416697, -0.8218663321084495, 0.07359712719308378, -1.4767339034966909, 1.1364236958318257, -0.23598777516022656, -0.6022315860538371, -0.1211577645937869, -0.5284014012330627, -0.8756273951246533, -0.11679910149382909, -0.28133633907251443, 1.3360164375010046, -1.993994774627574, 1.705587826284771, -0.1242901136836673, -0.5972965399776643, 0.10528367746866872, -1.8588149129828984, -0.7940920464638387, 0.1276581837519382, -1.4602897634720386, -0.9001307498667146, -1.523129993571007, 0.08675731770656844, -1.369456474965436, 0.8336132458797575, -1.4707252145644945, 1.9115214411160404, -0.8919965099516362, -1.1617999087632587, -1.8744766266033046, 0.04249487946173756, -0.27310822473698654, 0.08953567673202818, 0.9321519847205323, -0.7901851679583582, 0.43921752031434347, -0.8077884830291779, 1.4627975973322422, 0.9795913558289675, -0.4743917350346864], \"xaxis\": \"x14\", \"y\": [-2.45621934851348, -0.49738336039943415, 1.0108981951075882, 0.4371166861850728, 0.8196645208336938, -0.2625102226319903, -0.8241370178729576, -0.23884566170418514, 0.28308329505532737, -0.129906715276062, 0.6388072941638956, -0.9611837323014758, -0.11309190392054783, -2.0193276671871643, -0.6116726473014742, 1.851123908738312, -0.23730695552545975, -0.49077189703582214, -1.209708462345313, -0.7336780104359398, 0.6122868341768868, -0.08826629915224017, 0.040203935430538205, -1.4395374503419898, -0.8108575205014021, 0.6383840839063878, -0.6046071651978742, 0.10442668741813448, 0.187852848471582, 0.09516650285139858, -1.4379657756666862, -1.3995467804226953, -2.4400939453465926, 1.357068116169183, 0.675741665746478, 0.8288586832135476, 0.42379217923617585, -1.6765730171493463, 1.1239018130698488, -1.499624055006214, 0.900580921839038, -0.5228656297420218, 1.3972028758224073, 1.0456152430440662, -0.5584210258399632, -0.7254461638054707, 2.429921842197925, 0.26687240959263203, -1.5752830944648926, -0.0645244140536077, 2.0221467606315944, -0.8115737932181631, -0.03953346571061237, 0.3430560115673913, -0.678314414616606, 0.7671270289936455, -0.8352815835060328, 0.2625005834790334, 0.6394229699144892, 0.5744480532482673, 0.9687296756953383, 0.5281467997654329, 0.7583808354729975, 0.01008733722285285, -0.06386984596535984, 0.6164890002338478, -0.9804120873817879, -1.2995248798407089, 1.066126626588423, 2.2125011388403535, 1.0918321914430453, 0.5393123108233898, 0.8237643386872351, 0.596304819634739, 0.1551546937964348, -1.5255989307894378, -1.1431078143337003, 1.2967382341855007, 0.8990445838252091, -0.6711455782326923, -0.6162025218962328, 0.622278697790318, 0.16679223213883906, 2.9127403911622443, -0.27152961576738033, -1.238501904868217, -0.16835336724025413, 0.6378914389587478, 0.4677712941488029, 0.5495489487295442, -0.17931304232859252, -0.40814840097137234, 1.9677139393195497, 0.7851712092376301, -0.7656167328768418, -0.5536626665172183, -0.02963446605538179, 0.1923114466917884, 1.1345729810559975, -0.9630839809637665], \"yaxis\": \"y14\"}, {\"line\": {\"color\": \"rgba(128, 128, 128, 1.0)\", \"dash\": \"solid\", \"shape\": \"linear\", \"width\": 1.3}, \"marker\": {\"size\": 2, \"symbol\": \"circle\"}, \"mode\": \"markers\", \"name\": \"D\", \"text\": \"\", \"type\": \"scatter\", \"x\": [-2.050959337282939, -0.623135714654621, -0.9030838504023444, -0.8846787432223958, 2.6741827735425394, -0.6354285944956553, -1.8496808811668934, -0.2547811416970197, -0.055681456337364384, -1.3944181938604423, -1.2902927400307336, 0.6698919790212503, 0.34643521789445736, -0.6967082806152699, -0.3212602648296973, 1.7091491299614885, -0.5596189805447361, -0.525562784078486, -0.48049821825529065, -0.6346130652937808, 0.47830738377493814, 0.7156755848555739, 1.4980374410115829, 0.019052087924581036, -0.18201191885345414, -1.6588634578354686, -1.4828119493830143, -0.09216441630414798, -0.14553423644609612, -0.7794985383640196, -1.7350551083837469, 0.8011445176125315, -0.3657053034107941, 0.35222604176811234, -0.09434046490071221, 0.27955154174741587, -0.47681326929380946, -1.4685668326584544, 0.253437219952115, -0.1393600585054475, 0.5111332871252802, 1.966687474163078, 1.7827345360633533, 1.3365900682657514, 0.22922232264662673, 1.2412879016957008, 0.17669427807060434, 1.2102070043185542, 0.9481346148415118, -0.7672110846043504, 0.6779070484347443, -0.2478682667913302, 0.005290125348690879, -0.7278639297732168, 0.06953868587956952, -0.7252599174323642, 0.9075663142325777, -1.357704195417472, 1.2337390673840867, -1.5435650693835654, -1.8384710286781478, -0.3654452753253253, 0.5368726545742358, 0.15820260819638846, 1.1688891296948416, 0.7204814075390948, 0.6756862921836863, 0.8556117363426601, -0.5953676095033376, 0.5185636488627283, 0.25262453251756867, -0.4431075174340808, -1.508605467632452, -0.6206387803373581, -0.4824311953164388, -1.233241584706174, 1.061749004442179, 0.12292683966608829, 0.0228518775722601, -1.2693591727320208, 1.5670749867806724, -0.658579805547281, 0.9816083662621841, -0.7237472802729957, -2.2476477755687774, -1.1457021217696113, -1.3170117279424052, -0.29420173341177985, -0.08004309491360784, -0.6533971663994066, -0.21402171159214076, 1.0913202896398457, 0.15607455217360325, -1.1458514538797409, 2.383439127433773, 0.7722722931324618, 1.035267730994433, -0.16931970693807658, -0.08934031514353971, -0.40305055397493394], \"xaxis\": \"x15\", \"y\": [-2.45621934851348, -0.49738336039943415, 1.0108981951075882, 0.4371166861850728, 0.8196645208336938, -0.2625102226319903, -0.8241370178729576, -0.23884566170418514, 0.28308329505532737, -0.129906715276062, 0.6388072941638956, -0.9611837323014758, -0.11309190392054783, -2.0193276671871643, -0.6116726473014742, 1.851123908738312, -0.23730695552545975, -0.49077189703582214, -1.209708462345313, -0.7336780104359398, 0.6122868341768868, -0.08826629915224017, 0.040203935430538205, -1.4395374503419898, -0.8108575205014021, 0.6383840839063878, -0.6046071651978742, 0.10442668741813448, 0.187852848471582, 0.09516650285139858, -1.4379657756666862, -1.3995467804226953, -2.4400939453465926, 1.357068116169183, 0.675741665746478, 0.8288586832135476, 0.42379217923617585, -1.6765730171493463, 1.1239018130698488, -1.499624055006214, 0.900580921839038, -0.5228656297420218, 1.3972028758224073, 1.0456152430440662, -0.5584210258399632, -0.7254461638054707, 2.429921842197925, 0.26687240959263203, -1.5752830944648926, -0.0645244140536077, 2.0221467606315944, -0.8115737932181631, -0.03953346571061237, 0.3430560115673913, -0.678314414616606, 0.7671270289936455, -0.8352815835060328, 0.2625005834790334, 0.6394229699144892, 0.5744480532482673, 0.9687296756953383, 0.5281467997654329, 0.7583808354729975, 0.01008733722285285, -0.06386984596535984, 0.6164890002338478, -0.9804120873817879, -1.2995248798407089, 1.066126626588423, 2.2125011388403535, 1.0918321914430453, 0.5393123108233898, 0.8237643386872351, 0.596304819634739, 0.1551546937964348, -1.5255989307894378, -1.1431078143337003, 1.2967382341855007, 0.8990445838252091, -0.6711455782326923, -0.6162025218962328, 0.622278697790318, 0.16679223213883906, 2.9127403911622443, -0.27152961576738033, -1.238501904868217, -0.16835336724025413, 0.6378914389587478, 0.4677712941488029, 0.5495489487295442, -0.17931304232859252, -0.40814840097137234, 1.9677139393195497, 0.7851712092376301, -0.7656167328768418, -0.5536626665172183, -0.02963446605538179, 0.1923114466917884, 1.1345729810559975, -0.9630839809637665], \"yaxis\": \"y15\"}, {\"histfunc\": \"count\", \"histnorm\": \"\", \"marker\": {\"color\": \"rgba(128, 0, 128, 1.0)\", \"line\": {\"color\": \"#4D5663\", \"width\": 1.3}}, \"name\": \"D\", \"nbinsx\": 10, \"opacity\": 0.8, \"orientation\": \"v\", \"type\": \"histogram\", \"x\": [-2.45621934851348, -0.49738336039943415, 1.0108981951075882, 0.4371166861850728, 0.8196645208336938, -0.2625102226319903, -0.8241370178729576, -0.23884566170418514, 0.28308329505532737, -0.129906715276062, 0.6388072941638956, -0.9611837323014758, -0.11309190392054783, -2.0193276671871643, -0.6116726473014742, 1.851123908738312, -0.23730695552545975, -0.49077189703582214, -1.209708462345313, -0.7336780104359398, 0.6122868341768868, -0.08826629915224017, 0.040203935430538205, -1.4395374503419898, -0.8108575205014021, 0.6383840839063878, -0.6046071651978742, 0.10442668741813448, 0.187852848471582, 0.09516650285139858, -1.4379657756666862, -1.3995467804226953, -2.4400939453465926, 1.357068116169183, 0.675741665746478, 0.8288586832135476, 0.42379217923617585, -1.6765730171493463, 1.1239018130698488, -1.499624055006214, 0.900580921839038, -0.5228656297420218, 1.3972028758224073, 1.0456152430440662, -0.5584210258399632, -0.7254461638054707, 2.429921842197925, 0.26687240959263203, -1.5752830944648926, -0.0645244140536077, 2.0221467606315944, -0.8115737932181631, -0.03953346571061237, 0.3430560115673913, -0.678314414616606, 0.7671270289936455, -0.8352815835060328, 0.2625005834790334, 0.6394229699144892, 0.5744480532482673, 0.9687296756953383, 0.5281467997654329, 0.7583808354729975, 0.01008733722285285, -0.06386984596535984, 0.6164890002338478, -0.9804120873817879, -1.2995248798407089, 1.066126626588423, 2.2125011388403535, 1.0918321914430453, 0.5393123108233898, 0.8237643386872351, 0.596304819634739, 0.1551546937964348, -1.5255989307894378, -1.1431078143337003, 1.2967382341855007, 0.8990445838252091, -0.6711455782326923, -0.6162025218962328, 0.622278697790318, 0.16679223213883906, 2.9127403911622443, -0.27152961576738033, -1.238501904868217, -0.16835336724025413, 0.6378914389587478, 0.4677712941488029, 0.5495489487295442, -0.17931304232859252, -0.40814840097137234, 1.9677139393195497, 0.7851712092376301, -0.7656167328768418, -0.5536626665172183, -0.02963446605538179, 0.1923114466917884, 1.1345729810559975, -0.9630839809637665], \"xaxis\": \"x16\", \"yaxis\": \"y16\"}],\n",
       "                        {\"bargap\": 0.02, \"legend\": {\"bgcolor\": \"#F5F6F9\", \"font\": {\"color\": \"#4D5663\"}}, \"paper_bgcolor\": \"#F5F6F9\", \"plot_bgcolor\": \"#F5F6F9\", \"showlegend\": false, \"template\": {\"data\": {\"bar\": [{\"error_x\": {\"color\": \"#2a3f5f\"}, \"error_y\": {\"color\": \"#2a3f5f\"}, \"marker\": {\"line\": {\"color\": \"#E5ECF6\", \"width\": 0.5}}, \"type\": \"bar\"}], \"barpolar\": [{\"marker\": {\"line\": {\"color\": \"#E5ECF6\", \"width\": 0.5}}, \"type\": \"barpolar\"}], \"carpet\": [{\"aaxis\": {\"endlinecolor\": \"#2a3f5f\", \"gridcolor\": \"white\", \"linecolor\": \"white\", \"minorgridcolor\": \"white\", \"startlinecolor\": \"#2a3f5f\"}, \"baxis\": {\"endlinecolor\": \"#2a3f5f\", \"gridcolor\": \"white\", \"linecolor\": \"white\", \"minorgridcolor\": \"white\", \"startlinecolor\": \"#2a3f5f\"}, \"type\": \"carpet\"}], \"choropleth\": [{\"colorbar\": {\"outlinewidth\": 0, \"ticks\": \"\"}, \"type\": \"choropleth\"}], \"contour\": [{\"colorbar\": {\"outlinewidth\": 0, \"ticks\": \"\"}, \"colorscale\": [[0.0, \"#0d0887\"], [0.1111111111111111, \"#46039f\"], [0.2222222222222222, \"#7201a8\"], [0.3333333333333333, \"#9c179e\"], [0.4444444444444444, \"#bd3786\"], [0.5555555555555556, \"#d8576b\"], [0.6666666666666666, \"#ed7953\"], [0.7777777777777778, \"#fb9f3a\"], [0.8888888888888888, \"#fdca26\"], [1.0, \"#f0f921\"]], \"type\": \"contour\"}], \"contourcarpet\": [{\"colorbar\": {\"outlinewidth\": 0, \"ticks\": \"\"}, \"type\": \"contourcarpet\"}], \"heatmap\": [{\"colorbar\": {\"outlinewidth\": 0, \"ticks\": \"\"}, \"colorscale\": [[0.0, \"#0d0887\"], [0.1111111111111111, \"#46039f\"], [0.2222222222222222, \"#7201a8\"], [0.3333333333333333, \"#9c179e\"], [0.4444444444444444, \"#bd3786\"], [0.5555555555555556, \"#d8576b\"], [0.6666666666666666, \"#ed7953\"], [0.7777777777777778, \"#fb9f3a\"], [0.8888888888888888, \"#fdca26\"], [1.0, \"#f0f921\"]], \"type\": \"heatmap\"}], \"heatmapgl\": [{\"colorbar\": {\"outlinewidth\": 0, \"ticks\": \"\"}, \"colorscale\": [[0.0, \"#0d0887\"], [0.1111111111111111, \"#46039f\"], [0.2222222222222222, \"#7201a8\"], [0.3333333333333333, \"#9c179e\"], [0.4444444444444444, \"#bd3786\"], [0.5555555555555556, \"#d8576b\"], [0.6666666666666666, \"#ed7953\"], [0.7777777777777778, \"#fb9f3a\"], [0.8888888888888888, \"#fdca26\"], [1.0, \"#f0f921\"]], \"type\": \"heatmapgl\"}], \"histogram\": [{\"marker\": {\"colorbar\": {\"outlinewidth\": 0, \"ticks\": \"\"}}, \"type\": \"histogram\"}], \"histogram2d\": [{\"colorbar\": {\"outlinewidth\": 0, \"ticks\": \"\"}, \"colorscale\": [[0.0, \"#0d0887\"], [0.1111111111111111, \"#46039f\"], [0.2222222222222222, \"#7201a8\"], [0.3333333333333333, \"#9c179e\"], [0.4444444444444444, \"#bd3786\"], [0.5555555555555556, \"#d8576b\"], [0.6666666666666666, \"#ed7953\"], [0.7777777777777778, \"#fb9f3a\"], [0.8888888888888888, \"#fdca26\"], [1.0, \"#f0f921\"]], \"type\": \"histogram2d\"}], \"histogram2dcontour\": [{\"colorbar\": {\"outlinewidth\": 0, \"ticks\": \"\"}, \"colorscale\": [[0.0, \"#0d0887\"], [0.1111111111111111, \"#46039f\"], [0.2222222222222222, \"#7201a8\"], [0.3333333333333333, \"#9c179e\"], [0.4444444444444444, \"#bd3786\"], [0.5555555555555556, \"#d8576b\"], [0.6666666666666666, \"#ed7953\"], [0.7777777777777778, \"#fb9f3a\"], [0.8888888888888888, \"#fdca26\"], [1.0, \"#f0f921\"]], \"type\": \"histogram2dcontour\"}], \"mesh3d\": [{\"colorbar\": {\"outlinewidth\": 0, \"ticks\": \"\"}, \"type\": \"mesh3d\"}], \"parcoords\": [{\"line\": {\"colorbar\": {\"outlinewidth\": 0, \"ticks\": \"\"}}, \"type\": \"parcoords\"}], \"pie\": [{\"automargin\": true, \"type\": \"pie\"}], \"scatter\": [{\"marker\": {\"colorbar\": {\"outlinewidth\": 0, \"ticks\": \"\"}}, \"type\": \"scatter\"}], \"scatter3d\": [{\"line\": {\"colorbar\": {\"outlinewidth\": 0, \"ticks\": \"\"}}, \"marker\": {\"colorbar\": {\"outlinewidth\": 0, \"ticks\": \"\"}}, \"type\": \"scatter3d\"}], \"scattercarpet\": [{\"marker\": {\"colorbar\": {\"outlinewidth\": 0, \"ticks\": \"\"}}, \"type\": \"scattercarpet\"}], \"scattergeo\": [{\"marker\": {\"colorbar\": {\"outlinewidth\": 0, \"ticks\": \"\"}}, \"type\": \"scattergeo\"}], \"scattergl\": [{\"marker\": {\"colorbar\": {\"outlinewidth\": 0, \"ticks\": \"\"}}, \"type\": \"scattergl\"}], \"scattermapbox\": [{\"marker\": {\"colorbar\": {\"outlinewidth\": 0, \"ticks\": \"\"}}, \"type\": \"scattermapbox\"}], \"scatterpolar\": [{\"marker\": {\"colorbar\": {\"outlinewidth\": 0, \"ticks\": \"\"}}, \"type\": \"scatterpolar\"}], \"scatterpolargl\": [{\"marker\": {\"colorbar\": {\"outlinewidth\": 0, \"ticks\": \"\"}}, \"type\": \"scatterpolargl\"}], \"scatterternary\": [{\"marker\": {\"colorbar\": {\"outlinewidth\": 0, \"ticks\": \"\"}}, \"type\": \"scatterternary\"}], \"surface\": [{\"colorbar\": {\"outlinewidth\": 0, \"ticks\": \"\"}, \"colorscale\": [[0.0, \"#0d0887\"], [0.1111111111111111, \"#46039f\"], [0.2222222222222222, \"#7201a8\"], [0.3333333333333333, \"#9c179e\"], [0.4444444444444444, \"#bd3786\"], [0.5555555555555556, \"#d8576b\"], [0.6666666666666666, \"#ed7953\"], [0.7777777777777778, \"#fb9f3a\"], [0.8888888888888888, \"#fdca26\"], [1.0, \"#f0f921\"]], \"type\": \"surface\"}], \"table\": [{\"cells\": {\"fill\": {\"color\": \"#EBF0F8\"}, \"line\": {\"color\": \"white\"}}, \"header\": {\"fill\": {\"color\": \"#C8D4E3\"}, \"line\": {\"color\": \"white\"}}, \"type\": \"table\"}]}, \"layout\": {\"annotationdefaults\": {\"arrowcolor\": \"#2a3f5f\", \"arrowhead\": 0, \"arrowwidth\": 1}, \"coloraxis\": {\"colorbar\": {\"outlinewidth\": 0, \"ticks\": \"\"}}, \"colorscale\": {\"diverging\": [[0, \"#8e0152\"], [0.1, \"#c51b7d\"], [0.2, \"#de77ae\"], [0.3, \"#f1b6da\"], [0.4, \"#fde0ef\"], [0.5, \"#f7f7f7\"], [0.6, \"#e6f5d0\"], [0.7, \"#b8e186\"], [0.8, \"#7fbc41\"], [0.9, \"#4d9221\"], [1, \"#276419\"]], \"sequential\": [[0.0, \"#0d0887\"], [0.1111111111111111, \"#46039f\"], [0.2222222222222222, \"#7201a8\"], [0.3333333333333333, \"#9c179e\"], [0.4444444444444444, \"#bd3786\"], [0.5555555555555556, \"#d8576b\"], [0.6666666666666666, \"#ed7953\"], [0.7777777777777778, \"#fb9f3a\"], [0.8888888888888888, \"#fdca26\"], [1.0, \"#f0f921\"]], \"sequentialminus\": [[0.0, \"#0d0887\"], [0.1111111111111111, \"#46039f\"], [0.2222222222222222, \"#7201a8\"], [0.3333333333333333, \"#9c179e\"], [0.4444444444444444, \"#bd3786\"], [0.5555555555555556, \"#d8576b\"], [0.6666666666666666, \"#ed7953\"], [0.7777777777777778, \"#fb9f3a\"], [0.8888888888888888, \"#fdca26\"], [1.0, \"#f0f921\"]]}, \"colorway\": [\"#636efa\", \"#EF553B\", \"#00cc96\", \"#ab63fa\", \"#FFA15A\", \"#19d3f3\", \"#FF6692\", \"#B6E880\", \"#FF97FF\", \"#FECB52\"], \"font\": {\"color\": \"#2a3f5f\"}, \"geo\": {\"bgcolor\": \"white\", \"lakecolor\": \"white\", \"landcolor\": \"#E5ECF6\", \"showlakes\": true, \"showland\": true, \"subunitcolor\": \"white\"}, \"hoverlabel\": {\"align\": \"left\"}, \"hovermode\": \"closest\", \"mapbox\": {\"style\": \"light\"}, \"paper_bgcolor\": \"white\", \"plot_bgcolor\": \"#E5ECF6\", \"polar\": {\"angularaxis\": {\"gridcolor\": \"white\", \"linecolor\": \"white\", \"ticks\": \"\"}, \"bgcolor\": \"#E5ECF6\", \"radialaxis\": {\"gridcolor\": \"white\", \"linecolor\": \"white\", \"ticks\": \"\"}}, \"scene\": {\"xaxis\": {\"backgroundcolor\": \"#E5ECF6\", \"gridcolor\": \"white\", \"gridwidth\": 2, \"linecolor\": \"white\", \"showbackground\": true, \"ticks\": \"\", \"zerolinecolor\": \"white\"}, \"yaxis\": {\"backgroundcolor\": \"#E5ECF6\", \"gridcolor\": \"white\", \"gridwidth\": 2, \"linecolor\": \"white\", \"showbackground\": true, \"ticks\": \"\", \"zerolinecolor\": \"white\"}, \"zaxis\": {\"backgroundcolor\": \"#E5ECF6\", \"gridcolor\": \"white\", \"gridwidth\": 2, \"linecolor\": \"white\", \"showbackground\": true, \"ticks\": \"\", \"zerolinecolor\": \"white\"}}, \"shapedefaults\": {\"line\": {\"color\": \"#2a3f5f\"}}, \"ternary\": {\"aaxis\": {\"gridcolor\": \"white\", \"linecolor\": \"white\", \"ticks\": \"\"}, \"baxis\": {\"gridcolor\": \"white\", \"linecolor\": \"white\", \"ticks\": \"\"}, \"bgcolor\": \"#E5ECF6\", \"caxis\": {\"gridcolor\": \"white\", \"linecolor\": \"white\", \"ticks\": \"\"}}, \"title\": {\"x\": 0.05}, \"xaxis\": {\"automargin\": true, \"gridcolor\": \"white\", \"linecolor\": \"white\", \"ticks\": \"\", \"title\": {\"standoff\": 15}, \"zerolinecolor\": \"white\", \"zerolinewidth\": 2}, \"yaxis\": {\"automargin\": true, \"gridcolor\": \"white\", \"linecolor\": \"white\", \"ticks\": \"\", \"title\": {\"standoff\": 15}, \"zerolinecolor\": \"white\", \"zerolinewidth\": 2}}}, \"title\": {\"font\": {\"color\": \"#4D5663\"}}, \"xaxis\": {\"anchor\": \"y\", \"domain\": [0.0, 0.2125], \"gridcolor\": \"#E1E5ED\", \"showgrid\": false, \"tickfont\": {\"color\": \"#4D5663\"}, \"title\": {\"font\": {\"color\": \"#4D5663\"}, \"text\": \"\"}, \"zerolinecolor\": \"#E1E5ED\"}, \"xaxis10\": {\"anchor\": \"y10\", \"domain\": [0.2625, 0.475], \"gridcolor\": \"#E1E5ED\", \"showgrid\": false, \"tickfont\": {\"color\": \"#4D5663\"}, \"title\": {\"font\": {\"color\": \"#4D5663\"}, \"text\": \"\"}, \"zerolinecolor\": \"#E1E5ED\"}, \"xaxis11\": {\"anchor\": \"y11\", \"domain\": [0.525, 0.7375], \"gridcolor\": \"#E1E5ED\", \"showgrid\": false, \"tickfont\": {\"color\": \"#4D5663\"}, \"title\": {\"font\": {\"color\": \"#4D5663\"}, \"text\": \"\"}, \"zerolinecolor\": \"#E1E5ED\"}, \"xaxis12\": {\"anchor\": \"y12\", \"domain\": [0.7875, 1.0], \"gridcolor\": \"#E1E5ED\", \"showgrid\": false, \"tickfont\": {\"color\": \"#4D5663\"}, \"title\": {\"font\": {\"color\": \"#4D5663\"}, \"text\": \"\"}, \"zerolinecolor\": \"#E1E5ED\"}, \"xaxis13\": {\"anchor\": \"y13\", \"domain\": [0.0, 0.2125], \"gridcolor\": \"#E1E5ED\", \"showgrid\": false, \"tickfont\": {\"color\": \"#4D5663\"}, \"title\": {\"font\": {\"color\": \"#4D5663\"}, \"text\": \"\"}, \"zerolinecolor\": \"#E1E5ED\"}, \"xaxis14\": {\"anchor\": \"y14\", \"domain\": [0.2625, 0.475], \"gridcolor\": \"#E1E5ED\", \"showgrid\": false, \"tickfont\": {\"color\": \"#4D5663\"}, \"title\": {\"font\": {\"color\": \"#4D5663\"}, \"text\": \"\"}, \"zerolinecolor\": \"#E1E5ED\"}, \"xaxis15\": {\"anchor\": \"y15\", \"domain\": [0.525, 0.7375], \"gridcolor\": \"#E1E5ED\", \"showgrid\": false, \"tickfont\": {\"color\": \"#4D5663\"}, \"title\": {\"font\": {\"color\": \"#4D5663\"}, \"text\": \"\"}, \"zerolinecolor\": \"#E1E5ED\"}, \"xaxis16\": {\"anchor\": \"y16\", \"domain\": [0.7875, 1.0], \"gridcolor\": \"#E1E5ED\", \"showgrid\": false, \"tickfont\": {\"color\": \"#4D5663\"}, \"title\": {\"font\": {\"color\": \"#4D5663\"}, \"text\": \"\"}, \"zerolinecolor\": \"#E1E5ED\"}, \"xaxis2\": {\"anchor\": \"y2\", \"domain\": [0.2625, 0.475], \"gridcolor\": \"#E1E5ED\", \"showgrid\": false, \"tickfont\": {\"color\": \"#4D5663\"}, \"title\": {\"font\": {\"color\": \"#4D5663\"}, \"text\": \"\"}, \"zerolinecolor\": \"#E1E5ED\"}, \"xaxis3\": {\"anchor\": \"y3\", \"domain\": [0.525, 0.7375], \"gridcolor\": \"#E1E5ED\", \"showgrid\": false, \"tickfont\": {\"color\": \"#4D5663\"}, \"title\": {\"font\": {\"color\": \"#4D5663\"}, \"text\": \"\"}, \"zerolinecolor\": \"#E1E5ED\"}, \"xaxis4\": {\"anchor\": \"y4\", \"domain\": [0.7875, 1.0], \"gridcolor\": \"#E1E5ED\", \"showgrid\": false, \"tickfont\": {\"color\": \"#4D5663\"}, \"title\": {\"font\": {\"color\": \"#4D5663\"}, \"text\": \"\"}, \"zerolinecolor\": \"#E1E5ED\"}, \"xaxis5\": {\"anchor\": \"y5\", \"domain\": [0.0, 0.2125], \"gridcolor\": \"#E1E5ED\", \"showgrid\": false, \"tickfont\": {\"color\": \"#4D5663\"}, \"title\": {\"font\": {\"color\": \"#4D5663\"}, \"text\": \"\"}, \"zerolinecolor\": \"#E1E5ED\"}, \"xaxis6\": {\"anchor\": \"y6\", \"domain\": [0.2625, 0.475], \"gridcolor\": \"#E1E5ED\", \"showgrid\": false, \"tickfont\": {\"color\": \"#4D5663\"}, \"title\": {\"font\": {\"color\": \"#4D5663\"}, \"text\": \"\"}, \"zerolinecolor\": \"#E1E5ED\"}, \"xaxis7\": {\"anchor\": \"y7\", \"domain\": [0.525, 0.7375], \"gridcolor\": \"#E1E5ED\", \"showgrid\": false, \"tickfont\": {\"color\": \"#4D5663\"}, \"title\": {\"font\": {\"color\": \"#4D5663\"}, \"text\": \"\"}, \"zerolinecolor\": \"#E1E5ED\"}, \"xaxis8\": {\"anchor\": \"y8\", \"domain\": [0.7875, 1.0], \"gridcolor\": \"#E1E5ED\", \"showgrid\": false, \"tickfont\": {\"color\": \"#4D5663\"}, \"title\": {\"font\": {\"color\": \"#4D5663\"}, \"text\": \"\"}, \"zerolinecolor\": \"#E1E5ED\"}, \"xaxis9\": {\"anchor\": \"y9\", \"domain\": [0.0, 0.2125], \"gridcolor\": \"#E1E5ED\", \"showgrid\": false, \"tickfont\": {\"color\": \"#4D5663\"}, \"title\": {\"font\": {\"color\": \"#4D5663\"}, \"text\": \"\"}, \"zerolinecolor\": \"#E1E5ED\"}, \"yaxis\": {\"anchor\": \"x\", \"domain\": [0.8025, 1.0], \"gridcolor\": \"#E1E5ED\", \"showgrid\": false, \"tickfont\": {\"color\": \"#4D5663\"}, \"title\": {\"font\": {\"color\": \"#4D5663\"}, \"text\": \"\"}, \"zerolinecolor\": \"#E1E5ED\"}, \"yaxis10\": {\"anchor\": \"x10\", \"domain\": [0.2675, 0.465], \"gridcolor\": \"#E1E5ED\", \"showgrid\": false, \"tickfont\": {\"color\": \"#4D5663\"}, \"title\": {\"font\": {\"color\": \"#4D5663\"}, \"text\": \"\"}, \"zerolinecolor\": \"#E1E5ED\"}, \"yaxis11\": {\"anchor\": \"x11\", \"domain\": [0.2675, 0.465], \"gridcolor\": \"#E1E5ED\", \"showgrid\": false, \"tickfont\": {\"color\": \"#4D5663\"}, \"title\": {\"font\": {\"color\": \"#4D5663\"}, \"text\": \"\"}, \"zerolinecolor\": \"#E1E5ED\"}, \"yaxis12\": {\"anchor\": \"x12\", \"domain\": [0.2675, 0.465], \"gridcolor\": \"#E1E5ED\", \"showgrid\": false, \"tickfont\": {\"color\": \"#4D5663\"}, \"title\": {\"font\": {\"color\": \"#4D5663\"}, \"text\": \"\"}, \"zerolinecolor\": \"#E1E5ED\"}, \"yaxis13\": {\"anchor\": \"x13\", \"domain\": [0.0, 0.1975], \"gridcolor\": \"#E1E5ED\", \"showgrid\": false, \"tickfont\": {\"color\": \"#4D5663\"}, \"title\": {\"font\": {\"color\": \"#4D5663\"}, \"text\": \"\"}, \"zerolinecolor\": \"#E1E5ED\"}, \"yaxis14\": {\"anchor\": \"x14\", \"domain\": [0.0, 0.1975], \"gridcolor\": \"#E1E5ED\", \"showgrid\": false, \"tickfont\": {\"color\": \"#4D5663\"}, \"title\": {\"font\": {\"color\": \"#4D5663\"}, \"text\": \"\"}, \"zerolinecolor\": \"#E1E5ED\"}, \"yaxis15\": {\"anchor\": \"x15\", \"domain\": [0.0, 0.1975], \"gridcolor\": \"#E1E5ED\", \"showgrid\": false, \"tickfont\": {\"color\": \"#4D5663\"}, \"title\": {\"font\": {\"color\": \"#4D5663\"}, \"text\": \"\"}, \"zerolinecolor\": \"#E1E5ED\"}, \"yaxis16\": {\"anchor\": \"x16\", \"domain\": [0.0, 0.1975], \"gridcolor\": \"#E1E5ED\", \"showgrid\": false, \"tickfont\": {\"color\": \"#4D5663\"}, \"title\": {\"font\": {\"color\": \"#4D5663\"}, \"text\": \"\"}, \"zerolinecolor\": \"#E1E5ED\"}, \"yaxis2\": {\"anchor\": \"x2\", \"domain\": [0.8025, 1.0], \"gridcolor\": \"#E1E5ED\", \"showgrid\": false, \"tickfont\": {\"color\": \"#4D5663\"}, \"title\": {\"font\": {\"color\": \"#4D5663\"}, \"text\": \"\"}, \"zerolinecolor\": \"#E1E5ED\"}, \"yaxis3\": {\"anchor\": \"x3\", \"domain\": [0.8025, 1.0], \"gridcolor\": \"#E1E5ED\", \"showgrid\": false, \"tickfont\": {\"color\": \"#4D5663\"}, \"title\": {\"font\": {\"color\": \"#4D5663\"}, \"text\": \"\"}, \"zerolinecolor\": \"#E1E5ED\"}, \"yaxis4\": {\"anchor\": \"x4\", \"domain\": [0.8025, 1.0], \"gridcolor\": \"#E1E5ED\", \"showgrid\": false, \"tickfont\": {\"color\": \"#4D5663\"}, \"title\": {\"font\": {\"color\": \"#4D5663\"}, \"text\": \"\"}, \"zerolinecolor\": \"#E1E5ED\"}, \"yaxis5\": {\"anchor\": \"x5\", \"domain\": [0.535, 0.7325], \"gridcolor\": \"#E1E5ED\", \"showgrid\": false, \"tickfont\": {\"color\": \"#4D5663\"}, \"title\": {\"font\": {\"color\": \"#4D5663\"}, \"text\": \"\"}, \"zerolinecolor\": \"#E1E5ED\"}, \"yaxis6\": {\"anchor\": \"x6\", \"domain\": [0.535, 0.7325], \"gridcolor\": \"#E1E5ED\", \"showgrid\": false, \"tickfont\": {\"color\": \"#4D5663\"}, \"title\": {\"font\": {\"color\": \"#4D5663\"}, \"text\": \"\"}, \"zerolinecolor\": \"#E1E5ED\"}, \"yaxis7\": {\"anchor\": \"x7\", \"domain\": [0.535, 0.7325], \"gridcolor\": \"#E1E5ED\", \"showgrid\": false, \"tickfont\": {\"color\": \"#4D5663\"}, \"title\": {\"font\": {\"color\": \"#4D5663\"}, \"text\": \"\"}, \"zerolinecolor\": \"#E1E5ED\"}, \"yaxis8\": {\"anchor\": \"x8\", \"domain\": [0.535, 0.7325], \"gridcolor\": \"#E1E5ED\", \"showgrid\": false, \"tickfont\": {\"color\": \"#4D5663\"}, \"title\": {\"font\": {\"color\": \"#4D5663\"}, \"text\": \"\"}, \"zerolinecolor\": \"#E1E5ED\"}, \"yaxis9\": {\"anchor\": \"x9\", \"domain\": [0.2675, 0.465], \"gridcolor\": \"#E1E5ED\", \"showgrid\": false, \"tickfont\": {\"color\": \"#4D5663\"}, \"title\": {\"font\": {\"color\": \"#4D5663\"}, \"text\": \"\"}, \"zerolinecolor\": \"#E1E5ED\"}},\n",
       "                        {\"showLink\": true, \"linkText\": \"Export to plot.ly\", \"plotlyServerURL\": \"https://plot.ly\", \"responsive\": true}\n",
       "                    ).then(function(){\n",
       "                            \n",
       "var gd = document.getElementById('bc54385e-f363-489b-87af-0bf87a95d421');\n",
       "var x = new MutationObserver(function (mutations, observer) {{\n",
       "        var display = window.getComputedStyle(gd).display;\n",
       "        if (!display || display === 'none') {{\n",
       "            console.log([gd, 'removed!']);\n",
       "            Plotly.purge(gd);\n",
       "            observer.disconnect();\n",
       "        }}\n",
       "}});\n",
       "\n",
       "// Listen for the removal of the full notebook cells\n",
       "var notebookContainer = gd.closest('#notebook-container');\n",
       "if (notebookContainer) {{\n",
       "    x.observe(notebookContainer, {childList: true});\n",
       "}}\n",
       "\n",
       "// Listen for the clearing of the current output cell\n",
       "var outputEl = gd.closest('.output');\n",
       "if (outputEl) {{\n",
       "    x.observe(outputEl, {childList: true});\n",
       "}}\n",
       "\n",
       "                        })\n",
       "                };\n",
       "                });\n",
       "            </script>\n",
       "        </div>"
      ]
     },
     "metadata": {},
     "output_type": "display_data"
    }
   ],
   "source": [
    "df.scatter_matrix() # all columns should be numerical"
   ]
  },
  {
   "cell_type": "code",
   "execution_count": null,
   "metadata": {},
   "outputs": [],
   "source": []
  }
 ],
 "metadata": {
  "kernelspec": {
   "display_name": "Python 3",
   "language": "python",
   "name": "python3"
  },
  "language_info": {
   "codemirror_mode": {
    "name": "ipython",
    "version": 3
   },
   "file_extension": ".py",
   "mimetype": "text/x-python",
   "name": "python",
   "nbconvert_exporter": "python",
   "pygments_lexer": "ipython3",
   "version": "3.7.3"
  }
 },
 "nbformat": 4,
 "nbformat_minor": 2
}
